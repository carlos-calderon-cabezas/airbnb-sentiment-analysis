{
  "cells": [
    {
      "cell_type": "markdown",
      "metadata": {
        "id": "view-in-github",
        "colab_type": "text"
      },
      "source": [
        "<a href=\"https://colab.research.google.com/github/carlos-calderon-cabezas/airbnb-sentiment-analysis/blob/main/airbnb_sentiment_analysis_EN.ipynb\" target=\"_parent\"><img src=\"https://colab.research.google.com/assets/colab-badge.svg\" alt=\"Open In Colab\"/></a>"
      ]
    },
    {
      "cell_type": "markdown",
      "metadata": {
        "id": "WffHy-y1r67K"
      },
      "source": [
        "# Sentiment analysis for Airbnb reviews"
      ]
    },
    {
      "cell_type": "markdown",
      "metadata": {
        "id": "rVCnlmjaqZJi"
      },
      "source": [
        "This project addresses one of the most interesting applications when working with **Natural Language Processing (NLP)** with Python, which consists of **Sentiment Analysis** applied to a real sample data set corresponding to 620 reviews given by guests to a total of 10 accommodations listed within the temporary accommodation platform *Airbnb* for the iconic Ecuadorian tourist city with unique beaches and very welcoming people that is **Montañita**. This project complies with the code style and format guidelines dictated in the ***PEP-8*** manual."
      ]
    },
    {
      "cell_type": "markdown",
      "metadata": {
        "id": "WpUBYIvcuIW7"
      },
      "source": [
        "# Initial preprocessing of information"
      ]
    },
    {
      "cell_type": "markdown",
      "metadata": {
        "id": "WH3z3n0V5sN9"
      },
      "source": [
        "## Installation and import of necessary libraries"
      ]
    },
    {
      "cell_type": "markdown",
      "metadata": {
        "id": "N9hG1yIoCO3T"
      },
      "source": [
        "Because several of the reviews contain *emojis*, it will be necessary to have a library for their respective treatment and transformation, to later use them when performing the sentiment analysis. The library that is installed is called ***emoji***."
      ]
    },
    {
      "cell_type": "code",
      "execution_count": null,
      "metadata": {
        "colab": {
          "base_uri": "https://localhost:8080/"
        },
        "id": "P0lR93c_F3bg",
        "outputId": "4f3106b0-1d5e-4bbb-a7f5-a80a79e60df5"
      },
      "outputs": [
        {
          "output_type": "stream",
          "name": "stdout",
          "text": [
            "Requirement already satisfied: emoji in /usr/local/lib/python3.10/dist-packages (2.11.1)\n"
          ]
        }
      ],
      "source": [
        "!pip install emoji"
      ]
    },
    {
      "cell_type": "markdown",
      "metadata": {
        "id": "8FSmPVTtvpJE"
      },
      "source": [
        "Libraries such as ***pandas***, ***numpy***, ***os***, ***glob*** and ***pathlib*** are also imported, which will be used for different purposes, from manipulating files and folders within the virtual machine to creating ***DataFrames*** and using mathematical functions."
      ]
    },
    {
      "cell_type": "code",
      "execution_count": null,
      "metadata": {
        "id": "PGL3UsDm4MwY"
      },
      "outputs": [],
      "source": [
        "import pandas as pd\n",
        "import numpy as np\n",
        "import os\n",
        "import glob\n",
        "from pathlib import Path"
      ]
    },
    {
      "cell_type": "markdown",
      "metadata": {
        "id": "2CZw8czsmmk-"
      },
      "source": [
        "Pandas is configured to prevent it from truncating the text of the entries in each of the columns. Additionally, the base directory is changed with the ***os*** library for greater ease of work. The base directory contains the reviews left by guests of a total of 10 different accommodations located on Montañita beach, Ecuador, as of Friday, January 6, 2024."
      ]
    },
    {
      "cell_type": "code",
      "execution_count": null,
      "metadata": {
        "id": "1defgKmKHwrh"
      },
      "outputs": [],
      "source": [
        "default_max_colwidth = pd.get_option('display.max_colwidth')\n",
        "pd.set_option('display.max_colwidth', None)"
      ]
    },
    {
      "cell_type": "markdown",
      "metadata": {
        "id": "4K-vALTh1vg1"
      },
      "source": [
        "The code block contained in the following cell should be executed only if the ***notebook*** files are stored in ***Google Drive*** and if it is also executed within the ***Google platform Colab***, for which it is necessary to replace *root_path* with the path corresponding to the root directory where the files will be stored. This is so that in subsequent cells it is not necessary to type the full path each time. Conversely, if you run ***notebook*** in a local environment, you can skip the cell entirely."
      ]
    },
    {
      "cell_type": "code",
      "execution_count": null,
      "metadata": {
        "colab": {
          "base_uri": "https://localhost:8080/"
        },
        "id": "MsZrgXii958z",
        "outputId": "40657507-2774-4a84-aab1-0f3aea50fec2"
      },
      "outputs": [
        {
          "output_type": "stream",
          "name": "stdout",
          "text": [
            "Current path: /content/drive/MyDrive/PORTFOLIO/Sent_Analysis\n"
          ]
        }
      ],
      "source": [
        "root_path = \"/content/drive/MyDrive/PORTFOLIO/Sent_Analysis\"\n",
        "reviews_path = os.path.join(root_path, \"abb_reviews\")\n",
        "os.chdir(root_path)\n",
        "# Path shift verificarion\n",
        "print(f\"Current path: {os.getcwd()}\")"
      ]
    },
    {
      "cell_type": "markdown",
      "metadata": {
        "id": "qwP71jayoKyD"
      },
      "source": [
        "A list is obtained with all the files corresponding to the reviews of 10 accommodations in total."
      ]
    },
    {
      "cell_type": "code",
      "execution_count": null,
      "metadata": {
        "id": "-7z56EQdylfa"
      },
      "outputs": [],
      "source": [
        "# We define a pettern to find txt files within the path folder\n",
        "pattern = '*.txt'\n",
        "\n",
        "# We use glob to get a list of files which meet the pattern\n",
        "abb_reviews = glob.glob(os.path.join(reviews_path, pattern))\n",
        "\n",
        "# Reviews are sorted in alphabetical order\n",
        "abb_reviews = sorted(\n",
        "    abb_reviews,\n",
        "    key=lambda x: int(Path(x).stem.split('_')[-1]))"
      ]
    },
    {
      "cell_type": "markdown",
      "metadata": {
        "id": "L-qXQHhz55t2"
      },
      "source": [
        "## Review count for each file"
      ]
    },
    {
      "cell_type": "code",
      "execution_count": null,
      "metadata": {
        "colab": {
          "base_uri": "https://localhost:8080/"
        },
        "id": "59j4P02Vy96_",
        "outputId": "90fadcce-b278-43c1-aa94-fe821f611437"
      },
      "outputs": [
        {
          "output_type": "stream",
          "name": "stdout",
          "text": [
            "Reviews count in abb_reviews_00.txt:         9\n",
            "Reviews count in abb_reviews_01.txt:         17\n",
            "Reviews count in abb_reviews_02.txt:         141\n",
            "Reviews count in abb_reviews_03.txt:         15\n",
            "Reviews count in abb_reviews_04.txt:         38\n",
            "Reviews count in abb_reviews_05.txt:         8\n",
            "Reviews count in abb_reviews_06.txt:         200\n",
            "Reviews count in abb_reviews_07.txt:         29\n",
            "Reviews count in abb_reviews_08.txt:         22\n",
            "Reviews count in abb_reviews_09.txt:         141\n",
            "\n",
            "Reviews total count in 10 files: 620\n"
          ]
        }
      ],
      "source": [
        "total_reviews = 0\n",
        "for review in abb_reviews:\n",
        "    file_path = Path(review)\n",
        "    with open(file_path, mode=\"r\", encoding=\"utf-8\") as file:\n",
        "        foo = file.read()\n",
        "        print(f'Reviews count in {file_path.name}:\\\n",
        "         {foo.count(\"Calificación: \")}')\n",
        "        total_reviews += foo.count(\"Calificación: \")\n",
        "\n",
        "print(f\"\\nReviews total count in {len(abb_reviews)} files: {total_reviews}\")"
      ]
    },
    {
      "cell_type": "markdown",
      "metadata": {
        "id": "HBGQQHk86CBY"
      },
      "source": [
        "## Feature to extract guest reviews from all files"
      ]
    },
    {
      "cell_type": "markdown",
      "metadata": {
        "id": "Ot9cWmI7u1rH"
      },
      "source": [
        "It can be seen that some of the information collected is not previously structured, that is, there are comments with different attributes than others, such as, for example, \"*Stayed for a few weeks*\" or \"*With pet*\". This is why these expressions are eliminated to prevent them from being mistakenly interpreted as comments."
      ]
    },
    {
      "cell_type": "code",
      "execution_count": null,
      "metadata": {
        "id": "uLKvQ8yJtb-_"
      },
      "outputs": [],
      "source": [
        "def extract_reviews(my_file):\n",
        "    reviews = []\n",
        "    with open(my_file, mode=\"r\", encoding=\"utf-8\") as f:\n",
        "        text = f.read()\n",
        "\n",
        "    # Split text into chunks using \"Rate:\" as delimiter\n",
        "    fragments = text.split(\"Calificación:\")[1:]\n",
        "\n",
        "    # Removing empty fragments\n",
        "    fragments = [\n",
        "        fragment.strip() for fragment in fragments if fragment.strip()\n",
        "    ]\n",
        "    for fragment in fragments:\n",
        "        aux = (\n",
        "            fragment.replace(\",·\", \"\")\n",
        "            .replace(\"Se quedó unas semanas\", \"\")\n",
        "            .replace(\"Estadía de una semana\", \"\")\n",
        "            .replace(\"Con mascota\", \"\")\n",
        "        )\n",
        "        aux = \"\\n\".join(\n",
        "            line.strip() for line in aux.splitlines() if line.strip()\n",
        "        )\n",
        "        reviews.append(aux.splitlines()[2])\n",
        "\n",
        "    return reviews"
      ]
    },
    {
      "cell_type": "markdown",
      "metadata": {
        "id": "w8SCgVC76T3C"
      },
      "source": [
        "A list is created to store all the reviews (which in turn are in lists) which will be stored in a ***Pandas DataFrame*** along with the ratings."
      ]
    },
    {
      "cell_type": "code",
      "execution_count": null,
      "metadata": {
        "id": "kkt5gG3N03ob"
      },
      "outputs": [],
      "source": [
        "reviews_list = []"
      ]
    },
    {
      "cell_type": "code",
      "execution_count": null,
      "metadata": {
        "id": "pefMbo5I0vnk"
      },
      "outputs": [],
      "source": [
        "for review_file in abb_reviews:\n",
        "    reviews_list.append(extract_reviews(review_file))"
      ]
    },
    {
      "cell_type": "markdown",
      "metadata": {
        "id": "6_oqjyiV6tr0"
      },
      "source": [
        "It is verified with the ***len*** function that there are actually ***620*** reviews in total, which is true, and subsequently a plain text file is created to verify the comments."
      ]
    },
    {
      "cell_type": "code",
      "execution_count": null,
      "metadata": {
        "colab": {
          "base_uri": "https://localhost:8080/"
        },
        "id": "CmecX1zG61QG",
        "outputId": "08cb0cde-6dfa-4213-aa2a-146f218ca716"
      },
      "outputs": [
        {
          "output_type": "stream",
          "name": "stdout",
          "text": [
            "620\n"
          ]
        }
      ],
      "source": [
        "print(len(sum(reviews_list, [])))"
      ]
    },
    {
      "cell_type": "markdown",
      "metadata": {
        "id": "M7vgCKDr0EnA"
      },
      "source": [
        "All reviews are saved in a text file to manually verify using an external text editor that each of the 620 lines corresponding to comments are indeed comments and not other attributes of the reviews."
      ]
    },
    {
      "cell_type": "code",
      "execution_count": null,
      "metadata": {
        "id": "dKOW6Tr00txq"
      },
      "outputs": [],
      "source": [
        "if not os.path.exists(\"processing/coment_ALL.txt\"):\n",
        "    with open(\"processing/coment_ALL.txt\", mode=\"w\") as file:\n",
        "        file.write(\"\\n\".join(sum(reviews_list, [])))"
      ]
    },
    {
      "cell_type": "markdown",
      "metadata": {
        "id": "HskTcv3m7yh6"
      },
      "source": [
        "## Feature to extract guest ratings from all files"
      ]
    },
    {
      "cell_type": "markdown",
      "metadata": {
        "id": "JXEVRKgA050w"
      },
      "source": [
        "Additionally, for sentiment analysis it is important to extract the rating from 1 to 5 that users gave in each of the reviews to contrast them with the result of the sentiment analysis. As with the comments themselves, the scores are also stored in list format and then create a ***Pandas DataFrame*** with them."
      ]
    },
    {
      "cell_type": "code",
      "execution_count": null,
      "metadata": {
        "id": "zoKWyjh80tnr"
      },
      "outputs": [],
      "source": [
        "def extract_reviews(my_file):\n",
        "    stars = []\n",
        "    with open(my_file, mode=\"r\", encoding=\"utf-8\") as file:\n",
        "        text = file.read()\n",
        "        fragments = text.split(\"Calificación: \")\n",
        "\n",
        "    for i in range(1, len(fragments)):\n",
        "        stars.append(int(fragments[i][0]))\n",
        "\n",
        "    return stars"
      ]
    },
    {
      "cell_type": "code",
      "execution_count": null,
      "metadata": {
        "id": "OA3nuoW-2Wjo"
      },
      "outputs": [],
      "source": [
        "stars_list = []\n",
        "\n",
        "for review_file in abb_reviews:\n",
        "    stars_list.append(extract_reviews(review_file))"
      ]
    },
    {
      "cell_type": "markdown",
      "metadata": {
        "id": "0M7G-P-86yN7"
      },
      "source": [
        "It is verified that the number of ratings is the same as the number of comments."
      ]
    },
    {
      "cell_type": "code",
      "execution_count": null,
      "metadata": {
        "colab": {
          "base_uri": "https://localhost:8080/"
        },
        "id": "RHPruB1g7c7d",
        "outputId": "b413aff9-112e-4a6e-ff85-9de9c25f69cf"
      },
      "outputs": [
        {
          "output_type": "execute_result",
          "data": {
            "text/plain": [
              "620"
            ]
          },
          "metadata": {},
          "execution_count": 15
        }
      ],
      "source": [
        "len(sum(stars_list, []))"
      ]
    },
    {
      "cell_type": "markdown",
      "metadata": {
        "id": "KYakYfda2FMs"
      },
      "source": [
        "Indexes are created to identify each of the 10 accommodations prior to the creation of the *Pandas* *DataFrame*. Likewise, all the elements of reviews and number of stars for each accommodation are combined into a single list for each case."
      ]
    },
    {
      "cell_type": "code",
      "execution_count": null,
      "metadata": {
        "id": "qWkAmvV6JHMZ"
      },
      "outputs": [],
      "source": [
        "def join_lists(list_):\n",
        "    return sum(list_, [])"
      ]
    },
    {
      "cell_type": "code",
      "execution_count": null,
      "metadata": {
        "id": "FVGg1-kSyr9_"
      },
      "outputs": [],
      "source": [
        "reviews_number = []"
      ]
    },
    {
      "cell_type": "code",
      "execution_count": null,
      "metadata": {
        "id": "B2al9KBXyqjJ"
      },
      "outputs": [],
      "source": [
        "for review in reviews_list:\n",
        "    reviews_number.append(len(review))"
      ]
    },
    {
      "cell_type": "code",
      "execution_count": null,
      "metadata": {
        "colab": {
          "base_uri": "https://localhost:8080/"
        },
        "id": "MVoNif1dy5Pt",
        "outputId": "53929bfe-3dd3-4c5c-a79e-564617af0119"
      },
      "outputs": [
        {
          "output_type": "execute_result",
          "data": {
            "text/plain": [
              "[9, 17, 141, 15, 38, 8, 200, 29, 22, 141]"
            ]
          },
          "metadata": {},
          "execution_count": 19
        }
      ],
      "source": [
        "reviews_number"
      ]
    },
    {
      "cell_type": "code",
      "execution_count": null,
      "metadata": {
        "id": "4JMIfkQ-1t17"
      },
      "outputs": [],
      "source": [
        "accomodation_id = []\n",
        "for index, i in enumerate(reviews_number, start=0):\n",
        "    accomodation_id.append(list(np.full(i, index)))\n",
        "\n",
        "accomodation_id = sum(accomodation_id, [])"
      ]
    },
    {
      "cell_type": "code",
      "execution_count": null,
      "metadata": {
        "id": "cfME44DMJz6V"
      },
      "outputs": [],
      "source": [
        "reviews_list = join_lists(reviews_list)\n",
        "stars_list = join_lists(stars_list)"
      ]
    },
    {
      "cell_type": "markdown",
      "metadata": {
        "id": "3f2q8sAt2_IC"
      },
      "source": [
        "## Pandas DataFrame Construction"
      ]
    },
    {
      "cell_type": "code",
      "execution_count": null,
      "metadata": {
        "id": "YAyf8OhbUxqD"
      },
      "outputs": [],
      "source": [
        "df_reviews = pd.DataFrame({\n",
        "    \"id_alojamiento\": accomodation_id,\n",
        "    \"review\": reviews_list,\n",
        "    \"stars\": stars_list,\n",
        "})"
      ]
    },
    {
      "cell_type": "markdown",
      "metadata": {
        "id": "ukcQmVwg3JnO"
      },
      "source": [
        "A sampling is carried out in order to verify that the *DataFrame* was constructed correctly and it is saved in *csv* format for future use."
      ]
    },
    {
      "cell_type": "code",
      "execution_count": null,
      "metadata": {
        "colab": {
          "base_uri": "https://localhost:8080/",
          "height": 310
        },
        "id": "ZezsIjYKVBlg",
        "outputId": "05ee0700-d550-46f9-a4b2-715adf410128"
      },
      "outputs": [
        {
          "output_type": "execute_result",
          "data": {
            "text/plain": [
              "     id_alojamiento  \\\n",
              "61                2   \n",
              "358               6   \n",
              "460               8   \n",
              "565               9   \n",
              "370               6   \n",
              "\n",
              "                                                                                                                                                                                                                                                                                                                                                                                                                                                                                                                                 review  \\\n",
              "61                                                                                                                                                                                                                                                                                                                                                                                                                                 Pésimo,nunca me pude instalar en el departamento pues el anfitrión nunca me contestó cuando lo llamé   \n",
              "358                                                                                                                                                                                                                                                                                                                                                                                                                                                                                       nice place, wa cery cozy had a very nice stay   \n",
              "460                                                                                                                                                                                                                                                                      Die Unterkunft ist super! Die Lage ist perfekt, 10 Minuten zum nächsten Supermarkt, 10 Minuten zum Strand, 10 Minuten zu Bars und Discos. Trotzdem ist es bei der Unterkunft ruhig und man kann in Ruhe schlafen. Der Host ist auch sehr nett und hilfsbereit!   \n",
              "565  Muy recomendable!!! Hemos pasado dos semanas hermosas en el alojamiento de Gijs & Liliana. Ellos son unos anfitriones de lujo, que nos hicieron sentir súper bienvenidos y nos dieron unas recomendaciones excelentes: dónde comprar, dónde comer, etc. La casa es súper cómoda, la cocina está bien equipada y la ducha es increíble. Trabajamos todos los días con una conexión a wifi muy confiable y buena. Está a 5 minutos caminando del mar, ideal para instalarse a trabajar de forma remota y disfrutar de toda la zona!!   \n",
              "370                                                                                                                                                                                                                                                                                                                                                                                                                                                                              Estuvo bien, el precio es correcto para los servicios.   \n",
              "\n",
              "     stars  \n",
              "61       1  \n",
              "358      5  \n",
              "460      5  \n",
              "565      5  \n",
              "370      3  "
            ],
            "text/html": [
              "\n",
              "  <div id=\"df-2d220d1e-b5e4-426e-b0f2-68054f67153a\" class=\"colab-df-container\">\n",
              "    <div>\n",
              "<style scoped>\n",
              "    .dataframe tbody tr th:only-of-type {\n",
              "        vertical-align: middle;\n",
              "    }\n",
              "\n",
              "    .dataframe tbody tr th {\n",
              "        vertical-align: top;\n",
              "    }\n",
              "\n",
              "    .dataframe thead th {\n",
              "        text-align: right;\n",
              "    }\n",
              "</style>\n",
              "<table border=\"1\" class=\"dataframe\">\n",
              "  <thead>\n",
              "    <tr style=\"text-align: right;\">\n",
              "      <th></th>\n",
              "      <th>id_alojamiento</th>\n",
              "      <th>review</th>\n",
              "      <th>stars</th>\n",
              "    </tr>\n",
              "  </thead>\n",
              "  <tbody>\n",
              "    <tr>\n",
              "      <th>61</th>\n",
              "      <td>2</td>\n",
              "      <td>Pésimo,nunca me pude instalar en el departamento pues el anfitrión nunca me contestó cuando lo llamé</td>\n",
              "      <td>1</td>\n",
              "    </tr>\n",
              "    <tr>\n",
              "      <th>358</th>\n",
              "      <td>6</td>\n",
              "      <td>nice place, wa cery cozy had a very nice stay</td>\n",
              "      <td>5</td>\n",
              "    </tr>\n",
              "    <tr>\n",
              "      <th>460</th>\n",
              "      <td>8</td>\n",
              "      <td>Die Unterkunft ist super! Die Lage ist perfekt, 10 Minuten zum nächsten Supermarkt, 10 Minuten zum Strand, 10 Minuten zu Bars und Discos. Trotzdem ist es bei der Unterkunft ruhig und man kann in Ruhe schlafen. Der Host ist auch sehr nett und hilfsbereit!</td>\n",
              "      <td>5</td>\n",
              "    </tr>\n",
              "    <tr>\n",
              "      <th>565</th>\n",
              "      <td>9</td>\n",
              "      <td>Muy recomendable!!! Hemos pasado dos semanas hermosas en el alojamiento de Gijs &amp; Liliana. Ellos son unos anfitriones de lujo, que nos hicieron sentir súper bienvenidos y nos dieron unas recomendaciones excelentes: dónde comprar, dónde comer, etc. La casa es súper cómoda, la cocina está bien equipada y la ducha es increíble. Trabajamos todos los días con una conexión a wifi muy confiable y buena. Está a 5 minutos caminando del mar, ideal para instalarse a trabajar de forma remota y disfrutar de toda la zona!!</td>\n",
              "      <td>5</td>\n",
              "    </tr>\n",
              "    <tr>\n",
              "      <th>370</th>\n",
              "      <td>6</td>\n",
              "      <td>Estuvo bien, el precio es correcto para los servicios.</td>\n",
              "      <td>3</td>\n",
              "    </tr>\n",
              "  </tbody>\n",
              "</table>\n",
              "</div>\n",
              "    <div class=\"colab-df-buttons\">\n",
              "\n",
              "  <div class=\"colab-df-container\">\n",
              "    <button class=\"colab-df-convert\" onclick=\"convertToInteractive('df-2d220d1e-b5e4-426e-b0f2-68054f67153a')\"\n",
              "            title=\"Convert this dataframe to an interactive table.\"\n",
              "            style=\"display:none;\">\n",
              "\n",
              "  <svg xmlns=\"http://www.w3.org/2000/svg\" height=\"24px\" viewBox=\"0 -960 960 960\">\n",
              "    <path d=\"M120-120v-720h720v720H120Zm60-500h600v-160H180v160Zm220 220h160v-160H400v160Zm0 220h160v-160H400v160ZM180-400h160v-160H180v160Zm440 0h160v-160H620v160ZM180-180h160v-160H180v160Zm440 0h160v-160H620v160Z\"/>\n",
              "  </svg>\n",
              "    </button>\n",
              "\n",
              "  <style>\n",
              "    .colab-df-container {\n",
              "      display:flex;\n",
              "      gap: 12px;\n",
              "    }\n",
              "\n",
              "    .colab-df-convert {\n",
              "      background-color: #E8F0FE;\n",
              "      border: none;\n",
              "      border-radius: 50%;\n",
              "      cursor: pointer;\n",
              "      display: none;\n",
              "      fill: #1967D2;\n",
              "      height: 32px;\n",
              "      padding: 0 0 0 0;\n",
              "      width: 32px;\n",
              "    }\n",
              "\n",
              "    .colab-df-convert:hover {\n",
              "      background-color: #E2EBFA;\n",
              "      box-shadow: 0px 1px 2px rgba(60, 64, 67, 0.3), 0px 1px 3px 1px rgba(60, 64, 67, 0.15);\n",
              "      fill: #174EA6;\n",
              "    }\n",
              "\n",
              "    .colab-df-buttons div {\n",
              "      margin-bottom: 4px;\n",
              "    }\n",
              "\n",
              "    [theme=dark] .colab-df-convert {\n",
              "      background-color: #3B4455;\n",
              "      fill: #D2E3FC;\n",
              "    }\n",
              "\n",
              "    [theme=dark] .colab-df-convert:hover {\n",
              "      background-color: #434B5C;\n",
              "      box-shadow: 0px 1px 3px 1px rgba(0, 0, 0, 0.15);\n",
              "      filter: drop-shadow(0px 1px 2px rgba(0, 0, 0, 0.3));\n",
              "      fill: #FFFFFF;\n",
              "    }\n",
              "  </style>\n",
              "\n",
              "    <script>\n",
              "      const buttonEl =\n",
              "        document.querySelector('#df-2d220d1e-b5e4-426e-b0f2-68054f67153a button.colab-df-convert');\n",
              "      buttonEl.style.display =\n",
              "        google.colab.kernel.accessAllowed ? 'block' : 'none';\n",
              "\n",
              "      async function convertToInteractive(key) {\n",
              "        const element = document.querySelector('#df-2d220d1e-b5e4-426e-b0f2-68054f67153a');\n",
              "        const dataTable =\n",
              "          await google.colab.kernel.invokeFunction('convertToInteractive',\n",
              "                                                    [key], {});\n",
              "        if (!dataTable) return;\n",
              "\n",
              "        const docLinkHtml = 'Like what you see? Visit the ' +\n",
              "          '<a target=\"_blank\" href=https://colab.research.google.com/notebooks/data_table.ipynb>data table notebook</a>'\n",
              "          + ' to learn more about interactive tables.';\n",
              "        element.innerHTML = '';\n",
              "        dataTable['output_type'] = 'display_data';\n",
              "        await google.colab.output.renderOutput(dataTable, element);\n",
              "        const docLink = document.createElement('div');\n",
              "        docLink.innerHTML = docLinkHtml;\n",
              "        element.appendChild(docLink);\n",
              "      }\n",
              "    </script>\n",
              "  </div>\n",
              "\n",
              "\n",
              "<div id=\"df-7080ecc8-d384-4970-ac4d-b0039220e684\">\n",
              "  <button class=\"colab-df-quickchart\" onclick=\"quickchart('df-7080ecc8-d384-4970-ac4d-b0039220e684')\"\n",
              "            title=\"Suggest charts\"\n",
              "            style=\"display:none;\">\n",
              "\n",
              "<svg xmlns=\"http://www.w3.org/2000/svg\" height=\"24px\"viewBox=\"0 0 24 24\"\n",
              "     width=\"24px\">\n",
              "    <g>\n",
              "        <path d=\"M19 3H5c-1.1 0-2 .9-2 2v14c0 1.1.9 2 2 2h14c1.1 0 2-.9 2-2V5c0-1.1-.9-2-2-2zM9 17H7v-7h2v7zm4 0h-2V7h2v10zm4 0h-2v-4h2v4z\"/>\n",
              "    </g>\n",
              "</svg>\n",
              "  </button>\n",
              "\n",
              "<style>\n",
              "  .colab-df-quickchart {\n",
              "      --bg-color: #E8F0FE;\n",
              "      --fill-color: #1967D2;\n",
              "      --hover-bg-color: #E2EBFA;\n",
              "      --hover-fill-color: #174EA6;\n",
              "      --disabled-fill-color: #AAA;\n",
              "      --disabled-bg-color: #DDD;\n",
              "  }\n",
              "\n",
              "  [theme=dark] .colab-df-quickchart {\n",
              "      --bg-color: #3B4455;\n",
              "      --fill-color: #D2E3FC;\n",
              "      --hover-bg-color: #434B5C;\n",
              "      --hover-fill-color: #FFFFFF;\n",
              "      --disabled-bg-color: #3B4455;\n",
              "      --disabled-fill-color: #666;\n",
              "  }\n",
              "\n",
              "  .colab-df-quickchart {\n",
              "    background-color: var(--bg-color);\n",
              "    border: none;\n",
              "    border-radius: 50%;\n",
              "    cursor: pointer;\n",
              "    display: none;\n",
              "    fill: var(--fill-color);\n",
              "    height: 32px;\n",
              "    padding: 0;\n",
              "    width: 32px;\n",
              "  }\n",
              "\n",
              "  .colab-df-quickchart:hover {\n",
              "    background-color: var(--hover-bg-color);\n",
              "    box-shadow: 0 1px 2px rgba(60, 64, 67, 0.3), 0 1px 3px 1px rgba(60, 64, 67, 0.15);\n",
              "    fill: var(--button-hover-fill-color);\n",
              "  }\n",
              "\n",
              "  .colab-df-quickchart-complete:disabled,\n",
              "  .colab-df-quickchart-complete:disabled:hover {\n",
              "    background-color: var(--disabled-bg-color);\n",
              "    fill: var(--disabled-fill-color);\n",
              "    box-shadow: none;\n",
              "  }\n",
              "\n",
              "  .colab-df-spinner {\n",
              "    border: 2px solid var(--fill-color);\n",
              "    border-color: transparent;\n",
              "    border-bottom-color: var(--fill-color);\n",
              "    animation:\n",
              "      spin 1s steps(1) infinite;\n",
              "  }\n",
              "\n",
              "  @keyframes spin {\n",
              "    0% {\n",
              "      border-color: transparent;\n",
              "      border-bottom-color: var(--fill-color);\n",
              "      border-left-color: var(--fill-color);\n",
              "    }\n",
              "    20% {\n",
              "      border-color: transparent;\n",
              "      border-left-color: var(--fill-color);\n",
              "      border-top-color: var(--fill-color);\n",
              "    }\n",
              "    30% {\n",
              "      border-color: transparent;\n",
              "      border-left-color: var(--fill-color);\n",
              "      border-top-color: var(--fill-color);\n",
              "      border-right-color: var(--fill-color);\n",
              "    }\n",
              "    40% {\n",
              "      border-color: transparent;\n",
              "      border-right-color: var(--fill-color);\n",
              "      border-top-color: var(--fill-color);\n",
              "    }\n",
              "    60% {\n",
              "      border-color: transparent;\n",
              "      border-right-color: var(--fill-color);\n",
              "    }\n",
              "    80% {\n",
              "      border-color: transparent;\n",
              "      border-right-color: var(--fill-color);\n",
              "      border-bottom-color: var(--fill-color);\n",
              "    }\n",
              "    90% {\n",
              "      border-color: transparent;\n",
              "      border-bottom-color: var(--fill-color);\n",
              "    }\n",
              "  }\n",
              "</style>\n",
              "\n",
              "  <script>\n",
              "    async function quickchart(key) {\n",
              "      const quickchartButtonEl =\n",
              "        document.querySelector('#' + key + ' button');\n",
              "      quickchartButtonEl.disabled = true;  // To prevent multiple clicks.\n",
              "      quickchartButtonEl.classList.add('colab-df-spinner');\n",
              "      try {\n",
              "        const charts = await google.colab.kernel.invokeFunction(\n",
              "            'suggestCharts', [key], {});\n",
              "      } catch (error) {\n",
              "        console.error('Error during call to suggestCharts:', error);\n",
              "      }\n",
              "      quickchartButtonEl.classList.remove('colab-df-spinner');\n",
              "      quickchartButtonEl.classList.add('colab-df-quickchart-complete');\n",
              "    }\n",
              "    (() => {\n",
              "      let quickchartButtonEl =\n",
              "        document.querySelector('#df-7080ecc8-d384-4970-ac4d-b0039220e684 button');\n",
              "      quickchartButtonEl.style.display =\n",
              "        google.colab.kernel.accessAllowed ? 'block' : 'none';\n",
              "    })();\n",
              "  </script>\n",
              "</div>\n",
              "\n",
              "    </div>\n",
              "  </div>\n"
            ],
            "application/vnd.google.colaboratory.intrinsic+json": {
              "type": "dataframe",
              "summary": "{\n  \"name\": \"df_reviews\",\n  \"rows\": 5,\n  \"fields\": [\n    {\n      \"column\": \"id_alojamiento\",\n      \"properties\": {\n        \"dtype\": \"number\",\n        \"std\": 2,\n        \"min\": 2,\n        \"max\": 9,\n        \"num_unique_values\": 4,\n        \"samples\": [\n          6,\n          9,\n          2\n        ],\n        \"semantic_type\": \"\",\n        \"description\": \"\"\n      }\n    },\n    {\n      \"column\": \"review\",\n      \"properties\": {\n        \"dtype\": \"string\",\n        \"num_unique_values\": 5,\n        \"samples\": [\n          \"nice place, wa cery cozy had a very nice stay\",\n          \"Estuvo bien, el precio es correcto para los servicios.\",\n          \"Die Unterkunft ist super! Die Lage ist perfekt, 10 Minuten zum n\\u00e4chsten Supermarkt, 10 Minuten zum Strand, 10 Minuten zu Bars und Discos. Trotzdem ist es bei der Unterkunft ruhig und man kann in Ruhe schlafen. Der Host ist auch sehr nett und hilfsbereit!\"\n        ],\n        \"semantic_type\": \"\",\n        \"description\": \"\"\n      }\n    },\n    {\n      \"column\": \"stars\",\n      \"properties\": {\n        \"dtype\": \"number\",\n        \"std\": 1,\n        \"min\": 1,\n        \"max\": 5,\n        \"num_unique_values\": 3,\n        \"samples\": [\n          1,\n          5,\n          3\n        ],\n        \"semantic_type\": \"\",\n        \"description\": \"\"\n      }\n    }\n  ]\n}"
            }
          },
          "metadata": {},
          "execution_count": 23
        }
      ],
      "source": [
        "df_reviews.sample(5)"
      ]
    },
    {
      "cell_type": "code",
      "execution_count": null,
      "metadata": {
        "id": "sOe-J8CeH5F6"
      },
      "outputs": [],
      "source": [
        "if not os.path.exists(\"processing/df_reviews.csv\"):\n",
        "    df_reviews.to_csv(\"processing/df_reviews.csv\", index=False)"
      ]
    },
    {
      "cell_type": "markdown",
      "metadata": {
        "id": "iH6obQtl0Wmt"
      },
      "source": [
        "The reviews left by guests are then translated to the accommodations with the help of **Google Cloud Translate**, which automatically detects the language of the input texts and translates them into English in order to process them. later when performing the sentiment analysis. For subsequent runs of this *Jupyter Notebook*, the file with the already translated reviews is imported in order not to exceed the quota of translations allowed in the free tier of *Google Cloud Translate*. If you want to replicate the use of ***Google Cloud Translate*** for automatic text translation, you must use an existing ***Google Cloud*** account or create a new account and generate the credentials. access to the API, following the documentation of the cloud service provider. The reason why data is stored in *.xlsx* format instead of *.csv* is that sometimes the ***Pandas*** interpreter confuses certain special characters with data delimiters and a error occurs. wrong reading for some of the records."
      ]
    },
    {
      "cell_type": "code",
      "execution_count": null,
      "metadata": {
        "id": "BgNE4aBr_TWF"
      },
      "outputs": [],
      "source": [
        "from google.cloud import translate_v2 as translate\n",
        "\n",
        "# Reading private key from Google Cloud Translate API\n",
        "client = translate.Client.from_service_account_json(\n",
        "    \"processing/private_key_translate.json\"\n",
        ")\n",
        "\n",
        "if not os.path.exists(\"translations/df_reviews_traducido.xlsx\"):\n",
        "    # Function to translate a text\n",
        "    def translate_text(text, target_language='en'):\n",
        "        result = client.translate(text, target_language=target_language)\n",
        "        return result['translatedText']\n",
        "\n",
        "    # Translation of text in the \"review\" column\n",
        "    df_reviews['texto_traducido'] = df_reviews[\"review\"].apply(\n",
        "        lambda x: translate_text(x, target_language=\"en\")\n",
        "    )\n",
        "\n",
        "    # Storing translated reviews for future use\n",
        "    df_reviews[[\n",
        "            \"id_alojamiento\", \"review\", \"texto_traducido\", \"stars\"\n",
        "        ]].to_excel(\n",
        "        \"translations/df_reviews_traducido.xlsx\", index=False\n",
        "    )\n",
        "\n",
        "else:\n",
        "    df_reviews['texto_traducido'] = pd.read_excel(\n",
        "        \"translations/df_reviews_traducido.xlsx\"\n",
        "    )[\"texto_traducido\"]"
      ]
    },
    {
      "cell_type": "markdown",
      "metadata": {
        "id": "djYOSgWQM2yR"
      },
      "source": [
        "Random sample of the data is obtained in order to verify the translations made."
      ]
    },
    {
      "cell_type": "code",
      "execution_count": null,
      "metadata": {
        "colab": {
          "base_uri": "https://localhost:8080/",
          "height": 1000
        },
        "id": "WFZwFzPOOLZf",
        "outputId": "db581192-e5af-4ce2-ae37-9ba92f28db20"
      },
      "outputs": [
        {
          "output_type": "execute_result",
          "data": {
            "text/plain": [
              "     id_alojamiento  \\\n",
              "336               6   \n",
              "139               2   \n",
              "394               6   \n",
              "140               2   \n",
              "489               9   \n",
              "73                2   \n",
              "209               4   \n",
              "216               4   \n",
              "609               9   \n",
              "349               6   \n",
              "\n",
              "                                                                                                                                                                                                                                                                                                                                                                                                                                                                                                                                                                                                                                                                                                                                                                                                                                                                                                                                                                                                                                                   review  \\\n",
              "336                                                                                                                                                                                                                                                                                                                                                                                                                                                                                                                                                                                                                                                                                                                                                                                                                                                                                                                                                                               El lugar es pequeño pero perfecto, muy limpio y con una vista increíble   \n",
              "139                                                                                                                                                                                                                                                                                                                                                                                                                                                                                                                                                                                                                                                                                                                                                                                                                                                                                                    Excelente lugar, buen estilo y completo. El espacio es pequeño pero suficiente para un viaje en solitario o pareja. Buena comunicación y ubicación   \n",
              "394                                                                                                                                                                                                                                                                                                                                                                                                                                                                                                                                                                                                                                                                                            Un lugar con excelentes servicios (internet, cocina, bañera, posibilidad de lavadora) y una ubicación estratégica: cercana a la zona turística y a su vez alejada del ruido nocturno de Montañita, lo que permite un buen descanso. La única recomendación es que el aseo del lugar debe mejorar haciendo una limpieza de todos los elementos del espacio.   \n",
              "140                                                                                                                                                                                                                                                                                                                                                                                                                                                                                                                                                                                                                                                                                                                                                                                                                                                                                                                                                                                                                                        Muy buen lugar   \n",
              "489                                                                                                                                                                                                                                                                                                                                                                                                                                                                                                                                                                                                                                                                                                                                                                                                                                                                                                                                                                                                                                             Con niños   \n",
              "73                                                                                                                                                                                                                                                                                                                                                                                                                                                                                                                                                                                                                                                                                                                                                                                                                                                                                                                                                                                                                                          Todo muy bien   \n",
              "209                                                                                                                                                                                                                                                                                                                                                                                                                                                                                                                                             Overall, the house was very clean and Tania was fast at responding and accommodating. However, It was very noisy with many dogs running around, and construction going on under the house. The bathroom would also flood while you tried to take a shower as there was no curtain/wall. The kitchen is also not ideal if you're looking to stay in and cook rather than go out. A few small improvements (nicer cooking setup, quiter dogs, and a shower curtain would make this place much more livable.   \n",
              "216                                                                                                                                                                                                                                                                                                                                                                                                                                                                                                                                                                                                                                                                                             We stayed 4 nights at Tania’s place. She picked us up from the supermarket in Montanita, which was very helpful and convenient. The place was just awesome! Relaxing and peaceful. We also appreciated the bed and really good mosquito net! We enjoyed our stay and felt sad when we had to leave. Big thanks to Tania, our kind, warm and helpful host!   \n",
              "609  What a beautiful place, tucked away in the quiet town of Manglaralto. We arrived around 4 pm, and even though our hosts weren't there (cause they were at work), everything was well prepared for our arrival. The keys were available and the apartment was clean and everything well in its place. The apartment is spacious with all of the amenities and utensils you may require to make your stay as pleasant as possible. The apartment is located a 5 min walk from the beach, and around a 25 min walk along the beach from Montanita. Manglaralto is a very small town, only 5 mins away by taxi from Montanita, which makes it the perfect place to stay if you don't like the hustle and bustle of Montanita, but still crave good food and drinks. Gijs and Liliana were absolutely amazing. They helped us without hesitation, always with a smile. They did more than was expected of them, and they are just generally very nice people. I look forward to our next visit to Manglaralto and to Gijs & Liliana's place. Thanks guys!   \n",
              "349                                                                                                                                                                                                                                                                                                                                                                                                                                                                                                                                                                                                                                                                                                                                                                                                                                                                                                                                                                                                                Bastante confortable para ir en pareja   \n",
              "\n",
              "     stars  \\\n",
              "336      5   \n",
              "139      5   \n",
              "394      4   \n",
              "140      5   \n",
              "489      5   \n",
              "73       5   \n",
              "209      3   \n",
              "216      5   \n",
              "609      5   \n",
              "349      5   \n",
              "\n",
              "                                                                                                                                                                                                                                                                                                                                                                                                                                                                                                                                                                                                                                                                                                                                                                                                                                                                                                                                                                                                                                          texto_traducido  \n",
              "336                                                                                                                                                                                                                                                                                                                                                                                                                                                                                                                                                                                                                                                                                                                                                                                                                                                                                                                                                                                The place is small but perfect, very clean and with an incredible view  \n",
              "139                                                                                                                                                                                                                                                                                                                                                                                                                                                                                                                                                                                                                                                                                                                                                                                                                                                                                                                    Excellent place, good style and complete. The space is small but enough for a solo or couple trip. Good communication and location  \n",
              "394                                                                                                                                                                                                                                                                                                                                                                                                                                                                                                                                                                                                                                                                                    A place with excellent services (internet, kitchen, bathtub, possibility of washing machine) and a strategic location: close to the tourist area and at the same time away from the night noise of Montañita, which allows for a good rest. The only recommendation is that the cleanliness of the place should improve by cleaning all the elements in the space.  \n",
              "140                                                                                                                                                                                                                                                                                                                                                                                                                                                                                                                                                                                                                                                                                                                                                                                                                                                                                                                                                                                                                                       Very good place  \n",
              "489                                                                                                                                                                                                                                                                                                                                                                                                                                                                                                                                                                                                                                                                                                                                                                                                                                                                                                                                                                                                                                         With children  \n",
              "73                                                                                                                                                                                                                                                                                                                                                                                                                                                                                                                                                                                                                                                                                                                                                                                                                                                                                                                                                                                                                                          All very well  \n",
              "209                                                                                                                                                                                                                                                                                                                                                                                                                                                                                                                                             Overall, the house was very clean and Tania was fast at responding and accommodating. However, It was very noisy with many dogs running around, and construction going on under the house. The bathroom would also flood while you tried to take a shower as there was no curtain/wall. The kitchen is also not ideal if you're looking to stay in and cook rather than go out. A few small improvements (nicer cooking setup, quiter dogs, and a shower curtain would make this place much more livable.  \n",
              "216                                                                                                                                                                                                                                                                                                                                                                                                                                                                                                                                                                                                                                                                                             We stayed 4 nights at Tania’s place. She picked us up from the supermarket in Montanita, which was very helpful and convenient. The place was just awesome! Relaxing and peaceful. We also appreciated the bed and really good mosquito net! We enjoyed our stay and felt sad when we had to leave. Big thanks to Tania, our kind, warm and helpful host!  \n",
              "609  What a beautiful place, tucked away in the quiet town of Manglaralto. We arrived around 4 pm, and even though our hosts weren't there (cause they were at work), everything was well prepared for our arrival. The keys were available and the apartment was clean and everything well in its place. The apartment is spacious with all of the amenities and utensils you may require to make your stay as pleasant as possible. The apartment is located a 5 min walk from the beach, and around a 25 min walk along the beach from Montanita. Manglaralto is a very small town, only 5 mins away by taxi from Montanita, which makes it the perfect place to stay if you don't like the hustle and bustle of Montanita, but still crave good food and drinks. Gijs and Liliana were absolutely amazing. They helped us without hesitation, always with a smile. They did more than was expected of them, and they are just generally very nice people. I look forward to our next visit to Manglaralto and to Gijs & Liliana's place. Thanks guys!  \n",
              "349                                                                                                                                                                                                                                                                                                                                                                                                                                                                                                                                                                                                                                                                                                                                                                                                                                                                                                                                                                                                                   Quite comfortable to go as a couple  "
            ],
            "text/html": [
              "\n",
              "  <div id=\"df-7a5177a1-e637-4648-92a5-95cdefd8959e\" class=\"colab-df-container\">\n",
              "    <div>\n",
              "<style scoped>\n",
              "    .dataframe tbody tr th:only-of-type {\n",
              "        vertical-align: middle;\n",
              "    }\n",
              "\n",
              "    .dataframe tbody tr th {\n",
              "        vertical-align: top;\n",
              "    }\n",
              "\n",
              "    .dataframe thead th {\n",
              "        text-align: right;\n",
              "    }\n",
              "</style>\n",
              "<table border=\"1\" class=\"dataframe\">\n",
              "  <thead>\n",
              "    <tr style=\"text-align: right;\">\n",
              "      <th></th>\n",
              "      <th>id_alojamiento</th>\n",
              "      <th>review</th>\n",
              "      <th>stars</th>\n",
              "      <th>texto_traducido</th>\n",
              "    </tr>\n",
              "  </thead>\n",
              "  <tbody>\n",
              "    <tr>\n",
              "      <th>336</th>\n",
              "      <td>6</td>\n",
              "      <td>El lugar es pequeño pero perfecto, muy limpio y con una vista increíble</td>\n",
              "      <td>5</td>\n",
              "      <td>The place is small but perfect, very clean and with an incredible view</td>\n",
              "    </tr>\n",
              "    <tr>\n",
              "      <th>139</th>\n",
              "      <td>2</td>\n",
              "      <td>Excelente lugar, buen estilo y completo. El espacio es pequeño pero suficiente para un viaje en solitario o pareja. Buena comunicación y ubicación</td>\n",
              "      <td>5</td>\n",
              "      <td>Excellent place, good style and complete. The space is small but enough for a solo or couple trip. Good communication and location</td>\n",
              "    </tr>\n",
              "    <tr>\n",
              "      <th>394</th>\n",
              "      <td>6</td>\n",
              "      <td>Un lugar con excelentes servicios (internet, cocina, bañera, posibilidad de lavadora) y una ubicación estratégica: cercana a la zona turística y a su vez alejada del ruido nocturno de Montañita, lo que permite un buen descanso. La única recomendación es que el aseo del lugar debe mejorar haciendo una limpieza de todos los elementos del espacio.</td>\n",
              "      <td>4</td>\n",
              "      <td>A place with excellent services (internet, kitchen, bathtub, possibility of washing machine) and a strategic location: close to the tourist area and at the same time away from the night noise of Montañita, which allows for a good rest. The only recommendation is that the cleanliness of the place should improve by cleaning all the elements in the space.</td>\n",
              "    </tr>\n",
              "    <tr>\n",
              "      <th>140</th>\n",
              "      <td>2</td>\n",
              "      <td>Muy buen lugar</td>\n",
              "      <td>5</td>\n",
              "      <td>Very good place</td>\n",
              "    </tr>\n",
              "    <tr>\n",
              "      <th>489</th>\n",
              "      <td>9</td>\n",
              "      <td>Con niños</td>\n",
              "      <td>5</td>\n",
              "      <td>With children</td>\n",
              "    </tr>\n",
              "    <tr>\n",
              "      <th>73</th>\n",
              "      <td>2</td>\n",
              "      <td>Todo muy bien</td>\n",
              "      <td>5</td>\n",
              "      <td>All very well</td>\n",
              "    </tr>\n",
              "    <tr>\n",
              "      <th>209</th>\n",
              "      <td>4</td>\n",
              "      <td>Overall, the house was very clean and Tania was fast at responding and accommodating. However, It was very noisy with many dogs running around, and construction going on under the house. The bathroom would also flood while you tried to take a shower as there was no curtain/wall. The kitchen is also not ideal if you're looking to stay in and cook rather than go out. A few small improvements (nicer cooking setup, quiter dogs, and a shower curtain would make this place much more livable.</td>\n",
              "      <td>3</td>\n",
              "      <td>Overall, the house was very clean and Tania was fast at responding and accommodating. However, It was very noisy with many dogs running around, and construction going on under the house. The bathroom would also flood while you tried to take a shower as there was no curtain/wall. The kitchen is also not ideal if you're looking to stay in and cook rather than go out. A few small improvements (nicer cooking setup, quiter dogs, and a shower curtain would make this place much more livable.</td>\n",
              "    </tr>\n",
              "    <tr>\n",
              "      <th>216</th>\n",
              "      <td>4</td>\n",
              "      <td>We stayed 4 nights at Tania’s place. She picked us up from the supermarket in Montanita, which was very helpful and convenient. The place was just awesome! Relaxing and peaceful. We also appreciated the bed and really good mosquito net! We enjoyed our stay and felt sad when we had to leave. Big thanks to Tania, our kind, warm and helpful host!</td>\n",
              "      <td>5</td>\n",
              "      <td>We stayed 4 nights at Tania’s place. She picked us up from the supermarket in Montanita, which was very helpful and convenient. The place was just awesome! Relaxing and peaceful. We also appreciated the bed and really good mosquito net! We enjoyed our stay and felt sad when we had to leave. Big thanks to Tania, our kind, warm and helpful host!</td>\n",
              "    </tr>\n",
              "    <tr>\n",
              "      <th>609</th>\n",
              "      <td>9</td>\n",
              "      <td>What a beautiful place, tucked away in the quiet town of Manglaralto. We arrived around 4 pm, and even though our hosts weren't there (cause they were at work), everything was well prepared for our arrival. The keys were available and the apartment was clean and everything well in its place. The apartment is spacious with all of the amenities and utensils you may require to make your stay as pleasant as possible. The apartment is located a 5 min walk from the beach, and around a 25 min walk along the beach from Montanita. Manglaralto is a very small town, only 5 mins away by taxi from Montanita, which makes it the perfect place to stay if you don't like the hustle and bustle of Montanita, but still crave good food and drinks. Gijs and Liliana were absolutely amazing. They helped us without hesitation, always with a smile. They did more than was expected of them, and they are just generally very nice people. I look forward to our next visit to Manglaralto and to Gijs &amp; Liliana's place. Thanks guys!</td>\n",
              "      <td>5</td>\n",
              "      <td>What a beautiful place, tucked away in the quiet town of Manglaralto. We arrived around 4 pm, and even though our hosts weren't there (cause they were at work), everything was well prepared for our arrival. The keys were available and the apartment was clean and everything well in its place. The apartment is spacious with all of the amenities and utensils you may require to make your stay as pleasant as possible. The apartment is located a 5 min walk from the beach, and around a 25 min walk along the beach from Montanita. Manglaralto is a very small town, only 5 mins away by taxi from Montanita, which makes it the perfect place to stay if you don't like the hustle and bustle of Montanita, but still crave good food and drinks. Gijs and Liliana were absolutely amazing. They helped us without hesitation, always with a smile. They did more than was expected of them, and they are just generally very nice people. I look forward to our next visit to Manglaralto and to Gijs &amp; Liliana's place. Thanks guys!</td>\n",
              "    </tr>\n",
              "    <tr>\n",
              "      <th>349</th>\n",
              "      <td>6</td>\n",
              "      <td>Bastante confortable para ir en pareja</td>\n",
              "      <td>5</td>\n",
              "      <td>Quite comfortable to go as a couple</td>\n",
              "    </tr>\n",
              "  </tbody>\n",
              "</table>\n",
              "</div>\n",
              "    <div class=\"colab-df-buttons\">\n",
              "\n",
              "  <div class=\"colab-df-container\">\n",
              "    <button class=\"colab-df-convert\" onclick=\"convertToInteractive('df-7a5177a1-e637-4648-92a5-95cdefd8959e')\"\n",
              "            title=\"Convert this dataframe to an interactive table.\"\n",
              "            style=\"display:none;\">\n",
              "\n",
              "  <svg xmlns=\"http://www.w3.org/2000/svg\" height=\"24px\" viewBox=\"0 -960 960 960\">\n",
              "    <path d=\"M120-120v-720h720v720H120Zm60-500h600v-160H180v160Zm220 220h160v-160H400v160Zm0 220h160v-160H400v160ZM180-400h160v-160H180v160Zm440 0h160v-160H620v160ZM180-180h160v-160H180v160Zm440 0h160v-160H620v160Z\"/>\n",
              "  </svg>\n",
              "    </button>\n",
              "\n",
              "  <style>\n",
              "    .colab-df-container {\n",
              "      display:flex;\n",
              "      gap: 12px;\n",
              "    }\n",
              "\n",
              "    .colab-df-convert {\n",
              "      background-color: #E8F0FE;\n",
              "      border: none;\n",
              "      border-radius: 50%;\n",
              "      cursor: pointer;\n",
              "      display: none;\n",
              "      fill: #1967D2;\n",
              "      height: 32px;\n",
              "      padding: 0 0 0 0;\n",
              "      width: 32px;\n",
              "    }\n",
              "\n",
              "    .colab-df-convert:hover {\n",
              "      background-color: #E2EBFA;\n",
              "      box-shadow: 0px 1px 2px rgba(60, 64, 67, 0.3), 0px 1px 3px 1px rgba(60, 64, 67, 0.15);\n",
              "      fill: #174EA6;\n",
              "    }\n",
              "\n",
              "    .colab-df-buttons div {\n",
              "      margin-bottom: 4px;\n",
              "    }\n",
              "\n",
              "    [theme=dark] .colab-df-convert {\n",
              "      background-color: #3B4455;\n",
              "      fill: #D2E3FC;\n",
              "    }\n",
              "\n",
              "    [theme=dark] .colab-df-convert:hover {\n",
              "      background-color: #434B5C;\n",
              "      box-shadow: 0px 1px 3px 1px rgba(0, 0, 0, 0.15);\n",
              "      filter: drop-shadow(0px 1px 2px rgba(0, 0, 0, 0.3));\n",
              "      fill: #FFFFFF;\n",
              "    }\n",
              "  </style>\n",
              "\n",
              "    <script>\n",
              "      const buttonEl =\n",
              "        document.querySelector('#df-7a5177a1-e637-4648-92a5-95cdefd8959e button.colab-df-convert');\n",
              "      buttonEl.style.display =\n",
              "        google.colab.kernel.accessAllowed ? 'block' : 'none';\n",
              "\n",
              "      async function convertToInteractive(key) {\n",
              "        const element = document.querySelector('#df-7a5177a1-e637-4648-92a5-95cdefd8959e');\n",
              "        const dataTable =\n",
              "          await google.colab.kernel.invokeFunction('convertToInteractive',\n",
              "                                                    [key], {});\n",
              "        if (!dataTable) return;\n",
              "\n",
              "        const docLinkHtml = 'Like what you see? Visit the ' +\n",
              "          '<a target=\"_blank\" href=https://colab.research.google.com/notebooks/data_table.ipynb>data table notebook</a>'\n",
              "          + ' to learn more about interactive tables.';\n",
              "        element.innerHTML = '';\n",
              "        dataTable['output_type'] = 'display_data';\n",
              "        await google.colab.output.renderOutput(dataTable, element);\n",
              "        const docLink = document.createElement('div');\n",
              "        docLink.innerHTML = docLinkHtml;\n",
              "        element.appendChild(docLink);\n",
              "      }\n",
              "    </script>\n",
              "  </div>\n",
              "\n",
              "\n",
              "<div id=\"df-6f7d48b3-3021-4e5b-9828-1fb8b34f6eb3\">\n",
              "  <button class=\"colab-df-quickchart\" onclick=\"quickchart('df-6f7d48b3-3021-4e5b-9828-1fb8b34f6eb3')\"\n",
              "            title=\"Suggest charts\"\n",
              "            style=\"display:none;\">\n",
              "\n",
              "<svg xmlns=\"http://www.w3.org/2000/svg\" height=\"24px\"viewBox=\"0 0 24 24\"\n",
              "     width=\"24px\">\n",
              "    <g>\n",
              "        <path d=\"M19 3H5c-1.1 0-2 .9-2 2v14c0 1.1.9 2 2 2h14c1.1 0 2-.9 2-2V5c0-1.1-.9-2-2-2zM9 17H7v-7h2v7zm4 0h-2V7h2v10zm4 0h-2v-4h2v4z\"/>\n",
              "    </g>\n",
              "</svg>\n",
              "  </button>\n",
              "\n",
              "<style>\n",
              "  .colab-df-quickchart {\n",
              "      --bg-color: #E8F0FE;\n",
              "      --fill-color: #1967D2;\n",
              "      --hover-bg-color: #E2EBFA;\n",
              "      --hover-fill-color: #174EA6;\n",
              "      --disabled-fill-color: #AAA;\n",
              "      --disabled-bg-color: #DDD;\n",
              "  }\n",
              "\n",
              "  [theme=dark] .colab-df-quickchart {\n",
              "      --bg-color: #3B4455;\n",
              "      --fill-color: #D2E3FC;\n",
              "      --hover-bg-color: #434B5C;\n",
              "      --hover-fill-color: #FFFFFF;\n",
              "      --disabled-bg-color: #3B4455;\n",
              "      --disabled-fill-color: #666;\n",
              "  }\n",
              "\n",
              "  .colab-df-quickchart {\n",
              "    background-color: var(--bg-color);\n",
              "    border: none;\n",
              "    border-radius: 50%;\n",
              "    cursor: pointer;\n",
              "    display: none;\n",
              "    fill: var(--fill-color);\n",
              "    height: 32px;\n",
              "    padding: 0;\n",
              "    width: 32px;\n",
              "  }\n",
              "\n",
              "  .colab-df-quickchart:hover {\n",
              "    background-color: var(--hover-bg-color);\n",
              "    box-shadow: 0 1px 2px rgba(60, 64, 67, 0.3), 0 1px 3px 1px rgba(60, 64, 67, 0.15);\n",
              "    fill: var(--button-hover-fill-color);\n",
              "  }\n",
              "\n",
              "  .colab-df-quickchart-complete:disabled,\n",
              "  .colab-df-quickchart-complete:disabled:hover {\n",
              "    background-color: var(--disabled-bg-color);\n",
              "    fill: var(--disabled-fill-color);\n",
              "    box-shadow: none;\n",
              "  }\n",
              "\n",
              "  .colab-df-spinner {\n",
              "    border: 2px solid var(--fill-color);\n",
              "    border-color: transparent;\n",
              "    border-bottom-color: var(--fill-color);\n",
              "    animation:\n",
              "      spin 1s steps(1) infinite;\n",
              "  }\n",
              "\n",
              "  @keyframes spin {\n",
              "    0% {\n",
              "      border-color: transparent;\n",
              "      border-bottom-color: var(--fill-color);\n",
              "      border-left-color: var(--fill-color);\n",
              "    }\n",
              "    20% {\n",
              "      border-color: transparent;\n",
              "      border-left-color: var(--fill-color);\n",
              "      border-top-color: var(--fill-color);\n",
              "    }\n",
              "    30% {\n",
              "      border-color: transparent;\n",
              "      border-left-color: var(--fill-color);\n",
              "      border-top-color: var(--fill-color);\n",
              "      border-right-color: var(--fill-color);\n",
              "    }\n",
              "    40% {\n",
              "      border-color: transparent;\n",
              "      border-right-color: var(--fill-color);\n",
              "      border-top-color: var(--fill-color);\n",
              "    }\n",
              "    60% {\n",
              "      border-color: transparent;\n",
              "      border-right-color: var(--fill-color);\n",
              "    }\n",
              "    80% {\n",
              "      border-color: transparent;\n",
              "      border-right-color: var(--fill-color);\n",
              "      border-bottom-color: var(--fill-color);\n",
              "    }\n",
              "    90% {\n",
              "      border-color: transparent;\n",
              "      border-bottom-color: var(--fill-color);\n",
              "    }\n",
              "  }\n",
              "</style>\n",
              "\n",
              "  <script>\n",
              "    async function quickchart(key) {\n",
              "      const quickchartButtonEl =\n",
              "        document.querySelector('#' + key + ' button');\n",
              "      quickchartButtonEl.disabled = true;  // To prevent multiple clicks.\n",
              "      quickchartButtonEl.classList.add('colab-df-spinner');\n",
              "      try {\n",
              "        const charts = await google.colab.kernel.invokeFunction(\n",
              "            'suggestCharts', [key], {});\n",
              "      } catch (error) {\n",
              "        console.error('Error during call to suggestCharts:', error);\n",
              "      }\n",
              "      quickchartButtonEl.classList.remove('colab-df-spinner');\n",
              "      quickchartButtonEl.classList.add('colab-df-quickchart-complete');\n",
              "    }\n",
              "    (() => {\n",
              "      let quickchartButtonEl =\n",
              "        document.querySelector('#df-6f7d48b3-3021-4e5b-9828-1fb8b34f6eb3 button');\n",
              "      quickchartButtonEl.style.display =\n",
              "        google.colab.kernel.accessAllowed ? 'block' : 'none';\n",
              "    })();\n",
              "  </script>\n",
              "</div>\n",
              "\n",
              "    </div>\n",
              "  </div>\n"
            ],
            "application/vnd.google.colaboratory.intrinsic+json": {
              "type": "dataframe",
              "summary": "{\n  \"name\": \"df_reviews\",\n  \"rows\": 10,\n  \"fields\": [\n    {\n      \"column\": \"id_alojamiento\",\n      \"properties\": {\n        \"dtype\": \"number\",\n        \"std\": 2,\n        \"min\": 2,\n        \"max\": 9,\n        \"num_unique_values\": 4,\n        \"samples\": [\n          2,\n          4,\n          6\n        ],\n        \"semantic_type\": \"\",\n        \"description\": \"\"\n      }\n    },\n    {\n      \"column\": \"review\",\n      \"properties\": {\n        \"dtype\": \"string\",\n        \"num_unique_values\": 10,\n        \"samples\": [\n          \"What a beautiful place, tucked away in the quiet town of Manglaralto. We arrived around 4 pm, and even though our hosts weren't there (cause they were at work), everything was well prepared for our arrival. The keys were available and the apartment was clean and everything well in its place. The apartment is spacious with all of the amenities and utensils you may require to make your stay as pleasant as possible. The apartment is located a 5 min walk from the beach, and around a 25 min walk along the beach from Montanita. Manglaralto is a very small town, only 5 mins away by taxi from Montanita, which makes it the perfect place to stay if you don't like the hustle and bustle of Montanita, but still crave good food and drinks. Gijs and Liliana were absolutely amazing. They helped us without hesitation, always with a smile. They did more than was expected of them, and they are just generally very nice people. I look forward to our next visit to Manglaralto and to Gijs & Liliana's place. Thanks guys!\",\n          \"Excelente lugar, buen estilo y completo. El espacio es peque\\u00f1o pero suficiente para un viaje en solitario o pareja. Buena comunicaci\\u00f3n y ubicaci\\u00f3n\",\n          \"Todo muy bien\"\n        ],\n        \"semantic_type\": \"\",\n        \"description\": \"\"\n      }\n    },\n    {\n      \"column\": \"stars\",\n      \"properties\": {\n        \"dtype\": \"number\",\n        \"std\": 0,\n        \"min\": 3,\n        \"max\": 5,\n        \"num_unique_values\": 3,\n        \"samples\": [\n          5,\n          4,\n          3\n        ],\n        \"semantic_type\": \"\",\n        \"description\": \"\"\n      }\n    },\n    {\n      \"column\": \"texto_traducido\",\n      \"properties\": {\n        \"dtype\": \"string\",\n        \"num_unique_values\": 10,\n        \"samples\": [\n          \"What a beautiful place, tucked away in the quiet town of Manglaralto. We arrived around 4 pm, and even though our hosts weren't there (cause they were at work), everything was well prepared for our arrival. The keys were available and the apartment was clean and everything well in its place. The apartment is spacious with all of the amenities and utensils you may require to make your stay as pleasant as possible. The apartment is located a 5 min walk from the beach, and around a 25 min walk along the beach from Montanita. Manglaralto is a very small town, only 5 mins away by taxi from Montanita, which makes it the perfect place to stay if you don't like the hustle and bustle of Montanita, but still crave good food and drinks. Gijs and Liliana were absolutely amazing. They helped us without hesitation, always with a smile. They did more than was expected of them, and they are just generally very nice people. I look forward to our next visit to Manglaralto and to Gijs & Liliana's place. Thanks guys!\",\n          \"Excellent place, good style and complete. The space is small but enough for a solo or couple trip. Good communication and location\",\n          \"All very well\"\n        ],\n        \"semantic_type\": \"\",\n        \"description\": \"\"\n      }\n    }\n  ]\n}"
            }
          },
          "metadata": {},
          "execution_count": 26
        }
      ],
      "source": [
        "df_reviews.sample(10)"
      ]
    },
    {
      "cell_type": "markdown",
      "metadata": {
        "id": "O1RvkDM8Ni8z"
      },
      "source": [
        "# Preparation of data for Sentiment Analysis"
      ]
    },
    {
      "cell_type": "markdown",
      "metadata": {
        "id": "qJrJ4N0cmG-w"
      },
      "source": [
        "## Removal of punctuation marks, articles and unnecessary words:"
      ]
    },
    {
      "cell_type": "markdown",
      "metadata": {
        "id": "lhqgP6K8OdVA"
      },
      "source": [
        "The **nltk** library is imported to detect and eliminate from the comments left by guests and previously translated into English, the articles, words and punctuation marks that will not be useful when performing the sentiment analysis, and is stored in a new column of the *DataFrame* called \"*text_without_stopwords*\"."
      ]
    },
    {
      "cell_type": "code",
      "execution_count": null,
      "metadata": {
        "colab": {
          "base_uri": "https://localhost:8080/"
        },
        "id": "gh3O-kOLNbWp",
        "outputId": "354753cb-6250-4f48-8192-db9433f67cc2"
      },
      "outputs": [
        {
          "output_type": "stream",
          "name": "stderr",
          "text": [
            "[nltk_data] Downloading package stopwords to /root/nltk_data...\n",
            "[nltk_data]   Unzipping corpora/stopwords.zip.\n",
            "[nltk_data] Downloading package punkt to /root/nltk_data...\n",
            "[nltk_data]   Unzipping tokenizers/punkt.zip.\n"
          ]
        }
      ],
      "source": [
        "import nltk\n",
        "from nltk.corpus import stopwords\n",
        "from nltk.tokenize import word_tokenize\n",
        "\n",
        "nltk.download('stopwords')\n",
        "nltk.download('punkt')\n",
        "\n",
        "\n",
        "def remove_stopwords(text):\n",
        "    stop_words = set(stopwords.words('english'))\n",
        "    words = word_tokenize(text)\n",
        "    filtered_words = [word for word in words if word.lower() not in stop_words]\n",
        "    return ' '.join(filtered_words)"
      ]
    },
    {
      "cell_type": "code",
      "execution_count": null,
      "metadata": {
        "id": "OYWOVxKrDSD7"
      },
      "outputs": [],
      "source": [
        "df_reviews[\"texto_sin_stopwords\"] = df_reviews[\"texto_traducido\"].apply(\n",
        "    lambda x: remove_stopwords(x)\n",
        ")"
      ]
    },
    {
      "cell_type": "markdown",
      "metadata": {
        "id": "ijEZSoWjUeZy"
      },
      "source": [
        "Regular expressions are also used to treat excess spaces as well as punctuation marks and unnecessary characters for sentiment analysis. In addition, the data is prepared for the processing of emojis."
      ]
    },
    {
      "cell_type": "code",
      "execution_count": null,
      "metadata": {
        "id": "GTxM88X-PkoA"
      },
      "outputs": [],
      "source": [
        "import re\n",
        "\n",
        "\n",
        "def extract_non_letters(texto):\n",
        "    return list(set(re.sub('[a-zA-Z0-9]', '', texto)))"
      ]
    },
    {
      "cell_type": "code",
      "execution_count": null,
      "metadata": {
        "id": "-WTIELMnQyCI"
      },
      "outputs": [],
      "source": [
        "df_reviews[\"no_text\"] = df_reviews[\"texto_sin_stopwords\"].apply(\n",
        "    lambda x: extract_non_letters(x)\n",
        ")"
      ]
    },
    {
      "cell_type": "code",
      "execution_count": null,
      "metadata": {
        "id": "IWZbpA-nRdfE"
      },
      "outputs": [],
      "source": [
        "non_text_chars = list(set(df_reviews[\"no_text\"].sum()))\n",
        "non_text_chars.remove(\" \")\n",
        "df_reviews.drop([\"no_text\"], axis=1, inplace=True)"
      ]
    },
    {
      "cell_type": "markdown",
      "metadata": {
        "id": "CBCtwOAZVjbu"
      },
      "source": [
        "## Emoji treatment"
      ]
    },
    {
      "cell_type": "markdown",
      "metadata": {
        "id": "0T-ETL0dVop9"
      },
      "source": [
        "list of all the emojis present in the reviews given by guests is extracted from the previously defined variable \"*non_text_chars*\". Additionally, an English word is assigned to give an appropriate interpretation to each of these. Finally, emojis are replaced with their word equivalents."
      ]
    },
    {
      "cell_type": "code",
      "execution_count": null,
      "metadata": {
        "id": "kq8w_qLmfT5b"
      },
      "outputs": [],
      "source": [
        "import emoji\n",
        "\n",
        "emojis_list = [i for i in non_text_chars if emoji.is_emoji(i)]\n",
        "emojis_dict = {\n",
        "    '✨': 'sparkling',\n",
        "    '🙃': 'sarcastic',\n",
        "    '💖': 'beautiful',\n",
        "    '😔': 'sad',\n",
        "    '🙌': 'celebration',\n",
        "    '😘': 'affectionate',\n",
        "    '⭐': 'star',\n",
        "    '👏': 'applause',\n",
        "    '💕': 'affectionate',\n",
        "    '😊': 'happy',\n",
        "    '😍': 'admiration',\n",
        "    '💓': 'emotion',\n",
        "    '❣': 'emotion',\n",
        "    '💜': 'affection',\n",
        "    '🙈': 'playful',\n",
        "    '🤗': 'friendly',\n",
        "    '👌': 'approval',\n",
        "    '🏻': '',\n",
        "    '🍻': 'celebration',\n",
        "    '🌞': 'cheerful',\n",
        "    '❤': 'love',\n",
        "    '♥': 'love',\n",
        "    '💯': 'perfect',\n",
        "    '👍': 'approval'\n",
        "}"
      ]
    },
    {
      "cell_type": "code",
      "execution_count": null,
      "metadata": {
        "id": "9HXbikjocR2b"
      },
      "outputs": [],
      "source": [
        "non_emoji_chars = [i for i in non_text_chars if not emoji.is_emoji(i)]"
      ]
    },
    {
      "cell_type": "code",
      "execution_count": null,
      "metadata": {
        "id": "cgyxyeRUeJEM"
      },
      "outputs": [],
      "source": [
        "def remove_symbols(text):\n",
        "    for char in non_emoji_chars:\n",
        "        text = text.replace(char, \"\")\n",
        "    return text"
      ]
    },
    {
      "cell_type": "code",
      "execution_count": null,
      "metadata": {
        "id": "ZQYaRkF9RnDL"
      },
      "outputs": [],
      "source": [
        "df_reviews[\"texto_sin_stopwords\"] = df_reviews[\"texto_sin_stopwords\"].apply(\n",
        "    lambda x: remove_symbols(x)\n",
        ")"
      ]
    },
    {
      "cell_type": "code",
      "execution_count": null,
      "metadata": {
        "id": "Ahnulm67Ga1a"
      },
      "outputs": [],
      "source": [
        "df_reviews[\"texto_sin_stopwords\"] = df_reviews[\"texto_sin_stopwords\"].apply(\n",
        "    lambda x: \" \".join(x.split())\n",
        ")"
      ]
    },
    {
      "cell_type": "markdown",
      "metadata": {
        "id": "lAMw2Eqgq_4H"
      },
      "source": [
        "A function is defined to replace emojis with their word equivalents."
      ]
    },
    {
      "cell_type": "code",
      "execution_count": null,
      "metadata": {
        "id": "ywZHtL7sE9NJ"
      },
      "outputs": [],
      "source": [
        "def replace_emojis(text):\n",
        "    for (key, value) in emojis_dict.items():\n",
        "        text = text.replace(key, f\" {value} \")\n",
        "    return text"
      ]
    },
    {
      "cell_type": "code",
      "execution_count": null,
      "metadata": {
        "id": "_AD6h-7MfXs7"
      },
      "outputs": [],
      "source": [
        "df_reviews[\"texto_sin_emojis\"] = df_reviews[\"texto_sin_stopwords\"].apply(\n",
        "    lambda x: replace_emojis(x)\n",
        ")\n",
        "df_reviews[\"texto_sin_emojis\"] = df_reviews[\"texto_sin_emojis\"].apply(\n",
        "    lambda x: \" \".join(x.split())\n",
        ")"
      ]
    },
    {
      "cell_type": "markdown",
      "metadata": {
        "id": "RitrynCsnqzj"
      },
      "source": [
        "Two comments containing emojis are verified to show that the removal of *stopwords* and the replacement of emojis with ***equivalent words*** was done correctly, and finally this version of the *DataFrame* clean of emojis is saved in a file of Microsoft Excel."
      ]
    },
    {
      "cell_type": "code",
      "execution_count": null,
      "metadata": {
        "colab": {
          "base_uri": "https://localhost:8080/",
          "height": 129
        },
        "id": "QzTlA1c4iNCZ",
        "outputId": "55c22f6f-93dd-4e5e-df1f-ef1b64fc84c6"
      },
      "outputs": [
        {
          "output_type": "execute_result",
          "data": {
            "text/plain": [
              "                                                 texto_traducido  \\\n",
              "76                       Everything is very nice, safe and cozy😊   \n",
              "263  A quiet place with a good location. They are pet friendly 😊   \n",
              "\n",
              "                          texto_sin_stopwords  \\\n",
              "76                 Everything nice safe cozy😊   \n",
              "263  quiet place good location pet friendly 😊   \n",
              "\n",
              "                                 texto_sin_emojis  \n",
              "76                Everything nice safe cozy happy  \n",
              "263  quiet place good location pet friendly happy  "
            ],
            "text/html": [
              "\n",
              "  <div id=\"df-d62ae798-1594-4484-9ced-4e91e14004d5\" class=\"colab-df-container\">\n",
              "    <div>\n",
              "<style scoped>\n",
              "    .dataframe tbody tr th:only-of-type {\n",
              "        vertical-align: middle;\n",
              "    }\n",
              "\n",
              "    .dataframe tbody tr th {\n",
              "        vertical-align: top;\n",
              "    }\n",
              "\n",
              "    .dataframe thead th {\n",
              "        text-align: right;\n",
              "    }\n",
              "</style>\n",
              "<table border=\"1\" class=\"dataframe\">\n",
              "  <thead>\n",
              "    <tr style=\"text-align: right;\">\n",
              "      <th></th>\n",
              "      <th>texto_traducido</th>\n",
              "      <th>texto_sin_stopwords</th>\n",
              "      <th>texto_sin_emojis</th>\n",
              "    </tr>\n",
              "  </thead>\n",
              "  <tbody>\n",
              "    <tr>\n",
              "      <th>76</th>\n",
              "      <td>Everything is very nice, safe and cozy😊</td>\n",
              "      <td>Everything nice safe cozy😊</td>\n",
              "      <td>Everything nice safe cozy happy</td>\n",
              "    </tr>\n",
              "    <tr>\n",
              "      <th>263</th>\n",
              "      <td>A quiet place with a good location. They are pet friendly 😊</td>\n",
              "      <td>quiet place good location pet friendly 😊</td>\n",
              "      <td>quiet place good location pet friendly happy</td>\n",
              "    </tr>\n",
              "  </tbody>\n",
              "</table>\n",
              "</div>\n",
              "    <div class=\"colab-df-buttons\">\n",
              "\n",
              "  <div class=\"colab-df-container\">\n",
              "    <button class=\"colab-df-convert\" onclick=\"convertToInteractive('df-d62ae798-1594-4484-9ced-4e91e14004d5')\"\n",
              "            title=\"Convert this dataframe to an interactive table.\"\n",
              "            style=\"display:none;\">\n",
              "\n",
              "  <svg xmlns=\"http://www.w3.org/2000/svg\" height=\"24px\" viewBox=\"0 -960 960 960\">\n",
              "    <path d=\"M120-120v-720h720v720H120Zm60-500h600v-160H180v160Zm220 220h160v-160H400v160Zm0 220h160v-160H400v160ZM180-400h160v-160H180v160Zm440 0h160v-160H620v160ZM180-180h160v-160H180v160Zm440 0h160v-160H620v160Z\"/>\n",
              "  </svg>\n",
              "    </button>\n",
              "\n",
              "  <style>\n",
              "    .colab-df-container {\n",
              "      display:flex;\n",
              "      gap: 12px;\n",
              "    }\n",
              "\n",
              "    .colab-df-convert {\n",
              "      background-color: #E8F0FE;\n",
              "      border: none;\n",
              "      border-radius: 50%;\n",
              "      cursor: pointer;\n",
              "      display: none;\n",
              "      fill: #1967D2;\n",
              "      height: 32px;\n",
              "      padding: 0 0 0 0;\n",
              "      width: 32px;\n",
              "    }\n",
              "\n",
              "    .colab-df-convert:hover {\n",
              "      background-color: #E2EBFA;\n",
              "      box-shadow: 0px 1px 2px rgba(60, 64, 67, 0.3), 0px 1px 3px 1px rgba(60, 64, 67, 0.15);\n",
              "      fill: #174EA6;\n",
              "    }\n",
              "\n",
              "    .colab-df-buttons div {\n",
              "      margin-bottom: 4px;\n",
              "    }\n",
              "\n",
              "    [theme=dark] .colab-df-convert {\n",
              "      background-color: #3B4455;\n",
              "      fill: #D2E3FC;\n",
              "    }\n",
              "\n",
              "    [theme=dark] .colab-df-convert:hover {\n",
              "      background-color: #434B5C;\n",
              "      box-shadow: 0px 1px 3px 1px rgba(0, 0, 0, 0.15);\n",
              "      filter: drop-shadow(0px 1px 2px rgba(0, 0, 0, 0.3));\n",
              "      fill: #FFFFFF;\n",
              "    }\n",
              "  </style>\n",
              "\n",
              "    <script>\n",
              "      const buttonEl =\n",
              "        document.querySelector('#df-d62ae798-1594-4484-9ced-4e91e14004d5 button.colab-df-convert');\n",
              "      buttonEl.style.display =\n",
              "        google.colab.kernel.accessAllowed ? 'block' : 'none';\n",
              "\n",
              "      async function convertToInteractive(key) {\n",
              "        const element = document.querySelector('#df-d62ae798-1594-4484-9ced-4e91e14004d5');\n",
              "        const dataTable =\n",
              "          await google.colab.kernel.invokeFunction('convertToInteractive',\n",
              "                                                    [key], {});\n",
              "        if (!dataTable) return;\n",
              "\n",
              "        const docLinkHtml = 'Like what you see? Visit the ' +\n",
              "          '<a target=\"_blank\" href=https://colab.research.google.com/notebooks/data_table.ipynb>data table notebook</a>'\n",
              "          + ' to learn more about interactive tables.';\n",
              "        element.innerHTML = '';\n",
              "        dataTable['output_type'] = 'display_data';\n",
              "        await google.colab.output.renderOutput(dataTable, element);\n",
              "        const docLink = document.createElement('div');\n",
              "        docLink.innerHTML = docLinkHtml;\n",
              "        element.appendChild(docLink);\n",
              "      }\n",
              "    </script>\n",
              "  </div>\n",
              "\n",
              "\n",
              "<div id=\"df-413d2d58-03e4-468c-97cf-8f9d829e9e4d\">\n",
              "  <button class=\"colab-df-quickchart\" onclick=\"quickchart('df-413d2d58-03e4-468c-97cf-8f9d829e9e4d')\"\n",
              "            title=\"Suggest charts\"\n",
              "            style=\"display:none;\">\n",
              "\n",
              "<svg xmlns=\"http://www.w3.org/2000/svg\" height=\"24px\"viewBox=\"0 0 24 24\"\n",
              "     width=\"24px\">\n",
              "    <g>\n",
              "        <path d=\"M19 3H5c-1.1 0-2 .9-2 2v14c0 1.1.9 2 2 2h14c1.1 0 2-.9 2-2V5c0-1.1-.9-2-2-2zM9 17H7v-7h2v7zm4 0h-2V7h2v10zm4 0h-2v-4h2v4z\"/>\n",
              "    </g>\n",
              "</svg>\n",
              "  </button>\n",
              "\n",
              "<style>\n",
              "  .colab-df-quickchart {\n",
              "      --bg-color: #E8F0FE;\n",
              "      --fill-color: #1967D2;\n",
              "      --hover-bg-color: #E2EBFA;\n",
              "      --hover-fill-color: #174EA6;\n",
              "      --disabled-fill-color: #AAA;\n",
              "      --disabled-bg-color: #DDD;\n",
              "  }\n",
              "\n",
              "  [theme=dark] .colab-df-quickchart {\n",
              "      --bg-color: #3B4455;\n",
              "      --fill-color: #D2E3FC;\n",
              "      --hover-bg-color: #434B5C;\n",
              "      --hover-fill-color: #FFFFFF;\n",
              "      --disabled-bg-color: #3B4455;\n",
              "      --disabled-fill-color: #666;\n",
              "  }\n",
              "\n",
              "  .colab-df-quickchart {\n",
              "    background-color: var(--bg-color);\n",
              "    border: none;\n",
              "    border-radius: 50%;\n",
              "    cursor: pointer;\n",
              "    display: none;\n",
              "    fill: var(--fill-color);\n",
              "    height: 32px;\n",
              "    padding: 0;\n",
              "    width: 32px;\n",
              "  }\n",
              "\n",
              "  .colab-df-quickchart:hover {\n",
              "    background-color: var(--hover-bg-color);\n",
              "    box-shadow: 0 1px 2px rgba(60, 64, 67, 0.3), 0 1px 3px 1px rgba(60, 64, 67, 0.15);\n",
              "    fill: var(--button-hover-fill-color);\n",
              "  }\n",
              "\n",
              "  .colab-df-quickchart-complete:disabled,\n",
              "  .colab-df-quickchart-complete:disabled:hover {\n",
              "    background-color: var(--disabled-bg-color);\n",
              "    fill: var(--disabled-fill-color);\n",
              "    box-shadow: none;\n",
              "  }\n",
              "\n",
              "  .colab-df-spinner {\n",
              "    border: 2px solid var(--fill-color);\n",
              "    border-color: transparent;\n",
              "    border-bottom-color: var(--fill-color);\n",
              "    animation:\n",
              "      spin 1s steps(1) infinite;\n",
              "  }\n",
              "\n",
              "  @keyframes spin {\n",
              "    0% {\n",
              "      border-color: transparent;\n",
              "      border-bottom-color: var(--fill-color);\n",
              "      border-left-color: var(--fill-color);\n",
              "    }\n",
              "    20% {\n",
              "      border-color: transparent;\n",
              "      border-left-color: var(--fill-color);\n",
              "      border-top-color: var(--fill-color);\n",
              "    }\n",
              "    30% {\n",
              "      border-color: transparent;\n",
              "      border-left-color: var(--fill-color);\n",
              "      border-top-color: var(--fill-color);\n",
              "      border-right-color: var(--fill-color);\n",
              "    }\n",
              "    40% {\n",
              "      border-color: transparent;\n",
              "      border-right-color: var(--fill-color);\n",
              "      border-top-color: var(--fill-color);\n",
              "    }\n",
              "    60% {\n",
              "      border-color: transparent;\n",
              "      border-right-color: var(--fill-color);\n",
              "    }\n",
              "    80% {\n",
              "      border-color: transparent;\n",
              "      border-right-color: var(--fill-color);\n",
              "      border-bottom-color: var(--fill-color);\n",
              "    }\n",
              "    90% {\n",
              "      border-color: transparent;\n",
              "      border-bottom-color: var(--fill-color);\n",
              "    }\n",
              "  }\n",
              "</style>\n",
              "\n",
              "  <script>\n",
              "    async function quickchart(key) {\n",
              "      const quickchartButtonEl =\n",
              "        document.querySelector('#' + key + ' button');\n",
              "      quickchartButtonEl.disabled = true;  // To prevent multiple clicks.\n",
              "      quickchartButtonEl.classList.add('colab-df-spinner');\n",
              "      try {\n",
              "        const charts = await google.colab.kernel.invokeFunction(\n",
              "            'suggestCharts', [key], {});\n",
              "      } catch (error) {\n",
              "        console.error('Error during call to suggestCharts:', error);\n",
              "      }\n",
              "      quickchartButtonEl.classList.remove('colab-df-spinner');\n",
              "      quickchartButtonEl.classList.add('colab-df-quickchart-complete');\n",
              "    }\n",
              "    (() => {\n",
              "      let quickchartButtonEl =\n",
              "        document.querySelector('#df-413d2d58-03e4-468c-97cf-8f9d829e9e4d button');\n",
              "      quickchartButtonEl.style.display =\n",
              "        google.colab.kernel.accessAllowed ? 'block' : 'none';\n",
              "    })();\n",
              "  </script>\n",
              "</div>\n",
              "\n",
              "    </div>\n",
              "  </div>\n"
            ],
            "application/vnd.google.colaboratory.intrinsic+json": {
              "type": "dataframe",
              "summary": "{\n  \"name\": \"    \",\n  \"rows\": 2,\n  \"fields\": [\n    {\n      \"column\": \"texto_traducido\",\n      \"properties\": {\n        \"dtype\": \"string\",\n        \"num_unique_values\": 2,\n        \"samples\": [\n          \"A quiet place with a good location. They are pet friendly \\ud83d\\ude0a\",\n          \"Everything is very nice, safe and cozy\\ud83d\\ude0a\"\n        ],\n        \"semantic_type\": \"\",\n        \"description\": \"\"\n      }\n    },\n    {\n      \"column\": \"texto_sin_stopwords\",\n      \"properties\": {\n        \"dtype\": \"string\",\n        \"num_unique_values\": 2,\n        \"samples\": [\n          \"quiet place good location pet friendly \\ud83d\\ude0a\",\n          \"Everything nice safe cozy\\ud83d\\ude0a\"\n        ],\n        \"semantic_type\": \"\",\n        \"description\": \"\"\n      }\n    },\n    {\n      \"column\": \"texto_sin_emojis\",\n      \"properties\": {\n        \"dtype\": \"string\",\n        \"num_unique_values\": 2,\n        \"samples\": [\n          \"quiet place good location pet friendly happy\",\n          \"Everything nice safe cozy happy\"\n        ],\n        \"semantic_type\": \"\",\n        \"description\": \"\"\n      }\n    }\n  ]\n}"
            }
          },
          "metadata": {},
          "execution_count": 39
        }
      ],
      "source": [
        "df_reviews[[\"texto_traducido\", \"texto_sin_stopwords\", \"texto_sin_emojis\"]] \\\n",
        "    .iloc[[76, 263], :]"
      ]
    },
    {
      "cell_type": "code",
      "execution_count": null,
      "metadata": {
        "id": "lFXWW4LhIdT9"
      },
      "outputs": [],
      "source": [
        "if not os.path.exists(\"processing/df_limpio_emojis.xlsx\"):\n",
        "    df_reviews.to_excel(\"processing/df_limpio_emojis.xlsx\")"
      ]
    },
    {
      "cell_type": "markdown",
      "metadata": {
        "id": "nfvtuYJqNvXt"
      },
      "source": [
        "# Sentiment Analysis"
      ]
    },
    {
      "cell_type": "markdown",
      "metadata": {
        "id": "3_w97GEvbdUf"
      },
      "source": [
        "Finally, a ***sentiment analysis*** is carried out on all the comments present, for which the ***nltk*** library is imported and the ***vader_lexicon*** component is used for the polarity analysis in each of the comments. First, a function is defined that classifies the comments based on their polarity into the categories of **Positive**, **Negative** or **Neutral**, and the results are sent using a *lambda* function. to a new column of the Pandas ***DataFrame***."
      ]
    },
    {
      "cell_type": "code",
      "execution_count": null,
      "metadata": {
        "colab": {
          "base_uri": "https://localhost:8080/"
        },
        "id": "OxNo0rfZIzaY",
        "outputId": "d6dbcf3a-39c9-49b8-8987-fc1b916a602a"
      },
      "outputs": [
        {
          "output_type": "stream",
          "name": "stderr",
          "text": [
            "[nltk_data] Downloading package vader_lexicon to /root/nltk_data...\n"
          ]
        }
      ],
      "source": [
        "import nltk\n",
        "from nltk.sentiment.vader import SentimentIntensityAnalyzer\n",
        "\n",
        "nltk.download('vader_lexicon')\n",
        "\n",
        "sia = SentimentIntensityAnalyzer()\n",
        "\n",
        "def classify_comment(comentario):\n",
        "    polarity = sia.polarity_scores(comentario)['compound']\n",
        "    if polarity > 0.05:\n",
        "        return \"Positivo\"\n",
        "    elif polarity < -0.05:\n",
        "        return \"Negativo\"\n",
        "    else:\n",
        "        return \"Neutral\""
      ]
    },
    {
      "cell_type": "code",
      "execution_count": null,
      "metadata": {
        "id": "AunZxW0Jfzgn"
      },
      "outputs": [],
      "source": [
        "df_reviews[\"Sentimiento\"] = df_reviews[\"texto_sin_emojis\"].apply(\n",
        "    lambda x: classify_comment(x)\n",
        ")"
      ]
    },
    {
      "cell_type": "markdown",
      "metadata": {
        "id": "wMqiPszR-obE"
      },
      "source": [
        "Sample of the columns corresponding to the ***comments translated into English*** and the ***feelings detected***."
      ]
    },
    {
      "cell_type": "code",
      "execution_count": null,
      "metadata": {
        "colab": {
          "base_uri": "https://localhost:8080/",
          "height": 178
        },
        "id": "EmkHJkDmAwig",
        "outputId": "83aea488-a254-4146-a312-8367dc602a0c"
      },
      "outputs": [
        {
          "output_type": "execute_result",
          "data": {
            "text/plain": [
              "                                                                                                                                                                                                                                          texto_sin_emojis  \\\n",
              "371  1 Bed bugs stayed based bites got face neck arm bed bug bites certain look different mosquito bites reason canceled 2nd planned stay reorganize trip additional expense host Gabe different sheets brought remove bed bugs Maybe future resolve issue   \n",
              "53                                                                                                                                                                                                                                cozy place good location   \n",
              "566                                                                                                                                                                                                                                        Great apt hosts   \n",
              "\n",
              "    Sentimiento  \n",
              "371    Positivo  \n",
              "53     Positivo  \n",
              "566    Positivo  "
            ],
            "text/html": [
              "\n",
              "  <div id=\"df-0a7f4316-6606-4eee-a56c-add4ce016e64\" class=\"colab-df-container\">\n",
              "    <div>\n",
              "<style scoped>\n",
              "    .dataframe tbody tr th:only-of-type {\n",
              "        vertical-align: middle;\n",
              "    }\n",
              "\n",
              "    .dataframe tbody tr th {\n",
              "        vertical-align: top;\n",
              "    }\n",
              "\n",
              "    .dataframe thead th {\n",
              "        text-align: right;\n",
              "    }\n",
              "</style>\n",
              "<table border=\"1\" class=\"dataframe\">\n",
              "  <thead>\n",
              "    <tr style=\"text-align: right;\">\n",
              "      <th></th>\n",
              "      <th>texto_sin_emojis</th>\n",
              "      <th>Sentimiento</th>\n",
              "    </tr>\n",
              "  </thead>\n",
              "  <tbody>\n",
              "    <tr>\n",
              "      <th>371</th>\n",
              "      <td>1 Bed bugs stayed based bites got face neck arm bed bug bites certain look different mosquito bites reason canceled 2nd planned stay reorganize trip additional expense host Gabe different sheets brought remove bed bugs Maybe future resolve issue</td>\n",
              "      <td>Positivo</td>\n",
              "    </tr>\n",
              "    <tr>\n",
              "      <th>53</th>\n",
              "      <td>cozy place good location</td>\n",
              "      <td>Positivo</td>\n",
              "    </tr>\n",
              "    <tr>\n",
              "      <th>566</th>\n",
              "      <td>Great apt hosts</td>\n",
              "      <td>Positivo</td>\n",
              "    </tr>\n",
              "  </tbody>\n",
              "</table>\n",
              "</div>\n",
              "    <div class=\"colab-df-buttons\">\n",
              "\n",
              "  <div class=\"colab-df-container\">\n",
              "    <button class=\"colab-df-convert\" onclick=\"convertToInteractive('df-0a7f4316-6606-4eee-a56c-add4ce016e64')\"\n",
              "            title=\"Convert this dataframe to an interactive table.\"\n",
              "            style=\"display:none;\">\n",
              "\n",
              "  <svg xmlns=\"http://www.w3.org/2000/svg\" height=\"24px\" viewBox=\"0 -960 960 960\">\n",
              "    <path d=\"M120-120v-720h720v720H120Zm60-500h600v-160H180v160Zm220 220h160v-160H400v160Zm0 220h160v-160H400v160ZM180-400h160v-160H180v160Zm440 0h160v-160H620v160ZM180-180h160v-160H180v160Zm440 0h160v-160H620v160Z\"/>\n",
              "  </svg>\n",
              "    </button>\n",
              "\n",
              "  <style>\n",
              "    .colab-df-container {\n",
              "      display:flex;\n",
              "      gap: 12px;\n",
              "    }\n",
              "\n",
              "    .colab-df-convert {\n",
              "      background-color: #E8F0FE;\n",
              "      border: none;\n",
              "      border-radius: 50%;\n",
              "      cursor: pointer;\n",
              "      display: none;\n",
              "      fill: #1967D2;\n",
              "      height: 32px;\n",
              "      padding: 0 0 0 0;\n",
              "      width: 32px;\n",
              "    }\n",
              "\n",
              "    .colab-df-convert:hover {\n",
              "      background-color: #E2EBFA;\n",
              "      box-shadow: 0px 1px 2px rgba(60, 64, 67, 0.3), 0px 1px 3px 1px rgba(60, 64, 67, 0.15);\n",
              "      fill: #174EA6;\n",
              "    }\n",
              "\n",
              "    .colab-df-buttons div {\n",
              "      margin-bottom: 4px;\n",
              "    }\n",
              "\n",
              "    [theme=dark] .colab-df-convert {\n",
              "      background-color: #3B4455;\n",
              "      fill: #D2E3FC;\n",
              "    }\n",
              "\n",
              "    [theme=dark] .colab-df-convert:hover {\n",
              "      background-color: #434B5C;\n",
              "      box-shadow: 0px 1px 3px 1px rgba(0, 0, 0, 0.15);\n",
              "      filter: drop-shadow(0px 1px 2px rgba(0, 0, 0, 0.3));\n",
              "      fill: #FFFFFF;\n",
              "    }\n",
              "  </style>\n",
              "\n",
              "    <script>\n",
              "      const buttonEl =\n",
              "        document.querySelector('#df-0a7f4316-6606-4eee-a56c-add4ce016e64 button.colab-df-convert');\n",
              "      buttonEl.style.display =\n",
              "        google.colab.kernel.accessAllowed ? 'block' : 'none';\n",
              "\n",
              "      async function convertToInteractive(key) {\n",
              "        const element = document.querySelector('#df-0a7f4316-6606-4eee-a56c-add4ce016e64');\n",
              "        const dataTable =\n",
              "          await google.colab.kernel.invokeFunction('convertToInteractive',\n",
              "                                                    [key], {});\n",
              "        if (!dataTable) return;\n",
              "\n",
              "        const docLinkHtml = 'Like what you see? Visit the ' +\n",
              "          '<a target=\"_blank\" href=https://colab.research.google.com/notebooks/data_table.ipynb>data table notebook</a>'\n",
              "          + ' to learn more about interactive tables.';\n",
              "        element.innerHTML = '';\n",
              "        dataTable['output_type'] = 'display_data';\n",
              "        await google.colab.output.renderOutput(dataTable, element);\n",
              "        const docLink = document.createElement('div');\n",
              "        docLink.innerHTML = docLinkHtml;\n",
              "        element.appendChild(docLink);\n",
              "      }\n",
              "    </script>\n",
              "  </div>\n",
              "\n",
              "\n",
              "<div id=\"df-7f0a0638-dc8a-414d-ab95-72a2d0d9ff2f\">\n",
              "  <button class=\"colab-df-quickchart\" onclick=\"quickchart('df-7f0a0638-dc8a-414d-ab95-72a2d0d9ff2f')\"\n",
              "            title=\"Suggest charts\"\n",
              "            style=\"display:none;\">\n",
              "\n",
              "<svg xmlns=\"http://www.w3.org/2000/svg\" height=\"24px\"viewBox=\"0 0 24 24\"\n",
              "     width=\"24px\">\n",
              "    <g>\n",
              "        <path d=\"M19 3H5c-1.1 0-2 .9-2 2v14c0 1.1.9 2 2 2h14c1.1 0 2-.9 2-2V5c0-1.1-.9-2-2-2zM9 17H7v-7h2v7zm4 0h-2V7h2v10zm4 0h-2v-4h2v4z\"/>\n",
              "    </g>\n",
              "</svg>\n",
              "  </button>\n",
              "\n",
              "<style>\n",
              "  .colab-df-quickchart {\n",
              "      --bg-color: #E8F0FE;\n",
              "      --fill-color: #1967D2;\n",
              "      --hover-bg-color: #E2EBFA;\n",
              "      --hover-fill-color: #174EA6;\n",
              "      --disabled-fill-color: #AAA;\n",
              "      --disabled-bg-color: #DDD;\n",
              "  }\n",
              "\n",
              "  [theme=dark] .colab-df-quickchart {\n",
              "      --bg-color: #3B4455;\n",
              "      --fill-color: #D2E3FC;\n",
              "      --hover-bg-color: #434B5C;\n",
              "      --hover-fill-color: #FFFFFF;\n",
              "      --disabled-bg-color: #3B4455;\n",
              "      --disabled-fill-color: #666;\n",
              "  }\n",
              "\n",
              "  .colab-df-quickchart {\n",
              "    background-color: var(--bg-color);\n",
              "    border: none;\n",
              "    border-radius: 50%;\n",
              "    cursor: pointer;\n",
              "    display: none;\n",
              "    fill: var(--fill-color);\n",
              "    height: 32px;\n",
              "    padding: 0;\n",
              "    width: 32px;\n",
              "  }\n",
              "\n",
              "  .colab-df-quickchart:hover {\n",
              "    background-color: var(--hover-bg-color);\n",
              "    box-shadow: 0 1px 2px rgba(60, 64, 67, 0.3), 0 1px 3px 1px rgba(60, 64, 67, 0.15);\n",
              "    fill: var(--button-hover-fill-color);\n",
              "  }\n",
              "\n",
              "  .colab-df-quickchart-complete:disabled,\n",
              "  .colab-df-quickchart-complete:disabled:hover {\n",
              "    background-color: var(--disabled-bg-color);\n",
              "    fill: var(--disabled-fill-color);\n",
              "    box-shadow: none;\n",
              "  }\n",
              "\n",
              "  .colab-df-spinner {\n",
              "    border: 2px solid var(--fill-color);\n",
              "    border-color: transparent;\n",
              "    border-bottom-color: var(--fill-color);\n",
              "    animation:\n",
              "      spin 1s steps(1) infinite;\n",
              "  }\n",
              "\n",
              "  @keyframes spin {\n",
              "    0% {\n",
              "      border-color: transparent;\n",
              "      border-bottom-color: var(--fill-color);\n",
              "      border-left-color: var(--fill-color);\n",
              "    }\n",
              "    20% {\n",
              "      border-color: transparent;\n",
              "      border-left-color: var(--fill-color);\n",
              "      border-top-color: var(--fill-color);\n",
              "    }\n",
              "    30% {\n",
              "      border-color: transparent;\n",
              "      border-left-color: var(--fill-color);\n",
              "      border-top-color: var(--fill-color);\n",
              "      border-right-color: var(--fill-color);\n",
              "    }\n",
              "    40% {\n",
              "      border-color: transparent;\n",
              "      border-right-color: var(--fill-color);\n",
              "      border-top-color: var(--fill-color);\n",
              "    }\n",
              "    60% {\n",
              "      border-color: transparent;\n",
              "      border-right-color: var(--fill-color);\n",
              "    }\n",
              "    80% {\n",
              "      border-color: transparent;\n",
              "      border-right-color: var(--fill-color);\n",
              "      border-bottom-color: var(--fill-color);\n",
              "    }\n",
              "    90% {\n",
              "      border-color: transparent;\n",
              "      border-bottom-color: var(--fill-color);\n",
              "    }\n",
              "  }\n",
              "</style>\n",
              "\n",
              "  <script>\n",
              "    async function quickchart(key) {\n",
              "      const quickchartButtonEl =\n",
              "        document.querySelector('#' + key + ' button');\n",
              "      quickchartButtonEl.disabled = true;  // To prevent multiple clicks.\n",
              "      quickchartButtonEl.classList.add('colab-df-spinner');\n",
              "      try {\n",
              "        const charts = await google.colab.kernel.invokeFunction(\n",
              "            'suggestCharts', [key], {});\n",
              "      } catch (error) {\n",
              "        console.error('Error during call to suggestCharts:', error);\n",
              "      }\n",
              "      quickchartButtonEl.classList.remove('colab-df-spinner');\n",
              "      quickchartButtonEl.classList.add('colab-df-quickchart-complete');\n",
              "    }\n",
              "    (() => {\n",
              "      let quickchartButtonEl =\n",
              "        document.querySelector('#df-7f0a0638-dc8a-414d-ab95-72a2d0d9ff2f button');\n",
              "      quickchartButtonEl.style.display =\n",
              "        google.colab.kernel.accessAllowed ? 'block' : 'none';\n",
              "    })();\n",
              "  </script>\n",
              "</div>\n",
              "\n",
              "    </div>\n",
              "  </div>\n"
            ],
            "application/vnd.google.colaboratory.intrinsic+json": {
              "type": "dataframe",
              "summary": "{\n  \"name\": \"df_reviews[[\\\"texto_sin_emojis\\\", \\\"Sentimiento\\\"]]\",\n  \"rows\": 3,\n  \"fields\": [\n    {\n      \"column\": \"texto_sin_emojis\",\n      \"properties\": {\n        \"dtype\": \"string\",\n        \"num_unique_values\": 3,\n        \"samples\": [\n          \"1 Bed bugs stayed based bites got face neck arm bed bug bites certain look different mosquito bites reason canceled 2nd planned stay reorganize trip additional expense host Gabe different sheets brought remove bed bugs Maybe future resolve issue\",\n          \"cozy place good location\",\n          \"Great apt hosts\"\n        ],\n        \"semantic_type\": \"\",\n        \"description\": \"\"\n      }\n    },\n    {\n      \"column\": \"Sentimiento\",\n      \"properties\": {\n        \"dtype\": \"category\",\n        \"num_unique_values\": 1,\n        \"samples\": [\n          \"Positivo\"\n        ],\n        \"semantic_type\": \"\",\n        \"description\": \"\"\n      }\n    }\n  ]\n}"
            }
          },
          "metadata": {},
          "execution_count": 43
        }
      ],
      "source": [
        "df_reviews[[\"texto_sin_emojis\", \"Sentimiento\"]].sample(3)"
      ]
    },
    {
      "cell_type": "markdown",
      "metadata": {
        "id": "bhwOma2h_Ilf"
      },
      "source": [
        "Additionally, the reviews are optionally translated into Spanish in order to perform a manual classification of the feelings that would be expected in each case."
      ]
    },
    {
      "cell_type": "code",
      "execution_count": null,
      "metadata": {
        "id": "kngjSQmp59Lb"
      },
      "outputs": [],
      "source": [
        "from google.cloud import translate_v2 as translate\n",
        "\n",
        "# Reading private key from Google Cloud Translate API\n",
        "client = translate.Client.from_service_account_json(\n",
        "    \"processing/private_key_translate.json\"\n",
        ")\n",
        "\n",
        "if not os.path.exists(\"translations/df_reviews_traducido_es.xlsx\"):\n",
        "    # Function to translate a text\n",
        "    def translate_text(text, target_language='es'):\n",
        "        result = client.translate(text, target_language=target_language)\n",
        "        return result['translatedText']\n",
        "\n",
        "    # Translation of text in the \"review\" column\n",
        "    df_reviews['texto_traducido_es'] = df_reviews[\"review\"].apply(\n",
        "        lambda x: translate_text(x, target_language=\"es\")\n",
        "    )\n",
        "\n",
        "    # Storing translated reviews for future use\n",
        "    df_reviews[[\n",
        "            \"id_alojamiento\", \"review\", \"texto_traducido\", \"stars\"\n",
        "        ]].to_excel(\n",
        "        \"translations/df_reviews_traducido_es.xlsx\", index=False\n",
        "    )\n",
        "\n",
        "else:\n",
        "    df_reviews['texto_traducido_es'] = pd.read_excel(\n",
        "        \"translations/df_reviews_traducido_es.xlsx\"\n",
        "    )[\"texto_traducido\"]"
      ]
    },
    {
      "cell_type": "code",
      "execution_count": null,
      "metadata": {
        "id": "bI_CG4YjA07w"
      },
      "outputs": [],
      "source": [
        "if not os.path.exists(\"output/sentimientos.xlsx\"):\n",
        "    df_reviews.to_excel(\"output/sentimientos.xlsx\", index= False)"
      ]
    },
    {
      "cell_type": "markdown",
      "metadata": {
        "id": "dq0sCL4B_rIn"
      },
      "source": [
        "Restored the maximum width of columns displayed in the ***PandasDataFrame*** for better visualization."
      ]
    },
    {
      "cell_type": "code",
      "execution_count": null,
      "metadata": {
        "id": "Z0YZJU61hPWT"
      },
      "outputs": [],
      "source": [
        "pd.set_option('display.max_colwidth', default_max_colwidth)"
      ]
    },
    {
      "cell_type": "markdown",
      "metadata": {
        "id": "ge9KU97u_8-e"
      },
      "source": [
        "The *'real'* polarity of the reviews is manually evaluated in order to create a confusion matrix and perform an analysis of the accuracy of this model. However, it is important to keep in mind that this analysis of the *'real'* polarity or validation data set is subject to the criteria of the person who performs it, which is why it cannot be considered at any time as a model. free of bias and interpretation."
      ]
    },
    {
      "cell_type": "code",
      "execution_count": null,
      "metadata": {
        "id": "2pql2waW6aSv"
      },
      "outputs": [],
      "source": [
        "df_sentiments = pd.read_excel(\"output/matriz_sentimientos.xlsx\")\n",
        "df_sentiments = df_sentiments[[\"Sentimiento\", \"Real\"]]"
      ]
    },
    {
      "cell_type": "code",
      "execution_count": null,
      "metadata": {
        "colab": {
          "base_uri": "https://localhost:8080/",
          "height": 206
        },
        "id": "LjcAAL_Jg7EN",
        "outputId": "c0f00148-a32e-4d53-9a9a-cba4039e780a"
      },
      "outputs": [
        {
          "output_type": "execute_result",
          "data": {
            "text/plain": [
              "    Sentimiento      Real\n",
              "10     Positivo  Positivo\n",
              "261     Neutral  Positivo\n",
              "603    Positivo  Positivo\n",
              "413    Positivo  Positivo\n",
              "14     Positivo  Positivo"
            ],
            "text/html": [
              "\n",
              "  <div id=\"df-557d517f-25b7-4494-88cf-2057e1a1ee63\" class=\"colab-df-container\">\n",
              "    <div>\n",
              "<style scoped>\n",
              "    .dataframe tbody tr th:only-of-type {\n",
              "        vertical-align: middle;\n",
              "    }\n",
              "\n",
              "    .dataframe tbody tr th {\n",
              "        vertical-align: top;\n",
              "    }\n",
              "\n",
              "    .dataframe thead th {\n",
              "        text-align: right;\n",
              "    }\n",
              "</style>\n",
              "<table border=\"1\" class=\"dataframe\">\n",
              "  <thead>\n",
              "    <tr style=\"text-align: right;\">\n",
              "      <th></th>\n",
              "      <th>Sentimiento</th>\n",
              "      <th>Real</th>\n",
              "    </tr>\n",
              "  </thead>\n",
              "  <tbody>\n",
              "    <tr>\n",
              "      <th>10</th>\n",
              "      <td>Positivo</td>\n",
              "      <td>Positivo</td>\n",
              "    </tr>\n",
              "    <tr>\n",
              "      <th>261</th>\n",
              "      <td>Neutral</td>\n",
              "      <td>Positivo</td>\n",
              "    </tr>\n",
              "    <tr>\n",
              "      <th>603</th>\n",
              "      <td>Positivo</td>\n",
              "      <td>Positivo</td>\n",
              "    </tr>\n",
              "    <tr>\n",
              "      <th>413</th>\n",
              "      <td>Positivo</td>\n",
              "      <td>Positivo</td>\n",
              "    </tr>\n",
              "    <tr>\n",
              "      <th>14</th>\n",
              "      <td>Positivo</td>\n",
              "      <td>Positivo</td>\n",
              "    </tr>\n",
              "  </tbody>\n",
              "</table>\n",
              "</div>\n",
              "    <div class=\"colab-df-buttons\">\n",
              "\n",
              "  <div class=\"colab-df-container\">\n",
              "    <button class=\"colab-df-convert\" onclick=\"convertToInteractive('df-557d517f-25b7-4494-88cf-2057e1a1ee63')\"\n",
              "            title=\"Convert this dataframe to an interactive table.\"\n",
              "            style=\"display:none;\">\n",
              "\n",
              "  <svg xmlns=\"http://www.w3.org/2000/svg\" height=\"24px\" viewBox=\"0 -960 960 960\">\n",
              "    <path d=\"M120-120v-720h720v720H120Zm60-500h600v-160H180v160Zm220 220h160v-160H400v160Zm0 220h160v-160H400v160ZM180-400h160v-160H180v160Zm440 0h160v-160H620v160ZM180-180h160v-160H180v160Zm440 0h160v-160H620v160Z\"/>\n",
              "  </svg>\n",
              "    </button>\n",
              "\n",
              "  <style>\n",
              "    .colab-df-container {\n",
              "      display:flex;\n",
              "      gap: 12px;\n",
              "    }\n",
              "\n",
              "    .colab-df-convert {\n",
              "      background-color: #E8F0FE;\n",
              "      border: none;\n",
              "      border-radius: 50%;\n",
              "      cursor: pointer;\n",
              "      display: none;\n",
              "      fill: #1967D2;\n",
              "      height: 32px;\n",
              "      padding: 0 0 0 0;\n",
              "      width: 32px;\n",
              "    }\n",
              "\n",
              "    .colab-df-convert:hover {\n",
              "      background-color: #E2EBFA;\n",
              "      box-shadow: 0px 1px 2px rgba(60, 64, 67, 0.3), 0px 1px 3px 1px rgba(60, 64, 67, 0.15);\n",
              "      fill: #174EA6;\n",
              "    }\n",
              "\n",
              "    .colab-df-buttons div {\n",
              "      margin-bottom: 4px;\n",
              "    }\n",
              "\n",
              "    [theme=dark] .colab-df-convert {\n",
              "      background-color: #3B4455;\n",
              "      fill: #D2E3FC;\n",
              "    }\n",
              "\n",
              "    [theme=dark] .colab-df-convert:hover {\n",
              "      background-color: #434B5C;\n",
              "      box-shadow: 0px 1px 3px 1px rgba(0, 0, 0, 0.15);\n",
              "      filter: drop-shadow(0px 1px 2px rgba(0, 0, 0, 0.3));\n",
              "      fill: #FFFFFF;\n",
              "    }\n",
              "  </style>\n",
              "\n",
              "    <script>\n",
              "      const buttonEl =\n",
              "        document.querySelector('#df-557d517f-25b7-4494-88cf-2057e1a1ee63 button.colab-df-convert');\n",
              "      buttonEl.style.display =\n",
              "        google.colab.kernel.accessAllowed ? 'block' : 'none';\n",
              "\n",
              "      async function convertToInteractive(key) {\n",
              "        const element = document.querySelector('#df-557d517f-25b7-4494-88cf-2057e1a1ee63');\n",
              "        const dataTable =\n",
              "          await google.colab.kernel.invokeFunction('convertToInteractive',\n",
              "                                                    [key], {});\n",
              "        if (!dataTable) return;\n",
              "\n",
              "        const docLinkHtml = 'Like what you see? Visit the ' +\n",
              "          '<a target=\"_blank\" href=https://colab.research.google.com/notebooks/data_table.ipynb>data table notebook</a>'\n",
              "          + ' to learn more about interactive tables.';\n",
              "        element.innerHTML = '';\n",
              "        dataTable['output_type'] = 'display_data';\n",
              "        await google.colab.output.renderOutput(dataTable, element);\n",
              "        const docLink = document.createElement('div');\n",
              "        docLink.innerHTML = docLinkHtml;\n",
              "        element.appendChild(docLink);\n",
              "      }\n",
              "    </script>\n",
              "  </div>\n",
              "\n",
              "\n",
              "<div id=\"df-b58c44e0-fe77-41a2-ada0-4412add93c6d\">\n",
              "  <button class=\"colab-df-quickchart\" onclick=\"quickchart('df-b58c44e0-fe77-41a2-ada0-4412add93c6d')\"\n",
              "            title=\"Suggest charts\"\n",
              "            style=\"display:none;\">\n",
              "\n",
              "<svg xmlns=\"http://www.w3.org/2000/svg\" height=\"24px\"viewBox=\"0 0 24 24\"\n",
              "     width=\"24px\">\n",
              "    <g>\n",
              "        <path d=\"M19 3H5c-1.1 0-2 .9-2 2v14c0 1.1.9 2 2 2h14c1.1 0 2-.9 2-2V5c0-1.1-.9-2-2-2zM9 17H7v-7h2v7zm4 0h-2V7h2v10zm4 0h-2v-4h2v4z\"/>\n",
              "    </g>\n",
              "</svg>\n",
              "  </button>\n",
              "\n",
              "<style>\n",
              "  .colab-df-quickchart {\n",
              "      --bg-color: #E8F0FE;\n",
              "      --fill-color: #1967D2;\n",
              "      --hover-bg-color: #E2EBFA;\n",
              "      --hover-fill-color: #174EA6;\n",
              "      --disabled-fill-color: #AAA;\n",
              "      --disabled-bg-color: #DDD;\n",
              "  }\n",
              "\n",
              "  [theme=dark] .colab-df-quickchart {\n",
              "      --bg-color: #3B4455;\n",
              "      --fill-color: #D2E3FC;\n",
              "      --hover-bg-color: #434B5C;\n",
              "      --hover-fill-color: #FFFFFF;\n",
              "      --disabled-bg-color: #3B4455;\n",
              "      --disabled-fill-color: #666;\n",
              "  }\n",
              "\n",
              "  .colab-df-quickchart {\n",
              "    background-color: var(--bg-color);\n",
              "    border: none;\n",
              "    border-radius: 50%;\n",
              "    cursor: pointer;\n",
              "    display: none;\n",
              "    fill: var(--fill-color);\n",
              "    height: 32px;\n",
              "    padding: 0;\n",
              "    width: 32px;\n",
              "  }\n",
              "\n",
              "  .colab-df-quickchart:hover {\n",
              "    background-color: var(--hover-bg-color);\n",
              "    box-shadow: 0 1px 2px rgba(60, 64, 67, 0.3), 0 1px 3px 1px rgba(60, 64, 67, 0.15);\n",
              "    fill: var(--button-hover-fill-color);\n",
              "  }\n",
              "\n",
              "  .colab-df-quickchart-complete:disabled,\n",
              "  .colab-df-quickchart-complete:disabled:hover {\n",
              "    background-color: var(--disabled-bg-color);\n",
              "    fill: var(--disabled-fill-color);\n",
              "    box-shadow: none;\n",
              "  }\n",
              "\n",
              "  .colab-df-spinner {\n",
              "    border: 2px solid var(--fill-color);\n",
              "    border-color: transparent;\n",
              "    border-bottom-color: var(--fill-color);\n",
              "    animation:\n",
              "      spin 1s steps(1) infinite;\n",
              "  }\n",
              "\n",
              "  @keyframes spin {\n",
              "    0% {\n",
              "      border-color: transparent;\n",
              "      border-bottom-color: var(--fill-color);\n",
              "      border-left-color: var(--fill-color);\n",
              "    }\n",
              "    20% {\n",
              "      border-color: transparent;\n",
              "      border-left-color: var(--fill-color);\n",
              "      border-top-color: var(--fill-color);\n",
              "    }\n",
              "    30% {\n",
              "      border-color: transparent;\n",
              "      border-left-color: var(--fill-color);\n",
              "      border-top-color: var(--fill-color);\n",
              "      border-right-color: var(--fill-color);\n",
              "    }\n",
              "    40% {\n",
              "      border-color: transparent;\n",
              "      border-right-color: var(--fill-color);\n",
              "      border-top-color: var(--fill-color);\n",
              "    }\n",
              "    60% {\n",
              "      border-color: transparent;\n",
              "      border-right-color: var(--fill-color);\n",
              "    }\n",
              "    80% {\n",
              "      border-color: transparent;\n",
              "      border-right-color: var(--fill-color);\n",
              "      border-bottom-color: var(--fill-color);\n",
              "    }\n",
              "    90% {\n",
              "      border-color: transparent;\n",
              "      border-bottom-color: var(--fill-color);\n",
              "    }\n",
              "  }\n",
              "</style>\n",
              "\n",
              "  <script>\n",
              "    async function quickchart(key) {\n",
              "      const quickchartButtonEl =\n",
              "        document.querySelector('#' + key + ' button');\n",
              "      quickchartButtonEl.disabled = true;  // To prevent multiple clicks.\n",
              "      quickchartButtonEl.classList.add('colab-df-spinner');\n",
              "      try {\n",
              "        const charts = await google.colab.kernel.invokeFunction(\n",
              "            'suggestCharts', [key], {});\n",
              "      } catch (error) {\n",
              "        console.error('Error during call to suggestCharts:', error);\n",
              "      }\n",
              "      quickchartButtonEl.classList.remove('colab-df-spinner');\n",
              "      quickchartButtonEl.classList.add('colab-df-quickchart-complete');\n",
              "    }\n",
              "    (() => {\n",
              "      let quickchartButtonEl =\n",
              "        document.querySelector('#df-b58c44e0-fe77-41a2-ada0-4412add93c6d button');\n",
              "      quickchartButtonEl.style.display =\n",
              "        google.colab.kernel.accessAllowed ? 'block' : 'none';\n",
              "    })();\n",
              "  </script>\n",
              "</div>\n",
              "\n",
              "    </div>\n",
              "  </div>\n"
            ],
            "application/vnd.google.colaboratory.intrinsic+json": {
              "type": "dataframe",
              "summary": "{\n  \"name\": \"df_sentiments\",\n  \"rows\": 5,\n  \"fields\": [\n    {\n      \"column\": \"Sentimiento\",\n      \"properties\": {\n        \"dtype\": \"category\",\n        \"num_unique_values\": 2,\n        \"samples\": [\n          \"Neutral\",\n          \"Positivo\"\n        ],\n        \"semantic_type\": \"\",\n        \"description\": \"\"\n      }\n    },\n    {\n      \"column\": \"Real\",\n      \"properties\": {\n        \"dtype\": \"category\",\n        \"num_unique_values\": 1,\n        \"samples\": [\n          \"Positivo\"\n        ],\n        \"semantic_type\": \"\",\n        \"description\": \"\"\n      }\n    }\n  ]\n}"
            }
          },
          "metadata": {},
          "execution_count": 48
        }
      ],
      "source": [
        "df_sentiments.sample(5)"
      ]
    },
    {
      "cell_type": "code",
      "execution_count": null,
      "metadata": {
        "colab": {
          "base_uri": "https://localhost:8080/"
        },
        "id": "dyP5k8fXibz6",
        "outputId": "53c4722a-66ec-461b-96c9-0e29fd23f50e"
      },
      "outputs": [
        {
          "output_type": "execute_result",
          "data": {
            "text/plain": [
              "array(['Positivo', 'Negativo', 'Neutral'], dtype=object)"
            ]
          },
          "metadata": {},
          "execution_count": 49
        }
      ],
      "source": [
        "categories = df_sentiments[\"Sentimiento\"].unique()\n",
        "categories"
      ]
    },
    {
      "cell_type": "markdown",
      "metadata": {
        "id": "OCKLormMF4-L"
      },
      "source": [
        "## Confusion matrix"
      ]
    },
    {
      "cell_type": "markdown",
      "metadata": {
        "id": "wP2XlKXHFEJU"
      },
      "source": [
        "The three-category confusion matrix is created with the help of ***sklearn.metrics.confusion_matrix*** based on the three sentiment categories defined above."
      ]
    },
    {
      "cell_type": "code",
      "execution_count": null,
      "metadata": {
        "id": "_7GC6-z7j9ao"
      },
      "outputs": [],
      "source": [
        "from sklearn.metrics import confusion_matrix"
      ]
    },
    {
      "cell_type": "code",
      "execution_count": null,
      "metadata": {
        "id": "KsPeSbSIkGmb"
      },
      "outputs": [],
      "source": [
        "conf_matrix = confusion_matrix(\n",
        "    df_sentiments[\"Real\"],\n",
        "    df_sentiments[\"Sentimiento\"],\n",
        "    labels=categories\n",
        ")\n",
        "\n",
        "conf_matrix_df = pd.DataFrame(\n",
        "    conf_matrix,\n",
        "    index=categories,\n",
        "    columns=categories\n",
        ")"
      ]
    },
    {
      "cell_type": "code",
      "execution_count": null,
      "metadata": {
        "colab": {
          "base_uri": "https://localhost:8080/",
          "height": 143
        },
        "id": "GnCaqNiAkP7p",
        "outputId": "3513a6be-3385-47f3-818a-9edffc741154"
      },
      "outputs": [
        {
          "output_type": "execute_result",
          "data": {
            "text/plain": [
              "          Positivo  Negativo  Neutral\n",
              "Positivo       536         1       15\n",
              "Negativo         8        10        3\n",
              "Neutral         29         5       13"
            ],
            "text/html": [
              "\n",
              "  <div id=\"df-0b7c65e8-9ef9-421b-bec9-ebd11948e364\" class=\"colab-df-container\">\n",
              "    <div>\n",
              "<style scoped>\n",
              "    .dataframe tbody tr th:only-of-type {\n",
              "        vertical-align: middle;\n",
              "    }\n",
              "\n",
              "    .dataframe tbody tr th {\n",
              "        vertical-align: top;\n",
              "    }\n",
              "\n",
              "    .dataframe thead th {\n",
              "        text-align: right;\n",
              "    }\n",
              "</style>\n",
              "<table border=\"1\" class=\"dataframe\">\n",
              "  <thead>\n",
              "    <tr style=\"text-align: right;\">\n",
              "      <th></th>\n",
              "      <th>Positivo</th>\n",
              "      <th>Negativo</th>\n",
              "      <th>Neutral</th>\n",
              "    </tr>\n",
              "  </thead>\n",
              "  <tbody>\n",
              "    <tr>\n",
              "      <th>Positivo</th>\n",
              "      <td>536</td>\n",
              "      <td>1</td>\n",
              "      <td>15</td>\n",
              "    </tr>\n",
              "    <tr>\n",
              "      <th>Negativo</th>\n",
              "      <td>8</td>\n",
              "      <td>10</td>\n",
              "      <td>3</td>\n",
              "    </tr>\n",
              "    <tr>\n",
              "      <th>Neutral</th>\n",
              "      <td>29</td>\n",
              "      <td>5</td>\n",
              "      <td>13</td>\n",
              "    </tr>\n",
              "  </tbody>\n",
              "</table>\n",
              "</div>\n",
              "    <div class=\"colab-df-buttons\">\n",
              "\n",
              "  <div class=\"colab-df-container\">\n",
              "    <button class=\"colab-df-convert\" onclick=\"convertToInteractive('df-0b7c65e8-9ef9-421b-bec9-ebd11948e364')\"\n",
              "            title=\"Convert this dataframe to an interactive table.\"\n",
              "            style=\"display:none;\">\n",
              "\n",
              "  <svg xmlns=\"http://www.w3.org/2000/svg\" height=\"24px\" viewBox=\"0 -960 960 960\">\n",
              "    <path d=\"M120-120v-720h720v720H120Zm60-500h600v-160H180v160Zm220 220h160v-160H400v160Zm0 220h160v-160H400v160ZM180-400h160v-160H180v160Zm440 0h160v-160H620v160ZM180-180h160v-160H180v160Zm440 0h160v-160H620v160Z\"/>\n",
              "  </svg>\n",
              "    </button>\n",
              "\n",
              "  <style>\n",
              "    .colab-df-container {\n",
              "      display:flex;\n",
              "      gap: 12px;\n",
              "    }\n",
              "\n",
              "    .colab-df-convert {\n",
              "      background-color: #E8F0FE;\n",
              "      border: none;\n",
              "      border-radius: 50%;\n",
              "      cursor: pointer;\n",
              "      display: none;\n",
              "      fill: #1967D2;\n",
              "      height: 32px;\n",
              "      padding: 0 0 0 0;\n",
              "      width: 32px;\n",
              "    }\n",
              "\n",
              "    .colab-df-convert:hover {\n",
              "      background-color: #E2EBFA;\n",
              "      box-shadow: 0px 1px 2px rgba(60, 64, 67, 0.3), 0px 1px 3px 1px rgba(60, 64, 67, 0.15);\n",
              "      fill: #174EA6;\n",
              "    }\n",
              "\n",
              "    .colab-df-buttons div {\n",
              "      margin-bottom: 4px;\n",
              "    }\n",
              "\n",
              "    [theme=dark] .colab-df-convert {\n",
              "      background-color: #3B4455;\n",
              "      fill: #D2E3FC;\n",
              "    }\n",
              "\n",
              "    [theme=dark] .colab-df-convert:hover {\n",
              "      background-color: #434B5C;\n",
              "      box-shadow: 0px 1px 3px 1px rgba(0, 0, 0, 0.15);\n",
              "      filter: drop-shadow(0px 1px 2px rgba(0, 0, 0, 0.3));\n",
              "      fill: #FFFFFF;\n",
              "    }\n",
              "  </style>\n",
              "\n",
              "    <script>\n",
              "      const buttonEl =\n",
              "        document.querySelector('#df-0b7c65e8-9ef9-421b-bec9-ebd11948e364 button.colab-df-convert');\n",
              "      buttonEl.style.display =\n",
              "        google.colab.kernel.accessAllowed ? 'block' : 'none';\n",
              "\n",
              "      async function convertToInteractive(key) {\n",
              "        const element = document.querySelector('#df-0b7c65e8-9ef9-421b-bec9-ebd11948e364');\n",
              "        const dataTable =\n",
              "          await google.colab.kernel.invokeFunction('convertToInteractive',\n",
              "                                                    [key], {});\n",
              "        if (!dataTable) return;\n",
              "\n",
              "        const docLinkHtml = 'Like what you see? Visit the ' +\n",
              "          '<a target=\"_blank\" href=https://colab.research.google.com/notebooks/data_table.ipynb>data table notebook</a>'\n",
              "          + ' to learn more about interactive tables.';\n",
              "        element.innerHTML = '';\n",
              "        dataTable['output_type'] = 'display_data';\n",
              "        await google.colab.output.renderOutput(dataTable, element);\n",
              "        const docLink = document.createElement('div');\n",
              "        docLink.innerHTML = docLinkHtml;\n",
              "        element.appendChild(docLink);\n",
              "      }\n",
              "    </script>\n",
              "  </div>\n",
              "\n",
              "\n",
              "<div id=\"df-e1e285ac-7838-4678-8867-0a5892732acb\">\n",
              "  <button class=\"colab-df-quickchart\" onclick=\"quickchart('df-e1e285ac-7838-4678-8867-0a5892732acb')\"\n",
              "            title=\"Suggest charts\"\n",
              "            style=\"display:none;\">\n",
              "\n",
              "<svg xmlns=\"http://www.w3.org/2000/svg\" height=\"24px\"viewBox=\"0 0 24 24\"\n",
              "     width=\"24px\">\n",
              "    <g>\n",
              "        <path d=\"M19 3H5c-1.1 0-2 .9-2 2v14c0 1.1.9 2 2 2h14c1.1 0 2-.9 2-2V5c0-1.1-.9-2-2-2zM9 17H7v-7h2v7zm4 0h-2V7h2v10zm4 0h-2v-4h2v4z\"/>\n",
              "    </g>\n",
              "</svg>\n",
              "  </button>\n",
              "\n",
              "<style>\n",
              "  .colab-df-quickchart {\n",
              "      --bg-color: #E8F0FE;\n",
              "      --fill-color: #1967D2;\n",
              "      --hover-bg-color: #E2EBFA;\n",
              "      --hover-fill-color: #174EA6;\n",
              "      --disabled-fill-color: #AAA;\n",
              "      --disabled-bg-color: #DDD;\n",
              "  }\n",
              "\n",
              "  [theme=dark] .colab-df-quickchart {\n",
              "      --bg-color: #3B4455;\n",
              "      --fill-color: #D2E3FC;\n",
              "      --hover-bg-color: #434B5C;\n",
              "      --hover-fill-color: #FFFFFF;\n",
              "      --disabled-bg-color: #3B4455;\n",
              "      --disabled-fill-color: #666;\n",
              "  }\n",
              "\n",
              "  .colab-df-quickchart {\n",
              "    background-color: var(--bg-color);\n",
              "    border: none;\n",
              "    border-radius: 50%;\n",
              "    cursor: pointer;\n",
              "    display: none;\n",
              "    fill: var(--fill-color);\n",
              "    height: 32px;\n",
              "    padding: 0;\n",
              "    width: 32px;\n",
              "  }\n",
              "\n",
              "  .colab-df-quickchart:hover {\n",
              "    background-color: var(--hover-bg-color);\n",
              "    box-shadow: 0 1px 2px rgba(60, 64, 67, 0.3), 0 1px 3px 1px rgba(60, 64, 67, 0.15);\n",
              "    fill: var(--button-hover-fill-color);\n",
              "  }\n",
              "\n",
              "  .colab-df-quickchart-complete:disabled,\n",
              "  .colab-df-quickchart-complete:disabled:hover {\n",
              "    background-color: var(--disabled-bg-color);\n",
              "    fill: var(--disabled-fill-color);\n",
              "    box-shadow: none;\n",
              "  }\n",
              "\n",
              "  .colab-df-spinner {\n",
              "    border: 2px solid var(--fill-color);\n",
              "    border-color: transparent;\n",
              "    border-bottom-color: var(--fill-color);\n",
              "    animation:\n",
              "      spin 1s steps(1) infinite;\n",
              "  }\n",
              "\n",
              "  @keyframes spin {\n",
              "    0% {\n",
              "      border-color: transparent;\n",
              "      border-bottom-color: var(--fill-color);\n",
              "      border-left-color: var(--fill-color);\n",
              "    }\n",
              "    20% {\n",
              "      border-color: transparent;\n",
              "      border-left-color: var(--fill-color);\n",
              "      border-top-color: var(--fill-color);\n",
              "    }\n",
              "    30% {\n",
              "      border-color: transparent;\n",
              "      border-left-color: var(--fill-color);\n",
              "      border-top-color: var(--fill-color);\n",
              "      border-right-color: var(--fill-color);\n",
              "    }\n",
              "    40% {\n",
              "      border-color: transparent;\n",
              "      border-right-color: var(--fill-color);\n",
              "      border-top-color: var(--fill-color);\n",
              "    }\n",
              "    60% {\n",
              "      border-color: transparent;\n",
              "      border-right-color: var(--fill-color);\n",
              "    }\n",
              "    80% {\n",
              "      border-color: transparent;\n",
              "      border-right-color: var(--fill-color);\n",
              "      border-bottom-color: var(--fill-color);\n",
              "    }\n",
              "    90% {\n",
              "      border-color: transparent;\n",
              "      border-bottom-color: var(--fill-color);\n",
              "    }\n",
              "  }\n",
              "</style>\n",
              "\n",
              "  <script>\n",
              "    async function quickchart(key) {\n",
              "      const quickchartButtonEl =\n",
              "        document.querySelector('#' + key + ' button');\n",
              "      quickchartButtonEl.disabled = true;  // To prevent multiple clicks.\n",
              "      quickchartButtonEl.classList.add('colab-df-spinner');\n",
              "      try {\n",
              "        const charts = await google.colab.kernel.invokeFunction(\n",
              "            'suggestCharts', [key], {});\n",
              "      } catch (error) {\n",
              "        console.error('Error during call to suggestCharts:', error);\n",
              "      }\n",
              "      quickchartButtonEl.classList.remove('colab-df-spinner');\n",
              "      quickchartButtonEl.classList.add('colab-df-quickchart-complete');\n",
              "    }\n",
              "    (() => {\n",
              "      let quickchartButtonEl =\n",
              "        document.querySelector('#df-e1e285ac-7838-4678-8867-0a5892732acb button');\n",
              "      quickchartButtonEl.style.display =\n",
              "        google.colab.kernel.accessAllowed ? 'block' : 'none';\n",
              "    })();\n",
              "  </script>\n",
              "</div>\n",
              "\n",
              "  <div id=\"id_19e7589c-4bd7-47f7-99f1-6cd19f775ec5\">\n",
              "    <style>\n",
              "      .colab-df-generate {\n",
              "        background-color: #E8F0FE;\n",
              "        border: none;\n",
              "        border-radius: 50%;\n",
              "        cursor: pointer;\n",
              "        display: none;\n",
              "        fill: #1967D2;\n",
              "        height: 32px;\n",
              "        padding: 0 0 0 0;\n",
              "        width: 32px;\n",
              "      }\n",
              "\n",
              "      .colab-df-generate:hover {\n",
              "        background-color: #E2EBFA;\n",
              "        box-shadow: 0px 1px 2px rgba(60, 64, 67, 0.3), 0px 1px 3px 1px rgba(60, 64, 67, 0.15);\n",
              "        fill: #174EA6;\n",
              "      }\n",
              "\n",
              "      [theme=dark] .colab-df-generate {\n",
              "        background-color: #3B4455;\n",
              "        fill: #D2E3FC;\n",
              "      }\n",
              "\n",
              "      [theme=dark] .colab-df-generate:hover {\n",
              "        background-color: #434B5C;\n",
              "        box-shadow: 0px 1px 3px 1px rgba(0, 0, 0, 0.15);\n",
              "        filter: drop-shadow(0px 1px 2px rgba(0, 0, 0, 0.3));\n",
              "        fill: #FFFFFF;\n",
              "      }\n",
              "    </style>\n",
              "    <button class=\"colab-df-generate\" onclick=\"generateWithVariable('conf_matrix_df')\"\n",
              "            title=\"Generate code using this dataframe.\"\n",
              "            style=\"display:none;\">\n",
              "\n",
              "  <svg xmlns=\"http://www.w3.org/2000/svg\" height=\"24px\"viewBox=\"0 0 24 24\"\n",
              "       width=\"24px\">\n",
              "    <path d=\"M7,19H8.4L18.45,9,17,7.55,7,17.6ZM5,21V16.75L18.45,3.32a2,2,0,0,1,2.83,0l1.4,1.43a1.91,1.91,0,0,1,.58,1.4,1.91,1.91,0,0,1-.58,1.4L9.25,21ZM18.45,9,17,7.55Zm-12,3A5.31,5.31,0,0,0,4.9,8.1,5.31,5.31,0,0,0,1,6.5,5.31,5.31,0,0,0,4.9,4.9,5.31,5.31,0,0,0,6.5,1,5.31,5.31,0,0,0,8.1,4.9,5.31,5.31,0,0,0,12,6.5,5.46,5.46,0,0,0,6.5,12Z\"/>\n",
              "  </svg>\n",
              "    </button>\n",
              "    <script>\n",
              "      (() => {\n",
              "      const buttonEl =\n",
              "        document.querySelector('#id_19e7589c-4bd7-47f7-99f1-6cd19f775ec5 button.colab-df-generate');\n",
              "      buttonEl.style.display =\n",
              "        google.colab.kernel.accessAllowed ? 'block' : 'none';\n",
              "\n",
              "      buttonEl.onclick = () => {\n",
              "        google.colab.notebook.generateWithVariable('conf_matrix_df');\n",
              "      }\n",
              "      })();\n",
              "    </script>\n",
              "  </div>\n",
              "\n",
              "    </div>\n",
              "  </div>\n"
            ],
            "application/vnd.google.colaboratory.intrinsic+json": {
              "type": "dataframe",
              "variable_name": "conf_matrix_df",
              "summary": "{\n  \"name\": \"conf_matrix_df\",\n  \"rows\": 3,\n  \"fields\": [\n    {\n      \"column\": \"Positivo\",\n      \"properties\": {\n        \"dtype\": \"number\",\n        \"std\": 298,\n        \"min\": 8,\n        \"max\": 536,\n        \"num_unique_values\": 3,\n        \"samples\": [\n          536,\n          8,\n          29\n        ],\n        \"semantic_type\": \"\",\n        \"description\": \"\"\n      }\n    },\n    {\n      \"column\": \"Negativo\",\n      \"properties\": {\n        \"dtype\": \"number\",\n        \"std\": 4,\n        \"min\": 1,\n        \"max\": 10,\n        \"num_unique_values\": 3,\n        \"samples\": [\n          1,\n          10,\n          5\n        ],\n        \"semantic_type\": \"\",\n        \"description\": \"\"\n      }\n    },\n    {\n      \"column\": \"Neutral\",\n      \"properties\": {\n        \"dtype\": \"number\",\n        \"std\": 6,\n        \"min\": 3,\n        \"max\": 15,\n        \"num_unique_values\": 3,\n        \"samples\": [\n          15,\n          3,\n          13\n        ],\n        \"semantic_type\": \"\",\n        \"description\": \"\"\n      }\n    }\n  ]\n}"
            }
          },
          "metadata": {},
          "execution_count": 52
        }
      ],
      "source": [
        "conf_matrix_df"
      ]
    },
    {
      "cell_type": "markdown",
      "metadata": {
        "id": "h5VaR_EHGHE7"
      },
      "source": [
        "The 3-dimensional confusion matrix is represented graphically, using the ***seaborn*** and ***matplotlib*** libs."
      ]
    },
    {
      "cell_type": "code",
      "execution_count": null,
      "metadata": {
        "colab": {
          "base_uri": "https://localhost:8080/",
          "height": 410
        },
        "id": "Hu5SNm1Fk5wn",
        "outputId": "aa344a86-8025-4e53-cf91-144b3c68f5e5"
      },
      "outputs": [
        {
          "output_type": "display_data",
          "data": {
            "text/plain": [
              "<Figure size 400x400 with 1 Axes>"
            ],
            "image/png": "[encoded data removed]"
          },
          "metadata": {}
        }
      ],
      "source": [
        "import seaborn as sns\n",
        "import matplotlib.pyplot as plt\n",
        "\n",
        "plt.figure(figsize=(4, 4))\n",
        "sns.heatmap(\n",
        "    conf_matrix_df,\n",
        "    annot=True,\n",
        "    fmt=\"d\",\n",
        "    cmap=\"Blues\",\n",
        "    linewidths=.5,\n",
        "    cbar=False\n",
        ")\n",
        "\n",
        "plt.title('Confussion Matrix')\n",
        "plt.xlabel('Predicted Feeling')\n",
        "plt.ylabel('Actual Feeling')\n",
        "plt.savefig(\"output/conf_matrix.png\")\n",
        "plt.show()"
      ]
    },
    {
      "cell_type": "markdown",
      "metadata": {
        "id": "FnVE7dgRvmr7"
      },
      "source": [
        "# Conclusion"
      ]
    },
    {
      "cell_type": "markdown",
      "metadata": {
        "id": "CYC2npMCvuMs"
      },
      "source": [
        "Sentiment analysis applied to Airbnb reviews has proven to be a powerful tool for understanding guest perceptions. In this study, a clear predominance of positive comments was observed, which is a good indication of overall customer satisfaction. However, it is crucial to delve into the details these comments reveal.\n",
        "\n",
        "## Analysis of Positive Comments\n",
        "The model has accurately classified positive sentiments. The most mentioned aspects include:\n",
        "- **Location**: Guests highly value proximity to the city and tourist attractions.\n",
        "- **Comfort**: Frequent comments about the comfort and coziness of the accommodations.\n",
        "\n",
        "### Example of Positive Comments:\n",
        "- \"The place is super cool, cozy, and close to the city.\"\n",
        "- \"I loved the comfort of the accommodation and the proximity to major attractions.\"\n",
        "\n",
        "### Recommendations for Hosts:\n",
        "- **Marketing Strategy**: Focus advertising campaigns on highlighting the location and comfort of the accommodations.\n",
        "- **Ad Optimization**: Use positive keywords in the ad descriptions to attract more guests.\n",
        "\n",
        "## Analysis of Negative Comments\n",
        "The model shows a higher error rate in classifying negative and neutral comments. The most mentioned negative aspects include:\n",
        "- **Cleanliness**: Frequent comments about insufficient cleaning of the accommodations.\n",
        "- **Noise**: Complaints about noise in the surroundings of the accommodation.\n",
        "\n",
        "### Example of Negative Comments:\n",
        "- \"The place was dirty and not cleaned properly.\"\n",
        "- \"There was a lot of noise, making it difficult to rest.\"\n",
        "\n",
        "### Recommendations for Hosts:\n",
        "- **Service Improvement**: Increase cleaning hours and ensure a deeper clean between stays.\n",
        "- **Noise Management**: Implement measures to reduce noise, such as soundproof windows or informing guests about quiet hours.\n",
        "\n",
        "## Commercial Value of the Analysis\n",
        "This analysis offers significant value both for Airbnb and hosts by providing a clear view of areas for improvement and strengths to highlight. By implementing these recommendations, hosts can improve customer satisfaction, increase bookings, and strengthen the reputation of their accommodations.\n"
      ]
    },
    {
      "cell_type": "code",
      "source": [],
      "metadata": {
        "id": "RqXJwfsx9RTH"
      },
      "execution_count": null,
      "outputs": []
    }
  ],
  "metadata": {
    "colab": {
      "provenance": [],
      "include_colab_link": true
    },
    "kernelspec": {
      "display_name": "Python 3",
      "name": "python3"
    },
    "language_info": {
      "name": "python"
    }
  },
  "nbformat": 4,
  "nbformat_minor": 0
}