{
  "cells": [
    {
      "cell_type": "markdown",
      "metadata": {
        "id": "view-in-github",
        "colab_type": "text"
      },
      "source": [
        "<a href=\"https://colab.research.google.com/github/cjcalderon9804/airbnb-sentiment-analysis/blob/main/airbnb_sentiment_analysis_EN.ipynb\" target=\"_parent\"><img src=\"https://colab.research.google.com/assets/colab-badge.svg\" alt=\"Open In Colab\"/></a>"
      ]
    },
    {
      "cell_type": "markdown",
      "metadata": {
        "id": "WffHy-y1r67K"
      },
      "source": [
        "# Sentiment analysis for Airbnb reviews"
      ]
    },
    {
      "cell_type": "markdown",
      "metadata": {
        "id": "rVCnlmjaqZJi"
      },
      "source": [
        " This project addresses one of the most interesting applications when working with **Natural Language Processing (NLP)** with Python, which consists of **Sentiment Analysis** applied to a real sample data set corresponding to 620 reviews given by guests to a total of 10 accommodations listed within the temporary accommodation platform *Airbnb* for the iconic Ecuadorian tourist city with unique beaches and very welcoming people that is **Montañita**. This project complies with the code style and format guidelines dictated in the ***PEP-8*** manual, in addition to ***HTML Entities*** to help the correct readability of special characters, such as *tildes * and *ñ*."
      ]
    },
    {
      "cell_type": "markdown",
      "metadata": {
        "id": "WpUBYIvcuIW7"
      },
      "source": [
        " # Initial preprocessing of information"
      ]
    },
    {
      "cell_type": "markdown",
      "metadata": {
        "id": "WH3z3n0V5sN9"
      },
      "source": [
        " ## Installation and import of necessary libraries"
      ]
    },
    {
      "cell_type": "markdown",
      "metadata": {
        "id": "N9hG1yIoCO3T"
      },
      "source": [
        "Because several of the reviews contain *emojis*, it will be necessary to have a library for their respective treatment and transformation, to later use them when performing the sentiment analysis. The library that is installed is called ***emoji***."
      ]
    },
    {
      "cell_type": "code",
      "execution_count": null,
      "metadata": {
        "colab": {
          "base_uri": "https://localhost:8080/"
        },
        "id": "P0lR93c_F3bg",
        "outputId": "13c3ff02-b94b-46cd-cb80-67884bb284b5"
      },
      "outputs": [
        {
          "name": "stdout",
          "output_type": "stream",
          "text": [
            "Collecting emoji\n",
            "  Downloading emoji-2.11.1-py2.py3-none-any.whl (433 kB)\n",
            "\u001b[?25l     \u001b[90m━━━━━━━━━━━━━━━━━━━━━━━━━━━━━━━━━━━━━━━━\u001b[0m \u001b[32m0.0/433.8 kB\u001b[0m \u001b[31m?\u001b[0m eta \u001b[36m-:--:--\u001b[0m\r",
            "\u001b[2K     \u001b[91m━━━━━━\u001b[0m\u001b[91m╸\u001b[0m\u001b[90m━━━━━━━━━━━━━━━━━━━━━━━━━━━━━━━━━\u001b[0m \u001b[32m71.7/433.8 kB\u001b[0m \u001b[31m2.1 MB/s\u001b[0m eta \u001b[36m0:00:01\u001b[0m\r",
            "\u001b[2K     \u001b[90m━━━━━━━━━━━━━━━━━━━━━━━━━━━━━━━━━━━━━━━━\u001b[0m \u001b[32m433.8/433.8 kB\u001b[0m \u001b[31m6.8 MB/s\u001b[0m eta \u001b[36m0:00:00\u001b[0m\n",
            "\u001b[?25hInstalling collected packages: emoji\n",
            "Successfully installed emoji-2.11.1\n"
          ]
        }
      ],
      "source": [
        "!pip install emoji"
      ]
    },
    {
      "cell_type": "markdown",
      "metadata": {
        "id": "8FSmPVTtvpJE"
      },
      "source": [
        "Libraries such as ***pandas***, ***numpy***, ***os***, ***glob*** and ***pathlib*** are also imported, which will be used for different purposes, from manipulating files and folders within the virtual machine to creating ***DataFrames*** and using mathematical functions."
      ]
    },
    {
      "cell_type": "code",
      "execution_count": null,
      "metadata": {
        "id": "PGL3UsDm4MwY"
      },
      "outputs": [],
      "source": [
        "import pandas as pd\n",
        "import numpy as np\n",
        "import os\n",
        "import glob\n",
        "from pathlib import Path"
      ]
    },
    {
      "cell_type": "markdown",
      "metadata": {
        "id": "2CZw8czsmmk-"
      },
      "source": [
        " Pandas is configured to prevent it from truncating the text of the entries in each of the columns. Additionally, the base directory is changed with the ***os*** library for greater ease of work. The base directory contains the reviews left by guests of a total of 10 different accommodations located on Montañita beach, Ecuador, as of Friday, January 6, 2024."
      ]
    },
    {
      "cell_type": "code",
      "execution_count": null,
      "metadata": {
        "id": "1defgKmKHwrh"
      },
      "outputs": [],
      "source": [
        "default_max_colwidth = pd.get_option('display.max_colwidth')\n",
        "pd.set_option('display.max_colwidth', None)"
      ]
    },
    {
      "cell_type": "markdown",
      "metadata": {
        "id": "4K-vALTh1vg1"
      },
      "source": [
        "The code block contained in the following cell should be executed only if the ***notebook*** files are stored in ***Google Drive*** and if it is also executed within the platform ***Google Colab***, for which it is necessary to replace *root_path* with the path corresponding to the root directory where the files will be stored. This is so that in subsequent cells it is not necessary to type the full path each time. Conversely, if you run ***notebook*** in a local environment, you can skip the cell entirely."
      ]
    },
    {
      "cell_type": "code",
      "execution_count": null,
      "metadata": {
        "colab": {
          "base_uri": "https://localhost:8080/"
        },
        "id": "MsZrgXii958z",
        "outputId": "27038362-9b84-4610-e838-d8241d6e085b"
      },
      "outputs": [
        {
          "name": "stdout",
          "output_type": "stream",
          "text": [
            "Directorio actual: /content/drive/MyDrive/PORTFOLIO/Sent_Analysis\n"
          ]
        }
      ],
      "source": [
        "root_path = \"/content/drive/MyDrive/PORTFOLIO/Sent_Analysis\"\n",
        "reviews_path = os.path.join(root_path, \"abb_reviews\")\n",
        "os.chdir(root_path)\n",
        "# Verificación de cambio de directorio\n",
        "print(f\"Directorio actual: {os.getcwd()}\")"
      ]
    },
    {
      "cell_type": "markdown",
      "metadata": {
        "id": "qwP71jayoKyD"
      },
      "source": [
        " A list is obtained with all the files corresponding to the reviews of 10 accommodations in total."
      ]
    },
    {
      "cell_type": "code",
      "execution_count": null,
      "metadata": {
        "id": "-7z56EQdylfa"
      },
      "outputs": [],
      "source": [
        "# Se define un patrón para buscar archivos txt en el directorio\n",
        "patron = '*.txt'\n",
        "\n",
        "# Se usa glob para obtener la lista de archivos que coinciden con el patrón\n",
        "abb_reviews = glob.glob(os.path.join(reviews_path, patron))\n",
        "\n",
        "# Se ordenan las reseñas en orden alfabético\n",
        "abb_reviews = sorted(\n",
        "    abb_reviews,\n",
        "    key=lambda x: int(Path(x).stem.split('_')[-1]))"
      ]
    },
    {
      "cell_type": "markdown",
      "metadata": {
        "id": "L-qXQHhz55t2"
      },
      "source": [
        " ## Review count for each file"
      ]
    },
    {
      "cell_type": "code",
      "execution_count": null,
      "metadata": {
        "colab": {
          "base_uri": "https://localhost:8080/"
        },
        "id": "59j4P02Vy96_",
        "outputId": "671d6b9f-c4c1-4dc9-882a-6cc00e5039f3"
      },
      "outputs": [
        {
          "name": "stdout",
          "output_type": "stream",
          "text": [
            "Número de reseñas en abb_reviews_00.txt:         9\n",
            "Número de reseñas en abb_reviews_01.txt:         17\n",
            "Número de reseñas en abb_reviews_02.txt:         141\n",
            "Número de reseñas en abb_reviews_03.txt:         15\n",
            "Número de reseñas en abb_reviews_04.txt:         38\n",
            "Número de reseñas en abb_reviews_05.txt:         8\n",
            "Número de reseñas en abb_reviews_06.txt:         200\n",
            "Número de reseñas en abb_reviews_07.txt:         29\n",
            "Número de reseñas en abb_reviews_08.txt:         22\n",
            "Número de reseñas en abb_reviews_09.txt:         141\n",
            "\n",
            "Total de reseñas en 10 archivos: 620\n"
          ]
        }
      ],
      "source": [
        "total_resenas = 0\n",
        "for archivo in abb_reviews:\n",
        "    archivo_path = Path(archivo)\n",
        "    with open(archivo_path, mode=\"r\", encoding=\"utf-8\") as file:\n",
        "        foo = file.read()\n",
        "        print(f'Número de reseñas en {archivo_path.name}:\\\n",
        "         {foo.count(\"Calificación: \")}')\n",
        "        total_resenas += foo.count(\"Calificación: \")\n",
        "\n",
        "print(f\"\\nTotal de reseñas en {len(abb_reviews)} archivos: {total_resenas}\")"
      ]
    },
    {
      "cell_type": "markdown",
      "metadata": {
        "id": "HBGQQHk86CBY"
      },
      "source": [
        " ## Feature to extract guest reviews from all files"
      ]
    },
    {
      "cell_type": "markdown",
      "metadata": {
        "id": "Ot9cWmI7u1rH"
      },
      "source": [
        "It can be seen that some of the information collected is not previously structured, that is, there are comments with different attributes than others, such as, for example, \"*Stayed for a few weeks*\" or \"*With pet*\". This is why these expressions are eliminated to prevent them from being mistakenly interpreted as comments."
      ]
    },
    {
      "cell_type": "code",
      "execution_count": null,
      "metadata": {
        "id": "uLKvQ8yJtb-_"
      },
      "outputs": [],
      "source": [
        "def extraer_comentarios(mi_archivo):\n",
        "    comentarios = []\n",
        "    with open(mi_archivo, mode=\"r\", encoding=\"utf-8\") as file:\n",
        "        texto = file.read()\n",
        "\n",
        "    # Dividir el texto en fragmentos usando \"Calificación:\" como delimitador\n",
        "    fragmentos = texto.split(\"Calificación:\")[1:]\n",
        "\n",
        "    # Eliminación de fragmentos vacíos\n",
        "    fragmentos = [\n",
        "        fragmento.strip() for fragmento in fragmentos if fragmento.strip()\n",
        "    ]\n",
        "    for fragmento in fragmentos:\n",
        "        aux = (\n",
        "            fragmento.replace(\",·\", \"\")\n",
        "            .replace(\"Se quedó unas semanas\", \"\")\n",
        "            .replace(\"Estadía de una semana\", \"\")\n",
        "            .replace(\"Con mascota\", \"\")\n",
        "        )\n",
        "        aux = \"\\n\".join(\n",
        "            linea.strip() for linea in aux.splitlines() if linea.strip()\n",
        "        )\n",
        "        comentarios.append(aux.splitlines()[2])\n",
        "\n",
        "    return comentarios"
      ]
    },
    {
      "cell_type": "markdown",
      "metadata": {
        "id": "w8SCgVC76T3C"
      },
      "source": [
        " A list is created to store all the reviews (which in turn are in lists) which will be stored in a ***Pandas DataFrame*** along with the ratings."
      ]
    },
    {
      "cell_type": "code",
      "execution_count": null,
      "metadata": {
        "id": "kkt5gG3N03ob"
      },
      "outputs": [],
      "source": [
        "lista_reviews = []"
      ]
    },
    {
      "cell_type": "code",
      "execution_count": null,
      "metadata": {
        "id": "pefMbo5I0vnk"
      },
      "outputs": [],
      "source": [
        "for review_file in abb_reviews:\n",
        "    lista_reviews.append(extraer_comentarios(review_file))"
      ]
    },
    {
      "cell_type": "markdown",
      "metadata": {
        "id": "6_oqjyiV6tr0"
      },
      "source": [
        " It is verified with the ***len*** function that there are actually ***620*** reviews in total, which is true, and subsequently a plain text file is created to verify the comments."
      ]
    },
    {
      "cell_type": "code",
      "execution_count": null,
      "metadata": {
        "colab": {
          "base_uri": "https://localhost:8080/"
        },
        "id": "CmecX1zG61QG",
        "outputId": "5e19bf41-81cb-4838-df16-7ad08acf93b8"
      },
      "outputs": [
        {
          "name": "stdout",
          "output_type": "stream",
          "text": [
            "620\n"
          ]
        }
      ],
      "source": [
        "print(len(sum(lista_reviews, [])))"
      ]
    },
    {
      "cell_type": "markdown",
      "metadata": {
        "id": "M7vgCKDr0EnA"
      },
      "source": [
        " All reviews are saved in a text file to manually verify using an external text editor that each of the 620 lines corresponding to comments are indeed comments and not other attributes of the reviews."
      ]
    },
    {
      "cell_type": "code",
      "execution_count": null,
      "metadata": {
        "id": "dKOW6Tr00txq"
      },
      "outputs": [],
      "source": [
        "if not os.path.exists(\"processing/coment_ALL.txt\"):\n",
        "    with open(\"processing/coment_ALL.txt\", mode=\"w\") as file:\n",
        "        file.write(\"\\n\".join(sum(lista_reviews, [])))"
      ]
    },
    {
      "cell_type": "markdown",
      "metadata": {
        "id": "HskTcv3m7yh6"
      },
      "source": [
        "## Feature to extract guest ratings from all files"
      ]
    },
    {
      "cell_type": "markdown",
      "metadata": {
        "id": "JXEVRKgA050w"
      },
      "source": [
        " Additionally, for sentiment analysis it is important to extract the rating from 1 to 5 that users gave in each of the reviews to contrast them with the result of the sentiment analysis. As with the comments themselves, the scores are also stored in list format and then create a ***Pandas DataFrame*** with them."
      ]
    },
    {
      "cell_type": "code",
      "execution_count": null,
      "metadata": {
        "id": "zoKWyjh80tnr"
      },
      "outputs": [],
      "source": [
        "def extraer_calificaciones(mi_archivo):\n",
        "    stars = []\n",
        "    with open(mi_archivo, mode=\"r\", encoding=\"utf-8\") as file:\n",
        "        texto = file.read()\n",
        "        fragmentos = texto.split(\"Calificación: \")\n",
        "\n",
        "    for i in range(1, len(fragmentos)):\n",
        "        stars.append(int(fragmentos[i][0]))\n",
        "\n",
        "    return stars"
      ]
    },
    {
      "cell_type": "code",
      "execution_count": null,
      "metadata": {
        "id": "OA3nuoW-2Wjo"
      },
      "outputs": [],
      "source": [
        "lista_stars = []\n",
        "\n",
        "for review_file in abb_reviews:\n",
        "    lista_stars.append(extraer_calificaciones(review_file))"
      ]
    },
    {
      "cell_type": "markdown",
      "metadata": {
        "id": "0M7G-P-86yN7"
      },
      "source": [
        " It is verified that the number of ratings is the same as the number of comments."
      ]
    },
    {
      "cell_type": "code",
      "execution_count": null,
      "metadata": {
        "colab": {
          "base_uri": "https://localhost:8080/"
        },
        "id": "RHPruB1g7c7d",
        "outputId": "e0945d04-6d16-4b0b-f3ff-a6d8b0844ed4"
      },
      "outputs": [
        {
          "data": {
            "text/plain": [
              "620"
            ]
          },
          "execution_count": 14,
          "metadata": {},
          "output_type": "execute_result"
        }
      ],
      "source": [
        "len(sum(lista_stars, []))"
      ]
    },
    {
      "cell_type": "markdown",
      "metadata": {
        "id": "KYakYfda2FMs"
      },
      "source": [
        " Indexes are created to identify each of the 10 accommodations prior to the creation of the *Pandas* *DataFrame*. Likewise, all the elements of reviews and number of stars for each accommodation are combined into a single list for each case."
      ]
    },
    {
      "cell_type": "code",
      "execution_count": null,
      "metadata": {
        "id": "qWkAmvV6JHMZ"
      },
      "outputs": [],
      "source": [
        "def unir_listas(lista):\n",
        "    return sum(lista, [])"
      ]
    },
    {
      "cell_type": "code",
      "execution_count": null,
      "metadata": {
        "id": "FVGg1-kSyr9_"
      },
      "outputs": [],
      "source": [
        "numero_resenas = []"
      ]
    },
    {
      "cell_type": "code",
      "execution_count": null,
      "metadata": {
        "id": "B2al9KBXyqjJ"
      },
      "outputs": [],
      "source": [
        "for resena in lista_reviews:\n",
        "    numero_resenas.append(len(resena))"
      ]
    },
    {
      "cell_type": "code",
      "execution_count": null,
      "metadata": {
        "colab": {
          "base_uri": "https://localhost:8080/"
        },
        "id": "MVoNif1dy5Pt",
        "outputId": "35b93623-aa89-452b-ea77-31e9aaf77406"
      },
      "outputs": [
        {
          "data": {
            "text/plain": [
              "[9, 17, 141, 15, 38, 8, 200, 29, 22, 141]"
            ]
          },
          "execution_count": 18,
          "metadata": {},
          "output_type": "execute_result"
        }
      ],
      "source": [
        "numero_resenas"
      ]
    },
    {
      "cell_type": "code",
      "execution_count": null,
      "metadata": {
        "id": "4JMIfkQ-1t17"
      },
      "outputs": [],
      "source": [
        "id_alojamiento = []\n",
        "for index, i in enumerate(numero_resenas, start=0):\n",
        "    id_alojamiento.append(list(np.full(i, index)))\n",
        "\n",
        "id_alojamiento = sum(id_alojamiento, [])"
      ]
    },
    {
      "cell_type": "code",
      "execution_count": null,
      "metadata": {
        "id": "cfME44DMJz6V"
      },
      "outputs": [],
      "source": [
        "lista_reviews = unir_listas(lista_reviews)\n",
        "lista_stars = unir_listas(lista_stars)"
      ]
    },
    {
      "cell_type": "markdown",
      "metadata": {
        "id": "3f2q8sAt2_IC"
      },
      "source": [
        " ## Pandas DataFrame Construction"
      ]
    },
    {
      "cell_type": "code",
      "execution_count": null,
      "metadata": {
        "id": "YAyf8OhbUxqD"
      },
      "outputs": [],
      "source": [
        "df_reviews = pd.DataFrame({\n",
        "    \"id_alojamiento\": id_alojamiento,\n",
        "    \"review\": lista_reviews,\n",
        "    \"stars\": lista_stars,\n",
        "})"
      ]
    },
    {
      "cell_type": "markdown",
      "metadata": {
        "id": "ukcQmVwg3JnO"
      },
      "source": [
        " A sampling is carried out in order to verify that the *DataFrame* was constructed correctly and it is saved in *csv* format for future use."
      ]
    },
    {
      "cell_type": "code",
      "execution_count": null,
      "metadata": {
        "colab": {
          "base_uri": "https://localhost:8080/",
          "height": 345
        },
        "id": "ZezsIjYKVBlg",
        "outputId": "cbfccf19-dedf-4433-c35f-99a4cbd993b0"
      },
      "outputs": [
        {
          "data": {
            "application/vnd.google.colaboratory.intrinsic+json": {
              "summary": "{\n  \"name\": \"df_reviews\",\n  \"rows\": 5,\n  \"fields\": [\n    {\n      \"column\": \"id_alojamiento\",\n      \"properties\": {\n        \"dtype\": \"number\",\n        \"std\": 2,\n        \"min\": 2,\n        \"max\": 7,\n        \"num_unique_values\": 4,\n        \"samples\": [\n          2,\n          7,\n          6\n        ],\n        \"semantic_type\": \"\",\n        \"description\": \"\"\n      }\n    },\n    {\n      \"column\": \"review\",\n      \"properties\": {\n        \"dtype\": \"string\",\n        \"num_unique_values\": 5,\n        \"samples\": [\n          \"Excelente y jonny es muy chevere. Tiene buena energia\",\n          \"Such a cool spot. I am a woman traveling alone through Ecuador from the US and this was one of my favorite spots. The place is so stylish and unique, it represented the best parts of travel. While not luxurious in a traditional sense (composting toilet and cold shower) it offers a sort of opulence that is much harder to find. My room was huge and had a private balcony looking over the town of Montanita and the coast. Hammocks in the the room and on the balcony and lots of little handmade tables for a drink and a book (superfluous furniture is definitely a luxury in Ecuador). Beautiful wood floors and abundant windows. The wi-fi was great and the noise from Montanita very minimal. I highly recommend having an adventure at this glorious and unforgettable hostel!\",\n          \"Aparte de ser un lugar incre\\u00edble, acogedor, perfectamente ubicado para poder disfrutar de una vista maravillosa del mar, tambi\\u00e9n cuenta con una host fenomenal como Tania, quien fue muy atenta con nosotros. Muy gustosa nos hizo un mini tour de lugares deliciosos para comer, o disfrutar de c\\u00f3cteles frente al atardecer. Hospedarse aqu\\u00ed es una experiencia que de seguro querr\\u00e1s volver a vivir. Recomendad\\u00edsimo!!\"\n        ],\n        \"semantic_type\": \"\",\n        \"description\": \"\"\n      }\n    },\n    {\n      \"column\": \"stars\",\n      \"properties\": {\n        \"dtype\": \"number\",\n        \"std\": 0,\n        \"min\": 3,\n        \"max\": 5,\n        \"num_unique_values\": 2,\n        \"samples\": [\n          3,\n          5\n        ],\n        \"semantic_type\": \"\",\n        \"description\": \"\"\n      }\n    }\n  ]\n}",
              "type": "dataframe"
            },
            "text/html": [
              "\n",
              "  <div id=\"df-bf74aea7-923b-4781-9a2f-1770116be919\" class=\"colab-df-container\">\n",
              "    <div>\n",
              "<style scoped>\n",
              "    .dataframe tbody tr th:only-of-type {\n",
              "        vertical-align: middle;\n",
              "    }\n",
              "\n",
              "    .dataframe tbody tr th {\n",
              "        vertical-align: top;\n",
              "    }\n",
              "\n",
              "    .dataframe thead th {\n",
              "        text-align: right;\n",
              "    }\n",
              "</style>\n",
              "<table border=\"1\" class=\"dataframe\">\n",
              "  <thead>\n",
              "    <tr style=\"text-align: right;\">\n",
              "      <th></th>\n",
              "      <th>id_alojamiento</th>\n",
              "      <th>review</th>\n",
              "      <th>stars</th>\n",
              "    </tr>\n",
              "  </thead>\n",
              "  <tbody>\n",
              "    <tr>\n",
              "      <th>369</th>\n",
              "      <td>6</td>\n",
              "      <td>This is a good value in Montanita. It is a good location away from the central chaos but a close walk. It has AC and a nice view.</td>\n",
              "      <td>5</td>\n",
              "    </tr>\n",
              "    <tr>\n",
              "      <th>50</th>\n",
              "      <td>2</td>\n",
              "      <td>Excelente y jonny es muy chevere. Tiene buena energia</td>\n",
              "      <td>5</td>\n",
              "    </tr>\n",
              "    <tr>\n",
              "      <th>206</th>\n",
              "      <td>4</td>\n",
              "      <td>Aparte de ser un lugar increíble, acogedor, perfectamente ubicado para poder disfrutar de una vista maravillosa del mar, también cuenta con una host fenomenal como Tania, quien fue muy atenta con nosotros. Muy gustosa nos hizo un mini tour de lugares deliciosos para comer, o disfrutar de cócteles frente al atardecer. Hospedarse aquí es una experiencia que de seguro querrás volver a vivir. Recomendadísimo!!</td>\n",
              "      <td>5</td>\n",
              "    </tr>\n",
              "    <tr>\n",
              "      <th>270</th>\n",
              "      <td>6</td>\n",
              "      <td>La verdad no le doy las 5 estrellas porque la cama estaba con algo de polvo y sería recomendable cambiar o lavar y aspirar porque mi novia y yo tuvimos alergias. El otro detalle es que el camino de ma entrada estuvo algo peligroso en caso de lluvia y mucha maleza a los lados que provocan mosquitos, de ahí todo perfecto me gusto porque es acogedor, pude hubo una vista muy linda</td>\n",
              "      <td>3</td>\n",
              "    </tr>\n",
              "    <tr>\n",
              "      <th>451</th>\n",
              "      <td>7</td>\n",
              "      <td>Such a cool spot. I am a woman traveling alone through Ecuador from the US and this was one of my favorite spots. The place is so stylish and unique, it represented the best parts of travel. While not luxurious in a traditional sense (composting toilet and cold shower) it offers a sort of opulence that is much harder to find. My room was huge and had a private balcony looking over the town of Montanita and the coast. Hammocks in the the room and on the balcony and lots of little handmade tables for a drink and a book (superfluous furniture is definitely a luxury in Ecuador). Beautiful wood floors and abundant windows. The wi-fi was great and the noise from Montanita very minimal. I highly recommend having an adventure at this glorious and unforgettable hostel!</td>\n",
              "      <td>5</td>\n",
              "    </tr>\n",
              "  </tbody>\n",
              "</table>\n",
              "</div>\n",
              "    <div class=\"colab-df-buttons\">\n",
              "\n",
              "  <div class=\"colab-df-container\">\n",
              "    <button class=\"colab-df-convert\" onclick=\"convertToInteractive('df-bf74aea7-923b-4781-9a2f-1770116be919')\"\n",
              "            title=\"Convert this dataframe to an interactive table.\"\n",
              "            style=\"display:none;\">\n",
              "\n",
              "  <svg xmlns=\"http://www.w3.org/2000/svg\" height=\"24px\" viewBox=\"0 -960 960 960\">\n",
              "    <path d=\"M120-120v-720h720v720H120Zm60-500h600v-160H180v160Zm220 220h160v-160H400v160Zm0 220h160v-160H400v160ZM180-400h160v-160H180v160Zm440 0h160v-160H620v160ZM180-180h160v-160H180v160Zm440 0h160v-160H620v160Z\"/>\n",
              "  </svg>\n",
              "    </button>\n",
              "\n",
              "  <style>\n",
              "    .colab-df-container {\n",
              "      display:flex;\n",
              "      gap: 12px;\n",
              "    }\n",
              "\n",
              "    .colab-df-convert {\n",
              "      background-color: #E8F0FE;\n",
              "      border: none;\n",
              "      border-radius: 50%;\n",
              "      cursor: pointer;\n",
              "      display: none;\n",
              "      fill: #1967D2;\n",
              "      height: 32px;\n",
              "      padding: 0 0 0 0;\n",
              "      width: 32px;\n",
              "    }\n",
              "\n",
              "    .colab-df-convert:hover {\n",
              "      background-color: #E2EBFA;\n",
              "      box-shadow: 0px 1px 2px rgba(60, 64, 67, 0.3), 0px 1px 3px 1px rgba(60, 64, 67, 0.15);\n",
              "      fill: #174EA6;\n",
              "    }\n",
              "\n",
              "    .colab-df-buttons div {\n",
              "      margin-bottom: 4px;\n",
              "    }\n",
              "\n",
              "    [theme=dark] .colab-df-convert {\n",
              "      background-color: #3B4455;\n",
              "      fill: #D2E3FC;\n",
              "    }\n",
              "\n",
              "    [theme=dark] .colab-df-convert:hover {\n",
              "      background-color: #434B5C;\n",
              "      box-shadow: 0px 1px 3px 1px rgba(0, 0, 0, 0.15);\n",
              "      filter: drop-shadow(0px 1px 2px rgba(0, 0, 0, 0.3));\n",
              "      fill: #FFFFFF;\n",
              "    }\n",
              "  </style>\n",
              "\n",
              "    <script>\n",
              "      const buttonEl =\n",
              "        document.querySelector('#df-bf74aea7-923b-4781-9a2f-1770116be919 button.colab-df-convert');\n",
              "      buttonEl.style.display =\n",
              "        google.colab.kernel.accessAllowed ? 'block' : 'none';\n",
              "\n",
              "      async function convertToInteractive(key) {\n",
              "        const element = document.querySelector('#df-bf74aea7-923b-4781-9a2f-1770116be919');\n",
              "        const dataTable =\n",
              "          await google.colab.kernel.invokeFunction('convertToInteractive',\n",
              "                                                    [key], {});\n",
              "        if (!dataTable) return;\n",
              "\n",
              "        const docLinkHtml = 'Like what you see? Visit the ' +\n",
              "          '<a target=\"_blank\" href=https://colab.research.google.com/notebooks/data_table.ipynb>data table notebook</a>'\n",
              "          + ' to learn more about interactive tables.';\n",
              "        element.innerHTML = '';\n",
              "        dataTable['output_type'] = 'display_data';\n",
              "        await google.colab.output.renderOutput(dataTable, element);\n",
              "        const docLink = document.createElement('div');\n",
              "        docLink.innerHTML = docLinkHtml;\n",
              "        element.appendChild(docLink);\n",
              "      }\n",
              "    </script>\n",
              "  </div>\n",
              "\n",
              "\n",
              "<div id=\"df-aef494c0-63d9-42e9-88c3-031f2b506fa8\">\n",
              "  <button class=\"colab-df-quickchart\" onclick=\"quickchart('df-aef494c0-63d9-42e9-88c3-031f2b506fa8')\"\n",
              "            title=\"Suggest charts\"\n",
              "            style=\"display:none;\">\n",
              "\n",
              "<svg xmlns=\"http://www.w3.org/2000/svg\" height=\"24px\"viewBox=\"0 0 24 24\"\n",
              "     width=\"24px\">\n",
              "    <g>\n",
              "        <path d=\"M19 3H5c-1.1 0-2 .9-2 2v14c0 1.1.9 2 2 2h14c1.1 0 2-.9 2-2V5c0-1.1-.9-2-2-2zM9 17H7v-7h2v7zm4 0h-2V7h2v10zm4 0h-2v-4h2v4z\"/>\n",
              "    </g>\n",
              "</svg>\n",
              "  </button>\n",
              "\n",
              "<style>\n",
              "  .colab-df-quickchart {\n",
              "      --bg-color: #E8F0FE;\n",
              "      --fill-color: #1967D2;\n",
              "      --hover-bg-color: #E2EBFA;\n",
              "      --hover-fill-color: #174EA6;\n",
              "      --disabled-fill-color: #AAA;\n",
              "      --disabled-bg-color: #DDD;\n",
              "  }\n",
              "\n",
              "  [theme=dark] .colab-df-quickchart {\n",
              "      --bg-color: #3B4455;\n",
              "      --fill-color: #D2E3FC;\n",
              "      --hover-bg-color: #434B5C;\n",
              "      --hover-fill-color: #FFFFFF;\n",
              "      --disabled-bg-color: #3B4455;\n",
              "      --disabled-fill-color: #666;\n",
              "  }\n",
              "\n",
              "  .colab-df-quickchart {\n",
              "    background-color: var(--bg-color);\n",
              "    border: none;\n",
              "    border-radius: 50%;\n",
              "    cursor: pointer;\n",
              "    display: none;\n",
              "    fill: var(--fill-color);\n",
              "    height: 32px;\n",
              "    padding: 0;\n",
              "    width: 32px;\n",
              "  }\n",
              "\n",
              "  .colab-df-quickchart:hover {\n",
              "    background-color: var(--hover-bg-color);\n",
              "    box-shadow: 0 1px 2px rgba(60, 64, 67, 0.3), 0 1px 3px 1px rgba(60, 64, 67, 0.15);\n",
              "    fill: var(--button-hover-fill-color);\n",
              "  }\n",
              "\n",
              "  .colab-df-quickchart-complete:disabled,\n",
              "  .colab-df-quickchart-complete:disabled:hover {\n",
              "    background-color: var(--disabled-bg-color);\n",
              "    fill: var(--disabled-fill-color);\n",
              "    box-shadow: none;\n",
              "  }\n",
              "\n",
              "  .colab-df-spinner {\n",
              "    border: 2px solid var(--fill-color);\n",
              "    border-color: transparent;\n",
              "    border-bottom-color: var(--fill-color);\n",
              "    animation:\n",
              "      spin 1s steps(1) infinite;\n",
              "  }\n",
              "\n",
              "  @keyframes spin {\n",
              "    0% {\n",
              "      border-color: transparent;\n",
              "      border-bottom-color: var(--fill-color);\n",
              "      border-left-color: var(--fill-color);\n",
              "    }\n",
              "    20% {\n",
              "      border-color: transparent;\n",
              "      border-left-color: var(--fill-color);\n",
              "      border-top-color: var(--fill-color);\n",
              "    }\n",
              "    30% {\n",
              "      border-color: transparent;\n",
              "      border-left-color: var(--fill-color);\n",
              "      border-top-color: var(--fill-color);\n",
              "      border-right-color: var(--fill-color);\n",
              "    }\n",
              "    40% {\n",
              "      border-color: transparent;\n",
              "      border-right-color: var(--fill-color);\n",
              "      border-top-color: var(--fill-color);\n",
              "    }\n",
              "    60% {\n",
              "      border-color: transparent;\n",
              "      border-right-color: var(--fill-color);\n",
              "    }\n",
              "    80% {\n",
              "      border-color: transparent;\n",
              "      border-right-color: var(--fill-color);\n",
              "      border-bottom-color: var(--fill-color);\n",
              "    }\n",
              "    90% {\n",
              "      border-color: transparent;\n",
              "      border-bottom-color: var(--fill-color);\n",
              "    }\n",
              "  }\n",
              "</style>\n",
              "\n",
              "  <script>\n",
              "    async function quickchart(key) {\n",
              "      const quickchartButtonEl =\n",
              "        document.querySelector('#' + key + ' button');\n",
              "      quickchartButtonEl.disabled = true;  // To prevent multiple clicks.\n",
              "      quickchartButtonEl.classList.add('colab-df-spinner');\n",
              "      try {\n",
              "        const charts = await google.colab.kernel.invokeFunction(\n",
              "            'suggestCharts', [key], {});\n",
              "      } catch (error) {\n",
              "        console.error('Error during call to suggestCharts:', error);\n",
              "      }\n",
              "      quickchartButtonEl.classList.remove('colab-df-spinner');\n",
              "      quickchartButtonEl.classList.add('colab-df-quickchart-complete');\n",
              "    }\n",
              "    (() => {\n",
              "      let quickchartButtonEl =\n",
              "        document.querySelector('#df-aef494c0-63d9-42e9-88c3-031f2b506fa8 button');\n",
              "      quickchartButtonEl.style.display =\n",
              "        google.colab.kernel.accessAllowed ? 'block' : 'none';\n",
              "    })();\n",
              "  </script>\n",
              "</div>\n",
              "\n",
              "    </div>\n",
              "  </div>\n"
            ],
            "text/plain": [
              "     id_alojamiento  \\\n",
              "369               6   \n",
              "50                2   \n",
              "206               4   \n",
              "270               6   \n",
              "451               7   \n",
              "\n",
              "                                                                                                                                                                                                                                                                                                                                                                                                                                                                                                                                                                                                                                                                                                                                                                                                 review  \\\n",
              "369                                                                                                                                                                                                                                                                                                                                                                                                                                                                                                                                                                                                                                                                   This is a good value in Montanita. It is a good location away from the central chaos but a close walk. It has AC and a nice view.   \n",
              "50                                                                                                                                                                                                                                                                                                                                                                                                                                                                                                                                                                                                                                                                                                                                                Excelente y jonny es muy chevere. Tiene buena energia   \n",
              "206                                                                                                                                                                                                                                                                                                                                                                           Aparte de ser un lugar increíble, acogedor, perfectamente ubicado para poder disfrutar de una vista maravillosa del mar, también cuenta con una host fenomenal como Tania, quien fue muy atenta con nosotros. Muy gustosa nos hizo un mini tour de lugares deliciosos para comer, o disfrutar de cócteles frente al atardecer. Hospedarse aquí es una experiencia que de seguro querrás volver a vivir. Recomendadísimo!!   \n",
              "270                                                                                                                                                                                                                                                                                                                                                                                                         La verdad no le doy las 5 estrellas porque la cama estaba con algo de polvo y sería recomendable cambiar o lavar y aspirar porque mi novia y yo tuvimos alergias. El otro detalle es que el camino de ma entrada estuvo algo peligroso en caso de lluvia y mucha maleza a los lados que provocan mosquitos, de ahí todo perfecto me gusto porque es acogedor, pude hubo una vista muy linda   \n",
              "451  Such a cool spot. I am a woman traveling alone through Ecuador from the US and this was one of my favorite spots. The place is so stylish and unique, it represented the best parts of travel. While not luxurious in a traditional sense (composting toilet and cold shower) it offers a sort of opulence that is much harder to find. My room was huge and had a private balcony looking over the town of Montanita and the coast. Hammocks in the the room and on the balcony and lots of little handmade tables for a drink and a book (superfluous furniture is definitely a luxury in Ecuador). Beautiful wood floors and abundant windows. The wi-fi was great and the noise from Montanita very minimal. I highly recommend having an adventure at this glorious and unforgettable hostel!   \n",
              "\n",
              "     stars  \n",
              "369      5  \n",
              "50       5  \n",
              "206      5  \n",
              "270      3  \n",
              "451      5  "
            ]
          },
          "execution_count": 22,
          "metadata": {},
          "output_type": "execute_result"
        }
      ],
      "source": [
        "df_reviews.sample(5)"
      ]
    },
    {
      "cell_type": "code",
      "execution_count": null,
      "metadata": {
        "id": "sOe-J8CeH5F6"
      },
      "outputs": [],
      "source": [
        "if not os.path.exists(\"processing/df_reviews.csv\"):\n",
        "    df_reviews.to_csv(\"processing/df_reviews.csv\", index=False)"
      ]
    },
    {
      "cell_type": "markdown",
      "metadata": {
        "id": "iH6obQtl0Wmt"
      },
      "source": [
        "The reviews left by guests are then translated to the accommodations with the help of **Google Cloud Translate**, which automatically detects the language of the input texts and translates them into English in order to process them. later when performing the sentiment analysis. For subsequent runs of this *Jupyter Notebook*, the file with the already translated reviews is imported in order not to exceed the quota of translations allowed in the free tier of *Google Cloud Translate*. If you want to replicate the use of ***Google Cloud Translate*** for automatic text translation, you must use an existing ***Google Cloud*** account or create a new account and generate the credentials. access to the API, following the documentation of the cloud service provider. The reason why data is stored in *.xlsx* format instead of *.csv* is that sometimes the ***Pandas*** interpreter confuses certain special characters with data delimiters and a error occurs. wrong reading for some of the records."
      ]
    },
    {
      "cell_type": "code",
      "execution_count": null,
      "metadata": {
        "id": "miNvAlTRMrMc"
      },
      "outputs": [],
      "source": [
        "df_traducciones = pd.DataFrame()"
      ]
    },
    {
      "cell_type": "code",
      "execution_count": null,
      "metadata": {
        "id": "BgNE4aBr_TWF"
      },
      "outputs": [],
      "source": [
        "from google.cloud import translate_v2 as translate\n",
        "\n",
        "# Lectura de llave privada de la API de Google Cloud Translate\n",
        "client = translate.Client.from_service_account_json(\n",
        "    \"processing/private_key_translate.json\"\n",
        ")\n",
        "\n",
        "if not os.path.exists(\"translations/df_reviews_traducido.xlsx\"):\n",
        "    # Función para traducir un texto\n",
        "    def translate_text(text, target_language='en'):\n",
        "        result = client.translate(text, target_language=target_language)\n",
        "        return result['translatedText']\n",
        "\n",
        "    # Traducción de texto en la columna \"review\"\n",
        "    df_reviews['texto_traducido'] = df_reviews[\"review\"].apply(\n",
        "        lambda x: translate_text(x, target_language=\"en\")\n",
        "    )\n",
        "\n",
        "    # Almacenamiento de reseñas traducidas para uso futuro\n",
        "    df_reviews[[\n",
        "            \"id_alojamiento\", \"review\", \"texto_traducido\", \"stars\"\n",
        "        ]].to_excel(\n",
        "        \"translations/df_reviews_traducido.xlsx\", index=False\n",
        "    )\n",
        "\n",
        "else:\n",
        "    df_reviews['texto_traducido'] = pd.read_excel(\n",
        "        \"translations/df_reviews_traducido.xlsx\"\n",
        "    )[\"texto_traducido\"]"
      ]
    },
    {
      "cell_type": "markdown",
      "metadata": {
        "id": "djYOSgWQM2yR"
      },
      "source": [
        " random sample of the data is obtained in order to verify the translations made."
      ]
    },
    {
      "cell_type": "code",
      "execution_count": null,
      "metadata": {
        "colab": {
          "base_uri": "https://localhost:8080/",
          "height": 589
        },
        "id": "WFZwFzPOOLZf",
        "outputId": "76568817-b8c1-438a-ab35-a9fb82403e57"
      },
      "outputs": [
        {
          "data": {
            "application/vnd.google.colaboratory.intrinsic+json": {
              "summary": "{\n  \"name\": \"df_reviews\",\n  \"rows\": 10,\n  \"fields\": [\n    {\n      \"column\": \"id_alojamiento\",\n      \"properties\": {\n        \"dtype\": \"number\",\n        \"std\": 3,\n        \"min\": 1,\n        \"max\": 9,\n        \"num_unique_values\": 5,\n        \"samples\": [\n          9,\n          5,\n          2\n        ],\n        \"semantic_type\": \"\",\n        \"description\": \"\"\n      }\n    },\n    {\n      \"column\": \"review\",\n      \"properties\": {\n        \"dtype\": \"string\",\n        \"num_unique_values\": 10,\n        \"samples\": [\n          \"This is the second time I have stayed here and it was as enjoyable as the first. This is a very cozy nice,place to stay. I highly recommend it.\",\n          \"Great place! Everything was as advertised. Response from the host is fast and accurate. Would visit here again!\",\n          \"Pr\\u00e1ctico para quedarse un par de noches. Buena respuesta del anfitri\\u00f3n.\"\n        ],\n        \"semantic_type\": \"\",\n        \"description\": \"\"\n      }\n    },\n    {\n      \"column\": \"stars\",\n      \"properties\": {\n        \"dtype\": \"number\",\n        \"std\": 0,\n        \"min\": 3,\n        \"max\": 5,\n        \"num_unique_values\": 3,\n        \"samples\": [\n          3,\n          5,\n          4\n        ],\n        \"semantic_type\": \"\",\n        \"description\": \"\"\n      }\n    },\n    {\n      \"column\": \"texto_traducido\",\n      \"properties\": {\n        \"dtype\": \"string\",\n        \"num_unique_values\": 10,\n        \"samples\": [\n          \"This is the second time I have stayed here and it was as enjoyable as the first. This is a very cozy nice,place to stay. I highly recommend it.\",\n          \"Great place! Everything was as advertised. Response from the host is fast and accurate. Would visit here again!\",\n          \"Practical to stay a couple of nights. Good response from the host.\"\n        ],\n        \"semantic_type\": \"\",\n        \"description\": \"\"\n      }\n    }\n  ]\n}",
              "type": "dataframe"
            },
            "text/html": [
              "\n",
              "  <div id=\"df-b6f1b06f-b9fa-4871-b8ff-769932318879\" class=\"colab-df-container\">\n",
              "    <div>\n",
              "<style scoped>\n",
              "    .dataframe tbody tr th:only-of-type {\n",
              "        vertical-align: middle;\n",
              "    }\n",
              "\n",
              "    .dataframe tbody tr th {\n",
              "        vertical-align: top;\n",
              "    }\n",
              "\n",
              "    .dataframe thead th {\n",
              "        text-align: right;\n",
              "    }\n",
              "</style>\n",
              "<table border=\"1\" class=\"dataframe\">\n",
              "  <thead>\n",
              "    <tr style=\"text-align: right;\">\n",
              "      <th></th>\n",
              "      <th>id_alojamiento</th>\n",
              "      <th>review</th>\n",
              "      <th>stars</th>\n",
              "      <th>texto_traducido</th>\n",
              "    </tr>\n",
              "  </thead>\n",
              "  <tbody>\n",
              "    <tr>\n",
              "      <th>11</th>\n",
              "      <td>1</td>\n",
              "      <td>I don't think this should be listed on Airbnb as an entire apartment. It's a very small motel room (one of many) with a sink in the corner and an open space outside. There is a shared outdoor kitchen.</td>\n",
              "      <td>3</td>\n",
              "      <td>I don't think this should be listed on Airbnb as an entire apartment. It's a very small motel room (one of many) with a sink in the corner and an open space outside. There is a shared outdoor kitchen.</td>\n",
              "    </tr>\n",
              "    <tr>\n",
              "      <th>494</th>\n",
              "      <td>9</td>\n",
              "      <td>Great place! Everything was as advertised. Response from the host is fast and accurate. Would visit here again!</td>\n",
              "      <td>5</td>\n",
              "      <td>Great place! Everything was as advertised. Response from the host is fast and accurate. Would visit here again!</td>\n",
              "    </tr>\n",
              "    <tr>\n",
              "      <th>612</th>\n",
              "      <td>9</td>\n",
              "      <td>My husband and I enjoyed our days on Gijs &amp; Liliana apartment. It's a beautiful and quiet place on Manglaralto, where you can rest. It's 15 minutes near Montañita and only 5 minutes near the beach.</td>\n",
              "      <td>5</td>\n",
              "      <td>My husband and I enjoyed our days on Gijs &amp; Liliana apartment. It's a beautiful and quiet place on Manglaralto, where you can rest. It's 15 minutes near Montañita and only 5 minutes near the beach.</td>\n",
              "    </tr>\n",
              "    <tr>\n",
              "      <th>536</th>\n",
              "      <td>9</td>\n",
              "      <td>We had as good a stay as possible at the lovely apartment of Gijs and Liliana's place in Manglaralto. A cute place with everything we needed. A very comfortable bed and pillows.</td>\n",
              "      <td>5</td>\n",
              "      <td>We had as good a stay as possible at the lovely apartment of Gijs and Liliana's place in Manglaralto. A cute place with everything we needed. A very comfortable bed and pillows.</td>\n",
              "    </tr>\n",
              "    <tr>\n",
              "      <th>128</th>\n",
              "      <td>2</td>\n",
              "      <td>Muy bueno apartamento : ubicaccion, vista sobre la playa, aire accondicionado, buena cama, todo bien.</td>\n",
              "      <td>5</td>\n",
              "      <td>Very good apartment: location, view of the beach, air conditioning, good bed, everything good.</td>\n",
              "    </tr>\n",
              "    <tr>\n",
              "      <th>399</th>\n",
              "      <td>6</td>\n",
              "      <td>Práctico para quedarse un par de noches. Buena respuesta del anfitrión.</td>\n",
              "      <td>4</td>\n",
              "      <td>Practical to stay a couple of nights. Good response from the host.</td>\n",
              "    </tr>\n",
              "    <tr>\n",
              "      <th>220</th>\n",
              "      <td>5</td>\n",
              "      <td>El anfitrión fue muy amable desde el principio hasta el final. El alojamiento se encuentra muy cerca a la playa y a la zona de restaurantes y bares por lo cual es una buena opción.</td>\n",
              "      <td>5</td>\n",
              "      <td>The host was very friendly from start to finish. The accommodation is very close to the beach and the area of restaurants and bars, making it a good option.</td>\n",
              "    </tr>\n",
              "    <tr>\n",
              "      <th>13</th>\n",
              "      <td>1</td>\n",
              "      <td>Great place! Close to the beach, nice outside kitchen, quiet at night, budget friendly. Enjoy!</td>\n",
              "      <td>5</td>\n",
              "      <td>Great place! Close to the beach, nice outside kitchen, quiet at night, budget friendly. Enjoy!</td>\n",
              "    </tr>\n",
              "    <tr>\n",
              "      <th>351</th>\n",
              "      <td>6</td>\n",
              "      <td>This is the second time I have stayed here and it was as enjoyable as the first. This is a very cozy nice,place to stay. I highly recommend it.</td>\n",
              "      <td>5</td>\n",
              "      <td>This is the second time I have stayed here and it was as enjoyable as the first. This is a very cozy nice,place to stay. I highly recommend it.</td>\n",
              "    </tr>\n",
              "    <tr>\n",
              "      <th>517</th>\n",
              "      <td>9</td>\n",
              "      <td>Lugar muy acogedor y todo ordenado. Siempre estuvieron pendientes de uno</td>\n",
              "      <td>5</td>\n",
              "      <td>Very cozy place and everything tidy. They were always looking out for you</td>\n",
              "    </tr>\n",
              "  </tbody>\n",
              "</table>\n",
              "</div>\n",
              "    <div class=\"colab-df-buttons\">\n",
              "\n",
              "  <div class=\"colab-df-container\">\n",
              "    <button class=\"colab-df-convert\" onclick=\"convertToInteractive('df-b6f1b06f-b9fa-4871-b8ff-769932318879')\"\n",
              "            title=\"Convert this dataframe to an interactive table.\"\n",
              "            style=\"display:none;\">\n",
              "\n",
              "  <svg xmlns=\"http://www.w3.org/2000/svg\" height=\"24px\" viewBox=\"0 -960 960 960\">\n",
              "    <path d=\"M120-120v-720h720v720H120Zm60-500h600v-160H180v160Zm220 220h160v-160H400v160Zm0 220h160v-160H400v160ZM180-400h160v-160H180v160Zm440 0h160v-160H620v160ZM180-180h160v-160H180v160Zm440 0h160v-160H620v160Z\"/>\n",
              "  </svg>\n",
              "    </button>\n",
              "\n",
              "  <style>\n",
              "    .colab-df-container {\n",
              "      display:flex;\n",
              "      gap: 12px;\n",
              "    }\n",
              "\n",
              "    .colab-df-convert {\n",
              "      background-color: #E8F0FE;\n",
              "      border: none;\n",
              "      border-radius: 50%;\n",
              "      cursor: pointer;\n",
              "      display: none;\n",
              "      fill: #1967D2;\n",
              "      height: 32px;\n",
              "      padding: 0 0 0 0;\n",
              "      width: 32px;\n",
              "    }\n",
              "\n",
              "    .colab-df-convert:hover {\n",
              "      background-color: #E2EBFA;\n",
              "      box-shadow: 0px 1px 2px rgba(60, 64, 67, 0.3), 0px 1px 3px 1px rgba(60, 64, 67, 0.15);\n",
              "      fill: #174EA6;\n",
              "    }\n",
              "\n",
              "    .colab-df-buttons div {\n",
              "      margin-bottom: 4px;\n",
              "    }\n",
              "\n",
              "    [theme=dark] .colab-df-convert {\n",
              "      background-color: #3B4455;\n",
              "      fill: #D2E3FC;\n",
              "    }\n",
              "\n",
              "    [theme=dark] .colab-df-convert:hover {\n",
              "      background-color: #434B5C;\n",
              "      box-shadow: 0px 1px 3px 1px rgba(0, 0, 0, 0.15);\n",
              "      filter: drop-shadow(0px 1px 2px rgba(0, 0, 0, 0.3));\n",
              "      fill: #FFFFFF;\n",
              "    }\n",
              "  </style>\n",
              "\n",
              "    <script>\n",
              "      const buttonEl =\n",
              "        document.querySelector('#df-b6f1b06f-b9fa-4871-b8ff-769932318879 button.colab-df-convert');\n",
              "      buttonEl.style.display =\n",
              "        google.colab.kernel.accessAllowed ? 'block' : 'none';\n",
              "\n",
              "      async function convertToInteractive(key) {\n",
              "        const element = document.querySelector('#df-b6f1b06f-b9fa-4871-b8ff-769932318879');\n",
              "        const dataTable =\n",
              "          await google.colab.kernel.invokeFunction('convertToInteractive',\n",
              "                                                    [key], {});\n",
              "        if (!dataTable) return;\n",
              "\n",
              "        const docLinkHtml = 'Like what you see? Visit the ' +\n",
              "          '<a target=\"_blank\" href=https://colab.research.google.com/notebooks/data_table.ipynb>data table notebook</a>'\n",
              "          + ' to learn more about interactive tables.';\n",
              "        element.innerHTML = '';\n",
              "        dataTable['output_type'] = 'display_data';\n",
              "        await google.colab.output.renderOutput(dataTable, element);\n",
              "        const docLink = document.createElement('div');\n",
              "        docLink.innerHTML = docLinkHtml;\n",
              "        element.appendChild(docLink);\n",
              "      }\n",
              "    </script>\n",
              "  </div>\n",
              "\n",
              "\n",
              "<div id=\"df-4e34514b-562b-4b15-a0d3-c44fb78f8496\">\n",
              "  <button class=\"colab-df-quickchart\" onclick=\"quickchart('df-4e34514b-562b-4b15-a0d3-c44fb78f8496')\"\n",
              "            title=\"Suggest charts\"\n",
              "            style=\"display:none;\">\n",
              "\n",
              "<svg xmlns=\"http://www.w3.org/2000/svg\" height=\"24px\"viewBox=\"0 0 24 24\"\n",
              "     width=\"24px\">\n",
              "    <g>\n",
              "        <path d=\"M19 3H5c-1.1 0-2 .9-2 2v14c0 1.1.9 2 2 2h14c1.1 0 2-.9 2-2V5c0-1.1-.9-2-2-2zM9 17H7v-7h2v7zm4 0h-2V7h2v10zm4 0h-2v-4h2v4z\"/>\n",
              "    </g>\n",
              "</svg>\n",
              "  </button>\n",
              "\n",
              "<style>\n",
              "  .colab-df-quickchart {\n",
              "      --bg-color: #E8F0FE;\n",
              "      --fill-color: #1967D2;\n",
              "      --hover-bg-color: #E2EBFA;\n",
              "      --hover-fill-color: #174EA6;\n",
              "      --disabled-fill-color: #AAA;\n",
              "      --disabled-bg-color: #DDD;\n",
              "  }\n",
              "\n",
              "  [theme=dark] .colab-df-quickchart {\n",
              "      --bg-color: #3B4455;\n",
              "      --fill-color: #D2E3FC;\n",
              "      --hover-bg-color: #434B5C;\n",
              "      --hover-fill-color: #FFFFFF;\n",
              "      --disabled-bg-color: #3B4455;\n",
              "      --disabled-fill-color: #666;\n",
              "  }\n",
              "\n",
              "  .colab-df-quickchart {\n",
              "    background-color: var(--bg-color);\n",
              "    border: none;\n",
              "    border-radius: 50%;\n",
              "    cursor: pointer;\n",
              "    display: none;\n",
              "    fill: var(--fill-color);\n",
              "    height: 32px;\n",
              "    padding: 0;\n",
              "    width: 32px;\n",
              "  }\n",
              "\n",
              "  .colab-df-quickchart:hover {\n",
              "    background-color: var(--hover-bg-color);\n",
              "    box-shadow: 0 1px 2px rgba(60, 64, 67, 0.3), 0 1px 3px 1px rgba(60, 64, 67, 0.15);\n",
              "    fill: var(--button-hover-fill-color);\n",
              "  }\n",
              "\n",
              "  .colab-df-quickchart-complete:disabled,\n",
              "  .colab-df-quickchart-complete:disabled:hover {\n",
              "    background-color: var(--disabled-bg-color);\n",
              "    fill: var(--disabled-fill-color);\n",
              "    box-shadow: none;\n",
              "  }\n",
              "\n",
              "  .colab-df-spinner {\n",
              "    border: 2px solid var(--fill-color);\n",
              "    border-color: transparent;\n",
              "    border-bottom-color: var(--fill-color);\n",
              "    animation:\n",
              "      spin 1s steps(1) infinite;\n",
              "  }\n",
              "\n",
              "  @keyframes spin {\n",
              "    0% {\n",
              "      border-color: transparent;\n",
              "      border-bottom-color: var(--fill-color);\n",
              "      border-left-color: var(--fill-color);\n",
              "    }\n",
              "    20% {\n",
              "      border-color: transparent;\n",
              "      border-left-color: var(--fill-color);\n",
              "      border-top-color: var(--fill-color);\n",
              "    }\n",
              "    30% {\n",
              "      border-color: transparent;\n",
              "      border-left-color: var(--fill-color);\n",
              "      border-top-color: var(--fill-color);\n",
              "      border-right-color: var(--fill-color);\n",
              "    }\n",
              "    40% {\n",
              "      border-color: transparent;\n",
              "      border-right-color: var(--fill-color);\n",
              "      border-top-color: var(--fill-color);\n",
              "    }\n",
              "    60% {\n",
              "      border-color: transparent;\n",
              "      border-right-color: var(--fill-color);\n",
              "    }\n",
              "    80% {\n",
              "      border-color: transparent;\n",
              "      border-right-color: var(--fill-color);\n",
              "      border-bottom-color: var(--fill-color);\n",
              "    }\n",
              "    90% {\n",
              "      border-color: transparent;\n",
              "      border-bottom-color: var(--fill-color);\n",
              "    }\n",
              "  }\n",
              "</style>\n",
              "\n",
              "  <script>\n",
              "    async function quickchart(key) {\n",
              "      const quickchartButtonEl =\n",
              "        document.querySelector('#' + key + ' button');\n",
              "      quickchartButtonEl.disabled = true;  // To prevent multiple clicks.\n",
              "      quickchartButtonEl.classList.add('colab-df-spinner');\n",
              "      try {\n",
              "        const charts = await google.colab.kernel.invokeFunction(\n",
              "            'suggestCharts', [key], {});\n",
              "      } catch (error) {\n",
              "        console.error('Error during call to suggestCharts:', error);\n",
              "      }\n",
              "      quickchartButtonEl.classList.remove('colab-df-spinner');\n",
              "      quickchartButtonEl.classList.add('colab-df-quickchart-complete');\n",
              "    }\n",
              "    (() => {\n",
              "      let quickchartButtonEl =\n",
              "        document.querySelector('#df-4e34514b-562b-4b15-a0d3-c44fb78f8496 button');\n",
              "      quickchartButtonEl.style.display =\n",
              "        google.colab.kernel.accessAllowed ? 'block' : 'none';\n",
              "    })();\n",
              "  </script>\n",
              "</div>\n",
              "\n",
              "    </div>\n",
              "  </div>\n"
            ],
            "text/plain": [
              "     id_alojamiento  \\\n",
              "11                1   \n",
              "494               9   \n",
              "612               9   \n",
              "536               9   \n",
              "128               2   \n",
              "399               6   \n",
              "220               5   \n",
              "13                1   \n",
              "351               6   \n",
              "517               9   \n",
              "\n",
              "                                                                                                                                                                                                       review  \\\n",
              "11   I don't think this should be listed on Airbnb as an entire apartment. It's a very small motel room (one of many) with a sink in the corner and an open space outside. There is a shared outdoor kitchen.   \n",
              "494                                                                                           Great place! Everything was as advertised. Response from the host is fast and accurate. Would visit here again!   \n",
              "612     My husband and I enjoyed our days on Gijs & Liliana apartment. It's a beautiful and quiet place on Manglaralto, where you can rest. It's 15 minutes near Montañita and only 5 minutes near the beach.   \n",
              "536                         We had as good a stay as possible at the lovely apartment of Gijs and Liliana's place in Manglaralto. A cute place with everything we needed. A very comfortable bed and pillows.   \n",
              "128                                                                                                     Muy bueno apartamento : ubicaccion, vista sobre la playa, aire accondicionado, buena cama, todo bien.   \n",
              "399                                                                                                                                   Práctico para quedarse un par de noches. Buena respuesta del anfitrión.   \n",
              "220                      El anfitrión fue muy amable desde el principio hasta el final. El alojamiento se encuentra muy cerca a la playa y a la zona de restaurantes y bares por lo cual es una buena opción.   \n",
              "13                                                                                                             Great place! Close to the beach, nice outside kitchen, quiet at night, budget friendly. Enjoy!   \n",
              "351                                                           This is the second time I have stayed here and it was as enjoyable as the first. This is a very cozy nice,place to stay. I highly recommend it.   \n",
              "517                                                                                                                                  Lugar muy acogedor y todo ordenado. Siempre estuvieron pendientes de uno   \n",
              "\n",
              "     stars  \\\n",
              "11       3   \n",
              "494      5   \n",
              "612      5   \n",
              "536      5   \n",
              "128      5   \n",
              "399      4   \n",
              "220      5   \n",
              "13       5   \n",
              "351      5   \n",
              "517      5   \n",
              "\n",
              "                                                                                                                                                                                              texto_traducido  \n",
              "11   I don't think this should be listed on Airbnb as an entire apartment. It's a very small motel room (one of many) with a sink in the corner and an open space outside. There is a shared outdoor kitchen.  \n",
              "494                                                                                           Great place! Everything was as advertised. Response from the host is fast and accurate. Would visit here again!  \n",
              "612     My husband and I enjoyed our days on Gijs & Liliana apartment. It's a beautiful and quiet place on Manglaralto, where you can rest. It's 15 minutes near Montañita and only 5 minutes near the beach.  \n",
              "536                         We had as good a stay as possible at the lovely apartment of Gijs and Liliana's place in Manglaralto. A cute place with everything we needed. A very comfortable bed and pillows.  \n",
              "128                                                                                                            Very good apartment: location, view of the beach, air conditioning, good bed, everything good.  \n",
              "399                                                                                                                                        Practical to stay a couple of nights. Good response from the host.  \n",
              "220                                              The host was very friendly from start to finish. The accommodation is very close to the beach and the area of restaurants and bars, making it a good option.  \n",
              "13                                                                                                             Great place! Close to the beach, nice outside kitchen, quiet at night, budget friendly. Enjoy!  \n",
              "351                                                           This is the second time I have stayed here and it was as enjoyable as the first. This is a very cozy nice,place to stay. I highly recommend it.  \n",
              "517                                                                                                                                 Very cozy place and everything tidy. They were always looking out for you  "
            ]
          },
          "execution_count": 26,
          "metadata": {},
          "output_type": "execute_result"
        }
      ],
      "source": [
        "df_reviews.sample(10)"
      ]
    },
    {
      "cell_type": "markdown",
      "metadata": {
        "id": "O1RvkDM8Ni8z"
      },
      "source": [
        " # Preparation of data for Sentiment Analysis"
      ]
    },
    {
      "cell_type": "markdown",
      "metadata": {
        "id": "qJrJ4N0cmG-w"
      },
      "source": [
        " ##: Removal of punctuation marks, articles and unnecessary words:"
      ]
    },
    {
      "cell_type": "markdown",
      "metadata": {
        "id": "lhqgP6K8OdVA"
      },
      "source": [
        " The **nltk** library is imported to detect and eliminate from the comments left by guests and previously translated into English, the articles, words and punctuation marks that will not be useful when performing the sentiment analysis, and is stored in a new column of the *DataFrame* called \"*text_without_stopwords*\"."
      ]
    },
    {
      "cell_type": "code",
      "execution_count": null,
      "metadata": {
        "colab": {
          "base_uri": "https://localhost:8080/"
        },
        "id": "gh3O-kOLNbWp",
        "outputId": "b1d71760-8a98-41bf-a256-e0e80a146be5"
      },
      "outputs": [
        {
          "name": "stderr",
          "output_type": "stream",
          "text": [
            "[nltk_data] Downloading package stopwords to /root/nltk_data...\n",
            "[nltk_data]   Unzipping corpora/stopwords.zip.\n",
            "[nltk_data] Downloading package punkt to /root/nltk_data...\n",
            "[nltk_data]   Unzipping tokenizers/punkt.zip.\n"
          ]
        }
      ],
      "source": [
        "import nltk\n",
        "from nltk.corpus import stopwords\n",
        "from nltk.tokenize import word_tokenize\n",
        "\n",
        "nltk.download('stopwords')\n",
        "nltk.download('punkt')\n",
        "\n",
        "\n",
        "def remover_articulos(text):\n",
        "    stop_words = set(stopwords.words('english'))\n",
        "    words = word_tokenize(text)\n",
        "    filtered_words = [word for word in words if word.lower() not in stop_words]\n",
        "    return ' '.join(filtered_words)"
      ]
    },
    {
      "cell_type": "code",
      "execution_count": null,
      "metadata": {
        "id": "OYWOVxKrDSD7"
      },
      "outputs": [],
      "source": [
        "df_reviews[\"texto_sin_stopwords\"] = df_reviews[\"texto_traducido\"].apply(\n",
        "    lambda x: remover_articulos(x)\n",
        ")"
      ]
    },
    {
      "cell_type": "markdown",
      "metadata": {
        "id": "ijEZSoWjUeZy"
      },
      "source": [
        " Regular expressions are also used to treat excess spaces as well as punctuation marks and unnecessary characters for sentiment analysis. In addition, the data is prepared for the processing of emojis."
      ]
    },
    {
      "cell_type": "code",
      "execution_count": null,
      "metadata": {
        "id": "GTxM88X-PkoA"
      },
      "outputs": [],
      "source": [
        "import re\n",
        "\n",
        "\n",
        "def extraer_no_letras(texto):\n",
        "    return list(set(re.sub('[a-zA-Z0-9]', '', texto)))"
      ]
    },
    {
      "cell_type": "code",
      "execution_count": null,
      "metadata": {
        "id": "-WTIELMnQyCI"
      },
      "outputs": [],
      "source": [
        "df_reviews[\"no_texto\"] = df_reviews[\"texto_sin_stopwords\"].apply(\n",
        "    lambda x: extraer_no_letras(x)\n",
        ")"
      ]
    },
    {
      "cell_type": "code",
      "execution_count": null,
      "metadata": {
        "id": "IWZbpA-nRdfE"
      },
      "outputs": [],
      "source": [
        "non_text_chars = list(set(df_reviews[\"no_texto\"].sum()))\n",
        "non_text_chars.remove(\" \")\n",
        "df_reviews.drop([\"no_texto\"], axis=1, inplace=True)"
      ]
    },
    {
      "cell_type": "markdown",
      "metadata": {
        "id": "CBCtwOAZVjbu"
      },
      "source": [
        " ## Emoji treatment"
      ]
    },
    {
      "cell_type": "markdown",
      "metadata": {
        "id": "0T-ETL0dVop9"
      },
      "source": [
        " list of all the emojis present in the reviews given by guests is extracted from the previously defined variable \"*non_text_chars*\". Additionally, an English word is assigned to give an appropriate interpretation to each of these. Finally, emojis are replaced with their word equivalents."
      ]
    },
    {
      "cell_type": "code",
      "execution_count": null,
      "metadata": {
        "id": "kq8w_qLmfT5b"
      },
      "outputs": [],
      "source": [
        "import emoji\n",
        "\n",
        "emojis_list = [i for i in non_text_chars if emoji.is_emoji(i)]\n",
        "emojis_dict = {\n",
        "    '✨': 'sparkling',\n",
        "    '🙃': 'sarcastic',\n",
        "    '💖': 'beautiful',\n",
        "    '😔': 'sad',\n",
        "    '🙌': 'celebration',\n",
        "    '😘': 'affectionate',\n",
        "    '⭐': 'star',\n",
        "    '👏': 'applause',\n",
        "    '💕': 'affectionate',\n",
        "    '😊': 'happy',\n",
        "    '😍': 'admiration',\n",
        "    '💓': 'emotion',\n",
        "    '❣': 'emotion',\n",
        "    '💜': 'affection',\n",
        "    '🙈': 'playful',\n",
        "    '🤗': 'friendly',\n",
        "    '👌': 'approval',\n",
        "    '🏻': '',\n",
        "    '🍻': 'celebration',\n",
        "    '🌞': 'cheerful',\n",
        "    '❤': 'love',\n",
        "    '♥': 'love',\n",
        "    '💯': 'perfect',\n",
        "    '👍': 'approval'\n",
        "}"
      ]
    },
    {
      "cell_type": "code",
      "execution_count": null,
      "metadata": {
        "id": "9HXbikjocR2b"
      },
      "outputs": [],
      "source": [
        "non_emoji_chars = [i for i in non_text_chars if not emoji.is_emoji(i)]"
      ]
    },
    {
      "cell_type": "code",
      "execution_count": null,
      "metadata": {
        "id": "cgyxyeRUeJEM"
      },
      "outputs": [],
      "source": [
        "def quitar_simbolos(texto):\n",
        "    for char in non_emoji_chars:\n",
        "        texto = texto.replace(char, \"\")\n",
        "    return texto"
      ]
    },
    {
      "cell_type": "code",
      "execution_count": null,
      "metadata": {
        "id": "ZQYaRkF9RnDL"
      },
      "outputs": [],
      "source": [
        "df_reviews[\"texto_sin_stopwords\"] = df_reviews[\"texto_sin_stopwords\"].apply(\n",
        "    lambda x: quitar_simbolos(x)\n",
        ")"
      ]
    },
    {
      "cell_type": "code",
      "execution_count": null,
      "metadata": {
        "id": "Ahnulm67Ga1a"
      },
      "outputs": [],
      "source": [
        "df_reviews[\"texto_sin_stopwords\"] = df_reviews[\"texto_sin_stopwords\"].apply(\n",
        "    lambda x: \" \".join(x.split())\n",
        ")"
      ]
    },
    {
      "cell_type": "markdown",
      "metadata": {
        "id": "lAMw2Eqgq_4H"
      },
      "source": [
        " A function is defined to replace emojis with their word equivalents."
      ]
    },
    {
      "cell_type": "code",
      "execution_count": null,
      "metadata": {
        "id": "ywZHtL7sE9NJ"
      },
      "outputs": [],
      "source": [
        "def reemplazar_emojis(texto):\n",
        "    for (key, value) in emojis_dict.items():\n",
        "        texto = texto.replace(key, f\" {value} \")\n",
        "    return texto"
      ]
    },
    {
      "cell_type": "code",
      "execution_count": null,
      "metadata": {
        "id": "_AD6h-7MfXs7"
      },
      "outputs": [],
      "source": [
        "df_reviews[\"texto_sin_emojis\"] = df_reviews[\"texto_sin_stopwords\"].apply(\n",
        "    lambda x: reemplazar_emojis(x)\n",
        ")\n",
        "df_reviews[\"texto_sin_emojis\"] = df_reviews[\"texto_sin_emojis\"].apply(\n",
        "    lambda x: \" \".join(x.split())\n",
        ")"
      ]
    },
    {
      "cell_type": "markdown",
      "metadata": {
        "id": "RitrynCsnqzj"
      },
      "source": [
        " Two comments containing emojis are verified to show that the removal of *stopwords* and the replacement of emojis with ***equivalent words*** was done correctly, and finally this version of the *DataFrame* clean of emojis is saved in a file of Microsoft Excel."
      ]
    },
    {
      "cell_type": "code",
      "execution_count": null,
      "metadata": {
        "colab": {
          "base_uri": "https://localhost:8080/",
          "height": 112
        },
        "id": "QzTlA1c4iNCZ",
        "outputId": "422dbde6-4a69-48b1-9eaf-a2e50a5504bd"
      },
      "outputs": [
        {
          "data": {
            "application/vnd.google.colaboratory.intrinsic+json": {
              "summary": "{\n  \"name\": \"    \",\n  \"rows\": 2,\n  \"fields\": [\n    {\n      \"column\": \"texto_traducido\",\n      \"properties\": {\n        \"dtype\": \"string\",\n        \"num_unique_values\": 2,\n        \"samples\": [\n          \"A quiet place with a good location. They are pet friendly \\ud83d\\ude0a\",\n          \"Everything is very nice, safe and cozy\\ud83d\\ude0a\"\n        ],\n        \"semantic_type\": \"\",\n        \"description\": \"\"\n      }\n    },\n    {\n      \"column\": \"texto_sin_stopwords\",\n      \"properties\": {\n        \"dtype\": \"string\",\n        \"num_unique_values\": 2,\n        \"samples\": [\n          \"quiet place good location pet friendly \\ud83d\\ude0a\",\n          \"Everything nice safe cozy\\ud83d\\ude0a\"\n        ],\n        \"semantic_type\": \"\",\n        \"description\": \"\"\n      }\n    },\n    {\n      \"column\": \"texto_sin_emojis\",\n      \"properties\": {\n        \"dtype\": \"string\",\n        \"num_unique_values\": 2,\n        \"samples\": [\n          \"quiet place good location pet friendly happy\",\n          \"Everything nice safe cozy happy\"\n        ],\n        \"semantic_type\": \"\",\n        \"description\": \"\"\n      }\n    }\n  ]\n}",
              "type": "dataframe"
            },
            "text/html": [
              "\n",
              "  <div id=\"df-b0ccb7b9-ce65-46e9-9e41-7c5dbc9f467f\" class=\"colab-df-container\">\n",
              "    <div>\n",
              "<style scoped>\n",
              "    .dataframe tbody tr th:only-of-type {\n",
              "        vertical-align: middle;\n",
              "    }\n",
              "\n",
              "    .dataframe tbody tr th {\n",
              "        vertical-align: top;\n",
              "    }\n",
              "\n",
              "    .dataframe thead th {\n",
              "        text-align: right;\n",
              "    }\n",
              "</style>\n",
              "<table border=\"1\" class=\"dataframe\">\n",
              "  <thead>\n",
              "    <tr style=\"text-align: right;\">\n",
              "      <th></th>\n",
              "      <th>texto_traducido</th>\n",
              "      <th>texto_sin_stopwords</th>\n",
              "      <th>texto_sin_emojis</th>\n",
              "    </tr>\n",
              "  </thead>\n",
              "  <tbody>\n",
              "    <tr>\n",
              "      <th>76</th>\n",
              "      <td>Everything is very nice, safe and cozy😊</td>\n",
              "      <td>Everything nice safe cozy😊</td>\n",
              "      <td>Everything nice safe cozy happy</td>\n",
              "    </tr>\n",
              "    <tr>\n",
              "      <th>263</th>\n",
              "      <td>A quiet place with a good location. They are pet friendly 😊</td>\n",
              "      <td>quiet place good location pet friendly 😊</td>\n",
              "      <td>quiet place good location pet friendly happy</td>\n",
              "    </tr>\n",
              "  </tbody>\n",
              "</table>\n",
              "</div>\n",
              "    <div class=\"colab-df-buttons\">\n",
              "\n",
              "  <div class=\"colab-df-container\">\n",
              "    <button class=\"colab-df-convert\" onclick=\"convertToInteractive('df-b0ccb7b9-ce65-46e9-9e41-7c5dbc9f467f')\"\n",
              "            title=\"Convert this dataframe to an interactive table.\"\n",
              "            style=\"display:none;\">\n",
              "\n",
              "  <svg xmlns=\"http://www.w3.org/2000/svg\" height=\"24px\" viewBox=\"0 -960 960 960\">\n",
              "    <path d=\"M120-120v-720h720v720H120Zm60-500h600v-160H180v160Zm220 220h160v-160H400v160Zm0 220h160v-160H400v160ZM180-400h160v-160H180v160Zm440 0h160v-160H620v160ZM180-180h160v-160H180v160Zm440 0h160v-160H620v160Z\"/>\n",
              "  </svg>\n",
              "    </button>\n",
              "\n",
              "  <style>\n",
              "    .colab-df-container {\n",
              "      display:flex;\n",
              "      gap: 12px;\n",
              "    }\n",
              "\n",
              "    .colab-df-convert {\n",
              "      background-color: #E8F0FE;\n",
              "      border: none;\n",
              "      border-radius: 50%;\n",
              "      cursor: pointer;\n",
              "      display: none;\n",
              "      fill: #1967D2;\n",
              "      height: 32px;\n",
              "      padding: 0 0 0 0;\n",
              "      width: 32px;\n",
              "    }\n",
              "\n",
              "    .colab-df-convert:hover {\n",
              "      background-color: #E2EBFA;\n",
              "      box-shadow: 0px 1px 2px rgba(60, 64, 67, 0.3), 0px 1px 3px 1px rgba(60, 64, 67, 0.15);\n",
              "      fill: #174EA6;\n",
              "    }\n",
              "\n",
              "    .colab-df-buttons div {\n",
              "      margin-bottom: 4px;\n",
              "    }\n",
              "\n",
              "    [theme=dark] .colab-df-convert {\n",
              "      background-color: #3B4455;\n",
              "      fill: #D2E3FC;\n",
              "    }\n",
              "\n",
              "    [theme=dark] .colab-df-convert:hover {\n",
              "      background-color: #434B5C;\n",
              "      box-shadow: 0px 1px 3px 1px rgba(0, 0, 0, 0.15);\n",
              "      filter: drop-shadow(0px 1px 2px rgba(0, 0, 0, 0.3));\n",
              "      fill: #FFFFFF;\n",
              "    }\n",
              "  </style>\n",
              "\n",
              "    <script>\n",
              "      const buttonEl =\n",
              "        document.querySelector('#df-b0ccb7b9-ce65-46e9-9e41-7c5dbc9f467f button.colab-df-convert');\n",
              "      buttonEl.style.display =\n",
              "        google.colab.kernel.accessAllowed ? 'block' : 'none';\n",
              "\n",
              "      async function convertToInteractive(key) {\n",
              "        const element = document.querySelector('#df-b0ccb7b9-ce65-46e9-9e41-7c5dbc9f467f');\n",
              "        const dataTable =\n",
              "          await google.colab.kernel.invokeFunction('convertToInteractive',\n",
              "                                                    [key], {});\n",
              "        if (!dataTable) return;\n",
              "\n",
              "        const docLinkHtml = 'Like what you see? Visit the ' +\n",
              "          '<a target=\"_blank\" href=https://colab.research.google.com/notebooks/data_table.ipynb>data table notebook</a>'\n",
              "          + ' to learn more about interactive tables.';\n",
              "        element.innerHTML = '';\n",
              "        dataTable['output_type'] = 'display_data';\n",
              "        await google.colab.output.renderOutput(dataTable, element);\n",
              "        const docLink = document.createElement('div');\n",
              "        docLink.innerHTML = docLinkHtml;\n",
              "        element.appendChild(docLink);\n",
              "      }\n",
              "    </script>\n",
              "  </div>\n",
              "\n",
              "\n",
              "<div id=\"df-9b39435f-528b-45b4-99b6-0d2bf2fbe6f6\">\n",
              "  <button class=\"colab-df-quickchart\" onclick=\"quickchart('df-9b39435f-528b-45b4-99b6-0d2bf2fbe6f6')\"\n",
              "            title=\"Suggest charts\"\n",
              "            style=\"display:none;\">\n",
              "\n",
              "<svg xmlns=\"http://www.w3.org/2000/svg\" height=\"24px\"viewBox=\"0 0 24 24\"\n",
              "     width=\"24px\">\n",
              "    <g>\n",
              "        <path d=\"M19 3H5c-1.1 0-2 .9-2 2v14c0 1.1.9 2 2 2h14c1.1 0 2-.9 2-2V5c0-1.1-.9-2-2-2zM9 17H7v-7h2v7zm4 0h-2V7h2v10zm4 0h-2v-4h2v4z\"/>\n",
              "    </g>\n",
              "</svg>\n",
              "  </button>\n",
              "\n",
              "<style>\n",
              "  .colab-df-quickchart {\n",
              "      --bg-color: #E8F0FE;\n",
              "      --fill-color: #1967D2;\n",
              "      --hover-bg-color: #E2EBFA;\n",
              "      --hover-fill-color: #174EA6;\n",
              "      --disabled-fill-color: #AAA;\n",
              "      --disabled-bg-color: #DDD;\n",
              "  }\n",
              "\n",
              "  [theme=dark] .colab-df-quickchart {\n",
              "      --bg-color: #3B4455;\n",
              "      --fill-color: #D2E3FC;\n",
              "      --hover-bg-color: #434B5C;\n",
              "      --hover-fill-color: #FFFFFF;\n",
              "      --disabled-bg-color: #3B4455;\n",
              "      --disabled-fill-color: #666;\n",
              "  }\n",
              "\n",
              "  .colab-df-quickchart {\n",
              "    background-color: var(--bg-color);\n",
              "    border: none;\n",
              "    border-radius: 50%;\n",
              "    cursor: pointer;\n",
              "    display: none;\n",
              "    fill: var(--fill-color);\n",
              "    height: 32px;\n",
              "    padding: 0;\n",
              "    width: 32px;\n",
              "  }\n",
              "\n",
              "  .colab-df-quickchart:hover {\n",
              "    background-color: var(--hover-bg-color);\n",
              "    box-shadow: 0 1px 2px rgba(60, 64, 67, 0.3), 0 1px 3px 1px rgba(60, 64, 67, 0.15);\n",
              "    fill: var(--button-hover-fill-color);\n",
              "  }\n",
              "\n",
              "  .colab-df-quickchart-complete:disabled,\n",
              "  .colab-df-quickchart-complete:disabled:hover {\n",
              "    background-color: var(--disabled-bg-color);\n",
              "    fill: var(--disabled-fill-color);\n",
              "    box-shadow: none;\n",
              "  }\n",
              "\n",
              "  .colab-df-spinner {\n",
              "    border: 2px solid var(--fill-color);\n",
              "    border-color: transparent;\n",
              "    border-bottom-color: var(--fill-color);\n",
              "    animation:\n",
              "      spin 1s steps(1) infinite;\n",
              "  }\n",
              "\n",
              "  @keyframes spin {\n",
              "    0% {\n",
              "      border-color: transparent;\n",
              "      border-bottom-color: var(--fill-color);\n",
              "      border-left-color: var(--fill-color);\n",
              "    }\n",
              "    20% {\n",
              "      border-color: transparent;\n",
              "      border-left-color: var(--fill-color);\n",
              "      border-top-color: var(--fill-color);\n",
              "    }\n",
              "    30% {\n",
              "      border-color: transparent;\n",
              "      border-left-color: var(--fill-color);\n",
              "      border-top-color: var(--fill-color);\n",
              "      border-right-color: var(--fill-color);\n",
              "    }\n",
              "    40% {\n",
              "      border-color: transparent;\n",
              "      border-right-color: var(--fill-color);\n",
              "      border-top-color: var(--fill-color);\n",
              "    }\n",
              "    60% {\n",
              "      border-color: transparent;\n",
              "      border-right-color: var(--fill-color);\n",
              "    }\n",
              "    80% {\n",
              "      border-color: transparent;\n",
              "      border-right-color: var(--fill-color);\n",
              "      border-bottom-color: var(--fill-color);\n",
              "    }\n",
              "    90% {\n",
              "      border-color: transparent;\n",
              "      border-bottom-color: var(--fill-color);\n",
              "    }\n",
              "  }\n",
              "</style>\n",
              "\n",
              "  <script>\n",
              "    async function quickchart(key) {\n",
              "      const quickchartButtonEl =\n",
              "        document.querySelector('#' + key + ' button');\n",
              "      quickchartButtonEl.disabled = true;  // To prevent multiple clicks.\n",
              "      quickchartButtonEl.classList.add('colab-df-spinner');\n",
              "      try {\n",
              "        const charts = await google.colab.kernel.invokeFunction(\n",
              "            'suggestCharts', [key], {});\n",
              "      } catch (error) {\n",
              "        console.error('Error during call to suggestCharts:', error);\n",
              "      }\n",
              "      quickchartButtonEl.classList.remove('colab-df-spinner');\n",
              "      quickchartButtonEl.classList.add('colab-df-quickchart-complete');\n",
              "    }\n",
              "    (() => {\n",
              "      let quickchartButtonEl =\n",
              "        document.querySelector('#df-9b39435f-528b-45b4-99b6-0d2bf2fbe6f6 button');\n",
              "      quickchartButtonEl.style.display =\n",
              "        google.colab.kernel.accessAllowed ? 'block' : 'none';\n",
              "    })();\n",
              "  </script>\n",
              "</div>\n",
              "\n",
              "    </div>\n",
              "  </div>\n"
            ],
            "text/plain": [
              "                                                 texto_traducido  \\\n",
              "76                       Everything is very nice, safe and cozy😊   \n",
              "263  A quiet place with a good location. They are pet friendly 😊   \n",
              "\n",
              "                          texto_sin_stopwords  \\\n",
              "76                 Everything nice safe cozy😊   \n",
              "263  quiet place good location pet friendly 😊   \n",
              "\n",
              "                                 texto_sin_emojis  \n",
              "76                Everything nice safe cozy happy  \n",
              "263  quiet place good location pet friendly happy  "
            ]
          },
          "execution_count": 39,
          "metadata": {},
          "output_type": "execute_result"
        }
      ],
      "source": [
        "df_reviews[[\"texto_traducido\", \"texto_sin_stopwords\", \"texto_sin_emojis\"]] \\\n",
        "    .iloc[[76, 263], :]"
      ]
    },
    {
      "cell_type": "code",
      "execution_count": null,
      "metadata": {
        "id": "lFXWW4LhIdT9"
      },
      "outputs": [],
      "source": [
        "if not os.path.exists(\"processing/df_limpio_emojis.xlsx\"):\n",
        "    df_reviews.to_excel(\"processing/df_limpio_emojis.xlsx\")"
      ]
    },
    {
      "cell_type": "markdown",
      "metadata": {
        "id": "nfvtuYJqNvXt"
      },
      "source": [
        " # Sentiment Analysis"
      ]
    },
    {
      "cell_type": "markdown",
      "metadata": {
        "id": "3_w97GEvbdUf"
      },
      "source": [
        "Finally, a ***sentiment analysis*** is carried out on all the comments present, for which the ***nltk*** library is imported and the ***vader_lexicon*** component is used for the polarity analysis in each of the comments. First, a function is defined that classifies the comments based on their polarity into the categories of **Positive**, **Negative** or **Neutral**, and the results are sent using a *lambda* function. to a new column of the Pandas ***DataFrame***."
      ]
    },
    {
      "cell_type": "code",
      "execution_count": null,
      "metadata": {
        "colab": {
          "base_uri": "https://localhost:8080/"
        },
        "id": "OxNo0rfZIzaY",
        "outputId": "eaadb47b-ed2c-4eb3-c45e-d0ebf3dd374c"
      },
      "outputs": [
        {
          "name": "stderr",
          "output_type": "stream",
          "text": [
            "[nltk_data] Downloading package vader_lexicon to /root/nltk_data...\n"
          ]
        }
      ],
      "source": [
        "import nltk\n",
        "from nltk.sentiment.vader import SentimentIntensityAnalyzer\n",
        "\n",
        "nltk.download('vader_lexicon')\n",
        "\n",
        "sia = SentimentIntensityAnalyzer()\n",
        "\n",
        "def clasificar_comentario(comentario):\n",
        "    polaridad = sia.polarity_scores(comentario)['compound']\n",
        "    if polaridad > 0.05:\n",
        "        return \"Positivo\"\n",
        "    elif polaridad < -0.05:\n",
        "        return \"Negativo\"\n",
        "    else:\n",
        "        return \"Neutral\""
      ]
    },
    {
      "cell_type": "code",
      "execution_count": null,
      "metadata": {
        "id": "AunZxW0Jfzgn"
      },
      "outputs": [],
      "source": [
        "df_reviews[\"Sentimiento\"] = df_reviews[\"texto_sin_emojis\"].apply(\n",
        "    lambda x: clasificar_comentario(x)\n",
        ")"
      ]
    },
    {
      "cell_type": "markdown",
      "metadata": {
        "id": "wMqiPszR-obE"
      },
      "source": [
        " Sample of the columns corresponding to the ***comments translated into English*** and the ***feelings detected***."
      ]
    },
    {
      "cell_type": "code",
      "execution_count": null,
      "metadata": {
        "colab": {
          "base_uri": "https://localhost:8080/",
          "height": 143
        },
        "id": "EmkHJkDmAwig",
        "outputId": "a16ec83e-2273-4e91-f810-371f90737844"
      },
      "outputs": [
        {
          "data": {
            "application/vnd.google.colaboratory.intrinsic+json": {
              "summary": "{\n  \"name\": \"df_reviews[[\\\"texto_sin_emojis\\\", \\\"Sentimiento\\\"]]\",\n  \"rows\": 3,\n  \"fields\": [\n    {\n      \"column\": \"texto_sin_emojis\",\n      \"properties\": {\n        \"dtype\": \"string\",\n        \"num_unique_values\": 3,\n        \"samples\": [\n          \"Lovely place quiet location town minutes walk popular town hosts caring flat advertised good kitchen utensils\",\n          \"mini apartment described Cute little place everything need plus incredible view looking town ocean Really enjoyed time\",\n          \"nice place away noise nice view comfortable good facilities within\"\n        ],\n        \"semantic_type\": \"\",\n        \"description\": \"\"\n      }\n    },\n    {\n      \"column\": \"Sentimiento\",\n      \"properties\": {\n        \"dtype\": \"category\",\n        \"num_unique_values\": 1,\n        \"samples\": [\n          \"Positivo\"\n        ],\n        \"semantic_type\": \"\",\n        \"description\": \"\"\n      }\n    }\n  ]\n}",
              "type": "dataframe"
            },
            "text/html": [
              "\n",
              "  <div id=\"df-fbdaf2b3-b506-4fa4-b70e-315434f29a32\" class=\"colab-df-container\">\n",
              "    <div>\n",
              "<style scoped>\n",
              "    .dataframe tbody tr th:only-of-type {\n",
              "        vertical-align: middle;\n",
              "    }\n",
              "\n",
              "    .dataframe tbody tr th {\n",
              "        vertical-align: top;\n",
              "    }\n",
              "\n",
              "    .dataframe thead th {\n",
              "        text-align: right;\n",
              "    }\n",
              "</style>\n",
              "<table border=\"1\" class=\"dataframe\">\n",
              "  <thead>\n",
              "    <tr style=\"text-align: right;\">\n",
              "      <th></th>\n",
              "      <th>texto_sin_emojis</th>\n",
              "      <th>Sentimiento</th>\n",
              "    </tr>\n",
              "  </thead>\n",
              "  <tbody>\n",
              "    <tr>\n",
              "      <th>588</th>\n",
              "      <td>Lovely place quiet location town minutes walk popular town hosts caring flat advertised good kitchen utensils</td>\n",
              "      <td>Positivo</td>\n",
              "    </tr>\n",
              "    <tr>\n",
              "      <th>410</th>\n",
              "      <td>mini apartment described Cute little place everything need plus incredible view looking town ocean Really enjoyed time</td>\n",
              "      <td>Positivo</td>\n",
              "    </tr>\n",
              "    <tr>\n",
              "      <th>335</th>\n",
              "      <td>nice place away noise nice view comfortable good facilities within</td>\n",
              "      <td>Positivo</td>\n",
              "    </tr>\n",
              "  </tbody>\n",
              "</table>\n",
              "</div>\n",
              "    <div class=\"colab-df-buttons\">\n",
              "\n",
              "  <div class=\"colab-df-container\">\n",
              "    <button class=\"colab-df-convert\" onclick=\"convertToInteractive('df-fbdaf2b3-b506-4fa4-b70e-315434f29a32')\"\n",
              "            title=\"Convert this dataframe to an interactive table.\"\n",
              "            style=\"display:none;\">\n",
              "\n",
              "  <svg xmlns=\"http://www.w3.org/2000/svg\" height=\"24px\" viewBox=\"0 -960 960 960\">\n",
              "    <path d=\"M120-120v-720h720v720H120Zm60-500h600v-160H180v160Zm220 220h160v-160H400v160Zm0 220h160v-160H400v160ZM180-400h160v-160H180v160Zm440 0h160v-160H620v160ZM180-180h160v-160H180v160Zm440 0h160v-160H620v160Z\"/>\n",
              "  </svg>\n",
              "    </button>\n",
              "\n",
              "  <style>\n",
              "    .colab-df-container {\n",
              "      display:flex;\n",
              "      gap: 12px;\n",
              "    }\n",
              "\n",
              "    .colab-df-convert {\n",
              "      background-color: #E8F0FE;\n",
              "      border: none;\n",
              "      border-radius: 50%;\n",
              "      cursor: pointer;\n",
              "      display: none;\n",
              "      fill: #1967D2;\n",
              "      height: 32px;\n",
              "      padding: 0 0 0 0;\n",
              "      width: 32px;\n",
              "    }\n",
              "\n",
              "    .colab-df-convert:hover {\n",
              "      background-color: #E2EBFA;\n",
              "      box-shadow: 0px 1px 2px rgba(60, 64, 67, 0.3), 0px 1px 3px 1px rgba(60, 64, 67, 0.15);\n",
              "      fill: #174EA6;\n",
              "    }\n",
              "\n",
              "    .colab-df-buttons div {\n",
              "      margin-bottom: 4px;\n",
              "    }\n",
              "\n",
              "    [theme=dark] .colab-df-convert {\n",
              "      background-color: #3B4455;\n",
              "      fill: #D2E3FC;\n",
              "    }\n",
              "\n",
              "    [theme=dark] .colab-df-convert:hover {\n",
              "      background-color: #434B5C;\n",
              "      box-shadow: 0px 1px 3px 1px rgba(0, 0, 0, 0.15);\n",
              "      filter: drop-shadow(0px 1px 2px rgba(0, 0, 0, 0.3));\n",
              "      fill: #FFFFFF;\n",
              "    }\n",
              "  </style>\n",
              "\n",
              "    <script>\n",
              "      const buttonEl =\n",
              "        document.querySelector('#df-fbdaf2b3-b506-4fa4-b70e-315434f29a32 button.colab-df-convert');\n",
              "      buttonEl.style.display =\n",
              "        google.colab.kernel.accessAllowed ? 'block' : 'none';\n",
              "\n",
              "      async function convertToInteractive(key) {\n",
              "        const element = document.querySelector('#df-fbdaf2b3-b506-4fa4-b70e-315434f29a32');\n",
              "        const dataTable =\n",
              "          await google.colab.kernel.invokeFunction('convertToInteractive',\n",
              "                                                    [key], {});\n",
              "        if (!dataTable) return;\n",
              "\n",
              "        const docLinkHtml = 'Like what you see? Visit the ' +\n",
              "          '<a target=\"_blank\" href=https://colab.research.google.com/notebooks/data_table.ipynb>data table notebook</a>'\n",
              "          + ' to learn more about interactive tables.';\n",
              "        element.innerHTML = '';\n",
              "        dataTable['output_type'] = 'display_data';\n",
              "        await google.colab.output.renderOutput(dataTable, element);\n",
              "        const docLink = document.createElement('div');\n",
              "        docLink.innerHTML = docLinkHtml;\n",
              "        element.appendChild(docLink);\n",
              "      }\n",
              "    </script>\n",
              "  </div>\n",
              "\n",
              "\n",
              "<div id=\"df-37de4fc3-3f8d-485d-a7b2-b3f8c08ff894\">\n",
              "  <button class=\"colab-df-quickchart\" onclick=\"quickchart('df-37de4fc3-3f8d-485d-a7b2-b3f8c08ff894')\"\n",
              "            title=\"Suggest charts\"\n",
              "            style=\"display:none;\">\n",
              "\n",
              "<svg xmlns=\"http://www.w3.org/2000/svg\" height=\"24px\"viewBox=\"0 0 24 24\"\n",
              "     width=\"24px\">\n",
              "    <g>\n",
              "        <path d=\"M19 3H5c-1.1 0-2 .9-2 2v14c0 1.1.9 2 2 2h14c1.1 0 2-.9 2-2V5c0-1.1-.9-2-2-2zM9 17H7v-7h2v7zm4 0h-2V7h2v10zm4 0h-2v-4h2v4z\"/>\n",
              "    </g>\n",
              "</svg>\n",
              "  </button>\n",
              "\n",
              "<style>\n",
              "  .colab-df-quickchart {\n",
              "      --bg-color: #E8F0FE;\n",
              "      --fill-color: #1967D2;\n",
              "      --hover-bg-color: #E2EBFA;\n",
              "      --hover-fill-color: #174EA6;\n",
              "      --disabled-fill-color: #AAA;\n",
              "      --disabled-bg-color: #DDD;\n",
              "  }\n",
              "\n",
              "  [theme=dark] .colab-df-quickchart {\n",
              "      --bg-color: #3B4455;\n",
              "      --fill-color: #D2E3FC;\n",
              "      --hover-bg-color: #434B5C;\n",
              "      --hover-fill-color: #FFFFFF;\n",
              "      --disabled-bg-color: #3B4455;\n",
              "      --disabled-fill-color: #666;\n",
              "  }\n",
              "\n",
              "  .colab-df-quickchart {\n",
              "    background-color: var(--bg-color);\n",
              "    border: none;\n",
              "    border-radius: 50%;\n",
              "    cursor: pointer;\n",
              "    display: none;\n",
              "    fill: var(--fill-color);\n",
              "    height: 32px;\n",
              "    padding: 0;\n",
              "    width: 32px;\n",
              "  }\n",
              "\n",
              "  .colab-df-quickchart:hover {\n",
              "    background-color: var(--hover-bg-color);\n",
              "    box-shadow: 0 1px 2px rgba(60, 64, 67, 0.3), 0 1px 3px 1px rgba(60, 64, 67, 0.15);\n",
              "    fill: var(--button-hover-fill-color);\n",
              "  }\n",
              "\n",
              "  .colab-df-quickchart-complete:disabled,\n",
              "  .colab-df-quickchart-complete:disabled:hover {\n",
              "    background-color: var(--disabled-bg-color);\n",
              "    fill: var(--disabled-fill-color);\n",
              "    box-shadow: none;\n",
              "  }\n",
              "\n",
              "  .colab-df-spinner {\n",
              "    border: 2px solid var(--fill-color);\n",
              "    border-color: transparent;\n",
              "    border-bottom-color: var(--fill-color);\n",
              "    animation:\n",
              "      spin 1s steps(1) infinite;\n",
              "  }\n",
              "\n",
              "  @keyframes spin {\n",
              "    0% {\n",
              "      border-color: transparent;\n",
              "      border-bottom-color: var(--fill-color);\n",
              "      border-left-color: var(--fill-color);\n",
              "    }\n",
              "    20% {\n",
              "      border-color: transparent;\n",
              "      border-left-color: var(--fill-color);\n",
              "      border-top-color: var(--fill-color);\n",
              "    }\n",
              "    30% {\n",
              "      border-color: transparent;\n",
              "      border-left-color: var(--fill-color);\n",
              "      border-top-color: var(--fill-color);\n",
              "      border-right-color: var(--fill-color);\n",
              "    }\n",
              "    40% {\n",
              "      border-color: transparent;\n",
              "      border-right-color: var(--fill-color);\n",
              "      border-top-color: var(--fill-color);\n",
              "    }\n",
              "    60% {\n",
              "      border-color: transparent;\n",
              "      border-right-color: var(--fill-color);\n",
              "    }\n",
              "    80% {\n",
              "      border-color: transparent;\n",
              "      border-right-color: var(--fill-color);\n",
              "      border-bottom-color: var(--fill-color);\n",
              "    }\n",
              "    90% {\n",
              "      border-color: transparent;\n",
              "      border-bottom-color: var(--fill-color);\n",
              "    }\n",
              "  }\n",
              "</style>\n",
              "\n",
              "  <script>\n",
              "    async function quickchart(key) {\n",
              "      const quickchartButtonEl =\n",
              "        document.querySelector('#' + key + ' button');\n",
              "      quickchartButtonEl.disabled = true;  // To prevent multiple clicks.\n",
              "      quickchartButtonEl.classList.add('colab-df-spinner');\n",
              "      try {\n",
              "        const charts = await google.colab.kernel.invokeFunction(\n",
              "            'suggestCharts', [key], {});\n",
              "      } catch (error) {\n",
              "        console.error('Error during call to suggestCharts:', error);\n",
              "      }\n",
              "      quickchartButtonEl.classList.remove('colab-df-spinner');\n",
              "      quickchartButtonEl.classList.add('colab-df-quickchart-complete');\n",
              "    }\n",
              "    (() => {\n",
              "      let quickchartButtonEl =\n",
              "        document.querySelector('#df-37de4fc3-3f8d-485d-a7b2-b3f8c08ff894 button');\n",
              "      quickchartButtonEl.style.display =\n",
              "        google.colab.kernel.accessAllowed ? 'block' : 'none';\n",
              "    })();\n",
              "  </script>\n",
              "</div>\n",
              "\n",
              "    </div>\n",
              "  </div>\n"
            ],
            "text/plain": [
              "                                                                                                           texto_sin_emojis  \\\n",
              "588           Lovely place quiet location town minutes walk popular town hosts caring flat advertised good kitchen utensils   \n",
              "410  mini apartment described Cute little place everything need plus incredible view looking town ocean Really enjoyed time   \n",
              "335                                                      nice place away noise nice view comfortable good facilities within   \n",
              "\n",
              "    Sentimiento  \n",
              "588    Positivo  \n",
              "410    Positivo  \n",
              "335    Positivo  "
            ]
          },
          "execution_count": 43,
          "metadata": {},
          "output_type": "execute_result"
        }
      ],
      "source": [
        "df_reviews[[\"texto_sin_emojis\", \"Sentimiento\"]].sample(3)"
      ]
    },
    {
      "cell_type": "markdown",
      "metadata": {
        "id": "bhwOma2h_Ilf"
      },
      "source": [
        " Additionally, the reviews are optionally translated into Spanish in order to perform a manual classification of the feelings that would be expected in each case."
      ]
    },
    {
      "cell_type": "code",
      "execution_count": null,
      "metadata": {
        "id": "kngjSQmp59Lb"
      },
      "outputs": [],
      "source": [
        "from google.cloud import translate_v2 as translate\n",
        "\n",
        "# Lectura de llave privada de la API de Google Cloud Translate\n",
        "client = translate.Client.from_service_account_json(\n",
        "    \"processing/private_key_translate.json\"\n",
        ")\n",
        "\n",
        "if not os.path.exists(\"translations/df_reviews_traducido_es.xlsx\"):\n",
        "    # Función para traducir un texto\n",
        "    def translate_text(text, target_language='es'):\n",
        "        result = client.translate(text, target_language=target_language)\n",
        "        return result['translatedText']\n",
        "\n",
        "    # Traducción de texto en la columna \"review\"\n",
        "    df_reviews['texto_traducido_es'] = df_reviews[\"review\"].apply(\n",
        "        lambda x: translate_text(x, target_language=\"es\")\n",
        "    )\n",
        "\n",
        "    # Almacenamiento de reseñas traducidas para uso futuro\n",
        "    df_reviews[[\n",
        "            \"id_alojamiento\", \"review\", \"texto_traducido\", \"stars\"\n",
        "        ]].to_excel(\n",
        "        \"translations/df_reviews_traducido_es.xlsx\", index=False\n",
        "    )\n",
        "\n",
        "else:\n",
        "    df_reviews['texto_traducido_es'] = pd.read_excel(\n",
        "        \"translations/df_reviews_traducido_es.xlsx\"\n",
        "    )[\"texto_traducido\"]"
      ]
    },
    {
      "cell_type": "code",
      "execution_count": null,
      "metadata": {
        "id": "bI_CG4YjA07w"
      },
      "outputs": [],
      "source": [
        "if not os.path.exists(\"output/sentimientos.xlsx\"):\n",
        "    df_reviews.to_excel(\"output/sentimientos.xlsx\", index= False)"
      ]
    },
    {
      "cell_type": "markdown",
      "metadata": {
        "id": "dq0sCL4B_rIn"
      },
      "source": [
        " Restored the maximum width of columns displayed in the ***PandasDataFrame*** for better visualization."
      ]
    },
    {
      "cell_type": "code",
      "execution_count": null,
      "metadata": {
        "id": "Z0YZJU61hPWT"
      },
      "outputs": [],
      "source": [
        "pd.set_option('display.max_colwidth', default_max_colwidth)"
      ]
    },
    {
      "cell_type": "markdown",
      "metadata": {
        "id": "ge9KU97u_8-e"
      },
      "source": [
        "The *'real'* polarity of the reviews is manually evaluated in order to create a confusion matrix and perform an analysis of the accuracy of this model. However, it is important to keep in mind that this analysis of the *'real'* polarity or validation data set is subject to the criteria of the person who performs it, which is why it cannot be considered at any time as a model. free of bias and interpretation."
      ]
    },
    {
      "cell_type": "code",
      "execution_count": null,
      "metadata": {
        "id": "2pql2waW6aSv"
      },
      "outputs": [],
      "source": [
        "df_sentiments = pd.read_excel(\"output/matriz_sentimientos.xlsx\")\n",
        "df_sentiments = df_sentiments[[\"Sentimiento\", \"Real\"]]"
      ]
    },
    {
      "cell_type": "code",
      "execution_count": null,
      "metadata": {
        "colab": {
          "base_uri": "https://localhost:8080/",
          "height": 206
        },
        "id": "LjcAAL_Jg7EN",
        "outputId": "c1b9935b-f300-4662-84b0-5571c93d474e"
      },
      "outputs": [
        {
          "data": {
            "application/vnd.google.colaboratory.intrinsic+json": {
              "summary": "{\n  \"name\": \"df_sentiments\",\n  \"rows\": 5,\n  \"fields\": [\n    {\n      \"column\": \"Sentimiento\",\n      \"properties\": {\n        \"dtype\": \"string\",\n        \"num_unique_values\": 3,\n        \"samples\": [\n          \"Positivo\",\n          \"Neutral\",\n          \"Negativo\"\n        ],\n        \"semantic_type\": \"\",\n        \"description\": \"\"\n      }\n    },\n    {\n      \"column\": \"Real\",\n      \"properties\": {\n        \"dtype\": \"string\",\n        \"num_unique_values\": 3,\n        \"samples\": [\n          \"Positivo\",\n          \"Neutral\",\n          \"Negativo\"\n        ],\n        \"semantic_type\": \"\",\n        \"description\": \"\"\n      }\n    }\n  ]\n}",
              "type": "dataframe"
            },
            "text/html": [
              "\n",
              "  <div id=\"df-e097f820-e2d3-4902-9fd6-267ed7db4242\" class=\"colab-df-container\">\n",
              "    <div>\n",
              "<style scoped>\n",
              "    .dataframe tbody tr th:only-of-type {\n",
              "        vertical-align: middle;\n",
              "    }\n",
              "\n",
              "    .dataframe tbody tr th {\n",
              "        vertical-align: top;\n",
              "    }\n",
              "\n",
              "    .dataframe thead th {\n",
              "        text-align: right;\n",
              "    }\n",
              "</style>\n",
              "<table border=\"1\" class=\"dataframe\">\n",
              "  <thead>\n",
              "    <tr style=\"text-align: right;\">\n",
              "      <th></th>\n",
              "      <th>Sentimiento</th>\n",
              "      <th>Real</th>\n",
              "    </tr>\n",
              "  </thead>\n",
              "  <tbody>\n",
              "    <tr>\n",
              "      <th>305</th>\n",
              "      <td>Positivo</td>\n",
              "      <td>Positivo</td>\n",
              "    </tr>\n",
              "    <tr>\n",
              "      <th>77</th>\n",
              "      <td>Neutral</td>\n",
              "      <td>Neutral</td>\n",
              "    </tr>\n",
              "    <tr>\n",
              "      <th>292</th>\n",
              "      <td>Positivo</td>\n",
              "      <td>Positivo</td>\n",
              "    </tr>\n",
              "    <tr>\n",
              "      <th>217</th>\n",
              "      <td>Positivo</td>\n",
              "      <td>Positivo</td>\n",
              "    </tr>\n",
              "    <tr>\n",
              "      <th>245</th>\n",
              "      <td>Negativo</td>\n",
              "      <td>Negativo</td>\n",
              "    </tr>\n",
              "  </tbody>\n",
              "</table>\n",
              "</div>\n",
              "    <div class=\"colab-df-buttons\">\n",
              "\n",
              "  <div class=\"colab-df-container\">\n",
              "    <button class=\"colab-df-convert\" onclick=\"convertToInteractive('df-e097f820-e2d3-4902-9fd6-267ed7db4242')\"\n",
              "            title=\"Convert this dataframe to an interactive table.\"\n",
              "            style=\"display:none;\">\n",
              "\n",
              "  <svg xmlns=\"http://www.w3.org/2000/svg\" height=\"24px\" viewBox=\"0 -960 960 960\">\n",
              "    <path d=\"M120-120v-720h720v720H120Zm60-500h600v-160H180v160Zm220 220h160v-160H400v160Zm0 220h160v-160H400v160ZM180-400h160v-160H180v160Zm440 0h160v-160H620v160ZM180-180h160v-160H180v160Zm440 0h160v-160H620v160Z\"/>\n",
              "  </svg>\n",
              "    </button>\n",
              "\n",
              "  <style>\n",
              "    .colab-df-container {\n",
              "      display:flex;\n",
              "      gap: 12px;\n",
              "    }\n",
              "\n",
              "    .colab-df-convert {\n",
              "      background-color: #E8F0FE;\n",
              "      border: none;\n",
              "      border-radius: 50%;\n",
              "      cursor: pointer;\n",
              "      display: none;\n",
              "      fill: #1967D2;\n",
              "      height: 32px;\n",
              "      padding: 0 0 0 0;\n",
              "      width: 32px;\n",
              "    }\n",
              "\n",
              "    .colab-df-convert:hover {\n",
              "      background-color: #E2EBFA;\n",
              "      box-shadow: 0px 1px 2px rgba(60, 64, 67, 0.3), 0px 1px 3px 1px rgba(60, 64, 67, 0.15);\n",
              "      fill: #174EA6;\n",
              "    }\n",
              "\n",
              "    .colab-df-buttons div {\n",
              "      margin-bottom: 4px;\n",
              "    }\n",
              "\n",
              "    [theme=dark] .colab-df-convert {\n",
              "      background-color: #3B4455;\n",
              "      fill: #D2E3FC;\n",
              "    }\n",
              "\n",
              "    [theme=dark] .colab-df-convert:hover {\n",
              "      background-color: #434B5C;\n",
              "      box-shadow: 0px 1px 3px 1px rgba(0, 0, 0, 0.15);\n",
              "      filter: drop-shadow(0px 1px 2px rgba(0, 0, 0, 0.3));\n",
              "      fill: #FFFFFF;\n",
              "    }\n",
              "  </style>\n",
              "\n",
              "    <script>\n",
              "      const buttonEl =\n",
              "        document.querySelector('#df-e097f820-e2d3-4902-9fd6-267ed7db4242 button.colab-df-convert');\n",
              "      buttonEl.style.display =\n",
              "        google.colab.kernel.accessAllowed ? 'block' : 'none';\n",
              "\n",
              "      async function convertToInteractive(key) {\n",
              "        const element = document.querySelector('#df-e097f820-e2d3-4902-9fd6-267ed7db4242');\n",
              "        const dataTable =\n",
              "          await google.colab.kernel.invokeFunction('convertToInteractive',\n",
              "                                                    [key], {});\n",
              "        if (!dataTable) return;\n",
              "\n",
              "        const docLinkHtml = 'Like what you see? Visit the ' +\n",
              "          '<a target=\"_blank\" href=https://colab.research.google.com/notebooks/data_table.ipynb>data table notebook</a>'\n",
              "          + ' to learn more about interactive tables.';\n",
              "        element.innerHTML = '';\n",
              "        dataTable['output_type'] = 'display_data';\n",
              "        await google.colab.output.renderOutput(dataTable, element);\n",
              "        const docLink = document.createElement('div');\n",
              "        docLink.innerHTML = docLinkHtml;\n",
              "        element.appendChild(docLink);\n",
              "      }\n",
              "    </script>\n",
              "  </div>\n",
              "\n",
              "\n",
              "<div id=\"df-6b756179-f8ca-457f-a15e-5ce3afba8e8d\">\n",
              "  <button class=\"colab-df-quickchart\" onclick=\"quickchart('df-6b756179-f8ca-457f-a15e-5ce3afba8e8d')\"\n",
              "            title=\"Suggest charts\"\n",
              "            style=\"display:none;\">\n",
              "\n",
              "<svg xmlns=\"http://www.w3.org/2000/svg\" height=\"24px\"viewBox=\"0 0 24 24\"\n",
              "     width=\"24px\">\n",
              "    <g>\n",
              "        <path d=\"M19 3H5c-1.1 0-2 .9-2 2v14c0 1.1.9 2 2 2h14c1.1 0 2-.9 2-2V5c0-1.1-.9-2-2-2zM9 17H7v-7h2v7zm4 0h-2V7h2v10zm4 0h-2v-4h2v4z\"/>\n",
              "    </g>\n",
              "</svg>\n",
              "  </button>\n",
              "\n",
              "<style>\n",
              "  .colab-df-quickchart {\n",
              "      --bg-color: #E8F0FE;\n",
              "      --fill-color: #1967D2;\n",
              "      --hover-bg-color: #E2EBFA;\n",
              "      --hover-fill-color: #174EA6;\n",
              "      --disabled-fill-color: #AAA;\n",
              "      --disabled-bg-color: #DDD;\n",
              "  }\n",
              "\n",
              "  [theme=dark] .colab-df-quickchart {\n",
              "      --bg-color: #3B4455;\n",
              "      --fill-color: #D2E3FC;\n",
              "      --hover-bg-color: #434B5C;\n",
              "      --hover-fill-color: #FFFFFF;\n",
              "      --disabled-bg-color: #3B4455;\n",
              "      --disabled-fill-color: #666;\n",
              "  }\n",
              "\n",
              "  .colab-df-quickchart {\n",
              "    background-color: var(--bg-color);\n",
              "    border: none;\n",
              "    border-radius: 50%;\n",
              "    cursor: pointer;\n",
              "    display: none;\n",
              "    fill: var(--fill-color);\n",
              "    height: 32px;\n",
              "    padding: 0;\n",
              "    width: 32px;\n",
              "  }\n",
              "\n",
              "  .colab-df-quickchart:hover {\n",
              "    background-color: var(--hover-bg-color);\n",
              "    box-shadow: 0 1px 2px rgba(60, 64, 67, 0.3), 0 1px 3px 1px rgba(60, 64, 67, 0.15);\n",
              "    fill: var(--button-hover-fill-color);\n",
              "  }\n",
              "\n",
              "  .colab-df-quickchart-complete:disabled,\n",
              "  .colab-df-quickchart-complete:disabled:hover {\n",
              "    background-color: var(--disabled-bg-color);\n",
              "    fill: var(--disabled-fill-color);\n",
              "    box-shadow: none;\n",
              "  }\n",
              "\n",
              "  .colab-df-spinner {\n",
              "    border: 2px solid var(--fill-color);\n",
              "    border-color: transparent;\n",
              "    border-bottom-color: var(--fill-color);\n",
              "    animation:\n",
              "      spin 1s steps(1) infinite;\n",
              "  }\n",
              "\n",
              "  @keyframes spin {\n",
              "    0% {\n",
              "      border-color: transparent;\n",
              "      border-bottom-color: var(--fill-color);\n",
              "      border-left-color: var(--fill-color);\n",
              "    }\n",
              "    20% {\n",
              "      border-color: transparent;\n",
              "      border-left-color: var(--fill-color);\n",
              "      border-top-color: var(--fill-color);\n",
              "    }\n",
              "    30% {\n",
              "      border-color: transparent;\n",
              "      border-left-color: var(--fill-color);\n",
              "      border-top-color: var(--fill-color);\n",
              "      border-right-color: var(--fill-color);\n",
              "    }\n",
              "    40% {\n",
              "      border-color: transparent;\n",
              "      border-right-color: var(--fill-color);\n",
              "      border-top-color: var(--fill-color);\n",
              "    }\n",
              "    60% {\n",
              "      border-color: transparent;\n",
              "      border-right-color: var(--fill-color);\n",
              "    }\n",
              "    80% {\n",
              "      border-color: transparent;\n",
              "      border-right-color: var(--fill-color);\n",
              "      border-bottom-color: var(--fill-color);\n",
              "    }\n",
              "    90% {\n",
              "      border-color: transparent;\n",
              "      border-bottom-color: var(--fill-color);\n",
              "    }\n",
              "  }\n",
              "</style>\n",
              "\n",
              "  <script>\n",
              "    async function quickchart(key) {\n",
              "      const quickchartButtonEl =\n",
              "        document.querySelector('#' + key + ' button');\n",
              "      quickchartButtonEl.disabled = true;  // To prevent multiple clicks.\n",
              "      quickchartButtonEl.classList.add('colab-df-spinner');\n",
              "      try {\n",
              "        const charts = await google.colab.kernel.invokeFunction(\n",
              "            'suggestCharts', [key], {});\n",
              "      } catch (error) {\n",
              "        console.error('Error during call to suggestCharts:', error);\n",
              "      }\n",
              "      quickchartButtonEl.classList.remove('colab-df-spinner');\n",
              "      quickchartButtonEl.classList.add('colab-df-quickchart-complete');\n",
              "    }\n",
              "    (() => {\n",
              "      let quickchartButtonEl =\n",
              "        document.querySelector('#df-6b756179-f8ca-457f-a15e-5ce3afba8e8d button');\n",
              "      quickchartButtonEl.style.display =\n",
              "        google.colab.kernel.accessAllowed ? 'block' : 'none';\n",
              "    })();\n",
              "  </script>\n",
              "</div>\n",
              "\n",
              "    </div>\n",
              "  </div>\n"
            ],
            "text/plain": [
              "    Sentimiento      Real\n",
              "305    Positivo  Positivo\n",
              "77      Neutral   Neutral\n",
              "292    Positivo  Positivo\n",
              "217    Positivo  Positivo\n",
              "245    Negativo  Negativo"
            ]
          },
          "execution_count": 48,
          "metadata": {},
          "output_type": "execute_result"
        }
      ],
      "source": [
        "df_sentiments.sample(5)"
      ]
    },
    {
      "cell_type": "code",
      "execution_count": null,
      "metadata": {
        "colab": {
          "base_uri": "https://localhost:8080/"
        },
        "id": "dyP5k8fXibz6",
        "outputId": "62b9059a-efb0-4817-de46-1961e918edf4"
      },
      "outputs": [
        {
          "data": {
            "text/plain": [
              "array(['Positivo', 'Negativo', 'Neutral'], dtype=object)"
            ]
          },
          "execution_count": 49,
          "metadata": {},
          "output_type": "execute_result"
        }
      ],
      "source": [
        "categorias = df_sentiments[\"Sentimiento\"].unique()\n",
        "categorias"
      ]
    },
    {
      "cell_type": "markdown",
      "metadata": {
        "id": "OCKLormMF4-L"
      },
      "source": [
        " ## Confusion matrix"
      ]
    },
    {
      "cell_type": "markdown",
      "metadata": {
        "id": "wP2XlKXHFEJU"
      },
      "source": [
        " The three-category confusion matrix is created with the help of ***sklearn.metrics.confusion_matrix*** based on the three sentiment categories defined above."
      ]
    },
    {
      "cell_type": "code",
      "execution_count": null,
      "metadata": {
        "id": "_7GC6-z7j9ao"
      },
      "outputs": [],
      "source": [
        "from sklearn.metrics import confusion_matrix"
      ]
    },
    {
      "cell_type": "code",
      "execution_count": null,
      "metadata": {
        "id": "KsPeSbSIkGmb"
      },
      "outputs": [],
      "source": [
        "conf_matrix = confusion_matrix(\n",
        "    df_sentiments[\"Real\"],\n",
        "    df_sentiments[\"Sentimiento\"],\n",
        "    labels=categorias\n",
        ")\n",
        "\n",
        "conf_matrix_df = pd.DataFrame(\n",
        "    conf_matrix,\n",
        "    index=categorias,\n",
        "    columns=categorias\n",
        ")"
      ]
    },
    {
      "cell_type": "code",
      "execution_count": null,
      "metadata": {
        "colab": {
          "base_uri": "https://localhost:8080/",
          "height": 143
        },
        "id": "GnCaqNiAkP7p",
        "outputId": "15ddadb2-02e2-43c3-9552-1bb539e8c572"
      },
      "outputs": [
        {
          "data": {
            "application/vnd.google.colaboratory.intrinsic+json": {
              "summary": "{\n  \"name\": \"conf_matrix_df\",\n  \"rows\": 3,\n  \"fields\": [\n    {\n      \"column\": \"Positivo\",\n      \"properties\": {\n        \"dtype\": \"number\",\n        \"std\": 298,\n        \"min\": 8,\n        \"max\": 536,\n        \"num_unique_values\": 3,\n        \"samples\": [\n          536,\n          8,\n          29\n        ],\n        \"semantic_type\": \"\",\n        \"description\": \"\"\n      }\n    },\n    {\n      \"column\": \"Negativo\",\n      \"properties\": {\n        \"dtype\": \"number\",\n        \"std\": 4,\n        \"min\": 1,\n        \"max\": 10,\n        \"num_unique_values\": 3,\n        \"samples\": [\n          1,\n          10,\n          5\n        ],\n        \"semantic_type\": \"\",\n        \"description\": \"\"\n      }\n    },\n    {\n      \"column\": \"Neutral\",\n      \"properties\": {\n        \"dtype\": \"number\",\n        \"std\": 6,\n        \"min\": 3,\n        \"max\": 15,\n        \"num_unique_values\": 3,\n        \"samples\": [\n          15,\n          3,\n          13\n        ],\n        \"semantic_type\": \"\",\n        \"description\": \"\"\n      }\n    }\n  ]\n}",
              "type": "dataframe",
              "variable_name": "conf_matrix_df"
            },
            "text/html": [
              "\n",
              "  <div id=\"df-8688fa7f-1fd0-4d7b-a787-7f1af252f786\" class=\"colab-df-container\">\n",
              "    <div>\n",
              "<style scoped>\n",
              "    .dataframe tbody tr th:only-of-type {\n",
              "        vertical-align: middle;\n",
              "    }\n",
              "\n",
              "    .dataframe tbody tr th {\n",
              "        vertical-align: top;\n",
              "    }\n",
              "\n",
              "    .dataframe thead th {\n",
              "        text-align: right;\n",
              "    }\n",
              "</style>\n",
              "<table border=\"1\" class=\"dataframe\">\n",
              "  <thead>\n",
              "    <tr style=\"text-align: right;\">\n",
              "      <th></th>\n",
              "      <th>Positivo</th>\n",
              "      <th>Negativo</th>\n",
              "      <th>Neutral</th>\n",
              "    </tr>\n",
              "  </thead>\n",
              "  <tbody>\n",
              "    <tr>\n",
              "      <th>Positivo</th>\n",
              "      <td>536</td>\n",
              "      <td>1</td>\n",
              "      <td>15</td>\n",
              "    </tr>\n",
              "    <tr>\n",
              "      <th>Negativo</th>\n",
              "      <td>8</td>\n",
              "      <td>10</td>\n",
              "      <td>3</td>\n",
              "    </tr>\n",
              "    <tr>\n",
              "      <th>Neutral</th>\n",
              "      <td>29</td>\n",
              "      <td>5</td>\n",
              "      <td>13</td>\n",
              "    </tr>\n",
              "  </tbody>\n",
              "</table>\n",
              "</div>\n",
              "    <div class=\"colab-df-buttons\">\n",
              "\n",
              "  <div class=\"colab-df-container\">\n",
              "    <button class=\"colab-df-convert\" onclick=\"convertToInteractive('df-8688fa7f-1fd0-4d7b-a787-7f1af252f786')\"\n",
              "            title=\"Convert this dataframe to an interactive table.\"\n",
              "            style=\"display:none;\">\n",
              "\n",
              "  <svg xmlns=\"http://www.w3.org/2000/svg\" height=\"24px\" viewBox=\"0 -960 960 960\">\n",
              "    <path d=\"M120-120v-720h720v720H120Zm60-500h600v-160H180v160Zm220 220h160v-160H400v160Zm0 220h160v-160H400v160ZM180-400h160v-160H180v160Zm440 0h160v-160H620v160ZM180-180h160v-160H180v160Zm440 0h160v-160H620v160Z\"/>\n",
              "  </svg>\n",
              "    </button>\n",
              "\n",
              "  <style>\n",
              "    .colab-df-container {\n",
              "      display:flex;\n",
              "      gap: 12px;\n",
              "    }\n",
              "\n",
              "    .colab-df-convert {\n",
              "      background-color: #E8F0FE;\n",
              "      border: none;\n",
              "      border-radius: 50%;\n",
              "      cursor: pointer;\n",
              "      display: none;\n",
              "      fill: #1967D2;\n",
              "      height: 32px;\n",
              "      padding: 0 0 0 0;\n",
              "      width: 32px;\n",
              "    }\n",
              "\n",
              "    .colab-df-convert:hover {\n",
              "      background-color: #E2EBFA;\n",
              "      box-shadow: 0px 1px 2px rgba(60, 64, 67, 0.3), 0px 1px 3px 1px rgba(60, 64, 67, 0.15);\n",
              "      fill: #174EA6;\n",
              "    }\n",
              "\n",
              "    .colab-df-buttons div {\n",
              "      margin-bottom: 4px;\n",
              "    }\n",
              "\n",
              "    [theme=dark] .colab-df-convert {\n",
              "      background-color: #3B4455;\n",
              "      fill: #D2E3FC;\n",
              "    }\n",
              "\n",
              "    [theme=dark] .colab-df-convert:hover {\n",
              "      background-color: #434B5C;\n",
              "      box-shadow: 0px 1px 3px 1px rgba(0, 0, 0, 0.15);\n",
              "      filter: drop-shadow(0px 1px 2px rgba(0, 0, 0, 0.3));\n",
              "      fill: #FFFFFF;\n",
              "    }\n",
              "  </style>\n",
              "\n",
              "    <script>\n",
              "      const buttonEl =\n",
              "        document.querySelector('#df-8688fa7f-1fd0-4d7b-a787-7f1af252f786 button.colab-df-convert');\n",
              "      buttonEl.style.display =\n",
              "        google.colab.kernel.accessAllowed ? 'block' : 'none';\n",
              "\n",
              "      async function convertToInteractive(key) {\n",
              "        const element = document.querySelector('#df-8688fa7f-1fd0-4d7b-a787-7f1af252f786');\n",
              "        const dataTable =\n",
              "          await google.colab.kernel.invokeFunction('convertToInteractive',\n",
              "                                                    [key], {});\n",
              "        if (!dataTable) return;\n",
              "\n",
              "        const docLinkHtml = 'Like what you see? Visit the ' +\n",
              "          '<a target=\"_blank\" href=https://colab.research.google.com/notebooks/data_table.ipynb>data table notebook</a>'\n",
              "          + ' to learn more about interactive tables.';\n",
              "        element.innerHTML = '';\n",
              "        dataTable['output_type'] = 'display_data';\n",
              "        await google.colab.output.renderOutput(dataTable, element);\n",
              "        const docLink = document.createElement('div');\n",
              "        docLink.innerHTML = docLinkHtml;\n",
              "        element.appendChild(docLink);\n",
              "      }\n",
              "    </script>\n",
              "  </div>\n",
              "\n",
              "\n",
              "<div id=\"df-ba718933-0a49-4e24-ac08-07c24d7b023c\">\n",
              "  <button class=\"colab-df-quickchart\" onclick=\"quickchart('df-ba718933-0a49-4e24-ac08-07c24d7b023c')\"\n",
              "            title=\"Suggest charts\"\n",
              "            style=\"display:none;\">\n",
              "\n",
              "<svg xmlns=\"http://www.w3.org/2000/svg\" height=\"24px\"viewBox=\"0 0 24 24\"\n",
              "     width=\"24px\">\n",
              "    <g>\n",
              "        <path d=\"M19 3H5c-1.1 0-2 .9-2 2v14c0 1.1.9 2 2 2h14c1.1 0 2-.9 2-2V5c0-1.1-.9-2-2-2zM9 17H7v-7h2v7zm4 0h-2V7h2v10zm4 0h-2v-4h2v4z\"/>\n",
              "    </g>\n",
              "</svg>\n",
              "  </button>\n",
              "\n",
              "<style>\n",
              "  .colab-df-quickchart {\n",
              "      --bg-color: #E8F0FE;\n",
              "      --fill-color: #1967D2;\n",
              "      --hover-bg-color: #E2EBFA;\n",
              "      --hover-fill-color: #174EA6;\n",
              "      --disabled-fill-color: #AAA;\n",
              "      --disabled-bg-color: #DDD;\n",
              "  }\n",
              "\n",
              "  [theme=dark] .colab-df-quickchart {\n",
              "      --bg-color: #3B4455;\n",
              "      --fill-color: #D2E3FC;\n",
              "      --hover-bg-color: #434B5C;\n",
              "      --hover-fill-color: #FFFFFF;\n",
              "      --disabled-bg-color: #3B4455;\n",
              "      --disabled-fill-color: #666;\n",
              "  }\n",
              "\n",
              "  .colab-df-quickchart {\n",
              "    background-color: var(--bg-color);\n",
              "    border: none;\n",
              "    border-radius: 50%;\n",
              "    cursor: pointer;\n",
              "    display: none;\n",
              "    fill: var(--fill-color);\n",
              "    height: 32px;\n",
              "    padding: 0;\n",
              "    width: 32px;\n",
              "  }\n",
              "\n",
              "  .colab-df-quickchart:hover {\n",
              "    background-color: var(--hover-bg-color);\n",
              "    box-shadow: 0 1px 2px rgba(60, 64, 67, 0.3), 0 1px 3px 1px rgba(60, 64, 67, 0.15);\n",
              "    fill: var(--button-hover-fill-color);\n",
              "  }\n",
              "\n",
              "  .colab-df-quickchart-complete:disabled,\n",
              "  .colab-df-quickchart-complete:disabled:hover {\n",
              "    background-color: var(--disabled-bg-color);\n",
              "    fill: var(--disabled-fill-color);\n",
              "    box-shadow: none;\n",
              "  }\n",
              "\n",
              "  .colab-df-spinner {\n",
              "    border: 2px solid var(--fill-color);\n",
              "    border-color: transparent;\n",
              "    border-bottom-color: var(--fill-color);\n",
              "    animation:\n",
              "      spin 1s steps(1) infinite;\n",
              "  }\n",
              "\n",
              "  @keyframes spin {\n",
              "    0% {\n",
              "      border-color: transparent;\n",
              "      border-bottom-color: var(--fill-color);\n",
              "      border-left-color: var(--fill-color);\n",
              "    }\n",
              "    20% {\n",
              "      border-color: transparent;\n",
              "      border-left-color: var(--fill-color);\n",
              "      border-top-color: var(--fill-color);\n",
              "    }\n",
              "    30% {\n",
              "      border-color: transparent;\n",
              "      border-left-color: var(--fill-color);\n",
              "      border-top-color: var(--fill-color);\n",
              "      border-right-color: var(--fill-color);\n",
              "    }\n",
              "    40% {\n",
              "      border-color: transparent;\n",
              "      border-right-color: var(--fill-color);\n",
              "      border-top-color: var(--fill-color);\n",
              "    }\n",
              "    60% {\n",
              "      border-color: transparent;\n",
              "      border-right-color: var(--fill-color);\n",
              "    }\n",
              "    80% {\n",
              "      border-color: transparent;\n",
              "      border-right-color: var(--fill-color);\n",
              "      border-bottom-color: var(--fill-color);\n",
              "    }\n",
              "    90% {\n",
              "      border-color: transparent;\n",
              "      border-bottom-color: var(--fill-color);\n",
              "    }\n",
              "  }\n",
              "</style>\n",
              "\n",
              "  <script>\n",
              "    async function quickchart(key) {\n",
              "      const quickchartButtonEl =\n",
              "        document.querySelector('#' + key + ' button');\n",
              "      quickchartButtonEl.disabled = true;  // To prevent multiple clicks.\n",
              "      quickchartButtonEl.classList.add('colab-df-spinner');\n",
              "      try {\n",
              "        const charts = await google.colab.kernel.invokeFunction(\n",
              "            'suggestCharts', [key], {});\n",
              "      } catch (error) {\n",
              "        console.error('Error during call to suggestCharts:', error);\n",
              "      }\n",
              "      quickchartButtonEl.classList.remove('colab-df-spinner');\n",
              "      quickchartButtonEl.classList.add('colab-df-quickchart-complete');\n",
              "    }\n",
              "    (() => {\n",
              "      let quickchartButtonEl =\n",
              "        document.querySelector('#df-ba718933-0a49-4e24-ac08-07c24d7b023c button');\n",
              "      quickchartButtonEl.style.display =\n",
              "        google.colab.kernel.accessAllowed ? 'block' : 'none';\n",
              "    })();\n",
              "  </script>\n",
              "</div>\n",
              "\n",
              "  <div id=\"id_35f9ecea-cfa5-4f7d-b02f-ffa721054847\">\n",
              "    <style>\n",
              "      .colab-df-generate {\n",
              "        background-color: #E8F0FE;\n",
              "        border: none;\n",
              "        border-radius: 50%;\n",
              "        cursor: pointer;\n",
              "        display: none;\n",
              "        fill: #1967D2;\n",
              "        height: 32px;\n",
              "        padding: 0 0 0 0;\n",
              "        width: 32px;\n",
              "      }\n",
              "\n",
              "      .colab-df-generate:hover {\n",
              "        background-color: #E2EBFA;\n",
              "        box-shadow: 0px 1px 2px rgba(60, 64, 67, 0.3), 0px 1px 3px 1px rgba(60, 64, 67, 0.15);\n",
              "        fill: #174EA6;\n",
              "      }\n",
              "\n",
              "      [theme=dark] .colab-df-generate {\n",
              "        background-color: #3B4455;\n",
              "        fill: #D2E3FC;\n",
              "      }\n",
              "\n",
              "      [theme=dark] .colab-df-generate:hover {\n",
              "        background-color: #434B5C;\n",
              "        box-shadow: 0px 1px 3px 1px rgba(0, 0, 0, 0.15);\n",
              "        filter: drop-shadow(0px 1px 2px rgba(0, 0, 0, 0.3));\n",
              "        fill: #FFFFFF;\n",
              "      }\n",
              "    </style>\n",
              "    <button class=\"colab-df-generate\" onclick=\"generateWithVariable('conf_matrix_df')\"\n",
              "            title=\"Generate code using this dataframe.\"\n",
              "            style=\"display:none;\">\n",
              "\n",
              "  <svg xmlns=\"http://www.w3.org/2000/svg\" height=\"24px\"viewBox=\"0 0 24 24\"\n",
              "       width=\"24px\">\n",
              "    <path d=\"M7,19H8.4L18.45,9,17,7.55,7,17.6ZM5,21V16.75L18.45,3.32a2,2,0,0,1,2.83,0l1.4,1.43a1.91,1.91,0,0,1,.58,1.4,1.91,1.91,0,0,1-.58,1.4L9.25,21ZM18.45,9,17,7.55Zm-12,3A5.31,5.31,0,0,0,4.9,8.1,5.31,5.31,0,0,0,1,6.5,5.31,5.31,0,0,0,4.9,4.9,5.31,5.31,0,0,0,6.5,1,5.31,5.31,0,0,0,8.1,4.9,5.31,5.31,0,0,0,12,6.5,5.46,5.46,0,0,0,6.5,12Z\"/>\n",
              "  </svg>\n",
              "    </button>\n",
              "    <script>\n",
              "      (() => {\n",
              "      const buttonEl =\n",
              "        document.querySelector('#id_35f9ecea-cfa5-4f7d-b02f-ffa721054847 button.colab-df-generate');\n",
              "      buttonEl.style.display =\n",
              "        google.colab.kernel.accessAllowed ? 'block' : 'none';\n",
              "\n",
              "      buttonEl.onclick = () => {\n",
              "        google.colab.notebook.generateWithVariable('conf_matrix_df');\n",
              "      }\n",
              "      })();\n",
              "    </script>\n",
              "  </div>\n",
              "\n",
              "    </div>\n",
              "  </div>\n"
            ],
            "text/plain": [
              "          Positivo  Negativo  Neutral\n",
              "Positivo       536         1       15\n",
              "Negativo         8        10        3\n",
              "Neutral         29         5       13"
            ]
          },
          "execution_count": 52,
          "metadata": {},
          "output_type": "execute_result"
        }
      ],
      "source": [
        "conf_matrix_df"
      ]
    },
    {
      "cell_type": "markdown",
      "metadata": {
        "id": "h5VaR_EHGHE7"
      },
      "source": [
        " The 3-dimensional confusion matrix is represented graphically, using the ***seaborn*** and ***matplotlib*** libs."
      ]
    },
    {
      "cell_type": "code",
      "execution_count": null,
      "metadata": {
        "colab": {
          "base_uri": "https://localhost:8080/",
          "height": 410
        },
        "id": "Hu5SNm1Fk5wn",
        "outputId": "6b35211b-fb46-4f5c-d605-aeaf91124946"
      },
      "outputs": [
        {
          "data": {
            "image/png": "[encoded data removed]",
            "text/plain": [
              "<Figure size 400x400 with 1 Axes>"
            ]
          },
          "metadata": {},
          "output_type": "display_data"
        }
      ],
      "source": [
        "import seaborn as sns\n",
        "import matplotlib.pyplot as plt\n",
        "\n",
        "plt.figure(figsize=(4, 4))\n",
        "sns.heatmap(\n",
        "    conf_matrix_df,\n",
        "    annot=True,\n",
        "    fmt=\"d\",\n",
        "    cmap=\"Blues\",\n",
        "    linewidths=.5,\n",
        "    cbar=False\n",
        ")\n",
        "\n",
        "plt.title('Matriz de Confusión')\n",
        "plt.xlabel('Sentimiento Predicho')\n",
        "plt.ylabel('Sentimiento Real')\n",
        "plt.savefig(\"output/conf_matrix.png\")\n",
        "plt.show()"
      ]
    },
    {
      "cell_type": "markdown",
      "metadata": {
        "id": "FnVE7dgRvmr7"
      },
      "source": [
        " # Conclusion"
      ]
    },
    {
      "cell_type": "markdown",
      "metadata": {
        "id": "CYC2npMCvuMs"
      },
      "source": [
        "It can be seen that this model classifies positive feelings in a highly favorable way, given that it detects certain words within a dictionary that it considers positive. However, the error percentage is higher for negative and neutral comments, which is because in many comments there may be sarcasm or the use of apparently positive words in pejorative contexts. Additionally, some guests may leave reviews highlighting both positive and negative aspects they encountered during their stay."
      ]
    }
  ],
  "metadata": {
    "colab": {
      "provenance": [],
      "include_colab_link": true
    },
    "kernelspec": {
      "display_name": "Python 3",
      "name": "python3"
    },
    "language_info": {
      "name": "python"
    }
  },
  "nbformat": 4,
  "nbformat_minor": 0
}