{
 "cells": [
  {
   "cell_type": "markdown",
   "metadata": {
    "id": "WffHy-y1r67K"
   },
   "source": [
    "# An&aacute;lisis de sentimientos para rese&ntilde;as de Airbnb"
   ]
  },
  {
   "cell_type": "markdown",
   "metadata": {
    "id": "rVCnlmjaqZJi"
   },
   "source": [
    "El presente proyecto aborda una de las aplicaciones m&aacute;s interesantes al momento de trabajar con el **Procesamiento del Lenguage Natural (PLN)** con Python, que consiste en el **An&aacute;lisis de Sentimientos** aplicado a un conjunto de datos reales de muestra correspondientes a 620 rese&ntilde;as otorgadas por hu&eacute;spedes a un total de 10 alojamientos listados dentro de la plataforma de alojamientos temporales *Airbnb* para la ic&oacute;nica ciudad tur&iacute;stica ecuatoriana con playas &uacute;nicas y gente muy acogedora que es **Monta&ntilde;ita**.\n",
    "\n",
    "Este proyecto cumple con los lineamientos de estilo y formato de código dictados en el manual ***PEP-8***, adem&aacute;s de ***Entidades HTML*** para ayudar a la correcta legibilidad de caracteres especiales, tales como *tildes* y *&ntilde;*."
   ]
  },
  {
   "cell_type": "markdown",
   "metadata": {
    "id": "WpUBYIvcuIW7"
   },
   "source": [
    "# Preprocesamiento inicial de la informaci&oacute;n"
   ]
  },
  {
   "cell_type": "markdown",
   "metadata": {
    "id": "WH3z3n0V5sN9"
   },
   "source": [
    "## Instalaci&oacute;n e importaci&oacute;n de librer&iacute;as necesarias"
   ]
  },
  {
   "cell_type": "markdown",
   "metadata": {
    "id": "N9hG1yIoCO3T"
   },
   "source": [
    "Debido a que varias de las rese&ntilde;as contienen *emojis*, ser&aacute; necesario contar con una librer&iacute;a para su respectivo tratamiento y transformaci&oacute;n, para posteriormente emplearlos al momento de realizar el an&aacute;lisis de sentimientos. La librer&iacute;a que se instala se llama ***emoji***."
   ]
  },
  {
   "cell_type": "code",
   "metadata": {
    "colab": {
     "base_uri": "https://localhost:8080/"
    },
    "id": "P0lR93c_F3bg",
    "executionInfo": {
     "status": "ok",
     "timestamp": 1722087516995,
     "user_tz": 300,
     "elapsed": 14459,
     "user": {
      "displayName": "Carlos Calderón",
      "userId": "03456281774656213876"
     }
    },
    "outputId": "092c5453-e91f-463f-94dd-72556f31e3c3",
    "ExecuteTime": {
     "end_time": "2024-07-27T14:56:08.902635Z",
     "start_time": "2024-07-27T14:56:08.840559Z"
    }
   },
   "source": [
    "try:\n",
    "    import emoji\n",
    "except ImportError:\n",
    "    !pip install emoji\n",
    "    import emoji"
   ],
   "outputs": [],
   "execution_count": 1
  },
  {
   "cell_type": "markdown",
   "metadata": {
    "id": "8FSmPVTtvpJE"
   },
   "source": [
    "Se importan adem&aacute;s liber&iacute;as como ***pandas***, ***numpy***, ***os***, ***glob*** y ***pathlib***, mismas que servir&aacute;n para diferentes prop&oacute;sitos, desde la manipulaci&oacute;n de archivos y carpetas dentro de la m&aacute;quina virtual hasta la creaci&oacute;n de ***DataFrames*** y el uso de funciones matem&aacute;ticas."
   ]
  },
  {
   "cell_type": "code",
   "metadata": {
    "id": "PGL3UsDm4MwY",
    "executionInfo": {
     "status": "ok",
     "timestamp": 1722087518079,
     "user_tz": 300,
     "elapsed": 1092,
     "user": {
      "displayName": "Carlos Calderón",
      "userId": "03456281774656213876"
     }
    },
    "ExecuteTime": {
     "end_time": "2024-07-27T14:56:09.030601Z",
     "start_time": "2024-07-27T14:56:09.024640Z"
    }
   },
   "source": [
    "import pandas as pd\n",
    "import numpy as np\n",
    "import os\n",
    "import glob\n",
    "from pathlib import Path"
   ],
   "outputs": [],
   "execution_count": 2
  },
  {
   "cell_type": "markdown",
   "metadata": {
    "id": "2CZw8czsmmk-"
   },
   "source": [
    "Se configura pandas para evitar que trunque el texto de las entradas de cada una de las columnas. Adicionalmente, se cambia el directorio base con la librer&iacute;a ***os*** para una mayor facilidad de trabajo. En el directorio base est&aacute;n contenidas las rese&ntilde;as dejadas por hu&eacute;spedes de un total de 10 alojamientos diferentes ubicados en la playa de Monta&ntilde;ita, Ecuador, con corte a la fecha del viernes, 06 de enero de 2024."
   ]
  },
  {
   "cell_type": "code",
   "metadata": {
    "id": "1defgKmKHwrh",
    "executionInfo": {
     "status": "ok",
     "timestamp": 1722087518079,
     "user_tz": 300,
     "elapsed": 10,
     "user": {
      "displayName": "Carlos Calderón",
      "userId": "03456281774656213876"
     }
    },
    "ExecuteTime": {
     "end_time": "2024-07-27T14:56:09.114066Z",
     "start_time": "2024-07-27T14:56:09.110862Z"
    }
   },
   "source": [
    "default_max_colwidth = pd.get_option('display.max_colwidth')\n",
    "pd.set_option('display.max_colwidth', None)"
   ],
   "outputs": [],
   "execution_count": 3
  },
  {
   "cell_type": "markdown",
   "source": [
    "El bloque de c&oacute;digo contenido en la siguiente celda se debe ejecutar &uacute;nicamente si los archivos del ***notebook*** se almacenan en ***Google Drive*** y si adem&aacute;s este se ejecuta dentro de la plataforma de ***Google Colab***, para lo cual es necesario reemplazar *root_path* con la ruta correspondiente al directorio ra&iacute;z donde se almacenar&aacute;n los archivos. Esto es a fin de que en celdas posteriores no sea necesario escribir la ruta completa cada vez.\n",
    "\n",
    "Por el contrario, si se ejecuta el ***notebook*** en un entorno local, se puede omitir por completo la celda."
   ],
   "metadata": {
    "id": "4K-vALTh1vg1"
   }
  },
  {
   "cell_type": "code",
   "metadata": {
    "colab": {
     "base_uri": "https://localhost:8080/"
    },
    "id": "MsZrgXii958z",
    "executionInfo": {
     "status": "ok",
     "timestamp": 1722087518080,
     "user_tz": 300,
     "elapsed": 10,
     "user": {
      "displayName": "Carlos Calderón",
      "userId": "03456281774656213876"
     }
    },
    "outputId": "ee24fb0b-8105-418a-f22b-0b2644a9ac2b",
    "ExecuteTime": {
     "end_time": "2024-07-27T14:56:09.257951Z",
     "start_time": "2024-07-27T14:56:09.235931Z"
    }
   },
   "source": [
    "root_path = \"/content/drive/MyDrive/PORTFOLIO/Sent_Analysis\"\n",
    "if os.path.exists(root_path):\n",
    "    reviews_path = os.path.join(root_path, \"abb_reviews\")\n",
    "    os.chdir(root_path)\n",
    "else:\n",
    "    reviews_path = \"./abb_reviews\"\n",
    "# Verificación de cambio de directorio\n",
    "print(f\"Directorio actual: {os.getcwd()}\")"
   ],
   "outputs": [
    {
     "name": "stdout",
     "output_type": "stream",
     "text": [
      "Directorio actual: /home/carlos/PORTFOLIO/airbnb-sentiment-analysis\n"
     ]
    }
   ],
   "execution_count": 4
  },
  {
   "cell_type": "markdown",
   "metadata": {
    "id": "qwP71jayoKyD"
   },
   "source": [
    "Se obtiene un listado con todos los arhivos correspondientes a las rese&ntilde;as de 10 alojamientos en total."
   ]
  },
  {
   "cell_type": "code",
   "metadata": {
    "id": "-7z56EQdylfa",
    "executionInfo": {
     "status": "ok",
     "timestamp": 1722087518392,
     "user_tz": 300,
     "elapsed": 320,
     "user": {
      "displayName": "Carlos Calderón",
      "userId": "03456281774656213876"
     }
    },
    "ExecuteTime": {
     "end_time": "2024-07-27T14:56:09.308488Z",
     "start_time": "2024-07-27T14:56:09.301772Z"
    }
   },
   "source": [
    "# Se define un patrón para buscar archivos txt en el directorio\n",
    "patron = '*.txt'\n",
    "\n",
    "# Se usa glob para obtener la lista de archivos que coinciden con el patrón\n",
    "abb_reviews = glob.glob(os.path.join(reviews_path, patron))\n",
    "\n",
    "# Se ordenan las reseñas en orden alfabético\n",
    "abb_reviews = sorted(\n",
    "    abb_reviews,\n",
    "    key=lambda x: int(Path(x).stem.split('_')[-1]))"
   ],
   "outputs": [],
   "execution_count": 5
  },
  {
   "cell_type": "markdown",
   "metadata": {
    "id": "L-qXQHhz55t2"
   },
   "source": [
    "## Conteo de rese&ntilde;as por cada archivo"
   ]
  },
  {
   "cell_type": "code",
   "metadata": {
    "colab": {
     "base_uri": "https://localhost:8080/"
    },
    "id": "59j4P02Vy96_",
    "executionInfo": {
     "status": "ok",
     "timestamp": 1722087520697,
     "user_tz": 300,
     "elapsed": 2308,
     "user": {
      "displayName": "Carlos Calderón",
      "userId": "03456281774656213876"
     }
    },
    "outputId": "28bca9e6-ff04-490c-a40c-d84c44d06769",
    "ExecuteTime": {
     "end_time": "2024-07-27T14:56:09.470551Z",
     "start_time": "2024-07-27T14:56:09.456794Z"
    }
   },
   "source": [
    "total_resenas = 0\n",
    "for archivo in abb_reviews:\n",
    "    archivo_path = Path(archivo)\n",
    "    with open(archivo_path, mode=\"r\", encoding=\"utf-8\") as file:\n",
    "        foo = file.read()\n",
    "        print(f'Número de reseñas en {archivo_path.name}:\\\n",
    "         {foo.count(\"Calificación: \")}')\n",
    "        total_resenas += foo.count(\"Calificación: \")\n",
    "\n",
    "print(f\"\\nTotal de reseñas en {len(abb_reviews)} archivos: {total_resenas}\")"
   ],
   "outputs": [
    {
     "name": "stdout",
     "output_type": "stream",
     "text": [
      "Número de reseñas en abb_reviews_00.txt:         9\n",
      "Número de reseñas en abb_reviews_01.txt:         17\n",
      "Número de reseñas en abb_reviews_02.txt:         141\n",
      "Número de reseñas en abb_reviews_03.txt:         15\n",
      "Número de reseñas en abb_reviews_04.txt:         38\n",
      "Número de reseñas en abb_reviews_05.txt:         8\n",
      "Número de reseñas en abb_reviews_06.txt:         200\n",
      "Número de reseñas en abb_reviews_07.txt:         29\n",
      "Número de reseñas en abb_reviews_08.txt:         22\n",
      "Número de reseñas en abb_reviews_09.txt:         141\n",
      "\n",
      "Total de reseñas en 10 archivos: 620\n"
     ]
    }
   ],
   "execution_count": 6
  },
  {
   "cell_type": "markdown",
   "metadata": {
    "id": "HBGQQHk86CBY"
   },
   "source": [
    "## Funci&oacute;n para extraer las rese&ntilde;as de hu&eacute;spedes de todos los archivos"
   ]
  },
  {
   "cell_type": "markdown",
   "metadata": {
    "id": "Ot9cWmI7u1rH"
   },
   "source": [
    "Puede verse que parte de la informaci&oacute;n recopilada no est&aacute; previamente estructurada, es decir, hay comentarios con atributos diferentes a otros, tales como, por ejemplo, \"*Se qued&oacute; unas semanas*\" o \"*Con mascota*\". Es por esto que dichas expresiones son eliminadas para evitar que sean err&oacute;neamente interpretadas como comentarios."
   ]
  },
  {
   "cell_type": "code",
   "metadata": {
    "id": "uLKvQ8yJtb-_",
    "executionInfo": {
     "status": "ok",
     "timestamp": 1722087520697,
     "user_tz": 300,
     "elapsed": 11,
     "user": {
      "displayName": "Carlos Calderón",
      "userId": "03456281774656213876"
     }
    },
    "ExecuteTime": {
     "end_time": "2024-07-27T14:56:09.640569Z",
     "start_time": "2024-07-27T14:56:09.631991Z"
    }
   },
   "source": [
    "def extraer_comentarios(mi_archivo):\n",
    "    comentarios = []\n",
    "    with open(mi_archivo, mode=\"r\", encoding=\"utf-8\") as file:\n",
    "        texto = file.read()\n",
    "\n",
    "    # Dividir el texto en fragmentos usando \"Calificación:\" como delimitador\n",
    "    fragmentos = texto.split(\"Calificación:\")[1:]\n",
    "\n",
    "    # Eliminación de fragmentos vacíos\n",
    "    fragmentos = [\n",
    "        fragmento.strip() for fragmento in fragmentos if fragmento.strip()\n",
    "    ]\n",
    "    for fragmento in fragmentos:\n",
    "        aux = (\n",
    "            fragmento.replace(\",·\", \"\")\n",
    "            .replace(\"Se quedó unas semanas\", \"\")\n",
    "            .replace(\"Estadía de una semana\", \"\")\n",
    "            .replace(\"Con mascota\", \"\")\n",
    "        )\n",
    "        aux = \"\\n\".join(\n",
    "            linea.strip() for linea in aux.splitlines() if linea.strip()\n",
    "        )\n",
    "        comentarios.append(aux.splitlines()[2])\n",
    "\n",
    "    return comentarios"
   ],
   "outputs": [],
   "execution_count": 7
  },
  {
   "cell_type": "markdown",
   "metadata": {
    "id": "w8SCgVC76T3C"
   },
   "source": [
    "Se crea una lista para en ella guardar todas las rese&ntilde;as (que a su vez est&aacute;n en listas) las cuales serán almacenadas en un ***DataFrame de Pandas*** junto con las calificaciones."
   ]
  },
  {
   "cell_type": "code",
   "metadata": {
    "id": "kkt5gG3N03ob",
    "executionInfo": {
     "status": "ok",
     "timestamp": 1722087520698,
     "user_tz": 300,
     "elapsed": 11,
     "user": {
      "displayName": "Carlos Calderón",
      "userId": "03456281774656213876"
     }
    },
    "ExecuteTime": {
     "end_time": "2024-07-27T14:56:09.710812Z",
     "start_time": "2024-07-27T14:56:09.706188Z"
    }
   },
   "source": [
    "lista_reviews = []"
   ],
   "outputs": [],
   "execution_count": 8
  },
  {
   "cell_type": "code",
   "metadata": {
    "id": "pefMbo5I0vnk",
    "executionInfo": {
     "status": "ok",
     "timestamp": 1722087520698,
     "user_tz": 300,
     "elapsed": 10,
     "user": {
      "displayName": "Carlos Calderón",
      "userId": "03456281774656213876"
     }
    },
    "ExecuteTime": {
     "end_time": "2024-07-27T14:56:09.888344Z",
     "start_time": "2024-07-27T14:56:09.878081Z"
    }
   },
   "source": [
    "for review_file in abb_reviews:\n",
    "    lista_reviews.append(extraer_comentarios(review_file))"
   ],
   "outputs": [],
   "execution_count": 9
  },
  {
   "cell_type": "markdown",
   "metadata": {
    "id": "6_oqjyiV6tr0"
   },
   "source": [
    "Se verifica con la funci&oacute;n ***len*** que existan efectivamente ***620*** rese&ntilde;as en total, lo cual se cumple, y posteriormente se crea un archvo de texto plano para verificar los comentarios."
   ]
  },
  {
   "cell_type": "code",
   "metadata": {
    "colab": {
     "base_uri": "https://localhost:8080/"
    },
    "id": "CmecX1zG61QG",
    "executionInfo": {
     "status": "ok",
     "timestamp": 1722087520698,
     "user_tz": 300,
     "elapsed": 9,
     "user": {
      "displayName": "Carlos Calderón",
      "userId": "03456281774656213876"
     }
    },
    "outputId": "645ae5c3-bd3c-4489-a41f-4fccf8776a7a",
    "ExecuteTime": {
     "end_time": "2024-07-27T14:56:09.987463Z",
     "start_time": "2024-07-27T14:56:09.982855Z"
    }
   },
   "source": [
    "print(len(sum(lista_reviews, [])))"
   ],
   "outputs": [
    {
     "name": "stdout",
     "output_type": "stream",
     "text": [
      "620\n"
     ]
    }
   ],
   "execution_count": 10
  },
  {
   "cell_type": "markdown",
   "metadata": {
    "id": "M7vgCKDr0EnA"
   },
   "source": [
    "Se guardan todas las rese&ntilde;as en un archivo de texto para comprobar de manera manual mediante un editor de textos externo que cada una de las 620 l&iacute;neas correspondientes a comentarios son efectivamente comentarios y no otros de los atributos de las rese&ntilde;as."
   ]
  },
  {
   "cell_type": "code",
   "metadata": {
    "id": "dKOW6Tr00txq",
    "executionInfo": {
     "status": "ok",
     "timestamp": 1722087520989,
     "user_tz": 300,
     "elapsed": 295,
     "user": {
      "displayName": "Carlos Calderón",
      "userId": "03456281774656213876"
     }
    },
    "ExecuteTime": {
     "end_time": "2024-07-27T14:56:10.040256Z",
     "start_time": "2024-07-27T14:56:10.035631Z"
    }
   },
   "source": [
    "if not os.path.exists(\"./processing\"):\n",
    "    os.mkdir(\"./processing\")\n",
    "if not os.path.exists(\"processing/coment_ALL.txt\"):\n",
    "    with open(\"processing/coment_ALL.txt\", mode=\"w\") as file:\n",
    "        file.write(\"\\n\".join(sum(lista_reviews, [])))"
   ],
   "outputs": [],
   "execution_count": 11
  },
  {
   "cell_type": "markdown",
   "metadata": {
    "id": "HskTcv3m7yh6"
   },
   "source": [
    "## Funci&oacute;n para extraer las calificaciones de hu&eacute;spedes de todos los archivos"
   ]
  },
  {
   "cell_type": "markdown",
   "metadata": {
    "id": "JXEVRKgA050w"
   },
   "source": [
    "Adicionalmente, para el an&aacute;lisis de sentimientos es importante extraer la calificaci&oacute;n del 1 al 5 que dieron los usuarios en cada una de las rese&ntilde;as para contrastarlas con el resultado del an&aacute;lisis de sentimientos. Al igual que con los comentarios en s&iacute;, las puntuaciones se almacenan tambi&eacute;n en formato de listas para despu&eacute;s crear un ***DataFrame de Pandas*** con estas."
   ]
  },
  {
   "cell_type": "code",
   "metadata": {
    "id": "zoKWyjh80tnr",
    "executionInfo": {
     "status": "ok",
     "timestamp": 1722087520989,
     "user_tz": 300,
     "elapsed": 16,
     "user": {
      "displayName": "Carlos Calderón",
      "userId": "03456281774656213876"
     }
    },
    "ExecuteTime": {
     "end_time": "2024-07-27T14:56:10.181248Z",
     "start_time": "2024-07-27T14:56:10.175188Z"
    }
   },
   "source": [
    "def extraer_calificaciones(mi_archivo):\n",
    "    stars = []\n",
    "    with open(mi_archivo, mode=\"r\", encoding=\"utf-8\") as file:\n",
    "        texto = file.read()\n",
    "        fragmentos = texto.split(\"Calificación: \")\n",
    "\n",
    "    for i in range(1, len(fragmentos)):\n",
    "        stars.append(int(fragmentos[i][0]))\n",
    "\n",
    "    return stars"
   ],
   "outputs": [],
   "execution_count": 12
  },
  {
   "cell_type": "code",
   "metadata": {
    "id": "OA3nuoW-2Wjo",
    "executionInfo": {
     "status": "ok",
     "timestamp": 1722087520989,
     "user_tz": 300,
     "elapsed": 15,
     "user": {
      "displayName": "Carlos Calderón",
      "userId": "03456281774656213876"
     }
    },
    "ExecuteTime": {
     "end_time": "2024-07-27T14:56:10.211620Z",
     "start_time": "2024-07-27T14:56:10.204441Z"
    }
   },
   "source": [
    "lista_stars = []\n",
    "\n",
    "for review_file in abb_reviews:\n",
    "    lista_stars.append(extraer_calificaciones(review_file))"
   ],
   "outputs": [],
   "execution_count": 13
  },
  {
   "cell_type": "markdown",
   "metadata": {
    "id": "0M7G-P-86yN7"
   },
   "source": [
    "Se verifica que la cantidad de calificaciones sea la misma que de comentarios."
   ]
  },
  {
   "cell_type": "code",
   "metadata": {
    "id": "RHPruB1g7c7d",
    "colab": {
     "base_uri": "https://localhost:8080/"
    },
    "executionInfo": {
     "status": "ok",
     "timestamp": 1722087520989,
     "user_tz": 300,
     "elapsed": 15,
     "user": {
      "displayName": "Carlos Calderón",
      "userId": "03456281774656213876"
     }
    },
    "outputId": "7a484d84-16a9-47bd-9961-48894373d264",
    "ExecuteTime": {
     "end_time": "2024-07-27T14:56:10.377417Z",
     "start_time": "2024-07-27T14:56:10.361983Z"
    }
   },
   "source": [
    "len(sum(lista_stars, []))"
   ],
   "outputs": [
    {
     "data": {
      "text/plain": [
       "620"
      ]
     },
     "execution_count": 14,
     "metadata": {},
     "output_type": "execute_result"
    }
   ],
   "execution_count": 14
  },
  {
   "cell_type": "markdown",
   "metadata": {
    "id": "KYakYfda2FMs"
   },
   "source": [
    "Se crean los &iacute;ndices para identificar a cada uno de los 10 alojamientos previo a la creaci&oacute;n del *DataFrame* de *Pandas*. As&iacute;mismo, se unen todos los elementos de rese&ntilde;as y n&uacute;mero de estrellas de cada alojamiento en una &uacute;nica lista para cada caso."
   ]
  },
  {
   "cell_type": "code",
   "metadata": {
    "id": "qWkAmvV6JHMZ",
    "executionInfo": {
     "status": "ok",
     "timestamp": 1722087520989,
     "user_tz": 300,
     "elapsed": 10,
     "user": {
      "displayName": "Carlos Calderón",
      "userId": "03456281774656213876"
     }
    },
    "ExecuteTime": {
     "end_time": "2024-07-27T14:56:10.503109Z",
     "start_time": "2024-07-27T14:56:10.498717Z"
    }
   },
   "source": [
    "def unir_listas(lista):\n",
    "    return sum(lista, [])"
   ],
   "outputs": [],
   "execution_count": 15
  },
  {
   "cell_type": "code",
   "metadata": {
    "id": "FVGg1-kSyr9_",
    "executionInfo": {
     "status": "ok",
     "timestamp": 1722087520989,
     "user_tz": 300,
     "elapsed": 10,
     "user": {
      "displayName": "Carlos Calderón",
      "userId": "03456281774656213876"
     }
    },
    "ExecuteTime": {
     "end_time": "2024-07-27T14:56:10.654796Z",
     "start_time": "2024-07-27T14:56:10.651160Z"
    }
   },
   "source": [
    "numero_resenas = []"
   ],
   "outputs": [],
   "execution_count": 16
  },
  {
   "cell_type": "code",
   "metadata": {
    "id": "B2al9KBXyqjJ",
    "executionInfo": {
     "status": "ok",
     "timestamp": 1722087520990,
     "user_tz": 300,
     "elapsed": 10,
     "user": {
      "displayName": "Carlos Calderón",
      "userId": "03456281774656213876"
     }
    },
    "ExecuteTime": {
     "end_time": "2024-07-27T14:56:10.864847Z",
     "start_time": "2024-07-27T14:56:10.860812Z"
    }
   },
   "source": [
    "for resena in lista_reviews:\n",
    "    numero_resenas.append(len(resena))"
   ],
   "outputs": [],
   "execution_count": 17
  },
  {
   "cell_type": "code",
   "metadata": {
    "id": "MVoNif1dy5Pt",
    "colab": {
     "base_uri": "https://localhost:8080/"
    },
    "executionInfo": {
     "status": "ok",
     "timestamp": 1722087520990,
     "user_tz": 300,
     "elapsed": 10,
     "user": {
      "displayName": "Carlos Calderón",
      "userId": "03456281774656213876"
     }
    },
    "outputId": "ec660c4c-7041-4ed5-ab4e-086afc48c956",
    "ExecuteTime": {
     "end_time": "2024-07-27T14:56:10.956155Z",
     "start_time": "2024-07-27T14:56:10.936727Z"
    }
   },
   "source": [
    "numero_resenas"
   ],
   "outputs": [
    {
     "data": {
      "text/plain": [
       "[9, 17, 141, 15, 38, 8, 200, 29, 22, 141]"
      ]
     },
     "execution_count": 18,
     "metadata": {},
     "output_type": "execute_result"
    }
   ],
   "execution_count": 18
  },
  {
   "cell_type": "code",
   "metadata": {
    "id": "4JMIfkQ-1t17",
    "executionInfo": {
     "status": "ok",
     "timestamp": 1722087520990,
     "user_tz": 300,
     "elapsed": 8,
     "user": {
      "displayName": "Carlos Calderón",
      "userId": "03456281774656213876"
     }
    },
    "ExecuteTime": {
     "end_time": "2024-07-27T14:56:11.056623Z",
     "start_time": "2024-07-27T14:56:11.052533Z"
    }
   },
   "source": [
    "id_alojamiento = []\n",
    "for index, i in enumerate(numero_resenas, start=0):\n",
    "    id_alojamiento.append(list(np.full(i, index)))\n",
    "\n",
    "id_alojamiento = sum(id_alojamiento, [])"
   ],
   "outputs": [],
   "execution_count": 19
  },
  {
   "cell_type": "code",
   "metadata": {
    "id": "cfME44DMJz6V",
    "executionInfo": {
     "status": "ok",
     "timestamp": 1722087520990,
     "user_tz": 300,
     "elapsed": 7,
     "user": {
      "displayName": "Carlos Calderón",
      "userId": "03456281774656213876"
     }
    },
    "ExecuteTime": {
     "end_time": "2024-07-27T14:56:11.104518Z",
     "start_time": "2024-07-27T14:56:11.101319Z"
    }
   },
   "source": [
    "lista_reviews = unir_listas(lista_reviews)\n",
    "lista_stars = unir_listas(lista_stars)"
   ],
   "outputs": [],
   "execution_count": 20
  },
  {
   "cell_type": "markdown",
   "metadata": {
    "id": "3f2q8sAt2_IC"
   },
   "source": [
    "## Construcci&oacute;n de DataFrame de Pandas"
   ]
  },
  {
   "cell_type": "code",
   "metadata": {
    "id": "YAyf8OhbUxqD",
    "executionInfo": {
     "status": "ok",
     "timestamp": 1722087520990,
     "user_tz": 300,
     "elapsed": 7,
     "user": {
      "displayName": "Carlos Calderón",
      "userId": "03456281774656213876"
     }
    },
    "ExecuteTime": {
     "end_time": "2024-07-27T14:56:11.203753Z",
     "start_time": "2024-07-27T14:56:11.195507Z"
    }
   },
   "source": [
    "df_reviews = pd.DataFrame({\n",
    "    \"id_alojamiento\": id_alojamiento,\n",
    "    \"review\": lista_reviews,\n",
    "    \"stars\": lista_stars,\n",
    "})"
   ],
   "outputs": [],
   "execution_count": 21
  },
  {
   "cell_type": "markdown",
   "metadata": {
    "id": "ukcQmVwg3JnO"
   },
   "source": [
    "Se realiza un muestreo a fin de verificar que el *DataFrame* fue construido de manera correcta y se procede a guardar el mismo en formato *csv* para uso futuro."
   ]
  },
  {
   "cell_type": "code",
   "metadata": {
    "id": "ZezsIjYKVBlg",
    "colab": {
     "base_uri": "https://localhost:8080/",
     "height": 397
    },
    "executionInfo": {
     "status": "ok",
     "timestamp": 1722087521298,
     "user_tz": 300,
     "elapsed": 315,
     "user": {
      "displayName": "Carlos Calderón",
      "userId": "03456281774656213876"
     }
    },
    "outputId": "298fb647-bacb-4955-9666-d132623a6c6c",
    "ExecuteTime": {
     "end_time": "2024-07-27T14:56:11.245631Z",
     "start_time": "2024-07-27T14:56:11.227794Z"
    }
   },
   "source": [
    "df_reviews.sample(5)"
   ],
   "outputs": [
    {
     "data": {
      "text/plain": [
       "     id_alojamiento  \\\n",
       "217               4   \n",
       "99                2   \n",
       "307               6   \n",
       "524               9   \n",
       "432               7   \n",
       "\n",
       "                                                                                                                                                                                                                      review  \\\n",
       "217  Excelente ubicación, el lugar muy bonito, lejos del ruido y muy seguro, se puede disfrutar de la naturaleza, además la anfitriona siempre cordial, atenta y dispuesta a nuestras necesidades. Lo recomiendo en un 100%.   \n",
       "99                                                                                                                                                                                                            muy buen lugar   \n",
       "307                                                                                                                                                                                                 Linda vista súper cómodo   \n",
       "524                                                                                                                                                                            cool place, close to beach, quiet, good host.   \n",
       "432                                                                                                                                Punto Verde, es un lugar para quienes aman la naturaleza y buscan un lugar para descansar   \n",
       "\n",
       "     stars  \n",
       "217      5  \n",
       "99       5  \n",
       "307      4  \n",
       "524      5  \n",
       "432      4  "
      ],
      "text/html": [
       "<div>\n",
       "<style scoped>\n",
       "    .dataframe tbody tr th:only-of-type {\n",
       "        vertical-align: middle;\n",
       "    }\n",
       "\n",
       "    .dataframe tbody tr th {\n",
       "        vertical-align: top;\n",
       "    }\n",
       "\n",
       "    .dataframe thead th {\n",
       "        text-align: right;\n",
       "    }\n",
       "</style>\n",
       "<table border=\"1\" class=\"dataframe\">\n",
       "  <thead>\n",
       "    <tr style=\"text-align: right;\">\n",
       "      <th></th>\n",
       "      <th>id_alojamiento</th>\n",
       "      <th>review</th>\n",
       "      <th>stars</th>\n",
       "    </tr>\n",
       "  </thead>\n",
       "  <tbody>\n",
       "    <tr>\n",
       "      <th>217</th>\n",
       "      <td>4</td>\n",
       "      <td>Excelente ubicación, el lugar muy bonito, lejos del ruido y muy seguro, se puede disfrutar de la naturaleza, además la anfitriona siempre cordial, atenta y dispuesta a nuestras necesidades. Lo recomiendo en un 100%.</td>\n",
       "      <td>5</td>\n",
       "    </tr>\n",
       "    <tr>\n",
       "      <th>99</th>\n",
       "      <td>2</td>\n",
       "      <td>muy buen lugar</td>\n",
       "      <td>5</td>\n",
       "    </tr>\n",
       "    <tr>\n",
       "      <th>307</th>\n",
       "      <td>6</td>\n",
       "      <td>Linda vista súper cómodo</td>\n",
       "      <td>4</td>\n",
       "    </tr>\n",
       "    <tr>\n",
       "      <th>524</th>\n",
       "      <td>9</td>\n",
       "      <td>cool place, close to beach, quiet, good host.</td>\n",
       "      <td>5</td>\n",
       "    </tr>\n",
       "    <tr>\n",
       "      <th>432</th>\n",
       "      <td>7</td>\n",
       "      <td>Punto Verde, es un lugar para quienes aman la naturaleza y buscan un lugar para descansar</td>\n",
       "      <td>4</td>\n",
       "    </tr>\n",
       "  </tbody>\n",
       "</table>\n",
       "</div>"
      ]
     },
     "execution_count": 22,
     "metadata": {},
     "output_type": "execute_result"
    }
   ],
   "execution_count": 22
  },
  {
   "cell_type": "code",
   "metadata": {
    "id": "sOe-J8CeH5F6",
    "executionInfo": {
     "status": "ok",
     "timestamp": 1722087521298,
     "user_tz": 300,
     "elapsed": 12,
     "user": {
      "displayName": "Carlos Calderón",
      "userId": "03456281774656213876"
     }
    },
    "ExecuteTime": {
     "end_time": "2024-07-27T14:56:11.359088Z",
     "start_time": "2024-07-27T14:56:11.353614Z"
    }
   },
   "source": [
    "if not os.path.exists(\"processing/df_reviews.csv\"):\n",
    "    df_reviews.to_csv(\"processing/df_reviews.csv\", index=False)"
   ],
   "outputs": [],
   "execution_count": 23
  },
  {
   "cell_type": "markdown",
   "metadata": {
    "id": "iH6obQtl0Wmt"
   },
   "source": [
    "A continuaci&oacute;n, se procede a traducir las rese&ntilde;as dejadas por los hu&eacute;spedes a los alojamientos con la ayuda de **Google Cloud Translate**, el cual detecta de manera autom&aacute;tica el idioma de los textos de entrada y los traduce al ingl&eacute;s a fin de procesarlos posteriormente al momento de realizar el an&aacute;lisis de sentimientos.\n",
    "\n",
    "Para las ejecuciones posteriores del presente *Jupyter Notebook*, se importa el archivo con las rese&ntilde;as ya traducidas a fin de no exceder la cuota de traducciones permitidas en la capa gratuita de *Google Cloud Translate*.\n",
    "\n",
    "En caso de que se quiera replicar el uso de ***Google Cloud Translate*** para la traducci&oacute;n autom&aacute;tica de textos se deber&aacute; utilizar una cuenta existente de ***Google Cloud*** o crear una nueva cuenta y generar las credenciales de acceso a la API, siguiendo para ello la documentaci&oacute;n del proveedor de servicios en la nube.\n",
    "\n",
    "La raz&oacute;n por la cual se almacenan los datos en formato *.xlsx* en lugar de *.csv* radica en que en algunas ocasiones el int&eacute;rprete de ***Pandas*** confunde ciertos caracteres especiales con delimitadores de datos y se produce una lectura err&oacute;nea para algunos de los registros."
   ]
  },
  {
   "cell_type": "code",
   "metadata": {
    "id": "miNvAlTRMrMc",
    "executionInfo": {
     "status": "ok",
     "timestamp": 1722087521298,
     "user_tz": 300,
     "elapsed": 11,
     "user": {
      "displayName": "Carlos Calderón",
      "userId": "03456281774656213876"
     }
    },
    "ExecuteTime": {
     "end_time": "2024-07-27T14:56:11.387724Z",
     "start_time": "2024-07-27T14:56:11.380976Z"
    }
   },
   "source": [
    "df_traducciones = pd.DataFrame()"
   ],
   "outputs": [],
   "execution_count": 24
  },
  {
   "cell_type": "code",
   "metadata": {
    "id": "BgNE4aBr_TWF",
    "executionInfo": {
     "status": "ok",
     "timestamp": 1722087523508,
     "user_tz": 300,
     "elapsed": 2220,
     "user": {
      "displayName": "Carlos Calderón",
      "userId": "03456281774656213876"
     }
    },
    "ExecuteTime": {
     "end_time": "2024-07-27T14:56:12.405247Z",
     "start_time": "2024-07-27T14:56:11.576972Z"
    }
   },
   "source": [
    "from google.cloud import translate_v2 as translate\n",
    "\n",
    "if not os.path.exists(\"translations/df_reviews_traducido.xlsx\"):\n",
    "    # Lectura de llave privada de la API de Google Cloud Translate\n",
    "    client = translate.Client.from_service_account_json(\n",
    "        \"processing/private_key_translate.json\"\n",
    "    )\n",
    "    # Función para traducir un texto\n",
    "    def translate_text(text, target_language='en'):\n",
    "        result = client.translate(text, target_language=target_language)\n",
    "        return result['translatedText']\n",
    "\n",
    "    # Traducción de texto en la columna \"review\"\n",
    "    df_reviews['texto_traducido'] = df_reviews[\"review\"].apply(\n",
    "        lambda x: translate_text(x, target_language=\"en\")\n",
    "    )\n",
    "\n",
    "    # Almacenamiento de reseñas traducidas para uso futuro\n",
    "    df_reviews[[\n",
    "            \"id_alojamiento\", \"review\", \"texto_traducido\", \"stars\"\n",
    "        ]].to_excel(\n",
    "        \"translations/df_reviews_traducido.xlsx\", index=False\n",
    "    )\n",
    "\n",
    "else:\n",
    "    df_reviews['texto_traducido'] = pd.read_excel(\n",
    "        \"translations/df_reviews_traducido.xlsx\"\n",
    "    )[\"texto_traducido\"]"
   ],
   "outputs": [],
   "execution_count": 25
  },
  {
   "cell_type": "markdown",
   "metadata": {
    "id": "djYOSgWQM2yR"
   },
   "source": [
    "Se obtiene una muestra aleatoria de los datos a fin de verificar las traducciones realizadas."
   ]
  },
  {
   "cell_type": "code",
   "metadata": {
    "id": "WFZwFzPOOLZf",
    "colab": {
     "base_uri": "https://localhost:8080/",
     "height": 1000
    },
    "executionInfo": {
     "status": "ok",
     "timestamp": 1722087523508,
     "user_tz": 300,
     "elapsed": 10,
     "user": {
      "displayName": "Carlos Calderón",
      "userId": "03456281774656213876"
     }
    },
    "outputId": "ebe5de4a-26ff-46b8-fee1-b3a4b68c901d",
    "ExecuteTime": {
     "end_time": "2024-07-27T14:56:12.417884Z",
     "start_time": "2024-07-27T14:56:12.407146Z"
    }
   },
   "source": [
    "df_reviews.sample(10)"
   ],
   "outputs": [
    {
     "data": {
      "text/plain": [
       "     id_alojamiento  \\\n",
       "353               6   \n",
       "178               3   \n",
       "585               9   \n",
       "206               4   \n",
       "596               9   \n",
       "555               9   \n",
       "183               4   \n",
       "303               6   \n",
       "607               9   \n",
       "156               2   \n",
       "\n",
       "                                                                                                                                                                                                                                                                                                                                                                                                                                                       review  \\\n",
       "353                                                                                                                                                                                                                                                                                                                                              Espacio perfecto para parejas por el tamaño del departamento. localizado en una zona segura y cerca de todo.   \n",
       "178                                                                                                                                                                                                                                                                                                                This is a must stay at place! Stayed here first for two days but loved it so we extended by three days. Paulette is the perfect caretaker!   \n",
       "585                                                                                                                                                                                                                                                                                                                                                                                                                                Très propre et confortable   \n",
       "206                                 Aparte de ser un lugar increíble, acogedor, perfectamente ubicado para poder disfrutar de una vista maravillosa del mar, también cuenta con una host fenomenal como Tania, quien fue muy atenta con nosotros. Muy gustosa nos hizo un mini tour de lugares deliciosos para comer, o disfrutar de cócteles frente al atardecer. Hospedarse aquí es una experiencia que de seguro querrás volver a vivir. Recomendadísimo!!   \n",
       "596                                                                                                              We had excelent stay in Gijs and Liliana apartment. Best hosts ever, they were very helpful. Apartment itself was nice, clean and really well planed. Kitchen was well equiped and wifi was stable and fast. It is located in quiet neighborhood but only 5 minute ride to montanita by taxi (1.5USD). This place exceeded our expectations.   \n",
       "555                                                                                                                                                                    The apartment is clean, nicely decorated and cozy. The kitchen is good equipped, WiFi works very good, the shower is really big with hot water and the bed is comfortable. All the windows have mosquito nets so you don't have to worry about leaving the windows open for fresh air.   \n",
       "183                                                                                                                                                                                                                                                  We really enjoyed staying at Tania’s place. Tania is very friendly and warm person- she also showed us around (which we really appreciated) and let me use her bike going to a yoga lesson on the beach.   \n",
       "303                                                                                                                                                                                                                                                                                                                                                                                                        Pequeño pero funcional, cómodo, el host es amable.   \n",
       "607  The department has everything you can ask for, it's well equipped, super clean and tastefully furnished. You really feel at home once you step in. I was doing home office from their place, and I can recommend the place to any freelancers as it has good internet, a nice table suitable for working and it is close to Manglar-Alto (less than 5 minutes walking) where you have grocery stores, taxi point, etc - and of course the pacific ocean!   \n",
       "156                                                                                                                                                                                           Tanto Gabe como Johnny fueron muy atentos y cordiales con nosotras. El studio es tan acogedor y encantador como luce en fotos, y la vista es maravillosa; es un sitio ideal si se quiere estar alejado del ruido nocturno de Montañita al momento de descansar.   \n",
       "\n",
       "     stars  \\\n",
       "353      4   \n",
       "178      5   \n",
       "585      5   \n",
       "206      5   \n",
       "596      5   \n",
       "555      5   \n",
       "183      5   \n",
       "303      4   \n",
       "607      5   \n",
       "156      5   \n",
       "\n",
       "                                                                                                                                                                                                                                                                                                                                                                                                                                              texto_traducido  \n",
       "353                                                                                                                                                                                                                                                                                                                                               Perfect space for couples due to the size of the apartment. Located in a safe area and close to everything.  \n",
       "178                                                                                                                                                                                                                                                                                                                This is a must stay at place! Stayed here first for two days but loved it so we extended by three days. Paulette is the perfect caretaker!  \n",
       "585                                                                                                                                                                                                                                                                                                                                                                                                                                Very clean and comfortable  \n",
       "206                                                                        Apart from being an incredible, cozy place, perfectly located to enjoy a wonderful view of the sea, it also has a phenomenal host like Tania, who was very attentive to us. She very gladly gave us a mini tour of delicious places to eat, or enjoy cocktails in front of the sunset. Staying here is an experience that you will surely want to live again. Highly recommended!!  \n",
       "596                                                                                                              We had excelent stay in Gijs and Liliana apartment. Best hosts ever, they were very helpful. Apartment itself was nice, clean and really well planed. Kitchen was well equiped and wifi was stable and fast. It is located in quiet neighborhood but only 5 minute ride to montanita by taxi (1.5USD). This place exceeded our expectations.  \n",
       "555                                                                                                                                                                    The apartment is clean, nicely decorated and cozy. The kitchen is good equipped, WiFi works very good, the shower is really big with hot water and the bed is comfortable. All the windows have mosquito nets so you don't have to worry about leaving the windows open for fresh air.  \n",
       "183                                                                                                                                                                                                                                                  We really enjoyed staying at Tania’s place. Tania is very friendly and warm person- she also showed us around (which we really appreciated) and let me use her bike going to a yoga lesson on the beach.  \n",
       "303                                                                                                                                                                                                                                                                                                                                                                                                  Small but functional, comfortable, the host is friendly.  \n",
       "607  The department has everything you can ask for, it's well equipped, super clean and tastefully furnished. You really feel at home once you step in. I was doing home office from their place, and I can recommend the place to any freelancers as it has good internet, a nice table suitable for working and it is close to Manglar-Alto (less than 5 minutes walking) where you have grocery stores, taxi point, etc - and of course the pacific ocean!  \n",
       "156                                                                                                                                                                                                              Both Gabe and Johnny were very attentive and cordial to us. The studio is as cozy and charming as it looks in photos, and the view is wonderful; It is an ideal place if you want to be away from the night noise of Montañita when resting.  "
      ],
      "text/html": [
       "<div>\n",
       "<style scoped>\n",
       "    .dataframe tbody tr th:only-of-type {\n",
       "        vertical-align: middle;\n",
       "    }\n",
       "\n",
       "    .dataframe tbody tr th {\n",
       "        vertical-align: top;\n",
       "    }\n",
       "\n",
       "    .dataframe thead th {\n",
       "        text-align: right;\n",
       "    }\n",
       "</style>\n",
       "<table border=\"1\" class=\"dataframe\">\n",
       "  <thead>\n",
       "    <tr style=\"text-align: right;\">\n",
       "      <th></th>\n",
       "      <th>id_alojamiento</th>\n",
       "      <th>review</th>\n",
       "      <th>stars</th>\n",
       "      <th>texto_traducido</th>\n",
       "    </tr>\n",
       "  </thead>\n",
       "  <tbody>\n",
       "    <tr>\n",
       "      <th>353</th>\n",
       "      <td>6</td>\n",
       "      <td>Espacio perfecto para parejas por el tamaño del departamento. localizado en una zona segura y cerca de todo.</td>\n",
       "      <td>4</td>\n",
       "      <td>Perfect space for couples due to the size of the apartment. Located in a safe area and close to everything.</td>\n",
       "    </tr>\n",
       "    <tr>\n",
       "      <th>178</th>\n",
       "      <td>3</td>\n",
       "      <td>This is a must stay at place! Stayed here first for two days but loved it so we extended by three days. Paulette is the perfect caretaker!</td>\n",
       "      <td>5</td>\n",
       "      <td>This is a must stay at place! Stayed here first for two days but loved it so we extended by three days. Paulette is the perfect caretaker!</td>\n",
       "    </tr>\n",
       "    <tr>\n",
       "      <th>585</th>\n",
       "      <td>9</td>\n",
       "      <td>Très propre et confortable</td>\n",
       "      <td>5</td>\n",
       "      <td>Very clean and comfortable</td>\n",
       "    </tr>\n",
       "    <tr>\n",
       "      <th>206</th>\n",
       "      <td>4</td>\n",
       "      <td>Aparte de ser un lugar increíble, acogedor, perfectamente ubicado para poder disfrutar de una vista maravillosa del mar, también cuenta con una host fenomenal como Tania, quien fue muy atenta con nosotros. Muy gustosa nos hizo un mini tour de lugares deliciosos para comer, o disfrutar de cócteles frente al atardecer. Hospedarse aquí es una experiencia que de seguro querrás volver a vivir. Recomendadísimo!!</td>\n",
       "      <td>5</td>\n",
       "      <td>Apart from being an incredible, cozy place, perfectly located to enjoy a wonderful view of the sea, it also has a phenomenal host like Tania, who was very attentive to us. She very gladly gave us a mini tour of delicious places to eat, or enjoy cocktails in front of the sunset. Staying here is an experience that you will surely want to live again. Highly recommended!!</td>\n",
       "    </tr>\n",
       "    <tr>\n",
       "      <th>596</th>\n",
       "      <td>9</td>\n",
       "      <td>We had excelent stay in Gijs and Liliana apartment. Best hosts ever, they were very helpful. Apartment itself was nice, clean and really well planed. Kitchen was well equiped and wifi was stable and fast. It is located in quiet neighborhood but only 5 minute ride to montanita by taxi (1.5USD). This place exceeded our expectations.</td>\n",
       "      <td>5</td>\n",
       "      <td>We had excelent stay in Gijs and Liliana apartment. Best hosts ever, they were very helpful. Apartment itself was nice, clean and really well planed. Kitchen was well equiped and wifi was stable and fast. It is located in quiet neighborhood but only 5 minute ride to montanita by taxi (1.5USD). This place exceeded our expectations.</td>\n",
       "    </tr>\n",
       "    <tr>\n",
       "      <th>555</th>\n",
       "      <td>9</td>\n",
       "      <td>The apartment is clean, nicely decorated and cozy. The kitchen is good equipped, WiFi works very good, the shower is really big with hot water and the bed is comfortable. All the windows have mosquito nets so you don't have to worry about leaving the windows open for fresh air.</td>\n",
       "      <td>5</td>\n",
       "      <td>The apartment is clean, nicely decorated and cozy. The kitchen is good equipped, WiFi works very good, the shower is really big with hot water and the bed is comfortable. All the windows have mosquito nets so you don't have to worry about leaving the windows open for fresh air.</td>\n",
       "    </tr>\n",
       "    <tr>\n",
       "      <th>183</th>\n",
       "      <td>4</td>\n",
       "      <td>We really enjoyed staying at Tania’s place. Tania is very friendly and warm person- she also showed us around (which we really appreciated) and let me use her bike going to a yoga lesson on the beach.</td>\n",
       "      <td>5</td>\n",
       "      <td>We really enjoyed staying at Tania’s place. Tania is very friendly and warm person- she also showed us around (which we really appreciated) and let me use her bike going to a yoga lesson on the beach.</td>\n",
       "    </tr>\n",
       "    <tr>\n",
       "      <th>303</th>\n",
       "      <td>6</td>\n",
       "      <td>Pequeño pero funcional, cómodo, el host es amable.</td>\n",
       "      <td>4</td>\n",
       "      <td>Small but functional, comfortable, the host is friendly.</td>\n",
       "    </tr>\n",
       "    <tr>\n",
       "      <th>607</th>\n",
       "      <td>9</td>\n",
       "      <td>The department has everything you can ask for, it's well equipped, super clean and tastefully furnished. You really feel at home once you step in. I was doing home office from their place, and I can recommend the place to any freelancers as it has good internet, a nice table suitable for working and it is close to Manglar-Alto (less than 5 minutes walking) where you have grocery stores, taxi point, etc - and of course the pacific ocean!</td>\n",
       "      <td>5</td>\n",
       "      <td>The department has everything you can ask for, it's well equipped, super clean and tastefully furnished. You really feel at home once you step in. I was doing home office from their place, and I can recommend the place to any freelancers as it has good internet, a nice table suitable for working and it is close to Manglar-Alto (less than 5 minutes walking) where you have grocery stores, taxi point, etc - and of course the pacific ocean!</td>\n",
       "    </tr>\n",
       "    <tr>\n",
       "      <th>156</th>\n",
       "      <td>2</td>\n",
       "      <td>Tanto Gabe como Johnny fueron muy atentos y cordiales con nosotras. El studio es tan acogedor y encantador como luce en fotos, y la vista es maravillosa; es un sitio ideal si se quiere estar alejado del ruido nocturno de Montañita al momento de descansar.</td>\n",
       "      <td>5</td>\n",
       "      <td>Both Gabe and Johnny were very attentive and cordial to us. The studio is as cozy and charming as it looks in photos, and the view is wonderful; It is an ideal place if you want to be away from the night noise of Montañita when resting.</td>\n",
       "    </tr>\n",
       "  </tbody>\n",
       "</table>\n",
       "</div>"
      ]
     },
     "execution_count": 26,
     "metadata": {},
     "output_type": "execute_result"
    }
   ],
   "execution_count": 26
  },
  {
   "cell_type": "markdown",
   "metadata": {
    "id": "O1RvkDM8Ni8z"
   },
   "source": [
    "# Preparaci&oacute;n de los datos para el Análisis de Sentimientos"
   ]
  },
  {
   "cell_type": "markdown",
   "metadata": {
    "id": "qJrJ4N0cmG-w"
   },
   "source": [
    "##: Elminaci&oacute;n de signos de puntuaci&oacute;n, art&iacute;culos y palabras innecesarias:"
   ]
  },
  {
   "cell_type": "markdown",
   "metadata": {
    "id": "lhqgP6K8OdVA"
   },
   "source": [
    "Se importa la librer&iacute;a **nltk** detectar y eliminar de los comentarios dejados por los hu&eacute;spedes y traducidos previamente al ingl&eacute;s, los art&iacute;culos, palabras y signos de puntuaci&oacute;n que no van a ser de utilidad al momento de realizar el an&aacute;lisis de sentimientos, y se almacena en una nueva columna del *DataFrame* llamada \"*texto_sin_stopwords*\"."
   ]
  },
  {
   "cell_type": "code",
   "metadata": {
    "id": "gh3O-kOLNbWp",
    "colab": {
     "base_uri": "https://localhost:8080/"
    },
    "executionInfo": {
     "status": "ok",
     "timestamp": 1722087527481,
     "user_tz": 300,
     "elapsed": 3980,
     "user": {
      "displayName": "Carlos Calderón",
      "userId": "03456281774656213876"
     }
    },
    "outputId": "a1f2fced-8b81-4f86-c189-462af74bd387",
    "ExecuteTime": {
     "end_time": "2024-07-27T14:56:15.751575Z",
     "start_time": "2024-07-27T14:56:12.419273Z"
    }
   },
   "source": [
    "import nltk\n",
    "from nltk.corpus import stopwords\n",
    "from nltk.tokenize import word_tokenize\n",
    "\n",
    "nltk.download('stopwords')\n",
    "nltk.download('punkt')\n",
    "\n",
    "\n",
    "def remover_articulos(text):\n",
    "    stop_words = set(stopwords.words('english'))\n",
    "    words = word_tokenize(text)\n",
    "    filtered_words = [word for word in words if word.lower() not in stop_words]\n",
    "    return ' '.join(filtered_words)"
   ],
   "outputs": [
    {
     "name": "stderr",
     "output_type": "stream",
     "text": [
      "[nltk_data] Downloading package stopwords to /home/carlos/nltk_data...\n",
      "[nltk_data]   Package stopwords is already up-to-date!\n",
      "[nltk_data] Downloading package punkt to /home/carlos/nltk_data...\n",
      "[nltk_data]   Package punkt is already up-to-date!\n"
     ]
    }
   ],
   "execution_count": 27
  },
  {
   "cell_type": "code",
   "metadata": {
    "id": "OYWOVxKrDSD7",
    "executionInfo": {
     "status": "ok",
     "timestamp": 1722087528281,
     "user_tz": 300,
     "elapsed": 815,
     "user": {
      "displayName": "Carlos Calderón",
      "userId": "03456281774656213876"
     }
    },
    "ExecuteTime": {
     "end_time": "2024-07-27T14:56:16.012128Z",
     "start_time": "2024-07-27T14:56:15.754639Z"
    }
   },
   "source": [
    "df_reviews[\"texto_sin_stopwords\"] = df_reviews[\"texto_traducido\"].apply(\n",
    "    lambda x: remover_articulos(x)\n",
    ")"
   ],
   "outputs": [],
   "execution_count": 28
  },
  {
   "cell_type": "markdown",
   "metadata": {
    "id": "ijEZSoWjUeZy"
   },
   "source": [
    "Se ocupan adem&aacute;s expresiones regulares para dar tratamientos tanto a los espacios sobrantes como a los signos de puntuaci&oacute;n y caracteres innecesarios para el an&aacute;lisis de sentimientos. Adem&aacute;s se preparan los datos para el tratamiento de emojis."
   ]
  },
  {
   "cell_type": "code",
   "metadata": {
    "id": "GTxM88X-PkoA",
    "executionInfo": {
     "status": "ok",
     "timestamp": 1722087528281,
     "user_tz": 300,
     "elapsed": 8,
     "user": {
      "displayName": "Carlos Calderón",
      "userId": "03456281774656213876"
     }
    },
    "ExecuteTime": {
     "end_time": "2024-07-27T14:56:16.019433Z",
     "start_time": "2024-07-27T14:56:16.013367Z"
    }
   },
   "source": [
    "import re\n",
    "\n",
    "\n",
    "def extraer_no_letras(texto):\n",
    "    return list(set(re.sub('[a-zA-Z0-9]', '', texto)))"
   ],
   "outputs": [],
   "execution_count": 29
  },
  {
   "cell_type": "code",
   "metadata": {
    "id": "-WTIELMnQyCI",
    "executionInfo": {
     "status": "ok",
     "timestamp": 1722087528281,
     "user_tz": 300,
     "elapsed": 6,
     "user": {
      "displayName": "Carlos Calderón",
      "userId": "03456281774656213876"
     }
    },
    "ExecuteTime": {
     "end_time": "2024-07-27T14:56:16.047566Z",
     "start_time": "2024-07-27T14:56:16.021940Z"
    }
   },
   "source": [
    "df_reviews[\"no_texto\"] = df_reviews[\"texto_sin_stopwords\"].apply(\n",
    "    lambda x: extraer_no_letras(x)\n",
    ")"
   ],
   "outputs": [],
   "execution_count": 30
  },
  {
   "cell_type": "code",
   "metadata": {
    "id": "IWZbpA-nRdfE",
    "executionInfo": {
     "status": "ok",
     "timestamp": 1722087528282,
     "user_tz": 300,
     "elapsed": 7,
     "user": {
      "displayName": "Carlos Calderón",
      "userId": "03456281774656213876"
     }
    },
    "ExecuteTime": {
     "end_time": "2024-07-27T14:56:16.060864Z",
     "start_time": "2024-07-27T14:56:16.049265Z"
    }
   },
   "source": [
    "non_text_chars = list(set(df_reviews[\"no_texto\"].sum()))\n",
    "non_text_chars.remove(\" \")\n",
    "df_reviews.drop([\"no_texto\"], axis=1, inplace=True)"
   ],
   "outputs": [],
   "execution_count": 31
  },
  {
   "cell_type": "markdown",
   "metadata": {
    "id": "CBCtwOAZVjbu"
   },
   "source": [
    "## Tratamiento de emojis"
   ]
  },
  {
   "cell_type": "markdown",
   "metadata": {
    "id": "0T-ETL0dVop9"
   },
   "source": [
    "Se extrae de la variable definida anteriormente \"*non_text_chars*\", una lista de todos los emojis presentes en las rese&ntilde;as otorgadas por los hu&eacute;spedes.\n",
    "\n",
    "Adicionalmente, se asigna una palabra en ingl&eacute;s para dar una interpretaci&oacute;n adecuada a cada uno de estos.\n",
    "\n",
    "Por &uacute;ltimo, se reemplazan los emojis con sus equivalentes en palabras."
   ]
  },
  {
   "cell_type": "code",
   "metadata": {
    "id": "kq8w_qLmfT5b",
    "executionInfo": {
     "status": "ok",
     "timestamp": 1722087528586,
     "user_tz": 300,
     "elapsed": 310,
     "user": {
      "displayName": "Carlos Calderón",
      "userId": "03456281774656213876"
     }
    },
    "ExecuteTime": {
     "end_time": "2024-07-27T14:56:16.073735Z",
     "start_time": "2024-07-27T14:56:16.062461Z"
    }
   },
   "source": [
    "import emoji\n",
    "\n",
    "emojis_list = [i for i in non_text_chars if emoji.is_emoji(i)]\n",
    "emojis_dict = {\n",
    "    '✨': 'sparkling',\n",
    "    '🙃': 'sarcastic',\n",
    "    '💖': 'beautiful',\n",
    "    '😔': 'sad',\n",
    "    '🙌': 'celebration',\n",
    "    '😘': 'affectionate',\n",
    "    '⭐': 'star',\n",
    "    '👏': 'applause',\n",
    "    '💕': 'affectionate',\n",
    "    '😊': 'happy',\n",
    "    '😍': 'admiration',\n",
    "    '💓': 'emotion',\n",
    "    '❣': 'emotion',\n",
    "    '💜': 'affection',\n",
    "    '🙈': 'playful',\n",
    "    '🤗': 'friendly',\n",
    "    '👌': 'approval',\n",
    "    '🏻': '',\n",
    "    '🍻': 'celebration',\n",
    "    '🌞': 'cheerful',\n",
    "    '❤': 'love',\n",
    "    '♥': 'love',\n",
    "    '💯': 'perfect',\n",
    "    '👍': 'approval'\n",
    "}"
   ],
   "outputs": [],
   "execution_count": 32
  },
  {
   "cell_type": "code",
   "metadata": {
    "id": "9HXbikjocR2b",
    "executionInfo": {
     "status": "ok",
     "timestamp": 1722087528586,
     "user_tz": 300,
     "elapsed": 18,
     "user": {
      "displayName": "Carlos Calderón",
      "userId": "03456281774656213876"
     }
    },
    "ExecuteTime": {
     "end_time": "2024-07-27T14:56:16.080565Z",
     "start_time": "2024-07-27T14:56:16.076306Z"
    }
   },
   "source": [
    "non_emoji_chars = [i for i in non_text_chars if not emoji.is_emoji(i)]"
   ],
   "outputs": [],
   "execution_count": 33
  },
  {
   "cell_type": "code",
   "metadata": {
    "id": "cgyxyeRUeJEM",
    "executionInfo": {
     "status": "ok",
     "timestamp": 1722087528586,
     "user_tz": 300,
     "elapsed": 18,
     "user": {
      "displayName": "Carlos Calderón",
      "userId": "03456281774656213876"
     }
    },
    "ExecuteTime": {
     "end_time": "2024-07-27T14:56:16.089890Z",
     "start_time": "2024-07-27T14:56:16.085588Z"
    }
   },
   "source": [
    "def quitar_simbolos(texto):\n",
    "    for char in non_emoji_chars:\n",
    "        texto = texto.replace(char, \"\")\n",
    "    return texto"
   ],
   "outputs": [],
   "execution_count": 34
  },
  {
   "cell_type": "code",
   "metadata": {
    "id": "ZQYaRkF9RnDL",
    "executionInfo": {
     "status": "ok",
     "timestamp": 1722087528587,
     "user_tz": 300,
     "elapsed": 17,
     "user": {
      "displayName": "Carlos Calderón",
      "userId": "03456281774656213876"
     }
    },
    "ExecuteTime": {
     "end_time": "2024-07-27T14:56:16.102681Z",
     "start_time": "2024-07-27T14:56:16.091774Z"
    }
   },
   "source": [
    "df_reviews[\"texto_sin_stopwords\"] = df_reviews[\"texto_sin_stopwords\"].apply(\n",
    "    lambda x: quitar_simbolos(x)\n",
    ")"
   ],
   "outputs": [],
   "execution_count": 35
  },
  {
   "cell_type": "code",
   "metadata": {
    "id": "Ahnulm67Ga1a",
    "executionInfo": {
     "status": "ok",
     "timestamp": 1722087528587,
     "user_tz": 300,
     "elapsed": 16,
     "user": {
      "displayName": "Carlos Calderón",
      "userId": "03456281774656213876"
     }
    },
    "ExecuteTime": {
     "end_time": "2024-07-27T14:56:16.112874Z",
     "start_time": "2024-07-27T14:56:16.106845Z"
    }
   },
   "source": [
    "df_reviews[\"texto_sin_stopwords\"] = df_reviews[\"texto_sin_stopwords\"].apply(\n",
    "    lambda x: \" \".join(x.split())\n",
    ")"
   ],
   "outputs": [],
   "execution_count": 36
  },
  {
   "cell_type": "markdown",
   "metadata": {
    "id": "lAMw2Eqgq_4H"
   },
   "source": [
    "Se define una funci&oacute;n para reemplazar los emojis por sus equivalentes en palabras."
   ]
  },
  {
   "cell_type": "code",
   "metadata": {
    "id": "ywZHtL7sE9NJ",
    "executionInfo": {
     "status": "ok",
     "timestamp": 1722087528587,
     "user_tz": 300,
     "elapsed": 14,
     "user": {
      "displayName": "Carlos Calderón",
      "userId": "03456281774656213876"
     }
    },
    "ExecuteTime": {
     "end_time": "2024-07-27T14:56:16.121221Z",
     "start_time": "2024-07-27T14:56:16.114654Z"
    }
   },
   "source": [
    "def reemplazar_emojis(texto):\n",
    "    for (key, value) in emojis_dict.items():\n",
    "        texto = texto.replace(key, f\" {value} \")\n",
    "    return texto"
   ],
   "outputs": [],
   "execution_count": 37
  },
  {
   "cell_type": "code",
   "metadata": {
    "id": "_AD6h-7MfXs7",
    "executionInfo": {
     "status": "ok",
     "timestamp": 1722087528587,
     "user_tz": 300,
     "elapsed": 12,
     "user": {
      "displayName": "Carlos Calderón",
      "userId": "03456281774656213876"
     }
    },
    "ExecuteTime": {
     "end_time": "2024-07-27T14:56:16.135019Z",
     "start_time": "2024-07-27T14:56:16.123452Z"
    }
   },
   "source": [
    "df_reviews[\"texto_sin_emojis\"] = df_reviews[\"texto_sin_stopwords\"].apply(\n",
    "    lambda x: reemplazar_emojis(x)\n",
    ")\n",
    "df_reviews[\"texto_sin_emojis\"] = df_reviews[\"texto_sin_emojis\"].apply(\n",
    "    lambda x: \" \".join(x.split())\n",
    ")"
   ],
   "outputs": [],
   "execution_count": 38
  },
  {
   "cell_type": "markdown",
   "metadata": {
    "id": "RitrynCsnqzj"
   },
   "source": [
    "Se verifican dos comentarios que contienen emojis para evidenciar que la eliminaci&oacute;n de *stopwords* y el reemplazo de emojis por ***palabras equivalentes*** se realiz&oacute; correctamente, y finalmente se guarda esta versi&oacute;n del *DataFrame* limpia de emojis en un archivo de Microsoft Excel."
   ]
  },
  {
   "cell_type": "code",
   "metadata": {
    "id": "QzTlA1c4iNCZ",
    "colab": {
     "base_uri": "https://localhost:8080/",
     "height": 147
    },
    "executionInfo": {
     "status": "ok",
     "timestamp": 1722087528587,
     "user_tz": 300,
     "elapsed": 12,
     "user": {
      "displayName": "Carlos Calderón",
      "userId": "03456281774656213876"
     }
    },
    "outputId": "a8323776-1f68-463e-da1b-9eb57d8e3633",
    "ExecuteTime": {
     "end_time": "2024-07-27T14:56:16.150084Z",
     "start_time": "2024-07-27T14:56:16.137470Z"
    }
   },
   "source": [
    "df_reviews[[\"texto_traducido\", \"texto_sin_stopwords\", \"texto_sin_emojis\"]] \\\n",
    "    .iloc[[76, 263], :]"
   ],
   "outputs": [
    {
     "data": {
      "text/plain": [
       "                                                 texto_traducido  \\\n",
       "76                       Everything is very nice, safe and cozy😊   \n",
       "263  A quiet place with a good location. They are pet friendly 😊   \n",
       "\n",
       "                          texto_sin_stopwords  \\\n",
       "76                 Everything nice safe cozy😊   \n",
       "263  quiet place good location pet friendly 😊   \n",
       "\n",
       "                                 texto_sin_emojis  \n",
       "76                Everything nice safe cozy happy  \n",
       "263  quiet place good location pet friendly happy  "
      ],
      "text/html": [
       "<div>\n",
       "<style scoped>\n",
       "    .dataframe tbody tr th:only-of-type {\n",
       "        vertical-align: middle;\n",
       "    }\n",
       "\n",
       "    .dataframe tbody tr th {\n",
       "        vertical-align: top;\n",
       "    }\n",
       "\n",
       "    .dataframe thead th {\n",
       "        text-align: right;\n",
       "    }\n",
       "</style>\n",
       "<table border=\"1\" class=\"dataframe\">\n",
       "  <thead>\n",
       "    <tr style=\"text-align: right;\">\n",
       "      <th></th>\n",
       "      <th>texto_traducido</th>\n",
       "      <th>texto_sin_stopwords</th>\n",
       "      <th>texto_sin_emojis</th>\n",
       "    </tr>\n",
       "  </thead>\n",
       "  <tbody>\n",
       "    <tr>\n",
       "      <th>76</th>\n",
       "      <td>Everything is very nice, safe and cozy😊</td>\n",
       "      <td>Everything nice safe cozy😊</td>\n",
       "      <td>Everything nice safe cozy happy</td>\n",
       "    </tr>\n",
       "    <tr>\n",
       "      <th>263</th>\n",
       "      <td>A quiet place with a good location. They are pet friendly 😊</td>\n",
       "      <td>quiet place good location pet friendly 😊</td>\n",
       "      <td>quiet place good location pet friendly happy</td>\n",
       "    </tr>\n",
       "  </tbody>\n",
       "</table>\n",
       "</div>"
      ]
     },
     "execution_count": 39,
     "metadata": {},
     "output_type": "execute_result"
    }
   ],
   "execution_count": 39
  },
  {
   "cell_type": "code",
   "metadata": {
    "id": "lFXWW4LhIdT9",
    "executionInfo": {
     "status": "ok",
     "timestamp": 1722087528587,
     "user_tz": 300,
     "elapsed": 10,
     "user": {
      "displayName": "Carlos Calderón",
      "userId": "03456281774656213876"
     }
    },
    "ExecuteTime": {
     "end_time": "2024-07-27T14:56:16.157962Z",
     "start_time": "2024-07-27T14:56:16.154041Z"
    }
   },
   "source": [
    "if not os.path.exists(\"processing/df_limpio_emojis.xlsx\"):\n",
    "    df_reviews.to_excel(\"processing/df_limpio_emojis.xlsx\")"
   ],
   "outputs": [],
   "execution_count": 40
  },
  {
   "cell_type": "markdown",
   "metadata": {
    "id": "nfvtuYJqNvXt"
   },
   "source": [
    "# Análisis de Sentimientos"
   ]
  },
  {
   "cell_type": "markdown",
   "metadata": {
    "id": "3_w97GEvbdUf"
   },
   "source": [
    "Finalmente, se procede a realizar un ***an&aacute;lisis de sentimientos*** de todos los comentarios presentes, para lo cual se importa la librer&iacute;a ***nltk*** y se utiliza el componente ***vader_lexicon*** para el an&aacute;lisis de polaridad en cada uno de los comentarios.\n",
    "\n",
    "En primer lugar, se define una funci&oacute;n que clasifica los coemntarios en base a su polaridad en las categor&iacute;s de **Positivo**, **Negativo** o **Neutral**, y mediante una funci&oacute;n *lambda* se env&iacute;an los resultados a una nueva columna del ***DataFrame de Pandas***."
   ]
  },
  {
   "cell_type": "code",
   "metadata": {
    "id": "OxNo0rfZIzaY",
    "colab": {
     "base_uri": "https://localhost:8080/"
    },
    "executionInfo": {
     "status": "ok",
     "timestamp": 1722087528852,
     "user_tz": 300,
     "elapsed": 274,
     "user": {
      "displayName": "Carlos Calderón",
      "userId": "03456281774656213876"
     }
    },
    "outputId": "306ca247-2450-444b-a1e1-5275f04c9d16",
    "ExecuteTime": {
     "end_time": "2024-07-27T14:56:16.182358Z",
     "start_time": "2024-07-27T14:56:16.159734Z"
    }
   },
   "source": [
    "import nltk\n",
    "from nltk.sentiment.vader import SentimentIntensityAnalyzer\n",
    "\n",
    "nltk.download('vader_lexicon')\n",
    "\n",
    "sia = SentimentIntensityAnalyzer()\n",
    "\n",
    "def clasificar_comentario(comentario):\n",
    "    polaridad = sia.polarity_scores(comentario)['compound']\n",
    "    if polaridad > 0.05:\n",
    "        return \"Positivo\"\n",
    "    elif polaridad < -0.05:\n",
    "        return \"Negativo\"\n",
    "    else:\n",
    "        return \"Neutral\""
   ],
   "outputs": [
    {
     "name": "stderr",
     "output_type": "stream",
     "text": [
      "[nltk_data] Downloading package vader_lexicon to\n",
      "[nltk_data]     /home/carlos/nltk_data...\n",
      "[nltk_data]   Package vader_lexicon is already up-to-date!\n"
     ]
    }
   ],
   "execution_count": 41
  },
  {
   "cell_type": "code",
   "metadata": {
    "id": "AunZxW0Jfzgn",
    "executionInfo": {
     "status": "ok",
     "timestamp": 1722087529783,
     "user_tz": 300,
     "elapsed": 937,
     "user": {
      "displayName": "Carlos Calderón",
      "userId": "03456281774656213876"
     }
    },
    "ExecuteTime": {
     "end_time": "2024-07-27T14:56:16.343524Z",
     "start_time": "2024-07-27T14:56:16.184061Z"
    }
   },
   "source": [
    "df_reviews[\"Sentimiento\"] = df_reviews[\"texto_sin_emojis\"].apply(\n",
    "    lambda x: clasificar_comentario(x)\n",
    ")"
   ],
   "outputs": [],
   "execution_count": 42
  },
  {
   "cell_type": "markdown",
   "metadata": {
    "id": "wMqiPszR-obE"
   },
   "source": [
    "Muestra de las columnas correspodientes a los ***comentarios traducidos al ingl&eacute;s*** y a los ***sentimientos detectados***."
   ]
  },
  {
   "cell_type": "code",
   "metadata": {
    "id": "EmkHJkDmAwig",
    "colab": {
     "base_uri": "https://localhost:8080/",
     "height": 161
    },
    "executionInfo": {
     "status": "ok",
     "timestamp": 1722087529783,
     "user_tz": 300,
     "elapsed": 9,
     "user": {
      "displayName": "Carlos Calderón",
      "userId": "03456281774656213876"
     }
    },
    "outputId": "8c508a87-3db0-4fd8-b872-9a4bc69d9001",
    "ExecuteTime": {
     "end_time": "2024-07-27T14:56:16.354428Z",
     "start_time": "2024-07-27T14:56:16.344970Z"
    }
   },
   "source": [
    "df_reviews[[\"texto_sin_emojis\", \"Sentimiento\"]].sample(3)"
   ],
   "outputs": [
    {
     "data": {
      "text/plain": [
       "                                                                   texto_sin_emojis  \\\n",
       "364                                                          Close everything quiet   \n",
       "259                         Place needs new bedding sheets pillows Nice view sunset   \n",
       "13   Great place Close beach nice outside kitchen quiet night budget friendly Enjoy   \n",
       "\n",
       "    Sentimiento  \n",
       "364     Neutral  \n",
       "259    Positivo  \n",
       "13     Positivo  "
      ],
      "text/html": [
       "<div>\n",
       "<style scoped>\n",
       "    .dataframe tbody tr th:only-of-type {\n",
       "        vertical-align: middle;\n",
       "    }\n",
       "\n",
       "    .dataframe tbody tr th {\n",
       "        vertical-align: top;\n",
       "    }\n",
       "\n",
       "    .dataframe thead th {\n",
       "        text-align: right;\n",
       "    }\n",
       "</style>\n",
       "<table border=\"1\" class=\"dataframe\">\n",
       "  <thead>\n",
       "    <tr style=\"text-align: right;\">\n",
       "      <th></th>\n",
       "      <th>texto_sin_emojis</th>\n",
       "      <th>Sentimiento</th>\n",
       "    </tr>\n",
       "  </thead>\n",
       "  <tbody>\n",
       "    <tr>\n",
       "      <th>364</th>\n",
       "      <td>Close everything quiet</td>\n",
       "      <td>Neutral</td>\n",
       "    </tr>\n",
       "    <tr>\n",
       "      <th>259</th>\n",
       "      <td>Place needs new bedding sheets pillows Nice view sunset</td>\n",
       "      <td>Positivo</td>\n",
       "    </tr>\n",
       "    <tr>\n",
       "      <th>13</th>\n",
       "      <td>Great place Close beach nice outside kitchen quiet night budget friendly Enjoy</td>\n",
       "      <td>Positivo</td>\n",
       "    </tr>\n",
       "  </tbody>\n",
       "</table>\n",
       "</div>"
      ]
     },
     "execution_count": 43,
     "metadata": {},
     "output_type": "execute_result"
    }
   ],
   "execution_count": 43
  },
  {
   "cell_type": "markdown",
   "metadata": {
    "id": "bhwOma2h_Ilf"
   },
   "source": [
    "De manera adicional se traducen de manera opcional las rese&ntilde;as al espa&ntilde;ol a fin de realizar una clasificaci&oacute;n manual de los sentimientos que se esperar&iacute;a en cada caso."
   ]
  },
  {
   "cell_type": "code",
   "metadata": {
    "id": "kngjSQmp59Lb",
    "executionInfo": {
     "status": "ok",
     "timestamp": 1722087530928,
     "user_tz": 300,
     "elapsed": 1151,
     "user": {
      "displayName": "Carlos Calderón",
      "userId": "03456281774656213876"
     }
    },
    "ExecuteTime": {
     "end_time": "2024-07-27T15:00:06.822073Z",
     "start_time": "2024-07-27T14:56:16.356201Z"
    }
   },
   "source": [
    "from google.cloud import translate_v2 as translate\n",
    "\n",
    "if not os.path.exists(\"translations/df_reviews_traducido_es.xlsx\"):\n",
    "    # Lectura de llave privada de la API de Google Cloud Translate\n",
    "    client = translate.Client.from_service_account_json(\n",
    "        \"processing/private_key_translate.json\"\n",
    "    )\n",
    "    # Función para traducir un texto\n",
    "    def translate_text(text, target_language='es'):\n",
    "        result = client.translate(text, target_language=target_language)\n",
    "        return result['translatedText']\n",
    "\n",
    "    # Traducción de texto en la columna \"review\"\n",
    "    df_reviews['texto_traducido_es'] = df_reviews[\"review\"].apply(\n",
    "        lambda x: translate_text(x, target_language=\"es\")\n",
    "    )\n",
    "\n",
    "    # Almacenamiento de reseñas traducidas para uso futuro\n",
    "    df_reviews[[\n",
    "            \"id_alojamiento\", \"review\", \"texto_traducido\", \"stars\"\n",
    "        ]].to_excel(\n",
    "        \"translations/df_reviews_traducido_es.xlsx\", index=False\n",
    "    )\n",
    "\n",
    "else:\n",
    "    df_reviews['texto_traducido_es'] = pd.read_excel(\n",
    "        \"translations/df_reviews_traducido_es.xlsx\"\n",
    "    )[\"texto_traducido\"]"
   ],
   "outputs": [],
   "execution_count": 44
  },
  {
   "cell_type": "code",
   "metadata": {
    "id": "bI_CG4YjA07w",
    "executionInfo": {
     "status": "ok",
     "timestamp": 1722087530928,
     "user_tz": 300,
     "elapsed": 9,
     "user": {
      "displayName": "Carlos Calderón",
      "userId": "03456281774656213876"
     }
    },
    "ExecuteTime": {
     "end_time": "2024-07-27T15:00:06.829597Z",
     "start_time": "2024-07-27T15:00:06.823185Z"
    }
   },
   "source": [
    "if not os.path.exists(\"output/sentimientos.xlsx\"):\n",
    "    df_reviews.to_excel(\"output/sentimientos.xlsx\", index= False)"
   ],
   "outputs": [],
   "execution_count": 45
  },
  {
   "cell_type": "markdown",
   "metadata": {
    "id": "dq0sCL4B_rIn"
   },
   "source": [
    "Se restaura el ancho m&aacute;ximo de columnas que se muestran en el ***DataFrame de Pandas*** para una mejor visualizaci&oacute;n."
   ]
  },
  {
   "cell_type": "code",
   "metadata": {
    "id": "Z0YZJU61hPWT",
    "executionInfo": {
     "status": "ok",
     "timestamp": 1722087530929,
     "user_tz": 300,
     "elapsed": 9,
     "user": {
      "displayName": "Carlos Calderón",
      "userId": "03456281774656213876"
     }
    },
    "ExecuteTime": {
     "end_time": "2024-07-27T15:00:06.839802Z",
     "start_time": "2024-07-27T15:00:06.834199Z"
    }
   },
   "source": [
    "pd.set_option('display.max_colwidth', default_max_colwidth)"
   ],
   "outputs": [],
   "execution_count": 46
  },
  {
   "cell_type": "markdown",
   "metadata": {
    "id": "ge9KU97u_8-e"
   },
   "source": [
    "Se eval&uacute;a de manera manual la polaridad *'real'* de las rese&ntilde;as a fin de poder crear una matriz de confusi&oacute;n y realizar un an&aacute;lisis de la exactitud de este modelo.\n",
    "\n",
    "Sin embargo, es importante tener en cuenta que este an&aacute;lisis de la polaridad *'real'* o de conjunto de datos de validaci&oacute;n  est&aacute; sujeto al criterio de la persona que lo realiza, por lo cual no se puede considerar en ning&uacute;n momento como un modelo libre de sesgos e interpretaciones."
   ]
  },
  {
   "cell_type": "code",
   "metadata": {
    "id": "2pql2waW6aSv",
    "executionInfo": {
     "status": "ok",
     "timestamp": 1722087531491,
     "user_tz": 300,
     "elapsed": 570,
     "user": {
      "displayName": "Carlos Calderón",
      "userId": "03456281774656213876"
     }
    },
    "ExecuteTime": {
     "end_time": "2024-07-27T15:00:06.984722Z",
     "start_time": "2024-07-27T15:00:06.841339Z"
    }
   },
   "source": [
    "df_sentiments = pd.read_excel(\"output/matriz_sentimientos.xlsx\")\n",
    "df_sentiments = df_sentiments[[\"Sentimiento\", \"Real\"]]"
   ],
   "outputs": [],
   "execution_count": 47
  },
  {
   "cell_type": "code",
   "metadata": {
    "id": "LjcAAL_Jg7EN",
    "colab": {
     "base_uri": "https://localhost:8080/",
     "height": 206
    },
    "executionInfo": {
     "status": "ok",
     "timestamp": 1722087531793,
     "user_tz": 300,
     "elapsed": 306,
     "user": {
      "displayName": "Carlos Calderón",
      "userId": "03456281774656213876"
     }
    },
    "outputId": "0ad897f3-42e5-4ca9-b6a0-4d443f872ec5",
    "ExecuteTime": {
     "end_time": "2024-07-27T15:00:06.994193Z",
     "start_time": "2024-07-27T15:00:06.985954Z"
    }
   },
   "source": [
    "df_sentiments.sample(5)"
   ],
   "outputs": [
    {
     "data": {
      "text/plain": [
       "    Sentimiento      Real\n",
       "424    Positivo  Positivo\n",
       "598    Positivo  Positivo\n",
       "81     Positivo  Positivo\n",
       "261     Neutral  Positivo\n",
       "58      Neutral   Neutral"
      ],
      "text/html": [
       "<div>\n",
       "<style scoped>\n",
       "    .dataframe tbody tr th:only-of-type {\n",
       "        vertical-align: middle;\n",
       "    }\n",
       "\n",
       "    .dataframe tbody tr th {\n",
       "        vertical-align: top;\n",
       "    }\n",
       "\n",
       "    .dataframe thead th {\n",
       "        text-align: right;\n",
       "    }\n",
       "</style>\n",
       "<table border=\"1\" class=\"dataframe\">\n",
       "  <thead>\n",
       "    <tr style=\"text-align: right;\">\n",
       "      <th></th>\n",
       "      <th>Sentimiento</th>\n",
       "      <th>Real</th>\n",
       "    </tr>\n",
       "  </thead>\n",
       "  <tbody>\n",
       "    <tr>\n",
       "      <th>424</th>\n",
       "      <td>Positivo</td>\n",
       "      <td>Positivo</td>\n",
       "    </tr>\n",
       "    <tr>\n",
       "      <th>598</th>\n",
       "      <td>Positivo</td>\n",
       "      <td>Positivo</td>\n",
       "    </tr>\n",
       "    <tr>\n",
       "      <th>81</th>\n",
       "      <td>Positivo</td>\n",
       "      <td>Positivo</td>\n",
       "    </tr>\n",
       "    <tr>\n",
       "      <th>261</th>\n",
       "      <td>Neutral</td>\n",
       "      <td>Positivo</td>\n",
       "    </tr>\n",
       "    <tr>\n",
       "      <th>58</th>\n",
       "      <td>Neutral</td>\n",
       "      <td>Neutral</td>\n",
       "    </tr>\n",
       "  </tbody>\n",
       "</table>\n",
       "</div>"
      ]
     },
     "execution_count": 48,
     "metadata": {},
     "output_type": "execute_result"
    }
   ],
   "execution_count": 48
  },
  {
   "cell_type": "code",
   "metadata": {
    "id": "dyP5k8fXibz6",
    "colab": {
     "base_uri": "https://localhost:8080/"
    },
    "executionInfo": {
     "status": "ok",
     "timestamp": 1722087531793,
     "user_tz": 300,
     "elapsed": 14,
     "user": {
      "displayName": "Carlos Calderón",
      "userId": "03456281774656213876"
     }
    },
    "outputId": "49b25d35-090f-45c1-dd4c-5127b6b8e097",
    "ExecuteTime": {
     "end_time": "2024-07-27T15:00:07.005975Z",
     "start_time": "2024-07-27T15:00:06.995656Z"
    }
   },
   "source": [
    "categorias = df_sentiments[\"Sentimiento\"].unique()\n",
    "categorias"
   ],
   "outputs": [
    {
     "data": {
      "text/plain": [
       "array(['Positivo', 'Negativo', 'Neutral'], dtype=object)"
      ]
     },
     "execution_count": 49,
     "metadata": {},
     "output_type": "execute_result"
    }
   ],
   "execution_count": 49
  },
  {
   "cell_type": "markdown",
   "metadata": {
    "id": "OCKLormMF4-L"
   },
   "source": [
    "## Matriz de confusi&oacute;n"
   ]
  },
  {
   "cell_type": "markdown",
   "metadata": {
    "id": "wP2XlKXHFEJU"
   },
   "source": [
    "Se crea la matriz de cunfusi&oacute;n de tres categor&iacute;as con la ayuda de ***sklearn.metrics.confusion_matrix*** en base a las tres categor&iacute;as de sentimientos definidas con anterioridad."
   ]
  },
  {
   "cell_type": "code",
   "metadata": {
    "id": "_7GC6-z7j9ao",
    "executionInfo": {
     "status": "ok",
     "timestamp": 1722087531793,
     "user_tz": 300,
     "elapsed": 12,
     "user": {
      "displayName": "Carlos Calderón",
      "userId": "03456281774656213876"
     }
    },
    "ExecuteTime": {
     "end_time": "2024-07-27T15:00:07.011645Z",
     "start_time": "2024-07-27T15:00:07.007299Z"
    }
   },
   "source": [
    "from sklearn.metrics import confusion_matrix"
   ],
   "outputs": [],
   "execution_count": 50
  },
  {
   "cell_type": "code",
   "metadata": {
    "id": "KsPeSbSIkGmb",
    "executionInfo": {
     "status": "ok",
     "timestamp": 1722087531793,
     "user_tz": 300,
     "elapsed": 11,
     "user": {
      "displayName": "Carlos Calderón",
      "userId": "03456281774656213876"
     }
    },
    "ExecuteTime": {
     "end_time": "2024-07-27T15:00:07.025159Z",
     "start_time": "2024-07-27T15:00:07.014863Z"
    }
   },
   "source": [
    "conf_matrix = confusion_matrix(\n",
    "    df_sentiments[\"Real\"],\n",
    "    df_sentiments[\"Sentimiento\"],\n",
    "    labels=categorias\n",
    ")\n",
    "\n",
    "conf_matrix_df = pd.DataFrame(\n",
    "    conf_matrix,\n",
    "    index=categorias,\n",
    "    columns=categorias\n",
    ")"
   ],
   "outputs": [],
   "execution_count": 51
  },
  {
   "cell_type": "code",
   "metadata": {
    "id": "GnCaqNiAkP7p",
    "colab": {
     "base_uri": "https://localhost:8080/",
     "height": 143
    },
    "executionInfo": {
     "status": "ok",
     "timestamp": 1722087531793,
     "user_tz": 300,
     "elapsed": 10,
     "user": {
      "displayName": "Carlos Calderón",
      "userId": "03456281774656213876"
     }
    },
    "outputId": "a6b31b83-a541-4539-cd83-f81b7f6d66ea",
    "ExecuteTime": {
     "end_time": "2024-07-27T15:00:07.037959Z",
     "start_time": "2024-07-27T15:00:07.031627Z"
    }
   },
   "source": [
    "conf_matrix_df"
   ],
   "outputs": [
    {
     "data": {
      "text/plain": [
       "          Positivo  Negativo  Neutral\n",
       "Positivo       536         1       15\n",
       "Negativo         8        10        3\n",
       "Neutral         29         5       13"
      ],
      "text/html": [
       "<div>\n",
       "<style scoped>\n",
       "    .dataframe tbody tr th:only-of-type {\n",
       "        vertical-align: middle;\n",
       "    }\n",
       "\n",
       "    .dataframe tbody tr th {\n",
       "        vertical-align: top;\n",
       "    }\n",
       "\n",
       "    .dataframe thead th {\n",
       "        text-align: right;\n",
       "    }\n",
       "</style>\n",
       "<table border=\"1\" class=\"dataframe\">\n",
       "  <thead>\n",
       "    <tr style=\"text-align: right;\">\n",
       "      <th></th>\n",
       "      <th>Positivo</th>\n",
       "      <th>Negativo</th>\n",
       "      <th>Neutral</th>\n",
       "    </tr>\n",
       "  </thead>\n",
       "  <tbody>\n",
       "    <tr>\n",
       "      <th>Positivo</th>\n",
       "      <td>536</td>\n",
       "      <td>1</td>\n",
       "      <td>15</td>\n",
       "    </tr>\n",
       "    <tr>\n",
       "      <th>Negativo</th>\n",
       "      <td>8</td>\n",
       "      <td>10</td>\n",
       "      <td>3</td>\n",
       "    </tr>\n",
       "    <tr>\n",
       "      <th>Neutral</th>\n",
       "      <td>29</td>\n",
       "      <td>5</td>\n",
       "      <td>13</td>\n",
       "    </tr>\n",
       "  </tbody>\n",
       "</table>\n",
       "</div>"
      ]
     },
     "execution_count": 52,
     "metadata": {},
     "output_type": "execute_result"
    }
   ],
   "execution_count": 52
  },
  {
   "cell_type": "markdown",
   "metadata": {
    "id": "h5VaR_EHGHE7"
   },
   "source": [
    "Se procede a representar la matriz de confusi&oacute;n de 3 dimensiones de manera gr&aacute;fica, mediante las liber&iacute;as ***seaborn*** y ***matplotlib***."
   ]
  },
  {
   "cell_type": "code",
   "metadata": {
    "id": "Hu5SNm1Fk5wn",
    "colab": {
     "base_uri": "https://localhost:8080/",
     "height": 410
    },
    "executionInfo": {
     "status": "ok",
     "timestamp": 1722087533815,
     "user_tz": 300,
     "elapsed": 2031,
     "user": {
      "displayName": "Carlos Calderón",
      "userId": "03456281774656213876"
     }
    },
    "outputId": "9ce59837-e5fe-449a-b6fa-62d752379259",
    "ExecuteTime": {
     "end_time": "2024-07-27T15:00:07.391823Z",
     "start_time": "2024-07-27T15:00:07.039449Z"
    }
   },
   "source": [
    "import seaborn as sns\n",
    "import matplotlib.pyplot as plt\n",
    "\n",
    "plt.figure(figsize=(4, 4))\n",
    "sns.heatmap(\n",
    "    conf_matrix_df,\n",
    "    annot=True,\n",
    "    fmt=\"d\",\n",
    "    cmap=\"Blues\",\n",
    "    linewidths=.5,\n",
    "    cbar=False\n",
    ")\n",
    "\n",
    "plt.title('Matriz de Confusión')\n",
    "plt.xlabel('Sentimiento Predicho')\n",
    "plt.ylabel('Sentimiento Real')\n",
    "plt.savefig(\"output/conf_matrix.png\")\n",
    "plt.show()"
   ],
   "outputs": [
    {
     "data": {
      "text/plain": [
       "<Figure size 400x400 with 1 Axes>"
      ],
      "image/png": "[encoded data removed]"
     },
     "metadata": {},
     "output_type": "display_data"
    }
   ],
   "execution_count": 53
  },
  {
   "metadata": {
    "ExecuteTime": {
     "end_time": "2024-07-27T15:00:07.401701Z",
     "start_time": "2024-07-27T15:00:07.393588Z"
    }
   },
   "cell_type": "code",
   "source": [
    "# df_sentiments\n",
    "df_reviews[\"Real\"] = df_sentiments[\"Real\"]"
   ],
   "outputs": [],
   "execution_count": 54
  },
  {
   "metadata": {
    "ExecuteTime": {
     "end_time": "2024-07-27T15:00:07.416395Z",
     "start_time": "2024-07-27T15:00:07.402921Z"
    }
   },
   "cell_type": "code",
   "source": "df_reviews",
   "outputs": [
    {
     "data": {
      "text/plain": [
       "     id_alojamiento                                             review  stars  \\\n",
       "0                 0                 muy buen lugar y buen recibimiento      5   \n",
       "1                 0  Quiet place, short walk to town, clean, big si...      5   \n",
       "2                 0  Habitación agradable y cómoda, buen relación c...      5   \n",
       "3                 0  Buen lugar cerca del pueblo. Tranquilo y limpi...      5   \n",
       "4                 0  Sehr schönes Privatzimmer in ruhiger Lage und ...      5   \n",
       "..              ...                                                ...    ...   \n",
       "615               9  Gijs & Liliana’s are great hosts always commun...      5   \n",
       "616               9  Excelente lugar, muy acogedor muy cómodo, la d...      5   \n",
       "617               9                           Nice place and nice host      5   \n",
       "618               9  We had a lovely few days at Gij's & Lilianas p...      5   \n",
       "619               9  Muy comodo el.alojamoento, Gijs y liliana son ...      5   \n",
       "\n",
       "                                       texto_traducido  \\\n",
       "0                     very good place and good welcome   \n",
       "1    Quiet place, short walk to town, clean, big si...   \n",
       "2    Nice and comfortable room, good value for mone...   \n",
       "3    Good place near the town. Quiet and clean. The...   \n",
       "4    Very nice private room in a quiet location and...   \n",
       "..                                                 ...   \n",
       "615  Gijs & Liliana’s are great hosts always commun...   \n",
       "616  Excellent place, very cozy, very comfortable, ...   \n",
       "617                           Nice place and nice host   \n",
       "618  We had a lovely few days at Gij's & Lilianas p...   \n",
       "619  The accommodation is very comfortable, Gijs an...   \n",
       "\n",
       "                                   texto_sin_stopwords  \\\n",
       "0                              good place good welcome   \n",
       "1    Quiet place short walk town clean big sign rig...   \n",
       "2    Nice comfortable room good value money Further...   \n",
       "3    Good place near town Quiet clean sign obvious ...   \n",
       "4    nice private room quiet location nice hostel r...   \n",
       "..                                                 ...   \n",
       "615  Gijs Liliana great hosts always communicating ...   \n",
       "616  Excellent place cozy comfortable decoration di...   \n",
       "617                               Nice place nice host   \n",
       "618  lovely days Gij s Lilianas place apartment mod...   \n",
       "619  accommodation comfortable Gijs Liliana friendl...   \n",
       "\n",
       "                                      texto_sin_emojis Sentimiento  \\\n",
       "0                              good place good welcome    Positivo   \n",
       "1    Quiet place short walk town clean big sign rig...    Positivo   \n",
       "2    Nice comfortable room good value money Further...    Positivo   \n",
       "3    Good place near town Quiet clean sign obvious ...    Positivo   \n",
       "4    nice private room quiet location nice hostel r...    Positivo   \n",
       "..                                                 ...         ...   \n",
       "615  Gijs Liliana great hosts always communicating ...    Positivo   \n",
       "616  Excellent place cozy comfortable decoration di...    Positivo   \n",
       "617                               Nice place nice host    Positivo   \n",
       "618  lovely days Gij s Lilianas place apartment mod...    Positivo   \n",
       "619  accommodation comfortable Gijs Liliana friendl...    Positivo   \n",
       "\n",
       "                                    texto_traducido_es      Real  \n",
       "0                   muy buen lugar y buen recibimiento  Positivo  \n",
       "1    Lugar tranquilo, a pocos pasos de la ciudad, l...  Positivo  \n",
       "2    Habitación agradable y cómoda, buen relación c...  Positivo  \n",
       "3    Buen lugar cerca del pueblo. Tranquilo y limpi...  Positivo  \n",
       "4    Muy bonita habitación privada en una zona tran...  Positivo  \n",
       "..                                                 ...       ...  \n",
       "615  Gijs &amp; Liliana&#39;s son excelentes anfitr...  Positivo  \n",
       "616  Excelente lugar, muy acogedor muy cómodo, la d...  Positivo  \n",
       "617                     Bonito lugar y buen anfitrión.  Positivo  \n",
       "618  ¡Pasamos unos días encantadores en casa de Gij...  Positivo  \n",
       "619  Muy comodo el.alojamoento, Gijs y liliana son ...  Positivo  \n",
       "\n",
       "[620 rows x 9 columns]"
      ],
      "text/html": [
       "<div>\n",
       "<style scoped>\n",
       "    .dataframe tbody tr th:only-of-type {\n",
       "        vertical-align: middle;\n",
       "    }\n",
       "\n",
       "    .dataframe tbody tr th {\n",
       "        vertical-align: top;\n",
       "    }\n",
       "\n",
       "    .dataframe thead th {\n",
       "        text-align: right;\n",
       "    }\n",
       "</style>\n",
       "<table border=\"1\" class=\"dataframe\">\n",
       "  <thead>\n",
       "    <tr style=\"text-align: right;\">\n",
       "      <th></th>\n",
       "      <th>id_alojamiento</th>\n",
       "      <th>review</th>\n",
       "      <th>stars</th>\n",
       "      <th>texto_traducido</th>\n",
       "      <th>texto_sin_stopwords</th>\n",
       "      <th>texto_sin_emojis</th>\n",
       "      <th>Sentimiento</th>\n",
       "      <th>texto_traducido_es</th>\n",
       "      <th>Real</th>\n",
       "    </tr>\n",
       "  </thead>\n",
       "  <tbody>\n",
       "    <tr>\n",
       "      <th>0</th>\n",
       "      <td>0</td>\n",
       "      <td>muy buen lugar y buen recibimiento</td>\n",
       "      <td>5</td>\n",
       "      <td>very good place and good welcome</td>\n",
       "      <td>good place good welcome</td>\n",
       "      <td>good place good welcome</td>\n",
       "      <td>Positivo</td>\n",
       "      <td>muy buen lugar y buen recibimiento</td>\n",
       "      <td>Positivo</td>\n",
       "    </tr>\n",
       "    <tr>\n",
       "      <th>1</th>\n",
       "      <td>0</td>\n",
       "      <td>Quiet place, short walk to town, clean, big si...</td>\n",
       "      <td>5</td>\n",
       "      <td>Quiet place, short walk to town, clean, big si...</td>\n",
       "      <td>Quiet place short walk town clean big sign rig...</td>\n",
       "      <td>Quiet place short walk town clean big sign rig...</td>\n",
       "      <td>Positivo</td>\n",
       "      <td>Lugar tranquilo, a pocos pasos de la ciudad, l...</td>\n",
       "      <td>Positivo</td>\n",
       "    </tr>\n",
       "    <tr>\n",
       "      <th>2</th>\n",
       "      <td>0</td>\n",
       "      <td>Habitación agradable y cómoda, buen relación c...</td>\n",
       "      <td>5</td>\n",
       "      <td>Nice and comfortable room, good value for mone...</td>\n",
       "      <td>Nice comfortable room good value money Further...</td>\n",
       "      <td>Nice comfortable room good value money Further...</td>\n",
       "      <td>Positivo</td>\n",
       "      <td>Habitación agradable y cómoda, buen relación c...</td>\n",
       "      <td>Positivo</td>\n",
       "    </tr>\n",
       "    <tr>\n",
       "      <th>3</th>\n",
       "      <td>0</td>\n",
       "      <td>Buen lugar cerca del pueblo. Tranquilo y limpi...</td>\n",
       "      <td>5</td>\n",
       "      <td>Good place near the town. Quiet and clean. The...</td>\n",
       "      <td>Good place near town Quiet clean sign obvious ...</td>\n",
       "      <td>Good place near town Quiet clean sign obvious ...</td>\n",
       "      <td>Positivo</td>\n",
       "      <td>Buen lugar cerca del pueblo. Tranquilo y limpi...</td>\n",
       "      <td>Positivo</td>\n",
       "    </tr>\n",
       "    <tr>\n",
       "      <th>4</th>\n",
       "      <td>0</td>\n",
       "      <td>Sehr schönes Privatzimmer in ruhiger Lage und ...</td>\n",
       "      <td>5</td>\n",
       "      <td>Very nice private room in a quiet location and...</td>\n",
       "      <td>nice private room quiet location nice hostel r...</td>\n",
       "      <td>nice private room quiet location nice hostel r...</td>\n",
       "      <td>Positivo</td>\n",
       "      <td>Muy bonita habitación privada en una zona tran...</td>\n",
       "      <td>Positivo</td>\n",
       "    </tr>\n",
       "    <tr>\n",
       "      <th>...</th>\n",
       "      <td>...</td>\n",
       "      <td>...</td>\n",
       "      <td>...</td>\n",
       "      <td>...</td>\n",
       "      <td>...</td>\n",
       "      <td>...</td>\n",
       "      <td>...</td>\n",
       "      <td>...</td>\n",
       "      <td>...</td>\n",
       "    </tr>\n",
       "    <tr>\n",
       "      <th>615</th>\n",
       "      <td>9</td>\n",
       "      <td>Gijs &amp; Liliana’s are great hosts always commun...</td>\n",
       "      <td>5</td>\n",
       "      <td>Gijs &amp; Liliana’s are great hosts always commun...</td>\n",
       "      <td>Gijs Liliana great hosts always communicating ...</td>\n",
       "      <td>Gijs Liliana great hosts always communicating ...</td>\n",
       "      <td>Positivo</td>\n",
       "      <td>Gijs &amp;amp; Liliana&amp;#39;s son excelentes anfitr...</td>\n",
       "      <td>Positivo</td>\n",
       "    </tr>\n",
       "    <tr>\n",
       "      <th>616</th>\n",
       "      <td>9</td>\n",
       "      <td>Excelente lugar, muy acogedor muy cómodo, la d...</td>\n",
       "      <td>5</td>\n",
       "      <td>Excellent place, very cozy, very comfortable, ...</td>\n",
       "      <td>Excellent place cozy comfortable decoration di...</td>\n",
       "      <td>Excellent place cozy comfortable decoration di...</td>\n",
       "      <td>Positivo</td>\n",
       "      <td>Excelente lugar, muy acogedor muy cómodo, la d...</td>\n",
       "      <td>Positivo</td>\n",
       "    </tr>\n",
       "    <tr>\n",
       "      <th>617</th>\n",
       "      <td>9</td>\n",
       "      <td>Nice place and nice host</td>\n",
       "      <td>5</td>\n",
       "      <td>Nice place and nice host</td>\n",
       "      <td>Nice place nice host</td>\n",
       "      <td>Nice place nice host</td>\n",
       "      <td>Positivo</td>\n",
       "      <td>Bonito lugar y buen anfitrión.</td>\n",
       "      <td>Positivo</td>\n",
       "    </tr>\n",
       "    <tr>\n",
       "      <th>618</th>\n",
       "      <td>9</td>\n",
       "      <td>We had a lovely few days at Gij's &amp; Lilianas p...</td>\n",
       "      <td>5</td>\n",
       "      <td>We had a lovely few days at Gij's &amp; Lilianas p...</td>\n",
       "      <td>lovely days Gij s Lilianas place apartment mod...</td>\n",
       "      <td>lovely days Gij s Lilianas place apartment mod...</td>\n",
       "      <td>Positivo</td>\n",
       "      <td>¡Pasamos unos días encantadores en casa de Gij...</td>\n",
       "      <td>Positivo</td>\n",
       "    </tr>\n",
       "    <tr>\n",
       "      <th>619</th>\n",
       "      <td>9</td>\n",
       "      <td>Muy comodo el.alojamoento, Gijs y liliana son ...</td>\n",
       "      <td>5</td>\n",
       "      <td>The accommodation is very comfortable, Gijs an...</td>\n",
       "      <td>accommodation comfortable Gijs Liliana friendl...</td>\n",
       "      <td>accommodation comfortable Gijs Liliana friendl...</td>\n",
       "      <td>Positivo</td>\n",
       "      <td>Muy comodo el.alojamoento, Gijs y liliana son ...</td>\n",
       "      <td>Positivo</td>\n",
       "    </tr>\n",
       "  </tbody>\n",
       "</table>\n",
       "<p>620 rows × 9 columns</p>\n",
       "</div>"
      ]
     },
     "execution_count": 55,
     "metadata": {},
     "output_type": "execute_result"
    }
   ],
   "execution_count": 55
  },
  {
   "cell_type": "markdown",
   "metadata": {
    "id": "FnVE7dgRvmr7"
   },
   "source": [
    "# Conclusi&oacute;n"
   ]
  },
  {
   "cell_type": "markdown",
   "metadata": {
    "id": "CYC2npMCvuMs"
   },
   "source": [
    "El análisis de sentimientos aplicado a las reseñas de Airbnb ha demostrado ser una herramienta poderosa para entender la percepción de los huéspedes. En este estudio, se observó una clara predominancia de comentarios positivos, lo cual es un buen indicativo de la satisfacción general de los clientes. Sin embargo, es crucial profundizar en los detalles que estos comentarios revelan.\n",
    "\n",
    "## Análisis de Comentarios Positivos\n",
    "El modelo ha clasificado con alta precisión los sentimientos positivos. Los aspectos más mencionados incluyen:\n",
    "- **Ubicación**: Los huéspedes valoran altamente la proximidad a la ciudad y las atracciones turísticas.\n",
    "- **Comodidad**: Comentarios frecuentes sobre la comodidad y acogida de los alojamientos.\n",
    "\n",
    "### Ejemplo de Comentarios Positivos:\n",
    "- \"El lugar es súper chévere, acogedor y está cerca de la ciudad.\"\n",
    "- \"Me encantó la comodidad del alojamiento y la proximidad a las principales atracciones.\"\n",
    "\n",
    "### Recomendaciones para Anfitriones:\n",
    "- **Estrategia de Marketing**: Enfocar las campañas publicitarias en destacar la ubicación y la comodidad de los alojamientos.\n",
    "- **Optimización de Anuncios**: Utilizar palabras clave positivas en las descripciones de los anuncios para atraer más huéspedes.\n",
    "\n",
    "## Análisis de Comentarios Negativos\n",
    "El modelo presenta mayor porcentaje de error en la clasificación de comentarios negativos y neutrales. Los aspectos negativos más mencionados incluyen:\n",
    "- **Limpieza**: Comentarios frecuentes sobre la limpieza insuficiente de los alojamientos.\n",
    "- **Ruido**: Quejas sobre el ruido en los alrededores del alojamiento.\n",
    "\n",
    "### Ejemplo de Comentarios Negativos:\n",
    "- \"El lugar estaba sucio y no se limpió adecuadamente.\"\n",
    "- \"Había mucho ruido, lo que hizo difícil descansar.\"\n",
    "\n",
    "### Recomendaciones para Anfitriones:\n",
    "- **Mejora de Servicios**: Aumentar las horas de limpieza y asegurar una limpieza más profunda entre las estancias.\n",
    "- **Gestión del Ruido**: Implementar medidas para reducir el ruido, como ventanas insonorizadas o informar a los huéspedes sobre las horas de silencio.\n",
    "\n",
    "## Valor Comercial del Análisis\n",
    "Este análisis ofrece un valor significativo tanto para Airbnb como para los anfitriones al proporcionar una visión clara de las áreas de mejora y las fortalezas a destacar. Al implementar estas recomendaciones, los anfitriones pueden mejorar la satisfacción del cliente, aumentar las reservas y fortalecer la reputación de sus alojamientos.\n",
    "\n"
   ]
  }
 ],
 "metadata": {
  "colab": {
   "provenance": [],
   "mount_file_id": "1-5_f480c0-jKidLv2AtdKA4FljN4gYOP",
   "authorship_tag": "ABX9TyMJojbgQwW3c/V16Nj+apnW"
  },
  "kernelspec": {
   "display_name": "Python 3 (ipykernel)",
   "name": "python3",
   "language": "python"
  },
  "language_info": {
   "name": "python"
  }
 },
 "nbformat": 4,
 "nbformat_minor": 0
}
