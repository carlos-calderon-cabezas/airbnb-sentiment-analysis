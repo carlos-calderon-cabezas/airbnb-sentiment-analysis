{
 "cells": [
  {
   "cell_type": "markdown",
   "metadata": {
    "id": "WffHy-y1r67K"
   },
   "source": [
    "# An&aacute;lisis de sentimientos para rese&ntilde;as de Airbnb"
   ]
  },
  {
   "cell_type": "markdown",
   "metadata": {
    "id": "rVCnlmjaqZJi"
   },
   "source": [
    "El presente proyecto aborda una de las aplicaciones m&aacute;s interesantes al momento de trabajar con el **Procesamiento del Lenguage Natural (PLN)** con Python, que consiste en el **An&aacute;lisis de Sentimientos** aplicado a un conjunto de datos reales de muestra correspondientes a 620 rese&ntilde;as otorgadas por hu&eacute;spedes a un total de 10 alojamientos listados dentro de la plataforma de alojamientos temporales *Airbnb* para la ic&oacute;nica ciudad tur&iacute;stica ecuatoriana con playas &uacute;nicas y gente muy acogedora que es **Monta&ntilde;ita**.\n",
    "\n",
    "Este proyecto cumple con los lineamientos de estilo y formato de código dictados en el manual ***PEP-8***, adem&aacute;s de ***Entidades HTML*** para ayudar a la correcta legibilidad de caracteres especiales, tales como *tildes* y *&ntilde;*."
   ]
  },
  {
   "cell_type": "markdown",
   "metadata": {
    "id": "WpUBYIvcuIW7"
   },
   "source": [
    "# Preprocesamiento inicial de la informaci&oacute;n"
   ]
  },
  {
   "cell_type": "markdown",
   "metadata": {
    "id": "WH3z3n0V5sN9"
   },
   "source": [
    "## Instalaci&oacute;n e importaci&oacute;n de librer&iacute;as necesarias"
   ]
  },
  {
   "cell_type": "markdown",
   "metadata": {
    "id": "N9hG1yIoCO3T"
   },
   "source": [
    "Debido a que varias de las rese&ntilde;as contienen *emojis*, ser&aacute; necesario contar con una librer&iacute;a para su respectivo tratamiento y transformaci&oacute;n, para posteriormente emplearlos al momento de realizar el an&aacute;lisis de sentimientos. La librer&iacute;a que se instala se llama ***emoji***."
   ]
  },
  {
   "cell_type": "code",
   "metadata": {
    "colab": {
     "base_uri": "https://localhost:8080/"
    },
    "id": "P0lR93c_F3bg",
    "executionInfo": {
     "status": "ok",
     "timestamp": 1722087516995,
     "user_tz": 300,
     "elapsed": 14459,
     "user": {
      "displayName": "Carlos Calderón",
      "userId": "03456281774656213876"
     }
    },
    "outputId": "092c5453-e91f-463f-94dd-72556f31e3c3",
    "ExecuteTime": {
     "end_time": "2024-07-27T19:14:49.671643Z",
     "start_time": "2024-07-27T19:14:49.631312Z"
    }
   },
   "source": [
    "try:\n",
    "    import emoji\n",
    "except ImportError:\n",
    "    !pip install emoji\n",
    "    import emoji"
   ],
   "outputs": [],
   "execution_count": 1
  },
  {
   "cell_type": "markdown",
   "metadata": {
    "id": "8FSmPVTtvpJE"
   },
   "source": [
    "Se importan adem&aacute;s liber&iacute;as como ***pandas***, ***numpy***, ***os***, ***glob*** y ***pathlib***, mismas que servir&aacute;n para diferentes prop&oacute;sitos, desde la manipulaci&oacute;n de archivos y carpetas dentro de la m&aacute;quina virtual hasta la creaci&oacute;n de ***DataFrames*** y el uso de funciones matem&aacute;ticas."
   ]
  },
  {
   "cell_type": "code",
   "metadata": {
    "id": "PGL3UsDm4MwY",
    "executionInfo": {
     "status": "ok",
     "timestamp": 1722087518079,
     "user_tz": 300,
     "elapsed": 1092,
     "user": {
      "displayName": "Carlos Calderón",
      "userId": "03456281774656213876"
     }
    },
    "ExecuteTime": {
     "end_time": "2024-07-27T19:14:49.679471Z",
     "start_time": "2024-07-27T19:14:49.675193Z"
    }
   },
   "source": [
    "import pandas as pd\n",
    "import numpy as np\n",
    "import os\n",
    "import glob\n",
    "from pathlib import Path"
   ],
   "outputs": [],
   "execution_count": 2
  },
  {
   "cell_type": "markdown",
   "metadata": {
    "id": "2CZw8czsmmk-"
   },
   "source": [
    "Se configura pandas para evitar que trunque el texto de las entradas de cada una de las columnas. Adicionalmente, se cambia el directorio base con la librer&iacute;a ***os*** para una mayor facilidad de trabajo. En el directorio base est&aacute;n contenidas las rese&ntilde;as dejadas por hu&eacute;spedes de un total de 10 alojamientos diferentes ubicados en la playa de Monta&ntilde;ita, Ecuador, con corte a la fecha del viernes, 06 de enero de 2024."
   ]
  },
  {
   "cell_type": "code",
   "metadata": {
    "id": "1defgKmKHwrh",
    "executionInfo": {
     "status": "ok",
     "timestamp": 1722087518079,
     "user_tz": 300,
     "elapsed": 10,
     "user": {
      "displayName": "Carlos Calderón",
      "userId": "03456281774656213876"
     }
    },
    "ExecuteTime": {
     "end_time": "2024-07-27T19:14:49.686310Z",
     "start_time": "2024-07-27T19:14:49.681907Z"
    }
   },
   "source": [
    "default_max_colwidth = pd.get_option('display.max_colwidth')\n",
    "pd.set_option('display.max_colwidth', None)"
   ],
   "outputs": [],
   "execution_count": 3
  },
  {
   "cell_type": "markdown",
   "source": [
    "El bloque de c&oacute;digo contenido en la siguiente celda se debe ejecutar &uacute;nicamente si los archivos del ***notebook*** se almacenan en ***Google Drive*** y si adem&aacute;s este se ejecuta dentro de la plataforma de ***Google Colab***, para lo cual es necesario reemplazar *root_path* con la ruta correspondiente al directorio ra&iacute;z donde se almacenar&aacute;n los archivos. Esto es a fin de que en celdas posteriores no sea necesario escribir la ruta completa cada vez.\n",
    "\n",
    "Por el contrario, si se ejecuta el ***notebook*** en un entorno local, se puede omitir por completo la celda."
   ],
   "metadata": {
    "id": "4K-vALTh1vg1"
   }
  },
  {
   "cell_type": "code",
   "metadata": {
    "colab": {
     "base_uri": "https://localhost:8080/"
    },
    "id": "MsZrgXii958z",
    "executionInfo": {
     "status": "ok",
     "timestamp": 1722087518080,
     "user_tz": 300,
     "elapsed": 10,
     "user": {
      "displayName": "Carlos Calderón",
      "userId": "03456281774656213876"
     }
    },
    "outputId": "ee24fb0b-8105-418a-f22b-0b2644a9ac2b",
    "ExecuteTime": {
     "end_time": "2024-07-27T19:14:49.692463Z",
     "start_time": "2024-07-27T19:14:49.687842Z"
    }
   },
   "source": [
    "root_path = \"/content/drive/MyDrive/PORTFOLIO/Sent_Analysis\"\n",
    "if os.path.exists(root_path):\n",
    "    reviews_path = os.path.join(root_path, \"abb_reviews\")\n",
    "    os.chdir(root_path)\n",
    "else:\n",
    "    reviews_path = \"./abb_reviews\"\n",
    "# Verificación de cambio de directorio\n",
    "print(f\"Directorio actual: {os.getcwd()}\")"
   ],
   "outputs": [
    {
     "name": "stdout",
     "output_type": "stream",
     "text": [
      "Directorio actual: /home/carlos/PORTFOLIO/airbnb-sentiment-analysis\n"
     ]
    }
   ],
   "execution_count": 4
  },
  {
   "cell_type": "markdown",
   "metadata": {
    "id": "qwP71jayoKyD"
   },
   "source": [
    "Se obtiene un listado con todos los arhivos correspondientes a las rese&ntilde;as de 10 alojamientos en total."
   ]
  },
  {
   "cell_type": "code",
   "metadata": {
    "id": "-7z56EQdylfa",
    "executionInfo": {
     "status": "ok",
     "timestamp": 1722087518392,
     "user_tz": 300,
     "elapsed": 320,
     "user": {
      "displayName": "Carlos Calderón",
      "userId": "03456281774656213876"
     }
    },
    "ExecuteTime": {
     "end_time": "2024-07-27T19:14:49.702729Z",
     "start_time": "2024-07-27T19:14:49.695863Z"
    }
   },
   "source": [
    "# Se define un patrón para buscar archivos txt en el directorio\n",
    "patron = '*.txt'\n",
    "\n",
    "# Se usa glob para obtener la lista de archivos que coinciden con el patrón\n",
    "abb_reviews = glob.glob(os.path.join(reviews_path, patron))\n",
    "\n",
    "# Se ordenan las reseñas en orden alfabético\n",
    "abb_reviews = sorted(\n",
    "    abb_reviews,\n",
    "    key=lambda x: int(Path(x).stem.split('_')[-1]))"
   ],
   "outputs": [],
   "execution_count": 5
  },
  {
   "cell_type": "markdown",
   "metadata": {
    "id": "L-qXQHhz55t2"
   },
   "source": [
    "## Conteo de rese&ntilde;as por cada archivo"
   ]
  },
  {
   "cell_type": "code",
   "metadata": {
    "colab": {
     "base_uri": "https://localhost:8080/"
    },
    "id": "59j4P02Vy96_",
    "executionInfo": {
     "status": "ok",
     "timestamp": 1722087520697,
     "user_tz": 300,
     "elapsed": 2308,
     "user": {
      "displayName": "Carlos Calderón",
      "userId": "03456281774656213876"
     }
    },
    "outputId": "28bca9e6-ff04-490c-a40c-d84c44d06769",
    "ExecuteTime": {
     "end_time": "2024-07-27T19:14:49.710165Z",
     "start_time": "2024-07-27T19:14:49.704336Z"
    }
   },
   "source": [
    "total_resenas = 0\n",
    "for archivo in abb_reviews:\n",
    "    archivo_path = Path(archivo)\n",
    "    with open(archivo_path, mode=\"r\", encoding=\"utf-8\") as file:\n",
    "        foo = file.read()\n",
    "        print(f'Número de reseñas en {archivo_path.name}:\\\n",
    "         {foo.count(\"Calificación: \")}')\n",
    "        total_resenas += foo.count(\"Calificación: \")\n",
    "\n",
    "print(f\"\\nTotal de reseñas en {len(abb_reviews)} archivos: {total_resenas}\")"
   ],
   "outputs": [
    {
     "name": "stdout",
     "output_type": "stream",
     "text": [
      "Número de reseñas en abb_reviews_00.txt:         9\n",
      "Número de reseñas en abb_reviews_01.txt:         17\n",
      "Número de reseñas en abb_reviews_02.txt:         141\n",
      "Número de reseñas en abb_reviews_03.txt:         15\n",
      "Número de reseñas en abb_reviews_04.txt:         38\n",
      "Número de reseñas en abb_reviews_05.txt:         8\n",
      "Número de reseñas en abb_reviews_06.txt:         200\n",
      "Número de reseñas en abb_reviews_07.txt:         29\n",
      "Número de reseñas en abb_reviews_08.txt:         22\n",
      "Número de reseñas en abb_reviews_09.txt:         141\n",
      "\n",
      "Total de reseñas en 10 archivos: 620\n"
     ]
    }
   ],
   "execution_count": 6
  },
  {
   "cell_type": "markdown",
   "metadata": {
    "id": "HBGQQHk86CBY"
   },
   "source": [
    "## Funci&oacute;n para extraer las rese&ntilde;as de hu&eacute;spedes de todos los archivos"
   ]
  },
  {
   "cell_type": "markdown",
   "metadata": {
    "id": "Ot9cWmI7u1rH"
   },
   "source": [
    "Puede verse que parte de la informaci&oacute;n recopilada no est&aacute; previamente estructurada, es decir, hay comentarios con atributos diferentes a otros, tales como, por ejemplo, \"*Se qued&oacute; unas semanas*\" o \"*Con mascota*\". Es por esto que dichas expresiones son eliminadas para evitar que sean err&oacute;neamente interpretadas como comentarios."
   ]
  },
  {
   "cell_type": "code",
   "metadata": {
    "id": "uLKvQ8yJtb-_",
    "executionInfo": {
     "status": "ok",
     "timestamp": 1722087520697,
     "user_tz": 300,
     "elapsed": 11,
     "user": {
      "displayName": "Carlos Calderón",
      "userId": "03456281774656213876"
     }
    },
    "ExecuteTime": {
     "end_time": "2024-07-27T19:14:49.715939Z",
     "start_time": "2024-07-27T19:14:49.711644Z"
    }
   },
   "source": [
    "def extraer_comentarios(mi_archivo):\n",
    "    comentarios = []\n",
    "    with open(mi_archivo, mode=\"r\", encoding=\"utf-8\") as file:\n",
    "        texto = file.read()\n",
    "\n",
    "    # Dividir el texto en fragmentos usando \"Calificación:\" como delimitador\n",
    "    fragmentos = texto.split(\"Calificación:\")[1:]\n",
    "\n",
    "    # Eliminación de fragmentos vacíos\n",
    "    fragmentos = [\n",
    "        fragmento.strip() for fragmento in fragmentos if fragmento.strip()\n",
    "    ]\n",
    "    for fragmento in fragmentos:\n",
    "        aux = (\n",
    "            fragmento.replace(\",·\", \"\")\n",
    "            .replace(\"Se quedó unas semanas\", \"\")\n",
    "            .replace(\"Estadía de una semana\", \"\")\n",
    "            .replace(\"Con mascota\", \"\")\n",
    "        )\n",
    "        aux = \"\\n\".join(\n",
    "            linea.strip() for linea in aux.splitlines() if linea.strip()\n",
    "        )\n",
    "        comentarios.append(aux.splitlines()[2])\n",
    "\n",
    "    return comentarios"
   ],
   "outputs": [],
   "execution_count": 7
  },
  {
   "cell_type": "markdown",
   "metadata": {
    "id": "w8SCgVC76T3C"
   },
   "source": [
    "Se crea una lista para en ella guardar todas las rese&ntilde;as (que a su vez est&aacute;n en listas) las cuales serán almacenadas en un ***DataFrame de Pandas*** junto con las calificaciones."
   ]
  },
  {
   "cell_type": "code",
   "metadata": {
    "id": "kkt5gG3N03ob",
    "executionInfo": {
     "status": "ok",
     "timestamp": 1722087520698,
     "user_tz": 300,
     "elapsed": 11,
     "user": {
      "displayName": "Carlos Calderón",
      "userId": "03456281774656213876"
     }
    },
    "ExecuteTime": {
     "end_time": "2024-07-27T19:14:49.721281Z",
     "start_time": "2024-07-27T19:14:49.717069Z"
    }
   },
   "source": [
    "lista_reviews = []"
   ],
   "outputs": [],
   "execution_count": 8
  },
  {
   "cell_type": "code",
   "metadata": {
    "id": "pefMbo5I0vnk",
    "executionInfo": {
     "status": "ok",
     "timestamp": 1722087520698,
     "user_tz": 300,
     "elapsed": 10,
     "user": {
      "displayName": "Carlos Calderón",
      "userId": "03456281774656213876"
     }
    },
    "ExecuteTime": {
     "end_time": "2024-07-27T19:14:49.731384Z",
     "start_time": "2024-07-27T19:14:49.723025Z"
    }
   },
   "source": [
    "for review_file in abb_reviews:\n",
    "    lista_reviews.append(extraer_comentarios(review_file))"
   ],
   "outputs": [],
   "execution_count": 9
  },
  {
   "cell_type": "markdown",
   "metadata": {
    "id": "6_oqjyiV6tr0"
   },
   "source": [
    "Se verifica con la funci&oacute;n ***len*** que existan efectivamente ***620*** rese&ntilde;as en total, lo cual se cumple, y posteriormente se crea un archvo de texto plano para verificar los comentarios."
   ]
  },
  {
   "cell_type": "code",
   "metadata": {
    "colab": {
     "base_uri": "https://localhost:8080/"
    },
    "id": "CmecX1zG61QG",
    "executionInfo": {
     "status": "ok",
     "timestamp": 1722087520698,
     "user_tz": 300,
     "elapsed": 9,
     "user": {
      "displayName": "Carlos Calderón",
      "userId": "03456281774656213876"
     }
    },
    "outputId": "645ae5c3-bd3c-4489-a41f-4fccf8776a7a",
    "ExecuteTime": {
     "end_time": "2024-07-27T19:14:49.735408Z",
     "start_time": "2024-07-27T19:14:49.732398Z"
    }
   },
   "source": [
    "print(len(sum(lista_reviews, [])))"
   ],
   "outputs": [
    {
     "name": "stdout",
     "output_type": "stream",
     "text": [
      "620\n"
     ]
    }
   ],
   "execution_count": 10
  },
  {
   "cell_type": "markdown",
   "metadata": {
    "id": "M7vgCKDr0EnA"
   },
   "source": [
    "Se guardan todas las rese&ntilde;as en un archivo de texto para comprobar de manera manual mediante un editor de textos externo que cada una de las 620 l&iacute;neas correspondientes a comentarios son efectivamente comentarios y no otros de los atributos de las rese&ntilde;as."
   ]
  },
  {
   "cell_type": "code",
   "metadata": {
    "id": "dKOW6Tr00txq",
    "executionInfo": {
     "status": "ok",
     "timestamp": 1722087520989,
     "user_tz": 300,
     "elapsed": 295,
     "user": {
      "displayName": "Carlos Calderón",
      "userId": "03456281774656213876"
     }
    },
    "ExecuteTime": {
     "end_time": "2024-07-27T19:14:49.742035Z",
     "start_time": "2024-07-27T19:14:49.738708Z"
    }
   },
   "source": [
    "if not os.path.exists(\"./processing\"):\n",
    "    os.mkdir(\"./processing\")\n",
    "if not os.path.exists(\"processing/coment_ALL.txt\"):\n",
    "    with open(\"processing/coment_ALL.txt\", mode=\"w\") as file:\n",
    "        file.write(\"\\n\".join(sum(lista_reviews, [])))"
   ],
   "outputs": [],
   "execution_count": 11
  },
  {
   "cell_type": "markdown",
   "metadata": {
    "id": "HskTcv3m7yh6"
   },
   "source": [
    "## Funci&oacute;n para extraer las calificaciones de hu&eacute;spedes de todos los archivos"
   ]
  },
  {
   "cell_type": "markdown",
   "metadata": {
    "id": "JXEVRKgA050w"
   },
   "source": [
    "Adicionalmente, para el an&aacute;lisis de sentimientos es importante extraer la calificaci&oacute;n del 1 al 5 que dieron los usuarios en cada una de las rese&ntilde;as para contrastarlas con el resultado del an&aacute;lisis de sentimientos. Al igual que con los comentarios en s&iacute;, las puntuaciones se almacenan tambi&eacute;n en formato de listas para despu&eacute;s crear un ***DataFrame de Pandas*** con estas."
   ]
  },
  {
   "cell_type": "code",
   "metadata": {
    "id": "zoKWyjh80tnr",
    "executionInfo": {
     "status": "ok",
     "timestamp": 1722087520989,
     "user_tz": 300,
     "elapsed": 16,
     "user": {
      "displayName": "Carlos Calderón",
      "userId": "03456281774656213876"
     }
    },
    "ExecuteTime": {
     "end_time": "2024-07-27T19:14:49.754836Z",
     "start_time": "2024-07-27T19:14:49.743420Z"
    }
   },
   "source": [
    "def extraer_calificaciones(mi_archivo):\n",
    "    stars = []\n",
    "    with open(mi_archivo, mode=\"r\", encoding=\"utf-8\") as file:\n",
    "        texto = file.read()\n",
    "        fragmentos = texto.split(\"Calificación: \")\n",
    "\n",
    "    for i in range(1, len(fragmentos)):\n",
    "        stars.append(int(fragmentos[i][0]))\n",
    "\n",
    "    return stars"
   ],
   "outputs": [],
   "execution_count": 12
  },
  {
   "cell_type": "code",
   "metadata": {
    "id": "OA3nuoW-2Wjo",
    "executionInfo": {
     "status": "ok",
     "timestamp": 1722087520989,
     "user_tz": 300,
     "elapsed": 15,
     "user": {
      "displayName": "Carlos Calderón",
      "userId": "03456281774656213876"
     }
    },
    "ExecuteTime": {
     "end_time": "2024-07-27T19:14:49.772868Z",
     "start_time": "2024-07-27T19:14:49.756434Z"
    }
   },
   "source": [
    "lista_stars = []\n",
    "\n",
    "for review_file in abb_reviews:\n",
    "    lista_stars.append(extraer_calificaciones(review_file))"
   ],
   "outputs": [],
   "execution_count": 13
  },
  {
   "cell_type": "markdown",
   "metadata": {
    "id": "0M7G-P-86yN7"
   },
   "source": [
    "Se verifica que la cantidad de calificaciones sea la misma que de comentarios."
   ]
  },
  {
   "cell_type": "code",
   "metadata": {
    "id": "RHPruB1g7c7d",
    "colab": {
     "base_uri": "https://localhost:8080/"
    },
    "executionInfo": {
     "status": "ok",
     "timestamp": 1722087520989,
     "user_tz": 300,
     "elapsed": 15,
     "user": {
      "displayName": "Carlos Calderón",
      "userId": "03456281774656213876"
     }
    },
    "outputId": "7a484d84-16a9-47bd-9961-48894373d264",
    "ExecuteTime": {
     "end_time": "2024-07-27T19:14:49.794158Z",
     "start_time": "2024-07-27T19:14:49.774874Z"
    }
   },
   "source": [
    "len(sum(lista_stars, []))"
   ],
   "outputs": [
    {
     "data": {
      "text/plain": [
       "620"
      ]
     },
     "execution_count": 14,
     "metadata": {},
     "output_type": "execute_result"
    }
   ],
   "execution_count": 14
  },
  {
   "cell_type": "markdown",
   "metadata": {
    "id": "KYakYfda2FMs"
   },
   "source": [
    "Se crean los &iacute;ndices para identificar a cada uno de los 10 alojamientos previo a la creaci&oacute;n del *DataFrame* de *Pandas*. As&iacute;mismo, se unen todos los elementos de rese&ntilde;as y n&uacute;mero de estrellas de cada alojamiento en una &uacute;nica lista para cada caso."
   ]
  },
  {
   "cell_type": "code",
   "metadata": {
    "id": "qWkAmvV6JHMZ",
    "executionInfo": {
     "status": "ok",
     "timestamp": 1722087520989,
     "user_tz": 300,
     "elapsed": 10,
     "user": {
      "displayName": "Carlos Calderón",
      "userId": "03456281774656213876"
     }
    },
    "ExecuteTime": {
     "end_time": "2024-07-27T19:14:49.806077Z",
     "start_time": "2024-07-27T19:14:49.796101Z"
    }
   },
   "source": [
    "def unir_listas(lista):\n",
    "    return sum(lista, [])"
   ],
   "outputs": [],
   "execution_count": 15
  },
  {
   "cell_type": "code",
   "metadata": {
    "id": "FVGg1-kSyr9_",
    "executionInfo": {
     "status": "ok",
     "timestamp": 1722087520989,
     "user_tz": 300,
     "elapsed": 10,
     "user": {
      "displayName": "Carlos Calderón",
      "userId": "03456281774656213876"
     }
    },
    "ExecuteTime": {
     "end_time": "2024-07-27T19:14:49.811184Z",
     "start_time": "2024-07-27T19:14:49.807662Z"
    }
   },
   "source": [
    "numero_resenas = []"
   ],
   "outputs": [],
   "execution_count": 16
  },
  {
   "cell_type": "code",
   "metadata": {
    "id": "B2al9KBXyqjJ",
    "executionInfo": {
     "status": "ok",
     "timestamp": 1722087520990,
     "user_tz": 300,
     "elapsed": 10,
     "user": {
      "displayName": "Carlos Calderón",
      "userId": "03456281774656213876"
     }
    },
    "ExecuteTime": {
     "end_time": "2024-07-27T19:14:49.817467Z",
     "start_time": "2024-07-27T19:14:49.813600Z"
    }
   },
   "source": [
    "for resena in lista_reviews:\n",
    "    numero_resenas.append(len(resena))"
   ],
   "outputs": [],
   "execution_count": 17
  },
  {
   "cell_type": "code",
   "metadata": {
    "id": "MVoNif1dy5Pt",
    "colab": {
     "base_uri": "https://localhost:8080/"
    },
    "executionInfo": {
     "status": "ok",
     "timestamp": 1722087520990,
     "user_tz": 300,
     "elapsed": 10,
     "user": {
      "displayName": "Carlos Calderón",
      "userId": "03456281774656213876"
     }
    },
    "outputId": "ec660c4c-7041-4ed5-ab4e-086afc48c956",
    "ExecuteTime": {
     "end_time": "2024-07-27T19:14:49.826299Z",
     "start_time": "2024-07-27T19:14:49.819550Z"
    }
   },
   "source": [
    "numero_resenas"
   ],
   "outputs": [
    {
     "data": {
      "text/plain": [
       "[9, 17, 141, 15, 38, 8, 200, 29, 22, 141]"
      ]
     },
     "execution_count": 18,
     "metadata": {},
     "output_type": "execute_result"
    }
   ],
   "execution_count": 18
  },
  {
   "cell_type": "code",
   "metadata": {
    "id": "4JMIfkQ-1t17",
    "executionInfo": {
     "status": "ok",
     "timestamp": 1722087520990,
     "user_tz": 300,
     "elapsed": 8,
     "user": {
      "displayName": "Carlos Calderón",
      "userId": "03456281774656213876"
     }
    },
    "ExecuteTime": {
     "end_time": "2024-07-27T19:14:49.835373Z",
     "start_time": "2024-07-27T19:14:49.830131Z"
    }
   },
   "source": [
    "id_alojamiento = []\n",
    "for index, i in enumerate(numero_resenas, start=0):\n",
    "    id_alojamiento.append(list(np.full(i, index)))\n",
    "\n",
    "id_alojamiento = sum(id_alojamiento, [])"
   ],
   "outputs": [],
   "execution_count": 19
  },
  {
   "cell_type": "code",
   "metadata": {
    "id": "cfME44DMJz6V",
    "executionInfo": {
     "status": "ok",
     "timestamp": 1722087520990,
     "user_tz": 300,
     "elapsed": 7,
     "user": {
      "displayName": "Carlos Calderón",
      "userId": "03456281774656213876"
     }
    },
    "ExecuteTime": {
     "end_time": "2024-07-27T19:14:49.841704Z",
     "start_time": "2024-07-27T19:14:49.837539Z"
    }
   },
   "source": [
    "lista_reviews = unir_listas(lista_reviews)\n",
    "lista_stars = unir_listas(lista_stars)"
   ],
   "outputs": [],
   "execution_count": 20
  },
  {
   "cell_type": "markdown",
   "metadata": {
    "id": "3f2q8sAt2_IC"
   },
   "source": [
    "## Construcci&oacute;n de DataFrame de Pandas"
   ]
  },
  {
   "cell_type": "code",
   "metadata": {
    "id": "YAyf8OhbUxqD",
    "executionInfo": {
     "status": "ok",
     "timestamp": 1722087520990,
     "user_tz": 300,
     "elapsed": 7,
     "user": {
      "displayName": "Carlos Calderón",
      "userId": "03456281774656213876"
     }
    }
   },
   "source": [
    "df_reviews = pd.DataFrame({\n",
    "    \"id_alojamiento\": id_alojamiento,\n",
    "    \"review\": lista_reviews,\n",
    "    \"stars\": lista_stars,\n",
    "})"
   ],
   "outputs": [],
   "execution_count": 21
  },
  {
   "cell_type": "markdown",
   "metadata": {
    "id": "ukcQmVwg3JnO"
   },
   "source": [
    "Se realiza un muestreo a fin de verificar que el *DataFrame* fue construido de manera correcta y se procede a guardar el mismo en formato *csv* para uso futuro."
   ]
  },
  {
   "cell_type": "code",
   "metadata": {
    "id": "ZezsIjYKVBlg",
    "colab": {
     "base_uri": "https://localhost:8080/",
     "height": 397
    },
    "executionInfo": {
     "status": "ok",
     "timestamp": 1722087521298,
     "user_tz": 300,
     "elapsed": 315,
     "user": {
      "displayName": "Carlos Calderón",
      "userId": "03456281774656213876"
     }
    },
    "outputId": "298fb647-bacb-4955-9666-d132623a6c6c",
    "ExecuteTime": {
     "end_time": "2024-07-27T19:14:49.866043Z",
     "start_time": "2024-07-27T19:14:49.853781Z"
    }
   },
   "source": [
    "df_reviews.sample(5)"
   ],
   "outputs": [
    {
     "data": {
      "text/plain": [
       "     id_alojamiento  \\\n",
       "330               6   \n",
       "362               6   \n",
       "454               7   \n",
       "47                2   \n",
       "341               6   \n",
       "\n",
       "                                                                                                                                                                                                                                                             review  \\\n",
       "330                                                                                                                              El departamento es limpio, bien ubicado, tiene todo lo necesario y está cerca del centro y la olaya. Jonny está pendiente de todo.   \n",
       "362  Gabe has a perfect place if you want to stay a couple of nights and don't plan on staying in the apartment. We had a great location with parking and easy entry. It was probably a bit smaller than we thought, but it was enough for us to have a great trip.   \n",
       "454                                  The host is very responsive, respectful, and kind. She gave us good information before and during our stay. However, we were not satisfied with the cleanness of the entire place, especially the bed sheets and kitchen area.   \n",
       "47                                                                                                                                                                                                                        un lugar muy bonito para pasar unos dias,   \n",
       "341                                                                                                                                                                                                                                       lindo lugar, muy práctico   \n",
       "\n",
       "     stars  \n",
       "330      4  \n",
       "362      4  \n",
       "454      2  \n",
       "47       5  \n",
       "341      4  "
      ],
      "text/html": [
       "<div>\n",
       "<style scoped>\n",
       "    .dataframe tbody tr th:only-of-type {\n",
       "        vertical-align: middle;\n",
       "    }\n",
       "\n",
       "    .dataframe tbody tr th {\n",
       "        vertical-align: top;\n",
       "    }\n",
       "\n",
       "    .dataframe thead th {\n",
       "        text-align: right;\n",
       "    }\n",
       "</style>\n",
       "<table border=\"1\" class=\"dataframe\">\n",
       "  <thead>\n",
       "    <tr style=\"text-align: right;\">\n",
       "      <th></th>\n",
       "      <th>id_alojamiento</th>\n",
       "      <th>review</th>\n",
       "      <th>stars</th>\n",
       "    </tr>\n",
       "  </thead>\n",
       "  <tbody>\n",
       "    <tr>\n",
       "      <th>330</th>\n",
       "      <td>6</td>\n",
       "      <td>El departamento es limpio, bien ubicado, tiene todo lo necesario y está cerca del centro y la olaya. Jonny está pendiente de todo.</td>\n",
       "      <td>4</td>\n",
       "    </tr>\n",
       "    <tr>\n",
       "      <th>362</th>\n",
       "      <td>6</td>\n",
       "      <td>Gabe has a perfect place if you want to stay a couple of nights and don't plan on staying in the apartment. We had a great location with parking and easy entry. It was probably a bit smaller than we thought, but it was enough for us to have a great trip.</td>\n",
       "      <td>4</td>\n",
       "    </tr>\n",
       "    <tr>\n",
       "      <th>454</th>\n",
       "      <td>7</td>\n",
       "      <td>The host is very responsive, respectful, and kind. She gave us good information before and during our stay. However, we were not satisfied with the cleanness of the entire place, especially the bed sheets and kitchen area.</td>\n",
       "      <td>2</td>\n",
       "    </tr>\n",
       "    <tr>\n",
       "      <th>47</th>\n",
       "      <td>2</td>\n",
       "      <td>un lugar muy bonito para pasar unos dias,</td>\n",
       "      <td>5</td>\n",
       "    </tr>\n",
       "    <tr>\n",
       "      <th>341</th>\n",
       "      <td>6</td>\n",
       "      <td>lindo lugar, muy práctico</td>\n",
       "      <td>4</td>\n",
       "    </tr>\n",
       "  </tbody>\n",
       "</table>\n",
       "</div>"
      ]
     },
     "execution_count": 22,
     "metadata": {},
     "output_type": "execute_result"
    }
   ],
   "execution_count": 22
  },
  {
   "cell_type": "code",
   "metadata": {
    "id": "sOe-J8CeH5F6",
    "executionInfo": {
     "status": "ok",
     "timestamp": 1722087521298,
     "user_tz": 300,
     "elapsed": 12,
     "user": {
      "displayName": "Carlos Calderón",
      "userId": "03456281774656213876"
     }
    },
    "ExecuteTime": {
     "end_time": "2024-07-27T19:14:49.871779Z",
     "start_time": "2024-07-27T19:14:49.867739Z"
    }
   },
   "source": [
    "if not os.path.exists(\"processing/df_reviews.csv\"):\n",
    "    df_reviews.to_csv(\"processing/df_reviews.csv\", index=False)"
   ],
   "outputs": [],
   "execution_count": 23
  },
  {
   "cell_type": "markdown",
   "metadata": {
    "id": "iH6obQtl0Wmt"
   },
   "source": [
    "A continuaci&oacute;n, se procede a traducir las rese&ntilde;as dejadas por los hu&eacute;spedes a los alojamientos con la ayuda de **Google Cloud Translate**, el cual detecta de manera autom&aacute;tica el idioma de los textos de entrada y los traduce al ingl&eacute;s a fin de procesarlos posteriormente al momento de realizar el an&aacute;lisis de sentimientos.\n",
    "\n",
    "Para las ejecuciones posteriores del presente *Jupyter Notebook*, se importa el archivo con las rese&ntilde;as ya traducidas a fin de no exceder la cuota de traducciones permitidas en la capa gratuita de *Google Cloud Translate*.\n",
    "\n",
    "En caso de que se quiera replicar el uso de ***Google Cloud Translate*** para la traducci&oacute;n autom&aacute;tica de textos se deber&aacute; utilizar una cuenta existente de ***Google Cloud*** o crear una nueva cuenta y generar las credenciales de acceso a la API, siguiendo para ello la documentaci&oacute;n del proveedor de servicios en la nube.\n",
    "\n",
    "La raz&oacute;n por la cual se almacenan los datos en formato *.xlsx* en lugar de *.csv* radica en que en algunas ocasiones el int&eacute;rprete de ***Pandas*** confunde ciertos caracteres especiales con delimitadores de datos y se produce una lectura err&oacute;nea para algunos de los registros."
   ]
  },
  {
   "cell_type": "code",
   "metadata": {
    "id": "miNvAlTRMrMc",
    "executionInfo": {
     "status": "ok",
     "timestamp": 1722087521298,
     "user_tz": 300,
     "elapsed": 11,
     "user": {
      "displayName": "Carlos Calderón",
      "userId": "03456281774656213876"
     }
    }
   },
   "source": [
    "df_traducciones = pd.DataFrame()"
   ],
   "outputs": [],
   "execution_count": 24
  },
  {
   "cell_type": "code",
   "metadata": {
    "id": "BgNE4aBr_TWF",
    "executionInfo": {
     "status": "ok",
     "timestamp": 1722087523508,
     "user_tz": 300,
     "elapsed": 2220,
     "user": {
      "displayName": "Carlos Calderón",
      "userId": "03456281774656213876"
     }
    },
    "ExecuteTime": {
     "end_time": "2024-07-27T19:14:50.526493Z",
     "start_time": "2024-07-27T19:14:49.884087Z"
    }
   },
   "source": [
    "from google.cloud import translate_v2 as translate\n",
    "\n",
    "if not os.path.exists(\"translations/df_reviews_traducido.xlsx\"):\n",
    "    # Lectura de llave privada de la API de Google Cloud Translate\n",
    "    client = translate.Client.from_service_account_json(\n",
    "        \"processing/private_key_translate.json\"\n",
    "    )\n",
    "    # Función para traducir un texto\n",
    "    def translate_text(text, target_language='en'):\n",
    "        result = client.translate(text, target_language=target_language)\n",
    "        return result['translatedText']\n",
    "\n",
    "    # Traducción de texto en la columna \"review\"\n",
    "    df_reviews['texto_traducido'] = df_reviews[\"review\"].apply(\n",
    "        lambda x: translate_text(x, target_language=\"en\")\n",
    "    )\n",
    "\n",
    "    # Almacenamiento de reseñas traducidas para uso futuro\n",
    "    df_reviews[[\n",
    "            \"id_alojamiento\", \"review\", \"texto_traducido\", \"stars\"\n",
    "        ]].to_excel(\n",
    "        \"translations/df_reviews_traducido.xlsx\", index=False\n",
    "    )\n",
    "\n",
    "else:\n",
    "    df_reviews['texto_traducido'] = pd.read_excel(\n",
    "        \"translations/df_reviews_traducido.xlsx\"\n",
    "    )[\"texto_traducido\"]"
   ],
   "outputs": [],
   "execution_count": 25
  },
  {
   "cell_type": "markdown",
   "metadata": {
    "id": "djYOSgWQM2yR"
   },
   "source": [
    "Se obtiene una muestra aleatoria de los datos a fin de verificar las traducciones realizadas."
   ]
  },
  {
   "cell_type": "code",
   "metadata": {
    "id": "WFZwFzPOOLZf",
    "colab": {
     "base_uri": "https://localhost:8080/",
     "height": 1000
    },
    "executionInfo": {
     "status": "ok",
     "timestamp": 1722087523508,
     "user_tz": 300,
     "elapsed": 10,
     "user": {
      "displayName": "Carlos Calderón",
      "userId": "03456281774656213876"
     }
    },
    "outputId": "ebe5de4a-26ff-46b8-fee1-b3a4b68c901d",
    "ExecuteTime": {
     "end_time": "2024-07-27T19:14:50.536253Z",
     "start_time": "2024-07-27T19:14:50.527664Z"
    }
   },
   "source": [
    "df_reviews.sample(10)"
   ],
   "outputs": [
    {
     "data": {
      "text/plain": [
       "     id_alojamiento  \\\n",
       "550               9   \n",
       "270               6   \n",
       "35                2   \n",
       "143               2   \n",
       "27                2   \n",
       "457               8   \n",
       "374               6   \n",
       "460               8   \n",
       "510               9   \n",
       "542               9   \n",
       "\n",
       "                                                                                                                                                                                                                                                                                                                                                                                                      review  \\\n",
       "550                                                                                                                                                                                                                                                                                                                                                                                           Súper bien !!!   \n",
       "270              La verdad no le doy las 5 estrellas porque la cama estaba con algo de polvo y sería recomendable cambiar o lavar y aspirar porque mi novia y yo tuvimos alergias. El otro detalle es que el camino de ma entrada estuvo algo peligroso en caso de lluvia y mucha maleza a los lados que provocan mosquitos, de ahí todo perfecto me gusto porque es acogedor, pude hubo una vista muy linda   \n",
       "35                                                                                                                                                                                                                                                           El check-in muy demorado y no respondían, estábamos dos huéspedes a la vez esperando para poder ingresar y la persona encargada nunca respondío   \n",
       "143                                                                                                                                                                                                                                                                                                                                                 Atención buena y rápida de los anfitriones, muy amables.   \n",
       "27                                                                                                                                                                                                                                                                                            El encargado es muy amable, el departamento es bien precioso, muy cómodo para pasarla bien y estar tranquilos.   \n",
       "457                                                                                                                                                                                                                                          Me gustó mucho este lugar. Está a unos 15 minutos de la playa pero la privacidad y ambiente que ofrece vale definitivamente la pena. Disfruté mucho mi estadía!   \n",
       "374  Es un lugar muy agradable sobre todo por su diseño arquitectónico y decoración, la vista es linda y esta alejado del ruido de la ciudad pero lo suficiente cerca para llegar al pueblo en 3 minutos caminando, la cerradura no es muy segura y el WiFi no funcionó, la limpieza podría mejorar, de ahí el lugar es perfecto y tiene todo incluso una nevera y aire acondicionado que funcionba muy bien   \n",
       "460                                                                                                                                           Die Unterkunft ist super! Die Lage ist perfekt, 10 Minuten zum nächsten Supermarkt, 10 Minuten zum Strand, 10 Minuten zu Bars und Discos. Trotzdem ist es bei der Unterkunft ruhig und man kann in Ruhe schlafen. Der Host ist auch sehr nett und hilfsbereit!   \n",
       "510                                                                                                                                                                                                                                                                                                                                    Awesome place. 5 minute walk to the water. Loved the chill town vibe.   \n",
       "542                                                                                                                                                          Liliana and Gijs’s place is a little gem. We stayed with them for about a week and got to talk to them a couple of times. They truly love hosting their guests and they have put a lot of thought into providing a wonderful airbnb experience.   \n",
       "\n",
       "     stars  \\\n",
       "550      5   \n",
       "270      3   \n",
       "35       4   \n",
       "143      5   \n",
       "27       5   \n",
       "457      5   \n",
       "374      3   \n",
       "460      5   \n",
       "510      5   \n",
       "542      5   \n",
       "\n",
       "                                                                                                                                                                                                                                                                                                                                                                                                                        texto_traducido  \n",
       "550                                                                                                                                                                                                                                                                                                                                                                                                                      Super good !!!  \n",
       "270  The truth is I don&#39;t give it 5 stars because the bed was a little dusty and it would be advisable to change or wash and vacuum because my girlfriend and I had allergies. The other detail is that my entrance path was somewhat dangerous in case of rain and there was a lot of weeds on the sides that caused mosquitoes, hence everything was perfect. I liked it because it is cozy, I was able to have a very nice view.  \n",
       "35                                                                                                                                                                                                                                                                                       The check-in was very delayed and they did not respond, we were two guests at a time waiting to enter and the person in charge never responded  \n",
       "143                                                                                                                                                                                                                                                                                                                                                                             Good and quick attention from the hosts, very friendly.  \n",
       "27                                                                                                                                                                                                                                                                                                                     The manager is very friendly, the apartment is very beautiful, very comfortable to have a good time and be calm.  \n",
       "457                                                                                                                                                                                                                                                                         I really liked this place. It is about 15 minutes from the beach but the privacy and atmosphere it offers is definitely worth it. I really enjoyed my stay!  \n",
       "374                   It is a very nice place especially for its architectural design and decoration, the view is beautiful and it is away from the noise of the city but close enough to reach the town in 3 minutes walking, the lock is not very secure and the WiFi did not work , the cleanliness could improve, hence the place is perfect and has everything including a refrigerator and air conditioning that worked very well  \n",
       "460                                                                                                                                                                    The accommodation is great! The location is perfect, 10 minutes to the nearest supermarket, 10 minutes to the beach, 10 minutes to bars and discos. Nevertheless, the accommodation is quiet and you can sleep in peace. The host is also very nice and helpful!  \n",
       "510                                                                                                                                                                                                                                                                                                                                                               Awesome place. 5 minute walk to the water. Loved the chill town vibe.  \n",
       "542                                                                                                                                                                                     Liliana and Gijs’s place is a little gem. We stayed with them for about a week and got to talk to them a couple of times. They truly love hosting their guests and they have put a lot of thought into providing a wonderful airbnb experience.  "
      ],
      "text/html": [
       "<div>\n",
       "<style scoped>\n",
       "    .dataframe tbody tr th:only-of-type {\n",
       "        vertical-align: middle;\n",
       "    }\n",
       "\n",
       "    .dataframe tbody tr th {\n",
       "        vertical-align: top;\n",
       "    }\n",
       "\n",
       "    .dataframe thead th {\n",
       "        text-align: right;\n",
       "    }\n",
       "</style>\n",
       "<table border=\"1\" class=\"dataframe\">\n",
       "  <thead>\n",
       "    <tr style=\"text-align: right;\">\n",
       "      <th></th>\n",
       "      <th>id_alojamiento</th>\n",
       "      <th>review</th>\n",
       "      <th>stars</th>\n",
       "      <th>texto_traducido</th>\n",
       "    </tr>\n",
       "  </thead>\n",
       "  <tbody>\n",
       "    <tr>\n",
       "      <th>550</th>\n",
       "      <td>9</td>\n",
       "      <td>Súper bien !!!</td>\n",
       "      <td>5</td>\n",
       "      <td>Super good !!!</td>\n",
       "    </tr>\n",
       "    <tr>\n",
       "      <th>270</th>\n",
       "      <td>6</td>\n",
       "      <td>La verdad no le doy las 5 estrellas porque la cama estaba con algo de polvo y sería recomendable cambiar o lavar y aspirar porque mi novia y yo tuvimos alergias. El otro detalle es que el camino de ma entrada estuvo algo peligroso en caso de lluvia y mucha maleza a los lados que provocan mosquitos, de ahí todo perfecto me gusto porque es acogedor, pude hubo una vista muy linda</td>\n",
       "      <td>3</td>\n",
       "      <td>The truth is I don&amp;#39;t give it 5 stars because the bed was a little dusty and it would be advisable to change or wash and vacuum because my girlfriend and I had allergies. The other detail is that my entrance path was somewhat dangerous in case of rain and there was a lot of weeds on the sides that caused mosquitoes, hence everything was perfect. I liked it because it is cozy, I was able to have a very nice view.</td>\n",
       "    </tr>\n",
       "    <tr>\n",
       "      <th>35</th>\n",
       "      <td>2</td>\n",
       "      <td>El check-in muy demorado y no respondían, estábamos dos huéspedes a la vez esperando para poder ingresar y la persona encargada nunca respondío</td>\n",
       "      <td>4</td>\n",
       "      <td>The check-in was very delayed and they did not respond, we were two guests at a time waiting to enter and the person in charge never responded</td>\n",
       "    </tr>\n",
       "    <tr>\n",
       "      <th>143</th>\n",
       "      <td>2</td>\n",
       "      <td>Atención buena y rápida de los anfitriones, muy amables.</td>\n",
       "      <td>5</td>\n",
       "      <td>Good and quick attention from the hosts, very friendly.</td>\n",
       "    </tr>\n",
       "    <tr>\n",
       "      <th>27</th>\n",
       "      <td>2</td>\n",
       "      <td>El encargado es muy amable, el departamento es bien precioso, muy cómodo para pasarla bien y estar tranquilos.</td>\n",
       "      <td>5</td>\n",
       "      <td>The manager is very friendly, the apartment is very beautiful, very comfortable to have a good time and be calm.</td>\n",
       "    </tr>\n",
       "    <tr>\n",
       "      <th>457</th>\n",
       "      <td>8</td>\n",
       "      <td>Me gustó mucho este lugar. Está a unos 15 minutos de la playa pero la privacidad y ambiente que ofrece vale definitivamente la pena. Disfruté mucho mi estadía!</td>\n",
       "      <td>5</td>\n",
       "      <td>I really liked this place. It is about 15 minutes from the beach but the privacy and atmosphere it offers is definitely worth it. I really enjoyed my stay!</td>\n",
       "    </tr>\n",
       "    <tr>\n",
       "      <th>374</th>\n",
       "      <td>6</td>\n",
       "      <td>Es un lugar muy agradable sobre todo por su diseño arquitectónico y decoración, la vista es linda y esta alejado del ruido de la ciudad pero lo suficiente cerca para llegar al pueblo en 3 minutos caminando, la cerradura no es muy segura y el WiFi no funcionó, la limpieza podría mejorar, de ahí el lugar es perfecto y tiene todo incluso una nevera y aire acondicionado que funcionba muy bien</td>\n",
       "      <td>3</td>\n",
       "      <td>It is a very nice place especially for its architectural design and decoration, the view is beautiful and it is away from the noise of the city but close enough to reach the town in 3 minutes walking, the lock is not very secure and the WiFi did not work , the cleanliness could improve, hence the place is perfect and has everything including a refrigerator and air conditioning that worked very well</td>\n",
       "    </tr>\n",
       "    <tr>\n",
       "      <th>460</th>\n",
       "      <td>8</td>\n",
       "      <td>Die Unterkunft ist super! Die Lage ist perfekt, 10 Minuten zum nächsten Supermarkt, 10 Minuten zum Strand, 10 Minuten zu Bars und Discos. Trotzdem ist es bei der Unterkunft ruhig und man kann in Ruhe schlafen. Der Host ist auch sehr nett und hilfsbereit!</td>\n",
       "      <td>5</td>\n",
       "      <td>The accommodation is great! The location is perfect, 10 minutes to the nearest supermarket, 10 minutes to the beach, 10 minutes to bars and discos. Nevertheless, the accommodation is quiet and you can sleep in peace. The host is also very nice and helpful!</td>\n",
       "    </tr>\n",
       "    <tr>\n",
       "      <th>510</th>\n",
       "      <td>9</td>\n",
       "      <td>Awesome place. 5 minute walk to the water. Loved the chill town vibe.</td>\n",
       "      <td>5</td>\n",
       "      <td>Awesome place. 5 minute walk to the water. Loved the chill town vibe.</td>\n",
       "    </tr>\n",
       "    <tr>\n",
       "      <th>542</th>\n",
       "      <td>9</td>\n",
       "      <td>Liliana and Gijs’s place is a little gem. We stayed with them for about a week and got to talk to them a couple of times. They truly love hosting their guests and they have put a lot of thought into providing a wonderful airbnb experience.</td>\n",
       "      <td>5</td>\n",
       "      <td>Liliana and Gijs’s place is a little gem. We stayed with them for about a week and got to talk to them a couple of times. They truly love hosting their guests and they have put a lot of thought into providing a wonderful airbnb experience.</td>\n",
       "    </tr>\n",
       "  </tbody>\n",
       "</table>\n",
       "</div>"
      ]
     },
     "execution_count": 26,
     "metadata": {},
     "output_type": "execute_result"
    }
   ],
   "execution_count": 26
  },
  {
   "cell_type": "markdown",
   "metadata": {
    "id": "O1RvkDM8Ni8z"
   },
   "source": [
    "# Preparaci&oacute;n de los datos para el Análisis de Sentimientos"
   ]
  },
  {
   "cell_type": "markdown",
   "metadata": {
    "id": "qJrJ4N0cmG-w"
   },
   "source": [
    "##: Elminaci&oacute;n de signos de puntuaci&oacute;n, art&iacute;culos y palabras innecesarias:"
   ]
  },
  {
   "cell_type": "markdown",
   "metadata": {
    "id": "lhqgP6K8OdVA"
   },
   "source": [
    "Se importa la librer&iacute;a **nltk** detectar y eliminar de los comentarios dejados por los hu&eacute;spedes y traducidos previamente al ingl&eacute;s, los art&iacute;culos, palabras y signos de puntuaci&oacute;n que no van a ser de utilidad al momento de realizar el an&aacute;lisis de sentimientos, y se almacena en una nueva columna del *DataFrame* llamada \"*texto_sin_stopwords*\"."
   ]
  },
  {
   "cell_type": "code",
   "metadata": {
    "id": "gh3O-kOLNbWp",
    "colab": {
     "base_uri": "https://localhost:8080/"
    },
    "executionInfo": {
     "status": "ok",
     "timestamp": 1722087527481,
     "user_tz": 300,
     "elapsed": 3980,
     "user": {
      "displayName": "Carlos Calderón",
      "userId": "03456281774656213876"
     }
    },
    "outputId": "a1f2fced-8b81-4f86-c189-462af74bd387",
    "ExecuteTime": {
     "end_time": "2024-07-27T19:14:52.310822Z",
     "start_time": "2024-07-27T19:14:50.537722Z"
    }
   },
   "source": [
    "import nltk\n",
    "from nltk.corpus import stopwords\n",
    "from nltk.tokenize import word_tokenize\n",
    "\n",
    "nltk.download('stopwords')\n",
    "nltk.download('punkt')\n",
    "\n",
    "\n",
    "def remover_articulos(text):\n",
    "    stop_words = set(stopwords.words('english'))\n",
    "    words = word_tokenize(text)\n",
    "    filtered_words = [word for word in words if word.lower() not in stop_words]\n",
    "    return ' '.join(filtered_words)"
   ],
   "outputs": [
    {
     "name": "stderr",
     "output_type": "stream",
     "text": [
      "[nltk_data] Downloading package stopwords to /home/carlos/nltk_data...\n",
      "[nltk_data]   Package stopwords is already up-to-date!\n",
      "[nltk_data] Downloading package punkt to /home/carlos/nltk_data...\n",
      "[nltk_data]   Package punkt is already up-to-date!\n"
     ]
    }
   ],
   "execution_count": 27
  },
  {
   "cell_type": "code",
   "metadata": {
    "id": "OYWOVxKrDSD7",
    "executionInfo": {
     "status": "ok",
     "timestamp": 1722087528281,
     "user_tz": 300,
     "elapsed": 815,
     "user": {
      "displayName": "Carlos Calderón",
      "userId": "03456281774656213876"
     }
    },
    "ExecuteTime": {
     "end_time": "2024-07-27T19:14:52.532959Z",
     "start_time": "2024-07-27T19:14:52.312702Z"
    }
   },
   "source": [
    "df_reviews[\"texto_sin_stopwords\"] = df_reviews[\"texto_traducido\"].apply(\n",
    "    lambda x: remover_articulos(x)\n",
    ")"
   ],
   "outputs": [],
   "execution_count": 28
  },
  {
   "cell_type": "markdown",
   "metadata": {
    "id": "ijEZSoWjUeZy"
   },
   "source": [
    "Se ocupan adem&aacute;s expresiones regulares para dar tratamientos tanto a los espacios sobrantes como a los signos de puntuaci&oacute;n y caracteres innecesarios para el an&aacute;lisis de sentimientos. Adem&aacute;s se preparan los datos para el tratamiento de emojis."
   ]
  },
  {
   "cell_type": "code",
   "metadata": {
    "id": "GTxM88X-PkoA",
    "executionInfo": {
     "status": "ok",
     "timestamp": 1722087528281,
     "user_tz": 300,
     "elapsed": 8,
     "user": {
      "displayName": "Carlos Calderón",
      "userId": "03456281774656213876"
     }
    },
    "ExecuteTime": {
     "end_time": "2024-07-27T19:14:52.538127Z",
     "start_time": "2024-07-27T19:14:52.533936Z"
    }
   },
   "source": [
    "import re\n",
    "\n",
    "\n",
    "def extraer_no_letras(texto):\n",
    "    return list(set(re.sub('[a-zA-Z0-9]', '', texto)))"
   ],
   "outputs": [],
   "execution_count": 29
  },
  {
   "cell_type": "code",
   "metadata": {
    "id": "-WTIELMnQyCI",
    "executionInfo": {
     "status": "ok",
     "timestamp": 1722087528281,
     "user_tz": 300,
     "elapsed": 6,
     "user": {
      "displayName": "Carlos Calderón",
      "userId": "03456281774656213876"
     }
    },
    "ExecuteTime": {
     "end_time": "2024-07-27T19:14:52.563203Z",
     "start_time": "2024-07-27T19:14:52.543770Z"
    }
   },
   "source": [
    "df_reviews[\"no_texto\"] = df_reviews[\"texto_sin_stopwords\"].apply(\n",
    "    lambda x: extraer_no_letras(x)\n",
    ")"
   ],
   "outputs": [],
   "execution_count": 30
  },
  {
   "cell_type": "code",
   "metadata": {
    "id": "IWZbpA-nRdfE",
    "executionInfo": {
     "status": "ok",
     "timestamp": 1722087528282,
     "user_tz": 300,
     "elapsed": 7,
     "user": {
      "displayName": "Carlos Calderón",
      "userId": "03456281774656213876"
     }
    },
    "ExecuteTime": {
     "end_time": "2024-07-27T19:14:52.572387Z",
     "start_time": "2024-07-27T19:14:52.565500Z"
    }
   },
   "source": [
    "non_text_chars = list(set(df_reviews[\"no_texto\"].sum()))\n",
    "non_text_chars.remove(\" \")\n",
    "df_reviews.drop([\"no_texto\"], axis=1, inplace=True)"
   ],
   "outputs": [],
   "execution_count": 31
  },
  {
   "cell_type": "markdown",
   "metadata": {
    "id": "CBCtwOAZVjbu"
   },
   "source": [
    "## Tratamiento de emojis"
   ]
  },
  {
   "cell_type": "markdown",
   "metadata": {
    "id": "0T-ETL0dVop9"
   },
   "source": [
    "Se extrae de la variable definida anteriormente \"*non_text_chars*\", una lista de todos los emojis presentes en las rese&ntilde;as otorgadas por los hu&eacute;spedes.\n",
    "\n",
    "Adicionalmente, se asigna una palabra en ingl&eacute;s para dar una interpretaci&oacute;n adecuada a cada uno de estos.\n",
    "\n",
    "Por &uacute;ltimo, se reemplazan los emojis con sus equivalentes en palabras."
   ]
  },
  {
   "cell_type": "code",
   "metadata": {
    "id": "kq8w_qLmfT5b",
    "executionInfo": {
     "status": "ok",
     "timestamp": 1722087528586,
     "user_tz": 300,
     "elapsed": 310,
     "user": {
      "displayName": "Carlos Calderón",
      "userId": "03456281774656213876"
     }
    },
    "ExecuteTime": {
     "end_time": "2024-07-27T19:14:52.583567Z",
     "start_time": "2024-07-27T19:14:52.574944Z"
    }
   },
   "source": [
    "import emoji\n",
    "\n",
    "emojis_list = [i for i in non_text_chars if emoji.is_emoji(i)]\n",
    "emojis_dict = {\n",
    "    '✨': 'sparkling',\n",
    "    '🙃': 'sarcastic',\n",
    "    '💖': 'beautiful',\n",
    "    '😔': 'sad',\n",
    "    '🙌': 'celebration',\n",
    "    '😘': 'affectionate',\n",
    "    '⭐': 'star',\n",
    "    '👏': 'applause',\n",
    "    '💕': 'affectionate',\n",
    "    '😊': 'happy',\n",
    "    '😍': 'admiration',\n",
    "    '💓': 'emotion',\n",
    "    '❣': 'emotion',\n",
    "    '💜': 'affection',\n",
    "    '🙈': 'playful',\n",
    "    '🤗': 'friendly',\n",
    "    '👌': 'approval',\n",
    "    '🏻': '',\n",
    "    '🍻': 'celebration',\n",
    "    '🌞': 'cheerful',\n",
    "    '❤': 'love',\n",
    "    '♥': 'love',\n",
    "    '💯': 'perfect',\n",
    "    '👍': 'approval'\n",
    "}"
   ],
   "outputs": [],
   "execution_count": 32
  },
  {
   "cell_type": "code",
   "metadata": {
    "id": "9HXbikjocR2b",
    "executionInfo": {
     "status": "ok",
     "timestamp": 1722087528586,
     "user_tz": 300,
     "elapsed": 18,
     "user": {
      "displayName": "Carlos Calderón",
      "userId": "03456281774656213876"
     }
    },
    "ExecuteTime": {
     "end_time": "2024-07-27T19:14:52.591061Z",
     "start_time": "2024-07-27T19:14:52.587345Z"
    }
   },
   "source": [
    "non_emoji_chars = [i for i in non_text_chars if not emoji.is_emoji(i)]"
   ],
   "outputs": [],
   "execution_count": 33
  },
  {
   "cell_type": "code",
   "metadata": {
    "id": "cgyxyeRUeJEM",
    "executionInfo": {
     "status": "ok",
     "timestamp": 1722087528586,
     "user_tz": 300,
     "elapsed": 18,
     "user": {
      "displayName": "Carlos Calderón",
      "userId": "03456281774656213876"
     }
    }
   },
   "source": [
    "def quitar_simbolos(texto):\n",
    "    for char in non_emoji_chars:\n",
    "        texto = texto.replace(char, \"\")\n",
    "    return texto"
   ],
   "outputs": [],
   "execution_count": 34
  },
  {
   "cell_type": "code",
   "metadata": {
    "id": "ZQYaRkF9RnDL",
    "executionInfo": {
     "status": "ok",
     "timestamp": 1722087528587,
     "user_tz": 300,
     "elapsed": 17,
     "user": {
      "displayName": "Carlos Calderón",
      "userId": "03456281774656213876"
     }
    },
    "ExecuteTime": {
     "end_time": "2024-07-27T19:14:52.608883Z",
     "start_time": "2024-07-27T19:14:52.602062Z"
    }
   },
   "source": [
    "df_reviews[\"texto_sin_stopwords\"] = df_reviews[\"texto_sin_stopwords\"].apply(\n",
    "    lambda x: quitar_simbolos(x)\n",
    ")"
   ],
   "outputs": [],
   "execution_count": 35
  },
  {
   "cell_type": "code",
   "metadata": {
    "id": "Ahnulm67Ga1a",
    "executionInfo": {
     "status": "ok",
     "timestamp": 1722087528587,
     "user_tz": 300,
     "elapsed": 16,
     "user": {
      "displayName": "Carlos Calderón",
      "userId": "03456281774656213876"
     }
    }
   },
   "source": [
    "df_reviews[\"texto_sin_stopwords\"] = df_reviews[\"texto_sin_stopwords\"].apply(\n",
    "    lambda x: \" \".join(x.split())\n",
    ")"
   ],
   "outputs": [],
   "execution_count": 36
  },
  {
   "cell_type": "markdown",
   "metadata": {
    "id": "lAMw2Eqgq_4H"
   },
   "source": [
    "Se define una funci&oacute;n para reemplazar los emojis por sus equivalentes en palabras."
   ]
  },
  {
   "cell_type": "code",
   "metadata": {
    "id": "ywZHtL7sE9NJ",
    "executionInfo": {
     "status": "ok",
     "timestamp": 1722087528587,
     "user_tz": 300,
     "elapsed": 14,
     "user": {
      "displayName": "Carlos Calderón",
      "userId": "03456281774656213876"
     }
    },
    "ExecuteTime": {
     "end_time": "2024-07-27T19:14:52.623866Z",
     "start_time": "2024-07-27T19:14:52.618437Z"
    }
   },
   "source": [
    "def reemplazar_emojis(texto):\n",
    "    for (key, value) in emojis_dict.items():\n",
    "        texto = texto.replace(key, f\" {value} \")\n",
    "    return texto"
   ],
   "outputs": [],
   "execution_count": 37
  },
  {
   "cell_type": "code",
   "metadata": {
    "id": "_AD6h-7MfXs7",
    "executionInfo": {
     "status": "ok",
     "timestamp": 1722087528587,
     "user_tz": 300,
     "elapsed": 12,
     "user": {
      "displayName": "Carlos Calderón",
      "userId": "03456281774656213876"
     }
    },
    "ExecuteTime": {
     "end_time": "2024-07-27T19:14:52.632798Z",
     "start_time": "2024-07-27T19:14:52.625003Z"
    }
   },
   "source": [
    "df_reviews[\"texto_sin_emojis\"] = df_reviews[\"texto_sin_stopwords\"].apply(\n",
    "    lambda x: reemplazar_emojis(x)\n",
    ")\n",
    "df_reviews[\"texto_sin_emojis\"] = df_reviews[\"texto_sin_emojis\"].apply(\n",
    "    lambda x: \" \".join(x.split())\n",
    ")"
   ],
   "outputs": [],
   "execution_count": 38
  },
  {
   "cell_type": "markdown",
   "metadata": {
    "id": "RitrynCsnqzj"
   },
   "source": [
    "Se verifican dos comentarios que contienen emojis para evidenciar que la eliminaci&oacute;n de *stopwords* y el reemplazo de emojis por ***palabras equivalentes*** se realiz&oacute; correctamente, y finalmente se guarda esta versi&oacute;n del *DataFrame* limpia de emojis en un archivo de Microsoft Excel."
   ]
  },
  {
   "cell_type": "code",
   "metadata": {
    "id": "QzTlA1c4iNCZ",
    "colab": {
     "base_uri": "https://localhost:8080/",
     "height": 147
    },
    "executionInfo": {
     "status": "ok",
     "timestamp": 1722087528587,
     "user_tz": 300,
     "elapsed": 12,
     "user": {
      "displayName": "Carlos Calderón",
      "userId": "03456281774656213876"
     }
    },
    "outputId": "a8323776-1f68-463e-da1b-9eb57d8e3633",
    "ExecuteTime": {
     "end_time": "2024-07-27T19:14:52.645639Z",
     "start_time": "2024-07-27T19:14:52.634359Z"
    }
   },
   "source": [
    "df_reviews[[\"texto_traducido\", \"texto_sin_stopwords\", \"texto_sin_emojis\"]] \\\n",
    "    .iloc[[76, 263], :]"
   ],
   "outputs": [
    {
     "data": {
      "text/plain": [
       "                                                 texto_traducido  \\\n",
       "76                       Everything is very nice, safe and cozy😊   \n",
       "263  A quiet place with a good location. They are pet friendly 😊   \n",
       "\n",
       "                          texto_sin_stopwords  \\\n",
       "76                 Everything nice safe cozy😊   \n",
       "263  quiet place good location pet friendly 😊   \n",
       "\n",
       "                                 texto_sin_emojis  \n",
       "76                Everything nice safe cozy happy  \n",
       "263  quiet place good location pet friendly happy  "
      ],
      "text/html": [
       "<div>\n",
       "<style scoped>\n",
       "    .dataframe tbody tr th:only-of-type {\n",
       "        vertical-align: middle;\n",
       "    }\n",
       "\n",
       "    .dataframe tbody tr th {\n",
       "        vertical-align: top;\n",
       "    }\n",
       "\n",
       "    .dataframe thead th {\n",
       "        text-align: right;\n",
       "    }\n",
       "</style>\n",
       "<table border=\"1\" class=\"dataframe\">\n",
       "  <thead>\n",
       "    <tr style=\"text-align: right;\">\n",
       "      <th></th>\n",
       "      <th>texto_traducido</th>\n",
       "      <th>texto_sin_stopwords</th>\n",
       "      <th>texto_sin_emojis</th>\n",
       "    </tr>\n",
       "  </thead>\n",
       "  <tbody>\n",
       "    <tr>\n",
       "      <th>76</th>\n",
       "      <td>Everything is very nice, safe and cozy😊</td>\n",
       "      <td>Everything nice safe cozy😊</td>\n",
       "      <td>Everything nice safe cozy happy</td>\n",
       "    </tr>\n",
       "    <tr>\n",
       "      <th>263</th>\n",
       "      <td>A quiet place with a good location. They are pet friendly 😊</td>\n",
       "      <td>quiet place good location pet friendly 😊</td>\n",
       "      <td>quiet place good location pet friendly happy</td>\n",
       "    </tr>\n",
       "  </tbody>\n",
       "</table>\n",
       "</div>"
      ]
     },
     "execution_count": 39,
     "metadata": {},
     "output_type": "execute_result"
    }
   ],
   "execution_count": 39
  },
  {
   "cell_type": "code",
   "metadata": {
    "id": "lFXWW4LhIdT9",
    "executionInfo": {
     "status": "ok",
     "timestamp": 1722087528587,
     "user_tz": 300,
     "elapsed": 10,
     "user": {
      "displayName": "Carlos Calderón",
      "userId": "03456281774656213876"
     }
    },
    "ExecuteTime": {
     "end_time": "2024-07-27T19:14:52.650530Z",
     "start_time": "2024-07-27T19:14:52.647045Z"
    }
   },
   "source": [
    "if not os.path.exists(\"processing/df_limpio_emojis.xlsx\"):\n",
    "    df_reviews.to_excel(\"processing/df_limpio_emojis.xlsx\")"
   ],
   "outputs": [],
   "execution_count": 40
  },
  {
   "cell_type": "markdown",
   "metadata": {
    "id": "nfvtuYJqNvXt"
   },
   "source": [
    "# Análisis de Sentimientos"
   ]
  },
  {
   "cell_type": "markdown",
   "metadata": {
    "id": "3_w97GEvbdUf"
   },
   "source": [
    "Finalmente, se procede a realizar un ***an&aacute;lisis de sentimientos*** de todos los comentarios presentes, para lo cual se importa la librer&iacute;a ***nltk*** y se utiliza el componente ***vader_lexicon*** para el an&aacute;lisis de polaridad en cada uno de los comentarios.\n",
    "\n",
    "En primer lugar, se define una funci&oacute;n que clasifica los coemntarios en base a su polaridad en las categor&iacute;s de **Positivo**, **Negativo** o **Neutral**, y mediante una funci&oacute;n *lambda* se env&iacute;an los resultados a una nueva columna del ***DataFrame de Pandas***."
   ]
  },
  {
   "cell_type": "code",
   "metadata": {
    "id": "OxNo0rfZIzaY",
    "colab": {
     "base_uri": "https://localhost:8080/"
    },
    "executionInfo": {
     "status": "ok",
     "timestamp": 1722087528852,
     "user_tz": 300,
     "elapsed": 274,
     "user": {
      "displayName": "Carlos Calderón",
      "userId": "03456281774656213876"
     }
    },
    "outputId": "306ca247-2450-444b-a1e1-5275f04c9d16",
    "ExecuteTime": {
     "end_time": "2024-07-27T19:14:52.673723Z",
     "start_time": "2024-07-27T19:14:52.651905Z"
    }
   },
   "source": [
    "import nltk\n",
    "from nltk.sentiment.vader import SentimentIntensityAnalyzer\n",
    "\n",
    "nltk.download('vader_lexicon')\n",
    "\n",
    "sia = SentimentIntensityAnalyzer()\n",
    "\n",
    "def clasificar_comentario(comentario):\n",
    "    polaridad = sia.polarity_scores(comentario)['compound']\n",
    "    if polaridad > 0.05:\n",
    "        return \"Positivo\"\n",
    "    elif polaridad < -0.05:\n",
    "        return \"Negativo\"\n",
    "    else:\n",
    "        return \"Neutral\""
   ],
   "outputs": [
    {
     "name": "stderr",
     "output_type": "stream",
     "text": [
      "[nltk_data] Downloading package vader_lexicon to\n",
      "[nltk_data]     /home/carlos/nltk_data...\n",
      "[nltk_data]   Package vader_lexicon is already up-to-date!\n"
     ]
    }
   ],
   "execution_count": 41
  },
  {
   "cell_type": "code",
   "metadata": {
    "id": "AunZxW0Jfzgn",
    "executionInfo": {
     "status": "ok",
     "timestamp": 1722087529783,
     "user_tz": 300,
     "elapsed": 937,
     "user": {
      "displayName": "Carlos Calderón",
      "userId": "03456281774656213876"
     }
    },
    "ExecuteTime": {
     "end_time": "2024-07-27T19:14:52.807325Z",
     "start_time": "2024-07-27T19:14:52.674837Z"
    }
   },
   "source": [
    "df_reviews[\"Sentimiento\"] = df_reviews[\"texto_sin_emojis\"].apply(\n",
    "    lambda x: clasificar_comentario(x)\n",
    ")"
   ],
   "outputs": [],
   "execution_count": 42
  },
  {
   "cell_type": "markdown",
   "metadata": {
    "id": "wMqiPszR-obE"
   },
   "source": [
    "Muestra de las columnas correspodientes a los ***comentarios traducidos al ingl&eacute;s*** y a los ***sentimientos detectados***."
   ]
  },
  {
   "cell_type": "code",
   "metadata": {
    "id": "EmkHJkDmAwig",
    "colab": {
     "base_uri": "https://localhost:8080/",
     "height": 161
    },
    "executionInfo": {
     "status": "ok",
     "timestamp": 1722087529783,
     "user_tz": 300,
     "elapsed": 9,
     "user": {
      "displayName": "Carlos Calderón",
      "userId": "03456281774656213876"
     }
    },
    "outputId": "8c508a87-3db0-4fd8-b872-9a4bc69d9001",
    "ExecuteTime": {
     "end_time": "2024-07-27T19:14:52.817692Z",
     "start_time": "2024-07-27T19:14:52.808701Z"
    }
   },
   "source": [
    "df_reviews[[\"texto_sin_emojis\", \"Sentimiento\"]].sample(3)"
   ],
   "outputs": [
    {
     "data": {
      "text/plain": [
       "                                                                                                                                                                                                                                                                                                             texto_sin_emojis  \\\n",
       "403  Gabe Jonny great nice quick respond everything visiting Montaita want walkable everything studio apt beach restaurants nightlife travels Ecuador last 10 years found always count everything might want studio apt scored everything important fast internet hot water shower great ac needed Also hurt great ocean view   \n",
       "305                                                                                                                                                                                                                                                           place quiet safe small cozy everything need spend days vacation   \n",
       "32                                                                                                                                                                                                                                                                                                  Excellent place montanita   \n",
       "\n",
       "    Sentimiento  \n",
       "403    Positivo  \n",
       "305    Positivo  \n",
       "32     Positivo  "
      ],
      "text/html": [
       "<div>\n",
       "<style scoped>\n",
       "    .dataframe tbody tr th:only-of-type {\n",
       "        vertical-align: middle;\n",
       "    }\n",
       "\n",
       "    .dataframe tbody tr th {\n",
       "        vertical-align: top;\n",
       "    }\n",
       "\n",
       "    .dataframe thead th {\n",
       "        text-align: right;\n",
       "    }\n",
       "</style>\n",
       "<table border=\"1\" class=\"dataframe\">\n",
       "  <thead>\n",
       "    <tr style=\"text-align: right;\">\n",
       "      <th></th>\n",
       "      <th>texto_sin_emojis</th>\n",
       "      <th>Sentimiento</th>\n",
       "    </tr>\n",
       "  </thead>\n",
       "  <tbody>\n",
       "    <tr>\n",
       "      <th>403</th>\n",
       "      <td>Gabe Jonny great nice quick respond everything visiting Montaita want walkable everything studio apt beach restaurants nightlife travels Ecuador last 10 years found always count everything might want studio apt scored everything important fast internet hot water shower great ac needed Also hurt great ocean view</td>\n",
       "      <td>Positivo</td>\n",
       "    </tr>\n",
       "    <tr>\n",
       "      <th>305</th>\n",
       "      <td>place quiet safe small cozy everything need spend days vacation</td>\n",
       "      <td>Positivo</td>\n",
       "    </tr>\n",
       "    <tr>\n",
       "      <th>32</th>\n",
       "      <td>Excellent place montanita</td>\n",
       "      <td>Positivo</td>\n",
       "    </tr>\n",
       "  </tbody>\n",
       "</table>\n",
       "</div>"
      ]
     },
     "execution_count": 43,
     "metadata": {},
     "output_type": "execute_result"
    }
   ],
   "execution_count": 43
  },
  {
   "cell_type": "markdown",
   "metadata": {
    "id": "bhwOma2h_Ilf"
   },
   "source": [
    "De manera adicional se traducen de manera opcional las rese&ntilde;as al espa&ntilde;ol a fin de realizar una clasificaci&oacute;n manual de los sentimientos que se esperar&iacute;a en cada caso."
   ]
  },
  {
   "cell_type": "code",
   "metadata": {
    "id": "kngjSQmp59Lb",
    "executionInfo": {
     "status": "ok",
     "timestamp": 1722087530928,
     "user_tz": 300,
     "elapsed": 1151,
     "user": {
      "displayName": "Carlos Calderón",
      "userId": "03456281774656213876"
     }
    },
    "ExecuteTime": {
     "end_time": "2024-07-27T19:14:52.904055Z",
     "start_time": "2024-07-27T19:14:52.819591Z"
    }
   },
   "source": [
    "from google.cloud import translate_v2 as translate\n",
    "\n",
    "if not os.path.exists(\"translations/df_reviews_traducido_es.xlsx\"):\n",
    "    # Lectura de llave privada de la API de Google Cloud Translate\n",
    "    client = translate.Client.from_service_account_json(\n",
    "        \"processing/private_key_translate.json\"\n",
    "    )\n",
    "    # Función para traducir un texto\n",
    "    def translate_text(text, target_language='es'):\n",
    "        result = client.translate(text, target_language=target_language)\n",
    "        return result['translatedText']\n",
    "\n",
    "    # Traducción de texto en la columna \"review\"\n",
    "    df_reviews['texto_traducido_es'] = df_reviews[\"review\"].apply(\n",
    "        lambda x: translate_text(x, target_language=\"es\")\n",
    "    )\n",
    "\n",
    "    # Almacenamiento de reseñas traducidas para uso futuro\n",
    "    df_reviews[[\n",
    "            \"id_alojamiento\", \"review\", \"texto_traducido\", \"stars\"\n",
    "        ]].to_excel(\n",
    "        \"translations/df_reviews_traducido_es.xlsx\", index=False\n",
    "    )\n",
    "\n",
    "else:\n",
    "    df_reviews['texto_traducido_es'] = pd.read_excel(\n",
    "        \"translations/df_reviews_traducido_es.xlsx\"\n",
    "    )[\"texto_traducido\"]"
   ],
   "outputs": [],
   "execution_count": 44
  },
  {
   "cell_type": "code",
   "metadata": {
    "id": "bI_CG4YjA07w",
    "executionInfo": {
     "status": "ok",
     "timestamp": 1722087530928,
     "user_tz": 300,
     "elapsed": 9,
     "user": {
      "displayName": "Carlos Calderón",
      "userId": "03456281774656213876"
     }
    },
    "ExecuteTime": {
     "end_time": "2024-07-27T19:14:52.908864Z",
     "start_time": "2024-07-27T19:14:52.905467Z"
    }
   },
   "source": [
    "if not os.path.exists(\"output/sentimientos.xlsx\"):\n",
    "    df_reviews.to_excel(\"output/sentimientos.xlsx\", index= False)"
   ],
   "outputs": [],
   "execution_count": 45
  },
  {
   "cell_type": "markdown",
   "metadata": {
    "id": "dq0sCL4B_rIn"
   },
   "source": [
    "Se restaura el ancho m&aacute;ximo de columnas que se muestran en el ***DataFrame de Pandas*** para una mejor visualizaci&oacute;n."
   ]
  },
  {
   "cell_type": "code",
   "metadata": {
    "id": "Z0YZJU61hPWT",
    "executionInfo": {
     "status": "ok",
     "timestamp": 1722087530929,
     "user_tz": 300,
     "elapsed": 9,
     "user": {
      "displayName": "Carlos Calderón",
      "userId": "03456281774656213876"
     }
    },
    "ExecuteTime": {
     "end_time": "2024-07-27T19:14:52.921306Z",
     "start_time": "2024-07-27T19:14:52.910330Z"
    }
   },
   "source": [
    "pd.set_option('display.max_colwidth', default_max_colwidth)"
   ],
   "outputs": [],
   "execution_count": 46
  },
  {
   "cell_type": "markdown",
   "metadata": {
    "id": "ge9KU97u_8-e"
   },
   "source": [
    "Se eval&uacute;a de manera manual la polaridad *'real'* de las rese&ntilde;as a fin de poder crear una matriz de confusi&oacute;n y realizar un an&aacute;lisis de la exactitud de este modelo.\n",
    "\n",
    "Sin embargo, es importante tener en cuenta que este an&aacute;lisis de la polaridad *'real'* o de conjunto de datos de validaci&oacute;n  est&aacute; sujeto al criterio de la persona que lo realiza, por lo cual no se puede considerar en ning&uacute;n momento como un modelo libre de sesgos e interpretaciones."
   ]
  },
  {
   "cell_type": "code",
   "metadata": {
    "id": "2pql2waW6aSv",
    "executionInfo": {
     "status": "ok",
     "timestamp": 1722087531491,
     "user_tz": 300,
     "elapsed": 570,
     "user": {
      "displayName": "Carlos Calderón",
      "userId": "03456281774656213876"
     }
    },
    "ExecuteTime": {
     "end_time": "2024-07-27T19:14:53.047075Z",
     "start_time": "2024-07-27T19:14:52.923067Z"
    }
   },
   "source": [
    "df_sentiments = pd.read_excel(\"output/matriz_sentimientos.xlsx\")\n",
    "df_sentiments = df_sentiments[[\"Sentimiento\", \"Real\"]]"
   ],
   "outputs": [],
   "execution_count": 47
  },
  {
   "cell_type": "code",
   "metadata": {
    "id": "LjcAAL_Jg7EN",
    "colab": {
     "base_uri": "https://localhost:8080/",
     "height": 206
    },
    "executionInfo": {
     "status": "ok",
     "timestamp": 1722087531793,
     "user_tz": 300,
     "elapsed": 306,
     "user": {
      "displayName": "Carlos Calderón",
      "userId": "03456281774656213876"
     }
    },
    "outputId": "0ad897f3-42e5-4ca9-b6a0-4d443f872ec5",
    "ExecuteTime": {
     "end_time": "2024-07-27T19:14:53.060004Z",
     "start_time": "2024-07-27T19:14:53.050239Z"
    }
   },
   "source": [
    "df_sentiments.sample(5)"
   ],
   "outputs": [
    {
     "data": {
      "text/plain": [
       "    Sentimiento      Real\n",
       "161    Positivo  Positivo\n",
       "557    Positivo  Positivo\n",
       "255    Positivo  Positivo\n",
       "553    Positivo  Positivo\n",
       "595    Positivo  Positivo"
      ],
      "text/html": [
       "<div>\n",
       "<style scoped>\n",
       "    .dataframe tbody tr th:only-of-type {\n",
       "        vertical-align: middle;\n",
       "    }\n",
       "\n",
       "    .dataframe tbody tr th {\n",
       "        vertical-align: top;\n",
       "    }\n",
       "\n",
       "    .dataframe thead th {\n",
       "        text-align: right;\n",
       "    }\n",
       "</style>\n",
       "<table border=\"1\" class=\"dataframe\">\n",
       "  <thead>\n",
       "    <tr style=\"text-align: right;\">\n",
       "      <th></th>\n",
       "      <th>Sentimiento</th>\n",
       "      <th>Real</th>\n",
       "    </tr>\n",
       "  </thead>\n",
       "  <tbody>\n",
       "    <tr>\n",
       "      <th>161</th>\n",
       "      <td>Positivo</td>\n",
       "      <td>Positivo</td>\n",
       "    </tr>\n",
       "    <tr>\n",
       "      <th>557</th>\n",
       "      <td>Positivo</td>\n",
       "      <td>Positivo</td>\n",
       "    </tr>\n",
       "    <tr>\n",
       "      <th>255</th>\n",
       "      <td>Positivo</td>\n",
       "      <td>Positivo</td>\n",
       "    </tr>\n",
       "    <tr>\n",
       "      <th>553</th>\n",
       "      <td>Positivo</td>\n",
       "      <td>Positivo</td>\n",
       "    </tr>\n",
       "    <tr>\n",
       "      <th>595</th>\n",
       "      <td>Positivo</td>\n",
       "      <td>Positivo</td>\n",
       "    </tr>\n",
       "  </tbody>\n",
       "</table>\n",
       "</div>"
      ]
     },
     "execution_count": 48,
     "metadata": {},
     "output_type": "execute_result"
    }
   ],
   "execution_count": 48
  },
  {
   "cell_type": "code",
   "metadata": {
    "id": "dyP5k8fXibz6",
    "colab": {
     "base_uri": "https://localhost:8080/"
    },
    "executionInfo": {
     "status": "ok",
     "timestamp": 1722087531793,
     "user_tz": 300,
     "elapsed": 14,
     "user": {
      "displayName": "Carlos Calderón",
      "userId": "03456281774656213876"
     }
    },
    "outputId": "49b25d35-090f-45c1-dd4c-5127b6b8e097",
    "ExecuteTime": {
     "end_time": "2024-07-27T19:14:53.070188Z",
     "start_time": "2024-07-27T19:14:53.061139Z"
    }
   },
   "source": [
    "categorias = df_sentiments[\"Sentimiento\"].unique()\n",
    "categorias"
   ],
   "outputs": [
    {
     "data": {
      "text/plain": [
       "array(['Positivo', 'Negativo', 'Neutral'], dtype=object)"
      ]
     },
     "execution_count": 49,
     "metadata": {},
     "output_type": "execute_result"
    }
   ],
   "execution_count": 49
  },
  {
   "cell_type": "markdown",
   "metadata": {
    "id": "OCKLormMF4-L"
   },
   "source": [
    "## Matriz de confusi&oacute;n"
   ]
  },
  {
   "cell_type": "markdown",
   "metadata": {
    "id": "wP2XlKXHFEJU"
   },
   "source": [
    "Se crea la matriz de cunfusi&oacute;n de tres categor&iacute;as con la ayuda de ***sklearn.metrics.confusion_matrix*** en base a las tres categor&iacute;as de sentimientos definidas con anterioridad."
   ]
  },
  {
   "cell_type": "code",
   "metadata": {
    "id": "_7GC6-z7j9ao",
    "executionInfo": {
     "status": "ok",
     "timestamp": 1722087531793,
     "user_tz": 300,
     "elapsed": 12,
     "user": {
      "displayName": "Carlos Calderón",
      "userId": "03456281774656213876"
     }
    },
    "ExecuteTime": {
     "end_time": "2024-07-27T19:14:53.079197Z",
     "start_time": "2024-07-27T19:14:53.073223Z"
    }
   },
   "source": [
    "from sklearn.metrics import confusion_matrix"
   ],
   "outputs": [],
   "execution_count": 50
  },
  {
   "cell_type": "code",
   "metadata": {
    "id": "KsPeSbSIkGmb",
    "executionInfo": {
     "status": "ok",
     "timestamp": 1722087531793,
     "user_tz": 300,
     "elapsed": 11,
     "user": {
      "displayName": "Carlos Calderón",
      "userId": "03456281774656213876"
     }
    },
    "ExecuteTime": {
     "end_time": "2024-07-27T19:14:53.092338Z",
     "start_time": "2024-07-27T19:14:53.081099Z"
    }
   },
   "source": [
    "conf_matrix = confusion_matrix(\n",
    "    df_sentiments[\"Real\"],\n",
    "    df_sentiments[\"Sentimiento\"],\n",
    "    labels=categorias\n",
    ")\n",
    "\n",
    "conf_matrix_df = pd.DataFrame(\n",
    "    conf_matrix,\n",
    "    index=categorias,\n",
    "    columns=categorias\n",
    ")"
   ],
   "outputs": [],
   "execution_count": 51
  },
  {
   "cell_type": "code",
   "metadata": {
    "id": "GnCaqNiAkP7p",
    "colab": {
     "base_uri": "https://localhost:8080/",
     "height": 143
    },
    "executionInfo": {
     "status": "ok",
     "timestamp": 1722087531793,
     "user_tz": 300,
     "elapsed": 10,
     "user": {
      "displayName": "Carlos Calderón",
      "userId": "03456281774656213876"
     }
    },
    "outputId": "a6b31b83-a541-4539-cd83-f81b7f6d66ea",
    "ExecuteTime": {
     "end_time": "2024-07-27T19:14:53.101233Z",
     "start_time": "2024-07-27T19:14:53.093871Z"
    }
   },
   "source": [
    "conf_matrix_df"
   ],
   "outputs": [
    {
     "data": {
      "text/plain": [
       "          Positivo  Negativo  Neutral\n",
       "Positivo       536         1       15\n",
       "Negativo         8        10        3\n",
       "Neutral         29         5       13"
      ],
      "text/html": [
       "<div>\n",
       "<style scoped>\n",
       "    .dataframe tbody tr th:only-of-type {\n",
       "        vertical-align: middle;\n",
       "    }\n",
       "\n",
       "    .dataframe tbody tr th {\n",
       "        vertical-align: top;\n",
       "    }\n",
       "\n",
       "    .dataframe thead th {\n",
       "        text-align: right;\n",
       "    }\n",
       "</style>\n",
       "<table border=\"1\" class=\"dataframe\">\n",
       "  <thead>\n",
       "    <tr style=\"text-align: right;\">\n",
       "      <th></th>\n",
       "      <th>Positivo</th>\n",
       "      <th>Negativo</th>\n",
       "      <th>Neutral</th>\n",
       "    </tr>\n",
       "  </thead>\n",
       "  <tbody>\n",
       "    <tr>\n",
       "      <th>Positivo</th>\n",
       "      <td>536</td>\n",
       "      <td>1</td>\n",
       "      <td>15</td>\n",
       "    </tr>\n",
       "    <tr>\n",
       "      <th>Negativo</th>\n",
       "      <td>8</td>\n",
       "      <td>10</td>\n",
       "      <td>3</td>\n",
       "    </tr>\n",
       "    <tr>\n",
       "      <th>Neutral</th>\n",
       "      <td>29</td>\n",
       "      <td>5</td>\n",
       "      <td>13</td>\n",
       "    </tr>\n",
       "  </tbody>\n",
       "</table>\n",
       "</div>"
      ]
     },
     "execution_count": 52,
     "metadata": {},
     "output_type": "execute_result"
    }
   ],
   "execution_count": 52
  },
  {
   "cell_type": "markdown",
   "metadata": {
    "id": "h5VaR_EHGHE7"
   },
   "source": [
    "Se procede a representar la matriz de confusi&oacute;n de 3 dimensiones de manera gr&aacute;fica, mediante las liber&iacute;as ***seaborn*** y ***matplotlib***."
   ]
  },
  {
   "cell_type": "code",
   "metadata": {
    "id": "Hu5SNm1Fk5wn",
    "colab": {
     "base_uri": "https://localhost:8080/",
     "height": 410
    },
    "executionInfo": {
     "status": "ok",
     "timestamp": 1722087533815,
     "user_tz": 300,
     "elapsed": 2031,
     "user": {
      "displayName": "Carlos Calderón",
      "userId": "03456281774656213876"
     }
    },
    "outputId": "9ce59837-e5fe-449a-b6fa-62d752379259",
    "ExecuteTime": {
     "end_time": "2024-07-27T19:14:53.470078Z",
     "start_time": "2024-07-27T19:14:53.103018Z"
    }
   },
   "source": [
    "import seaborn as sns\n",
    "import matplotlib.pyplot as plt\n",
    "\n",
    "plt.figure(figsize=(4, 4))\n",
    "sns.heatmap(\n",
    "    conf_matrix_df,\n",
    "    annot=True,\n",
    "    fmt=\"d\",\n",
    "    cmap=\"Blues\",\n",
    "    linewidths=.5,\n",
    "    cbar=False\n",
    ")\n",
    "\n",
    "plt.title('Matriz de Confusión')\n",
    "plt.xlabel('Sentimiento Predicho')\n",
    "plt.ylabel('Sentimiento Real')\n",
    "plt.savefig(\"output/conf_matrix.png\")\n",
    "plt.show()"
   ],
   "outputs": [
    {
     "data": {
      "text/plain": [
       "<Figure size 400x400 with 1 Axes>"
      ],
      "image/png": "[encoded data removed]"
     },
     "metadata": {},
     "output_type": "display_data"
    }
   ],
   "execution_count": 53
  },
  {
   "metadata": {
    "ExecuteTime": {
     "end_time": "2024-07-27T19:14:53.481244Z",
     "start_time": "2024-07-27T19:14:53.473959Z"
    }
   },
   "cell_type": "code",
   "source": [
    "# df_sentiments\n",
    "df_reviews[\"Sentimiento_Real\"] = df_sentiments[\"Real\"]"
   ],
   "outputs": [],
   "execution_count": 54
  },
  {
   "metadata": {
    "ExecuteTime": {
     "end_time": "2024-07-27T19:14:53.493157Z",
     "start_time": "2024-07-27T19:14:53.485180Z"
    }
   },
   "cell_type": "code",
   "source": "df_no_stopwords = df_reviews[[\"texto_sin_emojis\", \"Sentimiento_Real\"]].copy()",
   "outputs": [],
   "execution_count": 55
  },
  {
   "metadata": {
    "ExecuteTime": {
     "end_time": "2024-07-27T19:14:53.501981Z",
     "start_time": "2024-07-27T19:14:53.494679Z"
    }
   },
   "cell_type": "code",
   "source": "df_no_stopwords['texto_sin_emojis'] = df_no_stopwords['texto_sin_emojis'].apply(lambda x: x.lower())",
   "outputs": [],
   "execution_count": 56
  },
  {
   "metadata": {
    "ExecuteTime": {
     "end_time": "2024-07-27T19:14:53.507678Z",
     "start_time": "2024-07-27T19:14:53.504040Z"
    }
   },
   "cell_type": "code",
   "source": [
    "# def extract_unique_words(df, column_name):\n",
    "#     # Split the text into words and flatten the list\n",
    "#     all_words = [word for text in df[column_name] for word in text.split()]\n",
    "#     # Get unique words using a set\n",
    "#     unique_words = set(all_words)\n",
    "#     return unique_words"
   ],
   "outputs": [],
   "execution_count": 57
  },
  {
   "metadata": {
    "ExecuteTime": {
     "end_time": "2024-07-27T19:14:53.515187Z",
     "start_time": "2024-07-27T19:14:53.509430Z"
    }
   },
   "cell_type": "code",
   "source": [
    "from collections import Counter\n",
    "\n",
    "\n",
    "def get_most_repeated_words(df, column_name, top_n):\n",
    "    all_text = \" \".join(df[column_name].astype(str))\n",
    "    words = re.findall(r'\\b\\w+\\b', all_text)\n",
    "    word_counts = Counter(words)\n",
    "    most_common_words = word_counts.most_common()\n",
    "    common_words_df = pd.DataFrame(most_common_words, columns=['Word', 'Frequency'])\n",
    "    return common_words_df"
   ],
   "outputs": [],
   "execution_count": 58
  },
  {
   "metadata": {
    "ExecuteTime": {
     "end_time": "2024-07-27T19:14:53.538186Z",
     "start_time": "2024-07-27T19:14:53.516825Z"
    }
   },
   "cell_type": "code",
   "source": [
    "positive_words_df = get_most_repeated_words(\n",
    "    df_no_stopwords[df_no_stopwords[\"Sentimiento_Real\"] == \"Positivo\"],\n",
    "    \"texto_sin_emojis\",\n",
    "    top_n=20)\n",
    "\n",
    "neutral_words_df = get_most_repeated_words(\n",
    "    df_no_stopwords[df_no_stopwords[\"Sentimiento_Real\"] == \"Neutral\"],\n",
    "    \"texto_sin_emojis\",\n",
    "    top_n=10)\n",
    "\n",
    "negative_words_df = get_most_repeated_words(\n",
    "    df_no_stopwords[df_no_stopwords[\"Sentimiento_Real\"] == \"Negativo\"],\n",
    "    \"texto_sin_emojis\",\n",
    "    top_n=100)"
   ],
   "outputs": [],
   "execution_count": 59
  },
  {
   "metadata": {
    "ExecuteTime": {
     "end_time": "2024-07-27T19:14:53.557997Z",
     "start_time": "2024-07-27T19:14:53.541306Z"
    }
   },
   "cell_type": "code",
   "source": "df_no_stopwords[df_no_stopwords[\"Sentimiento_Real\"] == \"Negativo\"]",
   "outputs": [
    {
     "data": {
      "text/plain": [
       "                                      texto_sin_emojis Sentimiento_Real\n",
       "11   nt think listed airbnb entire apartment s smal...         Negativo\n",
       "35   checkin delayed respond two guests time waitin...         Negativo\n",
       "61   terrible never able settle apartment host neve...         Negativo\n",
       "64                   nice infrastructure poor cleaning         Negativo\n",
       "105                   place dirty clean bedding washed         Negativo\n",
       "110  experience terrible place dirty soon arrived g...         Negativo\n",
       "141                                     recommend host         Negativo\n",
       "162  s nice place nice view short walk town gabe ha...         Negativo\n",
       "209  overall house clean tania fast responding acco...         Negativo\n",
       "229  arrived busy 330 pm hostess said owner given p...         Negativo\n",
       "235  quiet private place problem unpleasant smells ...         Negativo\n",
       "241  problem host took resolve considering communic...         Negativo\n",
       "245                      sheets poor condition insects         Negativo\n",
       "250  day arrived checkin 2 pm arrived 230 still cle...         Negativo\n",
       "269  booked place guided positive comments negative...         Negativo\n",
       "276  place good location sufficient take care issue...         Negativo\n",
       "296  responsive sympathetic host issues complaints ...         Negativo\n",
       "347           without water one day one day cold water         Negativo\n",
       "371  1 bed bugs stayed based bites got face neck ar...         Negativo\n",
       "380  accommodation meets expectations photos advert...         Negativo\n",
       "397  everything dirty spider webs everywhere switch...         Negativo"
      ],
      "text/html": [
       "<div>\n",
       "<style scoped>\n",
       "    .dataframe tbody tr th:only-of-type {\n",
       "        vertical-align: middle;\n",
       "    }\n",
       "\n",
       "    .dataframe tbody tr th {\n",
       "        vertical-align: top;\n",
       "    }\n",
       "\n",
       "    .dataframe thead th {\n",
       "        text-align: right;\n",
       "    }\n",
       "</style>\n",
       "<table border=\"1\" class=\"dataframe\">\n",
       "  <thead>\n",
       "    <tr style=\"text-align: right;\">\n",
       "      <th></th>\n",
       "      <th>texto_sin_emojis</th>\n",
       "      <th>Sentimiento_Real</th>\n",
       "    </tr>\n",
       "  </thead>\n",
       "  <tbody>\n",
       "    <tr>\n",
       "      <th>11</th>\n",
       "      <td>nt think listed airbnb entire apartment s smal...</td>\n",
       "      <td>Negativo</td>\n",
       "    </tr>\n",
       "    <tr>\n",
       "      <th>35</th>\n",
       "      <td>checkin delayed respond two guests time waitin...</td>\n",
       "      <td>Negativo</td>\n",
       "    </tr>\n",
       "    <tr>\n",
       "      <th>61</th>\n",
       "      <td>terrible never able settle apartment host neve...</td>\n",
       "      <td>Negativo</td>\n",
       "    </tr>\n",
       "    <tr>\n",
       "      <th>64</th>\n",
       "      <td>nice infrastructure poor cleaning</td>\n",
       "      <td>Negativo</td>\n",
       "    </tr>\n",
       "    <tr>\n",
       "      <th>105</th>\n",
       "      <td>place dirty clean bedding washed</td>\n",
       "      <td>Negativo</td>\n",
       "    </tr>\n",
       "    <tr>\n",
       "      <th>110</th>\n",
       "      <td>experience terrible place dirty soon arrived g...</td>\n",
       "      <td>Negativo</td>\n",
       "    </tr>\n",
       "    <tr>\n",
       "      <th>141</th>\n",
       "      <td>recommend host</td>\n",
       "      <td>Negativo</td>\n",
       "    </tr>\n",
       "    <tr>\n",
       "      <th>162</th>\n",
       "      <td>s nice place nice view short walk town gabe ha...</td>\n",
       "      <td>Negativo</td>\n",
       "    </tr>\n",
       "    <tr>\n",
       "      <th>209</th>\n",
       "      <td>overall house clean tania fast responding acco...</td>\n",
       "      <td>Negativo</td>\n",
       "    </tr>\n",
       "    <tr>\n",
       "      <th>229</th>\n",
       "      <td>arrived busy 330 pm hostess said owner given p...</td>\n",
       "      <td>Negativo</td>\n",
       "    </tr>\n",
       "    <tr>\n",
       "      <th>235</th>\n",
       "      <td>quiet private place problem unpleasant smells ...</td>\n",
       "      <td>Negativo</td>\n",
       "    </tr>\n",
       "    <tr>\n",
       "      <th>241</th>\n",
       "      <td>problem host took resolve considering communic...</td>\n",
       "      <td>Negativo</td>\n",
       "    </tr>\n",
       "    <tr>\n",
       "      <th>245</th>\n",
       "      <td>sheets poor condition insects</td>\n",
       "      <td>Negativo</td>\n",
       "    </tr>\n",
       "    <tr>\n",
       "      <th>250</th>\n",
       "      <td>day arrived checkin 2 pm arrived 230 still cle...</td>\n",
       "      <td>Negativo</td>\n",
       "    </tr>\n",
       "    <tr>\n",
       "      <th>269</th>\n",
       "      <td>booked place guided positive comments negative...</td>\n",
       "      <td>Negativo</td>\n",
       "    </tr>\n",
       "    <tr>\n",
       "      <th>276</th>\n",
       "      <td>place good location sufficient take care issue...</td>\n",
       "      <td>Negativo</td>\n",
       "    </tr>\n",
       "    <tr>\n",
       "      <th>296</th>\n",
       "      <td>responsive sympathetic host issues complaints ...</td>\n",
       "      <td>Negativo</td>\n",
       "    </tr>\n",
       "    <tr>\n",
       "      <th>347</th>\n",
       "      <td>without water one day one day cold water</td>\n",
       "      <td>Negativo</td>\n",
       "    </tr>\n",
       "    <tr>\n",
       "      <th>371</th>\n",
       "      <td>1 bed bugs stayed based bites got face neck ar...</td>\n",
       "      <td>Negativo</td>\n",
       "    </tr>\n",
       "    <tr>\n",
       "      <th>380</th>\n",
       "      <td>accommodation meets expectations photos advert...</td>\n",
       "      <td>Negativo</td>\n",
       "    </tr>\n",
       "    <tr>\n",
       "      <th>397</th>\n",
       "      <td>everything dirty spider webs everywhere switch...</td>\n",
       "      <td>Negativo</td>\n",
       "    </tr>\n",
       "  </tbody>\n",
       "</table>\n",
       "</div>"
      ]
     },
     "execution_count": 60,
     "metadata": {},
     "output_type": "execute_result"
    }
   ],
   "execution_count": 60
  },
  {
   "metadata": {},
   "cell_type": "code",
   "source": [
    "def get_sentiment_words(df, word_column, sentiment):\n",
    "    sentiment_words = []\n",
    "\n",
    "    for word in df[word_column]:\n",
    "        sentiment_score = sia.polarity_scores(word)[\"compound\"]\n",
    "        if sentiment == \"positive\" and sentiment_score > 0:\n",
    "            sentiment_words.append((word, sentiment_score))\n",
    "        elif sentiment == \"negative\" and sentiment_score < 0:\n",
    "            sentiment_words.append((word, sentiment_score))\n",
    "\n",
    "    words_df = pd.DataFrame(sentiment_words, columns=[word_column, \"Sentiment_Score\"])\n",
    "    return words_df"
   ],
   "outputs": [],
   "execution_count": 61
  },
  {
   "metadata": {
    "ExecuteTime": {
     "end_time": "2024-07-27T19:14:53.641833Z",
     "start_time": "2024-07-27T19:14:53.570599Z"
    }
   },
   "cell_type": "code",
   "source": [
    "positive_words_score_df = get_sentiment_words(positive_words_df, \"Word\", sentiment= \"positive\")\n",
    "negative_words_score_df = get_sentiment_words(negative_words_df, \"Word\", sentiment= \"negative\")"
   ],
   "outputs": [],
   "execution_count": 62
  },
  {
   "metadata": {
    "ExecuteTime": {
     "end_time": "2024-07-27T19:14:53.652052Z",
     "start_time": "2024-07-27T19:14:53.643558Z"
    }
   },
   "cell_type": "code",
   "source": "positive_words_df = positive_words_df.merge(positive_words_score_df[[\"Word\"]], on=\"Word\", how= \"inner\")",
   "outputs": [],
   "execution_count": 63
  },
  {
   "metadata": {
    "ExecuteTime": {
     "end_time": "2024-07-27T19:14:53.667216Z",
     "start_time": "2024-07-27T19:14:53.653692Z"
    }
   },
   "cell_type": "code",
   "source": "positive_words_df",
   "outputs": [
    {
     "data": {
      "text/plain": [
       "            Word  Frequency\n",
       "0          great        166\n",
       "1           good        139\n",
       "2           nice        119\n",
       "3      excellent         89\n",
       "4    comfortable         81\n",
       "..           ...        ...\n",
       "213        smile          1\n",
       "214       giving          1\n",
       "215     security          1\n",
       "216       ensure          1\n",
       "217        yummy          1\n",
       "\n",
       "[218 rows x 2 columns]"
      ],
      "text/html": [
       "<div>\n",
       "<style scoped>\n",
       "    .dataframe tbody tr th:only-of-type {\n",
       "        vertical-align: middle;\n",
       "    }\n",
       "\n",
       "    .dataframe tbody tr th {\n",
       "        vertical-align: top;\n",
       "    }\n",
       "\n",
       "    .dataframe thead th {\n",
       "        text-align: right;\n",
       "    }\n",
       "</style>\n",
       "<table border=\"1\" class=\"dataframe\">\n",
       "  <thead>\n",
       "    <tr style=\"text-align: right;\">\n",
       "      <th></th>\n",
       "      <th>Word</th>\n",
       "      <th>Frequency</th>\n",
       "    </tr>\n",
       "  </thead>\n",
       "  <tbody>\n",
       "    <tr>\n",
       "      <th>0</th>\n",
       "      <td>great</td>\n",
       "      <td>166</td>\n",
       "    </tr>\n",
       "    <tr>\n",
       "      <th>1</th>\n",
       "      <td>good</td>\n",
       "      <td>139</td>\n",
       "    </tr>\n",
       "    <tr>\n",
       "      <th>2</th>\n",
       "      <td>nice</td>\n",
       "      <td>119</td>\n",
       "    </tr>\n",
       "    <tr>\n",
       "      <th>3</th>\n",
       "      <td>excellent</td>\n",
       "      <td>89</td>\n",
       "    </tr>\n",
       "    <tr>\n",
       "      <th>4</th>\n",
       "      <td>comfortable</td>\n",
       "      <td>81</td>\n",
       "    </tr>\n",
       "    <tr>\n",
       "      <th>...</th>\n",
       "      <td>...</td>\n",
       "      <td>...</td>\n",
       "    </tr>\n",
       "    <tr>\n",
       "      <th>213</th>\n",
       "      <td>smile</td>\n",
       "      <td>1</td>\n",
       "    </tr>\n",
       "    <tr>\n",
       "      <th>214</th>\n",
       "      <td>giving</td>\n",
       "      <td>1</td>\n",
       "    </tr>\n",
       "    <tr>\n",
       "      <th>215</th>\n",
       "      <td>security</td>\n",
       "      <td>1</td>\n",
       "    </tr>\n",
       "    <tr>\n",
       "      <th>216</th>\n",
       "      <td>ensure</td>\n",
       "      <td>1</td>\n",
       "    </tr>\n",
       "    <tr>\n",
       "      <th>217</th>\n",
       "      <td>yummy</td>\n",
       "      <td>1</td>\n",
       "    </tr>\n",
       "  </tbody>\n",
       "</table>\n",
       "<p>218 rows × 2 columns</p>\n",
       "</div>"
      ]
     },
     "execution_count": 64,
     "metadata": {},
     "output_type": "execute_result"
    }
   ],
   "execution_count": 64
  },
  {
   "metadata": {
    "ExecuteTime": {
     "end_time": "2024-07-27T19:14:54.079189Z",
     "start_time": "2024-07-27T19:14:53.668805Z"
    }
   },
   "cell_type": "code",
   "source": [
    "sns.barplot(data=positive_words_df.head(15), x=\"Word\", y=\"Frequency\")\n",
    "\n",
    "# Rotate x-axis labels\n",
    "plt.xticks(rotation=45, ha='right')  # Rotate labels and align them to the right\n",
    "\n",
    "plt.show()"
   ],
   "outputs": [
    {
     "data": {
      "text/plain": [
       "<Figure size 640x480 with 1 Axes>"
      ],
      "image/png": "[encoded data removed]"
     },
     "metadata": {},
     "output_type": "display_data"
    }
   ],
   "execution_count": 65
  },
  {
   "metadata": {},
   "cell_type": "markdown",
   "source": [
    "Basado en las palabras positivas identificadas en el análisis de sentimientos de las reseñas de los huéspedes de Airbnb, se puede observar que los aspectos más apreciados por los huéspedes son la comodidad, la limpieza, la estética y la amabilidad del anfitrión.\n",
    "\n",
    "Se ve que lo largo de las reseñas se repiten palabras tales como: \"genial\", \"bueno\" y \"agradable\", los cuales indican altos niveles de satisfacción general. Los anfitriones deben mantener altos estándares en todas las áreas para asegurar una experiencia positiva. La atención a la decoración y la limpieza es crucial, ya que términos como \"limpio\" y \"hermoso\" sugieren que los huéspedes valoran mucho un entorno atractivo y bien mantenido.\n",
    "\n",
    "La comodidad también es esencial, reflejada en palabras como \"cómodo\" y \"perfecto\". Asegurar que las camas y los muebles sean confortables ayudan a mejorar significativamente la experiencia del huésped. La amabilidad del anfitrión es otro factor clave; interacciones cálidas y útiles, destacadas por términos como \"amigable\" y \"útil\", pueden mejorar la satisfacción del huésped.\n",
    "\n",
    "Además, la palabra \"recomendado\" indica que los huéspedes están dispuestos a sugerir la propiedad a otros, lo que refleja una experiencia muy positiva. Se recomienda a los anitriones de los alojamientos que recibieron mejores reseñas el continuar manteniendo altos estándares y continuar superando las expectativas de los huéspedes, de esta manera se asegura el éxito tanto para anfitriones como para la plataforma de Airbnb en Montañita."
   ]
  },
  {
   "metadata": {},
   "cell_type": "markdown",
   "source": "Debido a que, como se pudo ver previamente, además de que existen en general pocos comentarios negativos, se realiza el análisis en cuanto al sentimiento de cada palabra en lugar a la frecuencia con que esta aparece, contrario a lo que se realizó en el análisis de comentarios positivos."
  },
  {
   "metadata": {
    "ExecuteTime": {
     "end_time": "2024-07-27T19:14:54.096346Z",
     "start_time": "2024-07-27T19:14:54.083654Z"
    }
   },
   "cell_type": "code",
   "source": "negative_words_score_df.sort_values([\"Sentiment_Score\"], inplace=True)",
   "outputs": [],
   "execution_count": 66
  },
  {
   "metadata": {
    "ExecuteTime": {
     "end_time": "2024-07-27T19:14:54.112873Z",
     "start_time": "2024-07-27T19:14:54.098159Z"
    }
   },
   "cell_type": "code",
   "source": "negative_words_score_df.head(17)",
   "outputs": [
    {
     "data": {
      "text/plain": [
       "             Word  Sentiment_Score\n",
       "17       negative          -0.5719\n",
       "2             bad          -0.5423\n",
       "18           ugly          -0.5106\n",
       "3        terrible          -0.4767\n",
       "4            poor          -0.4767\n",
       "21         broken          -0.4767\n",
       "9       dangerous          -0.4767\n",
       "16     unpleasant          -0.4767\n",
       "0           dirty          -0.4404\n",
       "12    frustrating          -0.4404\n",
       "1         problem          -0.4019\n",
       "20     complaints          -0.4019\n",
       "13       problems          -0.4019\n",
       "26  uncomfortable          -0.3818\n",
       "7          shocks          -0.3818\n",
       "27  inconvenience          -0.3612\n",
       "29           dirt          -0.3400"
      ],
      "text/html": [
       "<div>\n",
       "<style scoped>\n",
       "    .dataframe tbody tr th:only-of-type {\n",
       "        vertical-align: middle;\n",
       "    }\n",
       "\n",
       "    .dataframe tbody tr th {\n",
       "        vertical-align: top;\n",
       "    }\n",
       "\n",
       "    .dataframe thead th {\n",
       "        text-align: right;\n",
       "    }\n",
       "</style>\n",
       "<table border=\"1\" class=\"dataframe\">\n",
       "  <thead>\n",
       "    <tr style=\"text-align: right;\">\n",
       "      <th></th>\n",
       "      <th>Word</th>\n",
       "      <th>Sentiment_Score</th>\n",
       "    </tr>\n",
       "  </thead>\n",
       "  <tbody>\n",
       "    <tr>\n",
       "      <th>17</th>\n",
       "      <td>negative</td>\n",
       "      <td>-0.5719</td>\n",
       "    </tr>\n",
       "    <tr>\n",
       "      <th>2</th>\n",
       "      <td>bad</td>\n",
       "      <td>-0.5423</td>\n",
       "    </tr>\n",
       "    <tr>\n",
       "      <th>18</th>\n",
       "      <td>ugly</td>\n",
       "      <td>-0.5106</td>\n",
       "    </tr>\n",
       "    <tr>\n",
       "      <th>3</th>\n",
       "      <td>terrible</td>\n",
       "      <td>-0.4767</td>\n",
       "    </tr>\n",
       "    <tr>\n",
       "      <th>4</th>\n",
       "      <td>poor</td>\n",
       "      <td>-0.4767</td>\n",
       "    </tr>\n",
       "    <tr>\n",
       "      <th>21</th>\n",
       "      <td>broken</td>\n",
       "      <td>-0.4767</td>\n",
       "    </tr>\n",
       "    <tr>\n",
       "      <th>9</th>\n",
       "      <td>dangerous</td>\n",
       "      <td>-0.4767</td>\n",
       "    </tr>\n",
       "    <tr>\n",
       "      <th>16</th>\n",
       "      <td>unpleasant</td>\n",
       "      <td>-0.4767</td>\n",
       "    </tr>\n",
       "    <tr>\n",
       "      <th>0</th>\n",
       "      <td>dirty</td>\n",
       "      <td>-0.4404</td>\n",
       "    </tr>\n",
       "    <tr>\n",
       "      <th>12</th>\n",
       "      <td>frustrating</td>\n",
       "      <td>-0.4404</td>\n",
       "    </tr>\n",
       "    <tr>\n",
       "      <th>1</th>\n",
       "      <td>problem</td>\n",
       "      <td>-0.4019</td>\n",
       "    </tr>\n",
       "    <tr>\n",
       "      <th>20</th>\n",
       "      <td>complaints</td>\n",
       "      <td>-0.4019</td>\n",
       "    </tr>\n",
       "    <tr>\n",
       "      <th>13</th>\n",
       "      <td>problems</td>\n",
       "      <td>-0.4019</td>\n",
       "    </tr>\n",
       "    <tr>\n",
       "      <th>26</th>\n",
       "      <td>uncomfortable</td>\n",
       "      <td>-0.3818</td>\n",
       "    </tr>\n",
       "    <tr>\n",
       "      <th>7</th>\n",
       "      <td>shocks</td>\n",
       "      <td>-0.3818</td>\n",
       "    </tr>\n",
       "    <tr>\n",
       "      <th>27</th>\n",
       "      <td>inconvenience</td>\n",
       "      <td>-0.3612</td>\n",
       "    </tr>\n",
       "    <tr>\n",
       "      <th>29</th>\n",
       "      <td>dirt</td>\n",
       "      <td>-0.3400</td>\n",
       "    </tr>\n",
       "  </tbody>\n",
       "</table>\n",
       "</div>"
      ]
     },
     "execution_count": 67,
     "metadata": {},
     "output_type": "execute_result"
    }
   ],
   "execution_count": 67
  },
  {
   "metadata": {
    "ExecuteTime": {
     "end_time": "2024-07-27T19:14:54.119884Z",
     "start_time": "2024-07-27T19:14:54.114648Z"
    }
   },
   "cell_type": "code",
   "source": "negative_words_score_df['Sentiment_Score_Abs'] = negative_words_score_df['Sentiment_Score'].abs()",
   "outputs": [],
   "execution_count": 68
  },
  {
   "metadata": {
    "ExecuteTime": {
     "end_time": "2024-07-27T19:14:54.886909Z",
     "start_time": "2024-07-27T19:14:54.122588Z"
    }
   },
   "cell_type": "code",
   "source": [
    "# Plotting the bar plot\n",
    "plt.figure(figsize=(12, 6))  # Adjust the figure size as needed\n",
    "sns.barplot(data=negative_words_score_df.head(17), x=\"Word\", y=\"Sentiment_Score_Abs\")\n",
    "\n",
    "# Rotate x-axis labels\n",
    "plt.xticks(rotation=45, ha='right')  # Rotate labels and align them to the right\n",
    "\n",
    "plt.show()"
   ],
   "outputs": [
    {
     "data": {
      "text/plain": [
       "<Figure size 1200x600 with 1 Axes>"
      ],
      "image/png": "[encoded data removed]"
     },
     "metadata": {},
     "output_type": "display_data"
    }
   ],
   "execution_count": 69
  },
  {
   "cell_type": "markdown",
   "metadata": {
    "id": "FnVE7dgRvmr7"
   },
   "source": [
    "# Conclusi&oacute;n"
   ]
  },
  {
   "cell_type": "markdown",
   "metadata": {
    "id": "CYC2npMCvuMs"
   },
   "source": [
    "El análisis de sentimientos aplicado a las reseñas de Airbnb ha demostrado ser una herramienta poderosa para entender la percepción de los huéspedes. En este estudio, se observó una clara predominancia de comentarios positivos, lo cual es un buen indicativo de la satisfacción general de los clientes. Sin embargo, es crucial profundizar en los detalles que estos comentarios revelan.\n",
    "\n",
    "## Análisis de Comentarios Positivos\n",
    "El modelo ha clasificado con alta precisión los sentimientos positivos. Los aspectos más mencionados incluyen:\n",
    "- **Ubicación**: Los huéspedes valoran altamente la proximidad a la ciudad y las atracciones turísticas.\n",
    "- **Comodidad**: Comentarios frecuentes sobre la comodidad y acogida de los alojamientos.\n",
    "\n",
    "### Ejemplo de Comentarios Positivos:\n",
    "- \"El lugar es súper chévere, acogedor y está cerca de la ciudad.\"\n",
    "- \"Me encantó la comodidad del alojamiento y la proximidad a las principales atracciones.\"\n",
    "\n",
    "### Recomendaciones para Anfitriones:\n",
    "- **Estrategia de Marketing**: Enfocar las campañas publicitarias en destacar la ubicación y la comodidad de los alojamientos.\n",
    "- **Optimización de Anuncios**: Utilizar palabras clave positivas en las descripciones de los anuncios para atraer más huéspedes.\n",
    "\n",
    "## Análisis de Comentarios Negativos\n",
    "El modelo presenta mayor porcentaje de error en la clasificación de comentarios negativos y neutrales. Los aspectos negativos más mencionados incluyen:\n",
    "- **Limpieza**: Comentarios frecuentes sobre la limpieza insuficiente de los alojamientos.\n",
    "- **Ruido**: Quejas sobre el ruido en los alrededores del alojamiento.\n",
    "\n",
    "### Ejemplo de Comentarios Negativos:\n",
    "- \"El lugar estaba sucio y no se limpió adecuadamente.\"\n",
    "- \"Había mucho ruido, lo que hizo difícil descansar.\"\n",
    "\n",
    "### Recomendaciones para Anfitriones:\n",
    "- **Mejora de Servicios**: Aumentar las horas de limpieza y asegurar una limpieza más profunda entre las estancias.\n",
    "- **Gestión del Ruido**: Implementar medidas para reducir el ruido, como ventanas insonorizadas o informar a los huéspedes sobre las horas de silencio.\n",
    "\n",
    "## Valor Comercial del Análisis\n",
    "Este análisis ofrece un valor significativo tanto para Airbnb como para los anfitriones al proporcionar una visión clara de las áreas de mejora y las fortalezas a destacar. Al implementar estas recomendaciones, los anfitriones pueden mejorar la satisfacción del cliente, aumentar las reservas y fortalecer la reputación de sus alojamientos.\n",
    "\n"
   ]
  },
  {
   "metadata": {
    "ExecuteTime": {
     "end_time": "2024-07-27T19:14:54.892961Z",
     "start_time": "2024-07-27T19:14:54.890447Z"
    }
   },
   "cell_type": "code",
   "source": "",
   "outputs": [],
   "execution_count": 69
  }
 ],
 "metadata": {
  "colab": {
   "provenance": [],
   "mount_file_id": "1-5_f480c0-jKidLv2AtdKA4FljN4gYOP",
   "authorship_tag": "ABX9TyMJojbgQwW3c/V16Nj+apnW"
  },
  "kernelspec": {
   "display_name": "Python 3 (ipykernel)",
   "name": "python3",
   "language": "python"
  },
  "language_info": {
   "name": "python"
  }
 },
 "nbformat": 4,
 "nbformat_minor": 0
}
