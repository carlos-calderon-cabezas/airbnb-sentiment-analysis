{
 "cells": [
  {
   "cell_type": "markdown",
   "metadata": {
    "id": "WffHy-y1r67K"
   },
   "source": [
    "# An&aacute;lisis de sentimientos para rese&ntilde;as de Airbnb"
   ]
  },
  {
   "cell_type": "markdown",
   "metadata": {
    "id": "rVCnlmjaqZJi"
   },
   "source": [
    "El presente proyecto aborda una de las aplicaciones m&aacute;s interesantes al momento de trabajar con el **Procesamiento del Lenguage Natural (PLN)** con Python, que consiste en el **An&aacute;lisis de Sentimientos** aplicado a un conjunto de datos reales de muestra correspondientes a 620 rese&ntilde;as otorgadas por hu&eacute;spedes a un total de 10 alojamientos listados dentro de la plataforma de alojamientos temporales *Airbnb* para la ic&oacute;nica ciudad tur&iacute;stica ecuatoriana con playas &uacute;nicas y gente muy acogedora que es **Monta&ntilde;ita**.\n",
    "\n",
    "Este proyecto cumple con los lineamientos de estilo y formato de código dictados en el manual ***PEP-8***, adem&aacute;s de ***Entidades HTML*** para ayudar a la correcta legibilidad de caracteres especiales, tales como *tildes* y *&ntilde;*."
   ]
  },
  {
   "cell_type": "markdown",
   "metadata": {
    "id": "WpUBYIvcuIW7"
   },
   "source": [
    "# Preprocesamiento inicial de la informaci&oacute;n"
   ]
  },
  {
   "cell_type": "markdown",
   "metadata": {
    "id": "WH3z3n0V5sN9"
   },
   "source": [
    "## Instalaci&oacute;n e importaci&oacute;n de librer&iacute;as necesarias"
   ]
  },
  {
   "cell_type": "markdown",
   "metadata": {
    "id": "N9hG1yIoCO3T"
   },
   "source": [
    "Debido a que varias de las rese&ntilde;as contienen *emojis*, ser&aacute; necesario contar con una librer&iacute;a para su respectivo tratamiento y transformaci&oacute;n, para posteriormente emplearlos al momento de realizar el an&aacute;lisis de sentimientos. La librer&iacute;a que se instala se llama ***emoji***."
   ]
  },
  {
   "cell_type": "code",
   "metadata": {
    "colab": {
     "base_uri": "https://localhost:8080/"
    },
    "id": "P0lR93c_F3bg",
    "outputId": "13c3ff02-b94b-46cd-cb80-67884bb284b5",
    "ExecuteTime": {
     "end_time": "2024-07-27T13:26:59.998575Z",
     "start_time": "2024-07-27T13:26:59.935914Z"
    }
   },
   "source": [
    "try:\n",
    "    import emoji\n",
    "except ImportError:\n",
    "    !pip install emoji\n",
    "    import emoji"
   ],
   "outputs": [],
   "execution_count": 1
  },
  {
   "cell_type": "markdown",
   "metadata": {
    "id": "8FSmPVTtvpJE"
   },
   "source": [
    "Se importan adem&aacute;s liber&iacute;as como ***pandas***, ***numpy***, ***os***, ***glob*** y ***pathlib***, mismas que servir&aacute;n para diferentes prop&oacute;sitos, desde la manipulaci&oacute;n de archivos y carpetas dentro de la m&aacute;quina virtual hasta la creaci&oacute;n de ***DataFrames*** y el uso de funciones matem&aacute;ticas."
   ]
  },
  {
   "cell_type": "code",
   "metadata": {
    "id": "PGL3UsDm4MwY",
    "ExecuteTime": {
     "end_time": "2024-07-27T13:27:00.537631Z",
     "start_time": "2024-07-27T13:27:00.531514Z"
    }
   },
   "source": [
    "import pandas as pd\n",
    "import numpy as np\n",
    "import os\n",
    "import glob\n",
    "from pathlib import Path"
   ],
   "outputs": [],
   "execution_count": 2
  },
  {
   "cell_type": "markdown",
   "metadata": {
    "id": "2CZw8czsmmk-"
   },
   "source": [
    "Se configura pandas para evitar que trunque el texto de las entradas de cada una de las columnas. Adicionalmente, se cambia el directorio base con la librer&iacute;a ***os*** para una mayor facilidad de trabajo. En el directorio base est&aacute;n contenidas las rese&ntilde;as dejadas por hu&eacute;spedes de un total de 10 alojamientos diferentes ubicados en la playa de Monta&ntilde;ita, Ecuador, con corte a la fecha del viernes, 06 de enero de 2024."
   ]
  },
  {
   "cell_type": "code",
   "metadata": {
    "id": "1defgKmKHwrh",
    "ExecuteTime": {
     "end_time": "2024-07-27T13:27:00.660955Z",
     "start_time": "2024-07-27T13:27:00.656069Z"
    }
   },
   "source": [
    "default_max_colwidth = pd.get_option('display.max_colwidth')\n",
    "pd.set_option('display.max_colwidth', None)"
   ],
   "outputs": [],
   "execution_count": 3
  },
  {
   "cell_type": "markdown",
   "source": [
    "El bloque de c&oacute;digo contenido en la siguiente celda se debe ejecutar &uacute;nicamente si los archivos del ***notebook*** se almacenan en ***Google Drive*** y si adem&aacute;s este se ejecuta dentro de la plataforma de ***Google Colab***, para lo cual es necesario reemplazar *root_path* con la ruta correspondiente al directorio ra&iacute;z donde se almacenar&aacute;n los archivos. Esto es a fin de que en celdas posteriores no sea necesario escribir la ruta completa cada vez.\n",
    "\n",
    "Por el contrario, si se ejecuta el ***notebook*** en un entorno local, se puede omitir por completo la celda."
   ],
   "metadata": {
    "id": "4K-vALTh1vg1"
   }
  },
  {
   "cell_type": "code",
   "metadata": {
    "colab": {
     "base_uri": "https://localhost:8080/"
    },
    "id": "MsZrgXii958z",
    "outputId": "27038362-9b84-4610-e838-d8241d6e085b",
    "ExecuteTime": {
     "end_time": "2024-07-27T13:27:00.769699Z",
     "start_time": "2024-07-27T13:27:00.764212Z"
    }
   },
   "source": [
    "root_path = \"/content/drive/MyDrive/PORTFOLIO/Sent_Analysis\"\n",
    "if os.path.exists(root_path):\n",
    "    reviews_path = os.path.join(root_path, \"abb_reviews\")\n",
    "    os.chdir(root_path)\n",
    "else:\n",
    "    reviews_path = \"./abb_reviews\"\n",
    "# Verificación de cambio de directorio\n",
    "print(f\"Directorio actual: {os.getcwd()}\")"
   ],
   "outputs": [
    {
     "name": "stdout",
     "output_type": "stream",
     "text": [
      "Directorio actual: /home/carlos/PORTFOLIO/airbnb-sentiment-analysis\n"
     ]
    }
   ],
   "execution_count": 4
  },
  {
   "cell_type": "markdown",
   "metadata": {
    "id": "qwP71jayoKyD"
   },
   "source": [
    "Se obtiene un listado con todos los arhivos correspondientes a las rese&ntilde;as de 10 alojamientos en total."
   ]
  },
  {
   "cell_type": "code",
   "metadata": {
    "id": "-7z56EQdylfa",
    "ExecuteTime": {
     "end_time": "2024-07-27T13:27:00.833531Z",
     "start_time": "2024-07-27T13:27:00.825343Z"
    }
   },
   "source": [
    "# Se define un patrón para buscar archivos txt en el directorio\n",
    "patron = '*.txt'\n",
    "\n",
    "# Se usa glob para obtener la lista de archivos que coinciden con el patrón\n",
    "abb_reviews = glob.glob(os.path.join(reviews_path, patron))\n",
    "\n",
    "# Se ordenan las reseñas en orden alfabético\n",
    "abb_reviews = sorted(\n",
    "    abb_reviews,\n",
    "    key=lambda x: int(Path(x).stem.split('_')[-1]))"
   ],
   "outputs": [],
   "execution_count": 5
  },
  {
   "cell_type": "markdown",
   "metadata": {
    "id": "L-qXQHhz55t2"
   },
   "source": [
    "## Conteo de rese&ntilde;as por cada archivo"
   ]
  },
  {
   "cell_type": "code",
   "metadata": {
    "colab": {
     "base_uri": "https://localhost:8080/"
    },
    "id": "59j4P02Vy96_",
    "outputId": "671d6b9f-c4c1-4dc9-882a-6cc00e5039f3",
    "ExecuteTime": {
     "end_time": "2024-07-27T13:27:00.996464Z",
     "start_time": "2024-07-27T13:27:00.984810Z"
    }
   },
   "source": [
    "total_resenas = 0\n",
    "for archivo in abb_reviews:\n",
    "    archivo_path = Path(archivo)\n",
    "    with open(archivo_path, mode=\"r\", encoding=\"utf-8\") as file:\n",
    "        foo = file.read()\n",
    "        print(f'Número de reseñas en {archivo_path.name}:\\\n",
    "         {foo.count(\"Calificación: \")}')\n",
    "        total_resenas += foo.count(\"Calificación: \")\n",
    "\n",
    "print(f\"\\nTotal de reseñas en {len(abb_reviews)} archivos: {total_resenas}\")"
   ],
   "outputs": [
    {
     "name": "stdout",
     "output_type": "stream",
     "text": [
      "Número de reseñas en abb_reviews_00.txt:         9\n",
      "Número de reseñas en abb_reviews_01.txt:         17\n",
      "Número de reseñas en abb_reviews_02.txt:         141\n",
      "Número de reseñas en abb_reviews_03.txt:         15\n",
      "Número de reseñas en abb_reviews_04.txt:         38\n",
      "Número de reseñas en abb_reviews_05.txt:         8\n",
      "Número de reseñas en abb_reviews_06.txt:         200\n",
      "Número de reseñas en abb_reviews_07.txt:         29\n",
      "Número de reseñas en abb_reviews_08.txt:         22\n",
      "Número de reseñas en abb_reviews_09.txt:         141\n",
      "\n",
      "Total de reseñas en 10 archivos: 620\n"
     ]
    }
   ],
   "execution_count": 6
  },
  {
   "cell_type": "markdown",
   "metadata": {
    "id": "HBGQQHk86CBY"
   },
   "source": [
    "## Funci&oacute;n para extraer las rese&ntilde;as de hu&eacute;spedes de todos los archivos"
   ]
  },
  {
   "cell_type": "markdown",
   "metadata": {
    "id": "Ot9cWmI7u1rH"
   },
   "source": [
    "Puede verse que parte de la informaci&oacute;n recopilada no est&aacute; previamente estructurada, es decir, hay comentarios con atributos diferentes a otros, tales como, por ejemplo, \"*Se qued&oacute; unas semanas*\" o \"*Con mascota*\". Es por esto que dichas expresiones son eliminadas para evitar que sean err&oacute;neamente interpretadas como comentarios."
   ]
  },
  {
   "cell_type": "code",
   "metadata": {
    "id": "uLKvQ8yJtb-_",
    "ExecuteTime": {
     "end_time": "2024-07-27T13:27:01.034705Z",
     "start_time": "2024-07-27T13:27:01.026257Z"
    }
   },
   "source": [
    "def extraer_comentarios(mi_archivo):\n",
    "    comentarios = []\n",
    "    with open(mi_archivo, mode=\"r\", encoding=\"utf-8\") as file:\n",
    "        texto = file.read()\n",
    "\n",
    "    # Dividir el texto en fragmentos usando \"Calificación:\" como delimitador\n",
    "    fragmentos = texto.split(\"Calificación:\")[1:]\n",
    "\n",
    "    # Eliminación de fragmentos vacíos\n",
    "    fragmentos = [\n",
    "        fragmento.strip() for fragmento in fragmentos if fragmento.strip()\n",
    "    ]\n",
    "    for fragmento in fragmentos:\n",
    "        aux = (\n",
    "            fragmento.replace(\",·\", \"\")\n",
    "            .replace(\"Se quedó unas semanas\", \"\")\n",
    "            .replace(\"Estadía de una semana\", \"\")\n",
    "            .replace(\"Con mascota\", \"\")\n",
    "        )\n",
    "        aux = \"\\n\".join(\n",
    "            linea.strip() for linea in aux.splitlines() if linea.strip()\n",
    "        )\n",
    "        comentarios.append(aux.splitlines()[2])\n",
    "\n",
    "    return comentarios"
   ],
   "outputs": [],
   "execution_count": 7
  },
  {
   "cell_type": "markdown",
   "metadata": {
    "id": "w8SCgVC76T3C"
   },
   "source": [
    "Se crea una lista para en ella guardar todas las rese&ntilde;as (que a su vez est&aacute;n en listas) las cuales serán almacenadas en un ***DataFrame de Pandas*** junto con las calificaciones."
   ]
  },
  {
   "cell_type": "code",
   "metadata": {
    "id": "kkt5gG3N03ob",
    "ExecuteTime": {
     "end_time": "2024-07-27T13:27:01.186232Z",
     "start_time": "2024-07-27T13:27:01.183407Z"
    }
   },
   "source": [
    "lista_reviews = []"
   ],
   "outputs": [],
   "execution_count": 8
  },
  {
   "cell_type": "code",
   "metadata": {
    "id": "pefMbo5I0vnk",
    "ExecuteTime": {
     "end_time": "2024-07-27T13:27:01.241025Z",
     "start_time": "2024-07-27T13:27:01.221504Z"
    }
   },
   "source": [
    "for review_file in abb_reviews:\n",
    "    lista_reviews.append(extraer_comentarios(review_file))"
   ],
   "outputs": [],
   "execution_count": 9
  },
  {
   "cell_type": "markdown",
   "metadata": {
    "id": "6_oqjyiV6tr0"
   },
   "source": [
    "Se verifica con la funci&oacute;n ***len*** que existan efectivamente ***620*** rese&ntilde;as en total, lo cual se cumple, y posteriormente se crea un archvo de texto plano para verificar los comentarios."
   ]
  },
  {
   "cell_type": "code",
   "metadata": {
    "colab": {
     "base_uri": "https://localhost:8080/"
    },
    "id": "CmecX1zG61QG",
    "outputId": "5e19bf41-81cb-4838-df16-7ad08acf93b8",
    "ExecuteTime": {
     "end_time": "2024-07-27T13:27:01.320241Z",
     "start_time": "2024-07-27T13:27:01.316112Z"
    }
   },
   "source": [
    "print(len(sum(lista_reviews, [])))"
   ],
   "outputs": [
    {
     "name": "stdout",
     "output_type": "stream",
     "text": [
      "620\n"
     ]
    }
   ],
   "execution_count": 10
  },
  {
   "cell_type": "markdown",
   "metadata": {
    "id": "M7vgCKDr0EnA"
   },
   "source": [
    "Se guardan todas las rese&ntilde;as en un archivo de texto para comprobar de manera manual mediante un editor de textos externo que cada una de las 620 l&iacute;neas correspondientes a comentarios son efectivamente comentarios y no otros de los atributos de las rese&ntilde;as."
   ]
  },
  {
   "cell_type": "code",
   "metadata": {
    "id": "dKOW6Tr00txq",
    "ExecuteTime": {
     "end_time": "2024-07-27T13:31:22.795655Z",
     "start_time": "2024-07-27T13:31:22.780975Z"
    }
   },
   "source": [
    "if not os.path.exists(\"./processing\"):\n",
    "    os.mkdir(\"./processing\")\n",
    "if not os.path.exists(\"processing/coment_ALL.txt\"):\n",
    "    with open(\"processing/coment_ALL.txt\", mode=\"w\") as file:\n",
    "        file.write(\"\\n\".join(sum(lista_reviews, [])))"
   ],
   "outputs": [],
   "execution_count": 15
  },
  {
   "cell_type": "markdown",
   "metadata": {
    "id": "HskTcv3m7yh6"
   },
   "source": [
    "## Funci&oacute;n para extraer las calificaciones de hu&eacute;spedes de todos los archivos"
   ]
  },
  {
   "cell_type": "markdown",
   "metadata": {
    "id": "JXEVRKgA050w"
   },
   "source": [
    "Adicionalmente, para el an&aacute;lisis de sentimientos es importante extraer la calificaci&oacute;n del 1 al 5 que dieron los usuarios en cada una de las rese&ntilde;as para contrastarlas con el resultado del an&aacute;lisis de sentimientos. Al igual que con los comentarios en s&iacute;, las puntuaciones se almacenan tambi&eacute;n en formato de listas para despu&eacute;s crear un ***DataFrame de Pandas*** con estas."
   ]
  },
  {
   "cell_type": "code",
   "metadata": {
    "id": "zoKWyjh80tnr",
    "ExecuteTime": {
     "end_time": "2024-07-27T13:27:02.246700Z",
     "start_time": "2024-07-27T13:27:02.237255Z"
    }
   },
   "source": [
    "def extraer_calificaciones(mi_archivo):\n",
    "    stars = []\n",
    "    with open(mi_archivo, mode=\"r\", encoding=\"utf-8\") as file:\n",
    "        texto = file.read()\n",
    "        fragmentos = texto.split(\"Calificación: \")\n",
    "\n",
    "    for i in range(1, len(fragmentos)):\n",
    "        stars.append(int(fragmentos[i][0]))\n",
    "\n",
    "    return stars"
   ],
   "outputs": [],
   "execution_count": null
  },
  {
   "cell_type": "code",
   "metadata": {
    "id": "OA3nuoW-2Wjo",
    "ExecuteTime": {
     "end_time": "2024-07-27T13:27:02.253812Z",
     "start_time": "2024-07-27T13:27:02.253514Z"
    }
   },
   "source": [
    "lista_stars = []\n",
    "\n",
    "for review_file in abb_reviews:\n",
    "    lista_stars.append(extraer_calificaciones(review_file))"
   ],
   "outputs": [],
   "execution_count": null
  },
  {
   "cell_type": "markdown",
   "metadata": {
    "id": "0M7G-P-86yN7"
   },
   "source": [
    "Se verifica que la cantidad de calificaciones sea la misma que de comentarios."
   ]
  },
  {
   "cell_type": "code",
   "metadata": {
    "id": "RHPruB1g7c7d",
    "colab": {
     "base_uri": "https://localhost:8080/"
    },
    "outputId": "e0945d04-6d16-4b0b-f3ff-a6d8b0844ed4",
    "ExecuteTime": {
     "end_time": "2024-07-27T13:27:02.260201Z",
     "start_time": "2024-07-27T13:27:02.259621Z"
    }
   },
   "source": [
    "len(sum(lista_stars, []))"
   ],
   "outputs": [],
   "execution_count": null
  },
  {
   "cell_type": "markdown",
   "metadata": {
    "id": "KYakYfda2FMs"
   },
   "source": [
    "Se crean los &iacute;ndices para identificar a cada uno de los 10 alojamientos previo a la creaci&oacute;n del *DataFrame* de *Pandas*. As&iacute;mismo, se unen todos los elementos de rese&ntilde;as y n&uacute;mero de estrellas de cada alojamiento en una &uacute;nica lista para cada caso."
   ]
  },
  {
   "cell_type": "code",
   "metadata": {
    "id": "qWkAmvV6JHMZ",
    "ExecuteTime": {
     "start_time": "2024-07-27T13:27:02.263062Z"
    }
   },
   "source": [
    "def unir_listas(lista):\n",
    "    return sum(lista, [])"
   ],
   "outputs": [],
   "execution_count": null
  },
  {
   "cell_type": "code",
   "metadata": {
    "id": "FVGg1-kSyr9_",
    "ExecuteTime": {
     "end_time": "2024-07-27T13:27:02.266642Z",
     "start_time": "2024-07-27T13:27:02.266420Z"
    }
   },
   "source": [
    "numero_resenas = []"
   ],
   "outputs": [],
   "execution_count": null
  },
  {
   "cell_type": "code",
   "metadata": {
    "id": "B2al9KBXyqjJ"
   },
   "source": [
    "for resena in lista_reviews:\n",
    "    numero_resenas.append(len(resena))"
   ],
   "outputs": [],
   "execution_count": null
  },
  {
   "cell_type": "code",
   "metadata": {
    "id": "MVoNif1dy5Pt",
    "colab": {
     "base_uri": "https://localhost:8080/"
    },
    "outputId": "35b93623-aa89-452b-ea77-31e9aaf77406"
   },
   "source": [
    "numero_resenas"
   ],
   "outputs": [],
   "execution_count": null
  },
  {
   "cell_type": "code",
   "metadata": {
    "id": "4JMIfkQ-1t17"
   },
   "source": [
    "id_alojamiento = []\n",
    "for index, i in enumerate(numero_resenas, start=0):\n",
    "    id_alojamiento.append(list(np.full(i, index)))\n",
    "\n",
    "id_alojamiento = sum(id_alojamiento, [])"
   ],
   "outputs": [],
   "execution_count": null
  },
  {
   "cell_type": "code",
   "metadata": {
    "id": "cfME44DMJz6V"
   },
   "source": [
    "lista_reviews = unir_listas(lista_reviews)\n",
    "lista_stars = unir_listas(lista_stars)"
   ],
   "outputs": [],
   "execution_count": null
  },
  {
   "cell_type": "markdown",
   "metadata": {
    "id": "3f2q8sAt2_IC"
   },
   "source": [
    "## Construcci&oacute;n de DataFrame de Pandas"
   ]
  },
  {
   "cell_type": "code",
   "metadata": {
    "id": "YAyf8OhbUxqD"
   },
   "source": [
    "df_reviews = pd.DataFrame({\n",
    "    \"id_alojamiento\": id_alojamiento,\n",
    "    \"review\": lista_reviews,\n",
    "    \"stars\": lista_stars,\n",
    "})"
   ],
   "outputs": [],
   "execution_count": null
  },
  {
   "cell_type": "markdown",
   "metadata": {
    "id": "ukcQmVwg3JnO"
   },
   "source": [
    "Se realiza un muestreo a fin de verificar que el *DataFrame* fue construido de manera correcta y se procede a guardar el mismo en formato *csv* para uso futuro."
   ]
  },
  {
   "cell_type": "code",
   "metadata": {
    "id": "ZezsIjYKVBlg",
    "colab": {
     "base_uri": "https://localhost:8080/",
     "height": 345
    },
    "outputId": "cbfccf19-dedf-4433-c35f-99a4cbd993b0"
   },
   "source": [
    "df_reviews.sample(5)"
   ],
   "outputs": [],
   "execution_count": null
  },
  {
   "cell_type": "code",
   "metadata": {
    "id": "sOe-J8CeH5F6"
   },
   "source": [
    "if not os.path.exists(\"processing/df_reviews.csv\"):\n",
    "    df_reviews.to_csv(\"processing/df_reviews.csv\", index=False)"
   ],
   "outputs": [],
   "execution_count": null
  },
  {
   "cell_type": "markdown",
   "metadata": {
    "id": "iH6obQtl0Wmt"
   },
   "source": [
    "A continuaci&oacute;n, se procede a traducir las rese&ntilde;as dejadas por los hu&eacute;spedes a los alojamientos con la ayuda de **Google Cloud Translate**, el cual detecta de manera autom&aacute;tica el idioma de los textos de entrada y los traduce al ingl&eacute;s a fin de procesarlos posteriormente al momento de realizar el an&aacute;lisis de sentimientos.\n",
    "\n",
    "Para las ejecuciones posteriores del presente *Jupyter Notebook*, se importa el archivo con las rese&ntilde;as ya traducidas a fin de no exceder la cuota de traducciones permitidas en la capa gratuita de *Google Cloud Translate*.\n",
    "\n",
    "En caso de que se quiera replicar el uso de ***Google Cloud Translate*** para la traducci&oacute;n autom&aacute;tica de textos se deber&aacute; utilizar una cuenta existente de ***Google Cloud*** o crear una nueva cuenta y generar las credenciales de acceso a la API, siguiendo para ello la documentaci&oacute;n del proveedor de servicios en la nube.\n",
    "\n",
    "La raz&oacute;n por la cual se almacenan los datos en formato *.xlsx* en lugar de *.csv* radica en que en algunas ocasiones el int&eacute;rprete de ***Pandas*** confunde ciertos caracteres especiales con delimitadores de datos y se produce una lectura err&oacute;nea para algunos de los registros."
   ]
  },
  {
   "cell_type": "code",
   "metadata": {
    "id": "miNvAlTRMrMc"
   },
   "source": [
    "df_traducciones = pd.DataFrame()"
   ],
   "outputs": [],
   "execution_count": null
  },
  {
   "cell_type": "code",
   "metadata": {
    "id": "BgNE4aBr_TWF"
   },
   "source": [
    "from google.cloud import translate_v2 as translate\n",
    "\n",
    "# Lectura de llave privada de la API de Google Cloud Translate\n",
    "client = translate.Client.from_service_account_json(\n",
    "    \"processing/private_key_translate.json\"\n",
    ")\n",
    "\n",
    "if not os.path.exists(\"translations/df_reviews_traducido.xlsx\"):\n",
    "    # Función para traducir un texto\n",
    "    def translate_text(text, target_language='en'):\n",
    "        result = client.translate(text, target_language=target_language)\n",
    "        return result['translatedText']\n",
    "\n",
    "    # Traducción de texto en la columna \"review\"\n",
    "    df_reviews['texto_traducido'] = df_reviews[\"review\"].apply(\n",
    "        lambda x: translate_text(x, target_language=\"en\")\n",
    "    )\n",
    "\n",
    "    # Almacenamiento de reseñas traducidas para uso futuro\n",
    "    df_reviews[[\n",
    "            \"id_alojamiento\", \"review\", \"texto_traducido\", \"stars\"\n",
    "        ]].to_excel(\n",
    "        \"translations/df_reviews_traducido.xlsx\", index=False\n",
    "    )\n",
    "\n",
    "else:\n",
    "    df_reviews['texto_traducido'] = pd.read_excel(\n",
    "        \"translations/df_reviews_traducido.xlsx\"\n",
    "    )[\"texto_traducido\"]"
   ],
   "outputs": [],
   "execution_count": null
  },
  {
   "cell_type": "markdown",
   "metadata": {
    "id": "djYOSgWQM2yR"
   },
   "source": [
    "Se obtiene una muestra aleatoria de los datos a fin de verificar las traducciones realizadas."
   ]
  },
  {
   "cell_type": "code",
   "metadata": {
    "id": "WFZwFzPOOLZf",
    "colab": {
     "base_uri": "https://localhost:8080/",
     "height": 589
    },
    "outputId": "76568817-b8c1-438a-ab35-a9fb82403e57",
    "ExecuteTime": {
     "end_time": "2024-07-27T13:27:02.407662Z",
     "start_time": "2024-07-27T13:27:02.376750Z"
    }
   },
   "source": [
    "df_reviews.sample(10)"
   ],
   "outputs": [
    {
     "ename": "NameError",
     "evalue": "name 'df_reviews' is not defined",
     "output_type": "error",
     "traceback": [
      "\u001B[0;31m---------------------------------------------------------------------------\u001B[0m",
      "\u001B[0;31mNameError\u001B[0m                                 Traceback (most recent call last)",
      "Cell \u001B[0;32mIn[12], line 1\u001B[0m\n\u001B[0;32m----> 1\u001B[0m df_reviews\u001B[38;5;241m.\u001B[39msample(\u001B[38;5;241m10\u001B[39m)\n",
      "\u001B[0;31mNameError\u001B[0m: name 'df_reviews' is not defined"
     ]
    }
   ],
   "execution_count": 12
  },
  {
   "cell_type": "markdown",
   "metadata": {
    "id": "O1RvkDM8Ni8z"
   },
   "source": [
    "# Preparaci&oacute;n de los datos para el Análisis de Sentimientos"
   ]
  },
  {
   "cell_type": "markdown",
   "metadata": {
    "id": "qJrJ4N0cmG-w"
   },
   "source": [
    "##: Elminaci&oacute;n de signos de puntuaci&oacute;n, art&iacute;culos y palabras innecesarias:"
   ]
  },
  {
   "cell_type": "markdown",
   "metadata": {
    "id": "lhqgP6K8OdVA"
   },
   "source": [
    "Se importa la librer&iacute;a **nltk** detectar y eliminar de los comentarios dejados por los hu&eacute;spedes y traducidos previamente al ingl&eacute;s, los art&iacute;culos, palabras y signos de puntuaci&oacute;n que no van a ser de utilidad al momento de realizar el an&aacute;lisis de sentimientos, y se almacena en una nueva columna del *DataFrame* llamada \"*texto_sin_stopwords*\"."
   ]
  },
  {
   "cell_type": "code",
   "metadata": {
    "id": "gh3O-kOLNbWp",
    "colab": {
     "base_uri": "https://localhost:8080/"
    },
    "outputId": "b1d71760-8a98-41bf-a256-e0e80a146be5",
    "ExecuteTime": {
     "end_time": "2024-07-27T13:27:12.012299Z",
     "start_time": "2024-07-27T13:27:03.379025Z"
    }
   },
   "source": [
    "import nltk\n",
    "from nltk.corpus import stopwords\n",
    "from nltk.tokenize import word_tokenize\n",
    "\n",
    "nltk.download('stopwords')\n",
    "nltk.download('punkt')\n",
    "\n",
    "\n",
    "def remover_articulos(text):\n",
    "    stop_words = set(stopwords.words('english'))\n",
    "    words = word_tokenize(text)\n",
    "    filtered_words = [word for word in words if word.lower() not in stop_words]\n",
    "    return ' '.join(filtered_words)"
   ],
   "outputs": [
    {
     "name": "stderr",
     "output_type": "stream",
     "text": [
      "[nltk_data] Downloading package stopwords to /home/carlos/nltk_data...\n",
      "[nltk_data]   Unzipping corpora/stopwords.zip.\n",
      "[nltk_data] Downloading package punkt to /home/carlos/nltk_data...\n",
      "[nltk_data]   Unzipping tokenizers/punkt.zip.\n"
     ]
    }
   ],
   "execution_count": 13
  },
  {
   "cell_type": "code",
   "metadata": {
    "id": "OYWOVxKrDSD7",
    "ExecuteTime": {
     "end_time": "2024-07-27T13:27:12.122129Z",
     "start_time": "2024-07-27T13:27:12.017229Z"
    }
   },
   "source": [
    "df_reviews[\"texto_sin_stopwords\"] = df_reviews[\"texto_traducido\"].apply(\n",
    "    lambda x: remover_articulos(x)\n",
    ")"
   ],
   "outputs": [
    {
     "ename": "NameError",
     "evalue": "name 'df_reviews' is not defined",
     "output_type": "error",
     "traceback": [
      "\u001B[0;31m---------------------------------------------------------------------------\u001B[0m",
      "\u001B[0;31mNameError\u001B[0m                                 Traceback (most recent call last)",
      "Cell \u001B[0;32mIn[14], line 1\u001B[0m\n\u001B[0;32m----> 1\u001B[0m df_reviews[\u001B[38;5;124m\"\u001B[39m\u001B[38;5;124mtexto_sin_stopwords\u001B[39m\u001B[38;5;124m\"\u001B[39m] \u001B[38;5;241m=\u001B[39m df_reviews[\u001B[38;5;124m\"\u001B[39m\u001B[38;5;124mtexto_traducido\u001B[39m\u001B[38;5;124m\"\u001B[39m]\u001B[38;5;241m.\u001B[39mapply(\n\u001B[1;32m      2\u001B[0m     \u001B[38;5;28;01mlambda\u001B[39;00m x: remover_articulos(x)\n\u001B[1;32m      3\u001B[0m )\n",
      "\u001B[0;31mNameError\u001B[0m: name 'df_reviews' is not defined"
     ]
    }
   ],
   "execution_count": 14
  },
  {
   "cell_type": "markdown",
   "metadata": {
    "id": "ijEZSoWjUeZy"
   },
   "source": [
    "Se ocupan adem&aacute;s expresiones regulares para dar tratamientos tanto a los espacios sobrantes como a los signos de puntuaci&oacute;n y caracteres innecesarios para el an&aacute;lisis de sentimientos. Adem&aacute;s se preparan los datos para el tratamiento de emojis."
   ]
  },
  {
   "cell_type": "code",
   "metadata": {
    "id": "GTxM88X-PkoA"
   },
   "source": [
    "import re\n",
    "\n",
    "\n",
    "def extraer_no_letras(texto):\n",
    "    return list(set(re.sub('[a-zA-Z0-9]', '', texto)))"
   ],
   "outputs": [],
   "execution_count": null
  },
  {
   "cell_type": "code",
   "metadata": {
    "id": "-WTIELMnQyCI"
   },
   "source": [
    "df_reviews[\"no_texto\"] = df_reviews[\"texto_sin_stopwords\"].apply(\n",
    "    lambda x: extraer_no_letras(x)\n",
    ")"
   ],
   "outputs": [],
   "execution_count": null
  },
  {
   "cell_type": "code",
   "metadata": {
    "id": "IWZbpA-nRdfE"
   },
   "source": [
    "non_text_chars = list(set(df_reviews[\"no_texto\"].sum()))\n",
    "non_text_chars.remove(\" \")\n",
    "df_reviews.drop([\"no_texto\"], axis=1, inplace=True)"
   ],
   "outputs": [],
   "execution_count": null
  },
  {
   "cell_type": "markdown",
   "metadata": {
    "id": "CBCtwOAZVjbu"
   },
   "source": [
    "## Tratamiento de emojis"
   ]
  },
  {
   "cell_type": "markdown",
   "metadata": {
    "id": "0T-ETL0dVop9"
   },
   "source": [
    "Se extrae de la variable definida anteriormente \"*non_text_chars*\", una lista de todos los emojis presentes en las rese&ntilde;as otorgadas por los hu&eacute;spedes.\n",
    "\n",
    "Adicionalmente, se asigna una palabra en ingl&eacute;s para dar una interpretaci&oacute;n adecuada a cada uno de estos.\n",
    "\n",
    "Por &uacute;ltimo, se reemplazan los emojis con sus equivalentes en palabras."
   ]
  },
  {
   "cell_type": "code",
   "metadata": {
    "id": "kq8w_qLmfT5b"
   },
   "source": [
    "import emoji\n",
    "\n",
    "emojis_list = [i for i in non_text_chars if emoji.is_emoji(i)]\n",
    "emojis_dict = {\n",
    "    '✨': 'sparkling',\n",
    "    '🙃': 'sarcastic',\n",
    "    '💖': 'beautiful',\n",
    "    '😔': 'sad',\n",
    "    '🙌': 'celebration',\n",
    "    '😘': 'affectionate',\n",
    "    '⭐': 'star',\n",
    "    '👏': 'applause',\n",
    "    '💕': 'affectionate',\n",
    "    '😊': 'happy',\n",
    "    '😍': 'admiration',\n",
    "    '💓': 'emotion',\n",
    "    '❣': 'emotion',\n",
    "    '💜': 'affection',\n",
    "    '🙈': 'playful',\n",
    "    '🤗': 'friendly',\n",
    "    '👌': 'approval',\n",
    "    '🏻': '',\n",
    "    '🍻': 'celebration',\n",
    "    '🌞': 'cheerful',\n",
    "    '❤': 'love',\n",
    "    '♥': 'love',\n",
    "    '💯': 'perfect',\n",
    "    '👍': 'approval'\n",
    "}"
   ],
   "outputs": [],
   "execution_count": null
  },
  {
   "cell_type": "code",
   "metadata": {
    "id": "9HXbikjocR2b"
   },
   "source": [
    "non_emoji_chars = [i for i in non_text_chars if not emoji.is_emoji(i)]"
   ],
   "outputs": [],
   "execution_count": null
  },
  {
   "cell_type": "code",
   "metadata": {
    "id": "cgyxyeRUeJEM"
   },
   "source": [
    "def quitar_simbolos(texto):\n",
    "    for char in non_emoji_chars:\n",
    "        texto = texto.replace(char, \"\")\n",
    "    return texto"
   ],
   "outputs": [],
   "execution_count": null
  },
  {
   "cell_type": "code",
   "metadata": {
    "id": "ZQYaRkF9RnDL"
   },
   "source": [
    "df_reviews[\"texto_sin_stopwords\"] = df_reviews[\"texto_sin_stopwords\"].apply(\n",
    "    lambda x: quitar_simbolos(x)\n",
    ")"
   ],
   "outputs": [],
   "execution_count": null
  },
  {
   "cell_type": "code",
   "metadata": {
    "id": "Ahnulm67Ga1a"
   },
   "source": [
    "df_reviews[\"texto_sin_stopwords\"] = df_reviews[\"texto_sin_stopwords\"].apply(\n",
    "    lambda x: \" \".join(x.split())\n",
    ")"
   ],
   "outputs": [],
   "execution_count": null
  },
  {
   "cell_type": "markdown",
   "metadata": {
    "id": "lAMw2Eqgq_4H"
   },
   "source": [
    "Se define una funci&oacute;n para reemplazar los emojis por sus equivalentes en palabras."
   ]
  },
  {
   "cell_type": "code",
   "metadata": {
    "id": "ywZHtL7sE9NJ"
   },
   "source": [
    "def reemplazar_emojis(texto):\n",
    "    for (key, value) in emojis_dict.items():\n",
    "        texto = texto.replace(key, f\" {value} \")\n",
    "    return texto"
   ],
   "outputs": [],
   "execution_count": null
  },
  {
   "cell_type": "code",
   "metadata": {
    "id": "_AD6h-7MfXs7"
   },
   "source": [
    "df_reviews[\"texto_sin_emojis\"] = df_reviews[\"texto_sin_stopwords\"].apply(\n",
    "    lambda x: reemplazar_emojis(x)\n",
    ")\n",
    "df_reviews[\"texto_sin_emojis\"] = df_reviews[\"texto_sin_emojis\"].apply(\n",
    "    lambda x: \" \".join(x.split())\n",
    ")"
   ],
   "outputs": [],
   "execution_count": null
  },
  {
   "cell_type": "markdown",
   "metadata": {
    "id": "RitrynCsnqzj"
   },
   "source": [
    "Se verifican dos comentarios que contienen emojis para evidenciar que la eliminaci&oacute;n de *stopwords* y el reemplazo de emojis por ***palabras equivalentes*** se realiz&oacute; correctamente, y finalmente se guarda esta versi&oacute;n del *DataFrame* limpia de emojis en un archivo de Microsoft Excel."
   ]
  },
  {
   "cell_type": "code",
   "metadata": {
    "id": "QzTlA1c4iNCZ",
    "colab": {
     "base_uri": "https://localhost:8080/",
     "height": 112
    },
    "outputId": "422dbde6-4a69-48b1-9eaf-a2e50a5504bd"
   },
   "source": [
    "df_reviews[[\"texto_traducido\", \"texto_sin_stopwords\", \"texto_sin_emojis\"]] \\\n",
    "    .iloc[[76, 263], :]"
   ],
   "outputs": [],
   "execution_count": null
  },
  {
   "cell_type": "code",
   "metadata": {
    "id": "lFXWW4LhIdT9"
   },
   "source": [
    "if not os.path.exists(\"processing/df_limpio_emojis.xlsx\"):\n",
    "    df_reviews.to_excel(\"processing/df_limpio_emojis.xlsx\")"
   ],
   "outputs": [],
   "execution_count": null
  },
  {
   "cell_type": "markdown",
   "metadata": {
    "id": "nfvtuYJqNvXt"
   },
   "source": [
    "# Análisis de Sentimientos"
   ]
  },
  {
   "cell_type": "markdown",
   "metadata": {
    "id": "3_w97GEvbdUf"
   },
   "source": [
    "Finalmente, se procede a realizar un ***an&aacute;lisis de sentimientos*** de todos los comentarios presentes, para lo cual se importa la librer&iacute;a ***nltk*** y se utiliza el componente ***vader_lexicon*** para el an&aacute;lisis de polaridad en cada uno de los comentarios.\n",
    "\n",
    "En primer lugar, se define una funci&oacute;n que clasifica los coemntarios en base a su polaridad en las categor&iacute;s de **Positivo**, **Negativo** o **Neutral**, y mediante una funci&oacute;n *lambda* se env&iacute;an los resultados a una nueva columna del ***DataFrame de Pandas***."
   ]
  },
  {
   "cell_type": "code",
   "metadata": {
    "id": "OxNo0rfZIzaY",
    "colab": {
     "base_uri": "https://localhost:8080/"
    },
    "outputId": "eaadb47b-ed2c-4eb3-c45e-d0ebf3dd374c"
   },
   "source": [
    "import nltk\n",
    "from nltk.sentiment.vader import SentimentIntensityAnalyzer\n",
    "\n",
    "nltk.download('vader_lexicon')\n",
    "\n",
    "sia = SentimentIntensityAnalyzer()\n",
    "\n",
    "def clasificar_comentario(comentario):\n",
    "    polaridad = sia.polarity_scores(comentario)['compound']\n",
    "    if polaridad > 0.05:\n",
    "        return \"Positivo\"\n",
    "    elif polaridad < -0.05:\n",
    "        return \"Negativo\"\n",
    "    else:\n",
    "        return \"Neutral\""
   ],
   "outputs": [],
   "execution_count": null
  },
  {
   "cell_type": "code",
   "metadata": {
    "id": "AunZxW0Jfzgn"
   },
   "source": [
    "df_reviews[\"Sentimiento\"] = df_reviews[\"texto_sin_emojis\"].apply(\n",
    "    lambda x: clasificar_comentario(x)\n",
    ")"
   ],
   "outputs": [],
   "execution_count": null
  },
  {
   "cell_type": "markdown",
   "metadata": {
    "id": "wMqiPszR-obE"
   },
   "source": [
    "Muestra de las columnas correspodientes a los ***comentarios traducidos al ingl&eacute;s*** y a los ***sentimientos detectados***."
   ]
  },
  {
   "cell_type": "code",
   "metadata": {
    "id": "EmkHJkDmAwig",
    "colab": {
     "base_uri": "https://localhost:8080/",
     "height": 143
    },
    "outputId": "a16ec83e-2273-4e91-f810-371f90737844"
   },
   "source": [
    "df_reviews[[\"texto_sin_emojis\", \"Sentimiento\"]].sample(3)"
   ],
   "outputs": [],
   "execution_count": null
  },
  {
   "cell_type": "markdown",
   "metadata": {
    "id": "bhwOma2h_Ilf"
   },
   "source": [
    "De manera adicional se traducen de manera opcional las rese&ntilde;as al espa&ntilde;ol a fin de realizar una clasificaci&oacute;n manual de los sentimientos que se esperar&iacute;a en cada caso."
   ]
  },
  {
   "cell_type": "code",
   "metadata": {
    "id": "kngjSQmp59Lb"
   },
   "source": [
    "from google.cloud import translate_v2 as translate\n",
    "\n",
    "# Lectura de llave privada de la API de Google Cloud Translate\n",
    "client = translate.Client.from_service_account_json(\n",
    "    \"processing/private_key_translate.json\"\n",
    ")\n",
    "\n",
    "if not os.path.exists(\"translations/df_reviews_traducido_es.xlsx\"):\n",
    "    # Función para traducir un texto\n",
    "    def translate_text(text, target_language='es'):\n",
    "        result = client.translate(text, target_language=target_language)\n",
    "        return result['translatedText']\n",
    "\n",
    "    # Traducción de texto en la columna \"review\"\n",
    "    df_reviews['texto_traducido_es'] = df_reviews[\"review\"].apply(\n",
    "        lambda x: translate_text(x, target_language=\"es\")\n",
    "    )\n",
    "\n",
    "    # Almacenamiento de reseñas traducidas para uso futuro\n",
    "    df_reviews[[\n",
    "            \"id_alojamiento\", \"review\", \"texto_traducido\", \"stars\"\n",
    "        ]].to_excel(\n",
    "        \"translations/df_reviews_traducido_es.xlsx\", index=False\n",
    "    )\n",
    "\n",
    "else:\n",
    "    df_reviews['texto_traducido_es'] = pd.read_excel(\n",
    "        \"translations/df_reviews_traducido_es.xlsx\"\n",
    "    )[\"texto_traducido\"]"
   ],
   "outputs": [],
   "execution_count": null
  },
  {
   "cell_type": "code",
   "metadata": {
    "id": "bI_CG4YjA07w"
   },
   "source": [
    "if not os.path.exists(\"output/sentimientos.xlsx\"):\n",
    "    df_reviews.to_excel(\"output/sentimientos.xlsx\", index= False)"
   ],
   "outputs": [],
   "execution_count": null
  },
  {
   "cell_type": "markdown",
   "metadata": {
    "id": "dq0sCL4B_rIn"
   },
   "source": [
    "Se restaura el ancho m&aacute;ximo de columnas que se muestran en el ***DataFrame de Pandas*** para una mejor visualizaci&oacute;n."
   ]
  },
  {
   "cell_type": "code",
   "metadata": {
    "id": "Z0YZJU61hPWT"
   },
   "source": [
    "pd.set_option('display.max_colwidth', default_max_colwidth)"
   ],
   "outputs": [],
   "execution_count": null
  },
  {
   "cell_type": "markdown",
   "metadata": {
    "id": "ge9KU97u_8-e"
   },
   "source": [
    "Se eval&uacute;a de manera manual la polaridad *'real'* de las rese&ntilde;as a fin de poder crear una matriz de confusi&oacute;n y realizar un an&aacute;lisis de la exactitud de este modelo.\n",
    "\n",
    "Sin embargo, es importante tener en cuenta que este an&aacute;lisis de la polaridad *'real'* o de conjunto de datos de validaci&oacute;n  est&aacute; sujeto al criterio de la persona que lo realiza, por lo cual no se puede considerar en ning&uacute;n momento como un modelo libre de sesgos e interpretaciones."
   ]
  },
  {
   "cell_type": "code",
   "metadata": {
    "id": "2pql2waW6aSv"
   },
   "source": [
    "df_sentiments = pd.read_excel(\"output/matriz_sentimientos.xlsx\")\n",
    "df_sentiments = df_sentiments[[\"Sentimiento\", \"Real\"]]"
   ],
   "outputs": [],
   "execution_count": null
  },
  {
   "cell_type": "code",
   "metadata": {
    "id": "LjcAAL_Jg7EN",
    "colab": {
     "base_uri": "https://localhost:8080/",
     "height": 206
    },
    "outputId": "c1b9935b-f300-4662-84b0-5571c93d474e"
   },
   "source": [
    "df_sentiments.sample(5)"
   ],
   "outputs": [],
   "execution_count": null
  },
  {
   "cell_type": "code",
   "metadata": {
    "id": "dyP5k8fXibz6",
    "colab": {
     "base_uri": "https://localhost:8080/"
    },
    "outputId": "62b9059a-efb0-4817-de46-1961e918edf4"
   },
   "source": [
    "categorias = df_sentiments[\"Sentimiento\"].unique()\n",
    "categorias"
   ],
   "outputs": [],
   "execution_count": null
  },
  {
   "cell_type": "markdown",
   "metadata": {
    "id": "OCKLormMF4-L"
   },
   "source": [
    "## Matriz de confusi&oacute;n"
   ]
  },
  {
   "cell_type": "markdown",
   "metadata": {
    "id": "wP2XlKXHFEJU"
   },
   "source": [
    "Se crea la matriz de cunfusi&oacute;n de tres categor&iacute;as con la ayuda de ***sklearn.metrics.confusion_matrix*** en base a las tres categor&iacute;as de sentimientos definidas con anterioridad."
   ]
  },
  {
   "cell_type": "code",
   "metadata": {
    "id": "_7GC6-z7j9ao"
   },
   "source": [
    "from sklearn.metrics import confusion_matrix"
   ],
   "outputs": [],
   "execution_count": null
  },
  {
   "cell_type": "code",
   "metadata": {
    "id": "KsPeSbSIkGmb"
   },
   "source": [
    "conf_matrix = confusion_matrix(\n",
    "    df_sentiments[\"Real\"],\n",
    "    df_sentiments[\"Sentimiento\"],\n",
    "    labels=categorias\n",
    ")\n",
    "\n",
    "conf_matrix_df = pd.DataFrame(\n",
    "    conf_matrix,\n",
    "    index=categorias,\n",
    "    columns=categorias\n",
    ")"
   ],
   "outputs": [],
   "execution_count": null
  },
  {
   "cell_type": "code",
   "metadata": {
    "id": "GnCaqNiAkP7p",
    "colab": {
     "base_uri": "https://localhost:8080/",
     "height": 143
    },
    "outputId": "15ddadb2-02e2-43c3-9552-1bb539e8c572"
   },
   "source": [
    "conf_matrix_df"
   ],
   "outputs": [],
   "execution_count": null
  },
  {
   "cell_type": "markdown",
   "metadata": {
    "id": "h5VaR_EHGHE7"
   },
   "source": [
    "Se procede a representar la matriz de confusi&oacute;n de 3 dimensiones de manera gr&aacute;fica, mediante las liber&iacute;as ***seaborn*** y ***matplotlib***."
   ]
  },
  {
   "cell_type": "code",
   "metadata": {
    "id": "Hu5SNm1Fk5wn",
    "colab": {
     "base_uri": "https://localhost:8080/",
     "height": 410
    },
    "outputId": "6b35211b-fb46-4f5c-d605-aeaf91124946"
   },
   "source": [
    "import seaborn as sns\n",
    "import matplotlib.pyplot as plt\n",
    "\n",
    "plt.figure(figsize=(4, 4))\n",
    "sns.heatmap(\n",
    "    conf_matrix_df,\n",
    "    annot=True,\n",
    "    fmt=\"d\",\n",
    "    cmap=\"Blues\",\n",
    "    linewidths=.5,\n",
    "    cbar=False\n",
    ")\n",
    "\n",
    "plt.title('Matriz de Confusión')\n",
    "plt.xlabel('Sentimiento Predicho')\n",
    "plt.ylabel('Sentimiento Real')\n",
    "plt.savefig(\"output/conf_matrix.png\")\n",
    "plt.show()"
   ],
   "outputs": [],
   "execution_count": null
  },
  {
   "cell_type": "markdown",
   "metadata": {
    "id": "FnVE7dgRvmr7"
   },
   "source": [
    "# Conclusi&oacute;n"
   ]
  },
  {
   "cell_type": "markdown",
   "metadata": {
    "id": "CYC2npMCvuMs"
   },
   "source": [
    "El análisis de sentimientos aplicado a las reseñas de Airbnb ha demostrado ser una herramienta poderosa para entender la percepción de los huéspedes. En este estudio, se observó una clara predominancia de comentarios positivos, lo cual es un buen indicativo de la satisfacción general de los clientes. Sin embargo, es crucial profundizar en los detalles que estos comentarios revelan.\n",
    "\n",
    "## Análisis de Comentarios Positivos\n",
    "El modelo ha clasificado con alta precisión los sentimientos positivos. Los aspectos más mencionados incluyen:\n",
    "- **Ubicación**: Los huéspedes valoran altamente la proximidad a la ciudad y las atracciones turísticas.\n",
    "- **Comodidad**: Comentarios frecuentes sobre la comodidad y acogida de los alojamientos.\n",
    "\n",
    "### Ejemplo de Comentarios Positivos:\n",
    "- \"El lugar es súper chévere, acogedor y está cerca de la ciudad.\"\n",
    "- \"Me encantó la comodidad del alojamiento y la proximidad a las principales atracciones.\"\n",
    "\n",
    "### Recomendaciones para Anfitriones:\n",
    "- **Estrategia de Marketing**: Enfocar las campañas publicitarias en destacar la ubicación y la comodidad de los alojamientos.\n",
    "- **Optimización de Anuncios**: Utilizar palabras clave positivas en las descripciones de los anuncios para atraer más huéspedes.\n",
    "\n",
    "## Análisis de Comentarios Negativos\n",
    "El modelo presenta mayor porcentaje de error en la clasificación de comentarios negativos y neutrales. Los aspectos negativos más mencionados incluyen:\n",
    "- **Limpieza**: Comentarios frecuentes sobre la limpieza insuficiente de los alojamientos.\n",
    "- **Ruido**: Quejas sobre el ruido en los alrededores del alojamiento.\n",
    "\n",
    "### Ejemplo de Comentarios Negativos:\n",
    "- \"El lugar estaba sucio y no se limpió adecuadamente.\"\n",
    "- \"Había mucho ruido, lo que hizo difícil descansar.\"\n",
    "\n",
    "### Recomendaciones para Anfitriones:\n",
    "- **Mejora de Servicios**: Aumentar las horas de limpieza y asegurar una limpieza más profunda entre las estancias.\n",
    "- **Gestión del Ruido**: Implementar medidas para reducir el ruido, como ventanas insonorizadas o informar a los huéspedes sobre las horas de silencio.\n",
    "\n",
    "## Valor Comercial del Análisis\n",
    "Este análisis ofrece un valor significativo tanto para Airbnb como para los anfitriones al proporcionar una visión clara de las áreas de mejora y las fortalezas a destacar. Al implementar estas recomendaciones, los anfitriones pueden mejorar la satisfacción del cliente, aumentar las reservas y fortalecer la reputación de sus alojamientos.\n",
    "\n"
   ]
  }
 ],
 "metadata": {
  "colab": {
   "provenance": [],
   "mount_file_id": "1-5_f480c0-jKidLv2AtdKA4FljN4gYOP",
   "authorship_tag": "ABX9TyMJojbgQwW3c/V16Nj+apnW",
   "include_colab_link": true
  },
  "kernelspec": {
   "display_name": "Python 3 (ipykernel)",
   "name": "python3",
   "language": "python"
  },
  "language_info": {
   "name": "python"
  }
 },
 "nbformat": 4,
 "nbformat_minor": 0
}
