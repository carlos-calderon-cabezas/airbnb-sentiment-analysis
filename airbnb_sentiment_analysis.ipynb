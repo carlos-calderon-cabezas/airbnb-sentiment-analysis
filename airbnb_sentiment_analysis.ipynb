{
  "nbformat": 4,
  "nbformat_minor": 0,
  "metadata": {
    "colab": {
      "provenance": [],
      "mount_file_id": "1touV06HNt4FREOzui1lY1m34JYiEPDwj",
      "authorship_tag": "ABX9TyPmSu6cHTE05wZ2q8xP2ivw",
      "include_colab_link": true
    },
    "kernelspec": {
      "name": "python3",
      "display_name": "Python 3"
    },
    "language_info": {
      "name": "python"
    }
  },
  "cells": [
    {
      "cell_type": "markdown",
      "metadata": {
        "id": "view-in-github",
        "colab_type": "text"
      },
      "source": [
        "<a href=\"https://colab.research.google.com/github/cjcalderon9804/airbnb-sentiment-analysis/blob/main/airbnb_sentiment_analysis.ipynb\" target=\"_parent\"><img src=\"https://colab.research.google.com/assets/colab-badge.svg\" alt=\"Open In Colab\"/></a>"
      ]
    },
    {
      "cell_type": "markdown",
      "source": [
        "# An&aacute;lisis de sentimientos para rese&ntilde;as de Airbnb"
      ],
      "metadata": {
        "id": "WffHy-y1r67K"
      }
    },
    {
      "cell_type": "markdown",
      "source": [
        "El presente proyecto aborda una de las aplicaciones más interesantes al momento de trabajar con el **Procesamiento del Lenguage Natural (PLN)** con Python, que consiste en el **Análisis de Sentimientos** aplicado a un conjunto de datos reales de muestra correspondientes a 620 reseñas otorgadas por huéspedes a un total de 10 alojamientos listados dentro de la plataforma de alojamientos temporales *Airbnb* para la íconica ciudad turística ecuatoriana con playas únicas y gente muy acogedora que es **Montañita**.\n",
        "\n",
        "Este proyecto cumple con los lineamientos de estilo y formato de código dictados en el manual ***PEP-8***."
      ],
      "metadata": {
        "id": "rVCnlmjaqZJi"
      }
    },
    {
      "cell_type": "markdown",
      "source": [
        "## ↓↓ Inicio de librer&iacute;as temporales ↓↓"
      ],
      "metadata": {
        "id": "MW6-JflSi156"
      }
    },
    {
      "cell_type": "code",
      "execution_count": 1,
      "metadata": {
        "id": "MHOqa0cTpuNH"
      },
      "outputs": [],
      "source": [
        "# !pip install flake8 pycodestyle_magic\n",
        "# %load_ext pycodestyle_magic\n",
        "# %pycodestyle_on"
      ]
    },
    {
      "cell_type": "markdown",
      "source": [
        "## ↑↑ Fin de librer&iacute;as temporales ↑↑"
      ],
      "metadata": {
        "id": "BAcZc55bi5YC"
      }
    },
    {
      "cell_type": "markdown",
      "source": [
        "# Preprocesamiento inicial de la informaci&oacute;n"
      ],
      "metadata": {
        "id": "WpUBYIvcuIW7"
      }
    },
    {
      "cell_type": "markdown",
      "source": [
        "## Instalaci&oacute;n e importaci&oacute;n de librer&iacute;as necesarias"
      ],
      "metadata": {
        "id": "WH3z3n0V5sN9"
      }
    },
    {
      "cell_type": "code",
      "source": [
        "!pip install emoji"
      ],
      "metadata": {
        "colab": {
          "base_uri": "https://localhost:8080/"
        },
        "id": "P0lR93c_F3bg",
        "outputId": "05f3cb3d-d81f-411f-f3f9-1c4cccb15eb0"
      },
      "execution_count": 2,
      "outputs": [
        {
          "output_type": "stream",
          "name": "stdout",
          "text": [
            "Requirement already satisfied: emoji in /usr/local/lib/python3.10/dist-packages (2.10.1)\n"
          ]
        }
      ]
    },
    {
      "cell_type": "code",
      "source": [
        "import pandas as pd\n",
        "import numpy as np\n",
        "import os\n",
        "import glob\n",
        "from pathlib import Path"
      ],
      "metadata": {
        "id": "PGL3UsDm4MwY"
      },
      "execution_count": 3,
      "outputs": []
    },
    {
      "cell_type": "markdown",
      "source": [
        "Se configura pandas para evitar que trunque el texto de las entradas de cada una de las columnas. Adicionalmente, se cambia el directorio base con la librer&iacute;a ***os*** para una mayor facilidad de trabajo. En el directorio base est&aacute;n contenidas las rese&ntilde;as dejadas por hu&eacute;spedes de un total de 10 alojamientos diferentes ubicados en la ciudad de Monta&ntilde;ita, Ecuador, con corte a la fecha del viernes, 06 de enero de 2024."
      ],
      "metadata": {
        "id": "2CZw8czsmmk-"
      }
    },
    {
      "cell_type": "code",
      "source": [
        "pd.set_option('display.max_colwidth', None)"
      ],
      "metadata": {
        "id": "1defgKmKHwrh"
      },
      "execution_count": 4,
      "outputs": []
    },
    {
      "cell_type": "code",
      "source": [
        "directorio = \"/content/drive/MyDrive/CDE_CLASES/proyecto_final/abb_reviews\"\n",
        "os.chdir(directorio)\n",
        "# Verificación de cambio de directorio\n",
        "print(f\"Directorio actual: {os.getcwd()}\")"
      ],
      "metadata": {
        "id": "MsZrgXii958z",
        "colab": {
          "base_uri": "https://localhost:8080/"
        },
        "outputId": "efbf2ba9-5faa-4461-8d73-ea806fe6a68e"
      },
      "execution_count": 5,
      "outputs": [
        {
          "output_type": "stream",
          "name": "stdout",
          "text": [
            "Directorio actual: /content/drive/MyDrive/CDE_CLASES/proyecto_final/abb_reviews\n"
          ]
        }
      ]
    },
    {
      "cell_type": "markdown",
      "source": [
        "Se obtiene un listado con todos los arhivos correspondientes a las rese&ntilde;as de 10 alojamientos en total."
      ],
      "metadata": {
        "id": "qwP71jayoKyD"
      }
    },
    {
      "cell_type": "code",
      "source": [
        "# Se define un patrón para buscar archivos txt en el directorio\n",
        "patron = '*.txt'\n",
        "\n",
        "# Se usa glob para obtener la lista de archivos que coinciden con el patrón\n",
        "abb_reviews = glob.glob(os.path.join(directorio, patron))\n",
        "\n",
        "# Se ordenan las reseñas en orden alfabético\n",
        "abb_reviews = sorted(\n",
        "    abb_reviews,\n",
        "    key=lambda x: int(Path(x).stem.split('_')[-1]))"
      ],
      "metadata": {
        "id": "-7z56EQdylfa"
      },
      "execution_count": 6,
      "outputs": []
    },
    {
      "cell_type": "markdown",
      "source": [
        "## Conteo de rese&ntilde;as por cada archivo"
      ],
      "metadata": {
        "id": "L-qXQHhz55t2"
      }
    },
    {
      "cell_type": "code",
      "source": [
        "total_resenas = 0\n",
        "for archivo in abb_reviews:\n",
        "    archivo_path = Path(archivo)\n",
        "    with open(archivo_path, mode=\"r\", encoding=\"utf-8\") as file:\n",
        "        foo = file.read()\n",
        "        print(f'Número de reseñas en {archivo_path.name}:\\\n",
        "         {foo.count(\"Calificación: \")}')\n",
        "        total_resenas += foo.count(\"Calificación: \")\n",
        "\n",
        "print(f\"\\nTotal de reseñas en {len(abb_reviews)} archivos: {total_resenas}\")"
      ],
      "metadata": {
        "id": "59j4P02Vy96_",
        "colab": {
          "base_uri": "https://localhost:8080/"
        },
        "outputId": "b87859bf-aae0-422f-9b40-53e19b5a3d4f"
      },
      "execution_count": 7,
      "outputs": [
        {
          "output_type": "stream",
          "name": "stdout",
          "text": [
            "Número de reseñas en abb_reviews_00.txt:         9\n",
            "Número de reseñas en abb_reviews_01.txt:         17\n",
            "Número de reseñas en abb_reviews_02.txt:         141\n",
            "Número de reseñas en abb_reviews_03.txt:         15\n",
            "Número de reseñas en abb_reviews_04.txt:         38\n",
            "Número de reseñas en abb_reviews_05.txt:         8\n",
            "Número de reseñas en abb_reviews_06.txt:         200\n",
            "Número de reseñas en abb_reviews_07.txt:         29\n",
            "Número de reseñas en abb_reviews_08.txt:         22\n",
            "Número de reseñas en abb_reviews_09.txt:         141\n",
            "\n",
            "Total de reseñas en 10 archivos: 620\n"
          ]
        }
      ]
    },
    {
      "cell_type": "markdown",
      "source": [
        "## Funci&oacute;n para extraer las rese&ntilde;as de hu&eacute;spedes de todos los archivos"
      ],
      "metadata": {
        "id": "HBGQQHk86CBY"
      }
    },
    {
      "cell_type": "markdown",
      "source": [
        "Dado que la informaci&oacute;n recopilada no est&aacute; previamente estructurada, es decir, hay comentarios con atributos diferentes a otros, tales como, por ejemplo, \"*Se qued&oacute; unas semanas*\" o \"*Con mascota*\", mismos que son eliminados para evitar que ciertas l&iacute;neas con cadenas de texto puedan ser err&oacute;neamente interpretadas como comentarios."
      ],
      "metadata": {
        "id": "Ot9cWmI7u1rH"
      }
    },
    {
      "cell_type": "code",
      "source": [
        "def extraer_comentarios(mi_archivo):\n",
        "    comentarios = []\n",
        "    with open(mi_archivo, mode=\"r\", encoding=\"utf-8\") as file:\n",
        "        texto = file.read()\n",
        "\n",
        "    # Dividir el texto en fragmentos usando \"Calificación:\" como delimitador\n",
        "    fragmentos = texto.split(\"Calificación:\")[1:]\n",
        "\n",
        "    # Eliminación de fragmentos vacíos\n",
        "    fragmentos = [\n",
        "        fragmento.strip() for fragmento in fragmentos if fragmento.strip()\n",
        "    ]\n",
        "    for fragmento in fragmentos:\n",
        "        aux = (\n",
        "            fragmento.replace(\",·\", \"\")\n",
        "            .replace(\"Se quedó unas semanas\", \"\")\n",
        "            .replace(\"Estadía de una semana\", \"\")\n",
        "            .replace(\"Con mascota\", \"\")\n",
        "        )\n",
        "        aux = \"\\n\".join(\n",
        "            linea.strip() for linea in aux.splitlines() if linea.strip()\n",
        "        )\n",
        "        comentarios.append(aux.splitlines()[2])\n",
        "\n",
        "    return comentarios"
      ],
      "metadata": {
        "id": "uLKvQ8yJtb-_"
      },
      "execution_count": 8,
      "outputs": []
    },
    {
      "cell_type": "markdown",
      "source": [
        "Se crea una lista para en ella guardar todas las rese&ntilde;as (que a su vez est&aacute;n en listas) para despu&eacute;s guardarlas en un dataframe junto con las calificaciones."
      ],
      "metadata": {
        "id": "w8SCgVC76T3C"
      }
    },
    {
      "cell_type": "code",
      "source": [
        "lista_reviews = []"
      ],
      "metadata": {
        "id": "kkt5gG3N03ob"
      },
      "execution_count": 9,
      "outputs": []
    },
    {
      "cell_type": "code",
      "source": [
        "for review_file in abb_reviews:\n",
        "    lista_reviews.append(extraer_comentarios(review_file))"
      ],
      "metadata": {
        "id": "pefMbo5I0vnk"
      },
      "execution_count": 10,
      "outputs": []
    },
    {
      "cell_type": "markdown",
      "source": [
        "Se verifica con la funci&oacute;n ***len*** que existan efectivamente ***620*** rese&ntilde;as en total, lo cual se cumple, y posteriormente se crea un archvo de texto plano para verificar los comentarios."
      ],
      "metadata": {
        "id": "6_oqjyiV6tr0"
      }
    },
    {
      "cell_type": "code",
      "source": [
        "print(len(sum(lista_reviews, [])))"
      ],
      "metadata": {
        "colab": {
          "base_uri": "https://localhost:8080/"
        },
        "id": "CmecX1zG61QG",
        "outputId": "9aacb0a4-8ed8-489e-a825-ce9301b2bebd"
      },
      "execution_count": 11,
      "outputs": [
        {
          "output_type": "stream",
          "name": "stdout",
          "text": [
            "620\n"
          ]
        }
      ]
    },
    {
      "cell_type": "markdown",
      "source": [
        "Se guardan todas las rese&ntilde;as en un archivo de texto para comprobar de manera manual mediante un editor de textos externo que cada una de las 620 l&iacute;neas correspondientes a comentarios son efectivamente comentarios y no otros de los atributos de las rese&ntilde;as."
      ],
      "metadata": {
        "id": "M7vgCKDr0EnA"
      }
    },
    {
      "cell_type": "code",
      "source": [
        "if not os.path.exists(\"comentarios/coment_ALL.txt\"):\n",
        "    with open(\"comentarios/coment_ALL.txt\", mode=\"w\") as file:\n",
        "        file.write(\"\\n\".join(sum(lista_reviews, [])))"
      ],
      "metadata": {
        "id": "dKOW6Tr00txq"
      },
      "execution_count": 12,
      "outputs": []
    },
    {
      "cell_type": "markdown",
      "source": [
        "## Funci&oacute;n para extraer las calificaciones de hu&eacute;spedes de todos los archivos"
      ],
      "metadata": {
        "id": "HskTcv3m7yh6"
      }
    },
    {
      "cell_type": "markdown",
      "source": [
        "Adicionalmente, para el an&aacute;lisis de sentimientos es importante extraer la calificaci&oacute;n del 1 al 5 que dieron los usuarios en cada una de las rese&ntilde;as para contrastarlas con el resultado del an&aacute;lisis de sentimientos. Al igual que con los comentarios en s&iacute;, las puntuaciones se almacenan tambi&eacute;n en formato de listas para despu&eacute;s crear un *DataFrame* de *Pandas* con estas."
      ],
      "metadata": {
        "id": "JXEVRKgA050w"
      }
    },
    {
      "cell_type": "code",
      "source": [
        "def extraer_calificaciones(mi_archivo):\n",
        "    stars = []\n",
        "    with open(mi_archivo, mode=\"r\", encoding=\"utf-8\") as file:\n",
        "        texto = file.read()\n",
        "        fragmentos = texto.split(\"Calificación: \")\n",
        "\n",
        "    for i in range(1, len(fragmentos)):\n",
        "        stars.append(int(fragmentos[i][0]))\n",
        "\n",
        "    return stars"
      ],
      "metadata": {
        "id": "zoKWyjh80tnr"
      },
      "execution_count": 13,
      "outputs": []
    },
    {
      "cell_type": "code",
      "source": [
        "lista_stars = []\n",
        "\n",
        "for review_file in abb_reviews:\n",
        "    lista_stars.append(extraer_calificaciones(review_file))"
      ],
      "metadata": {
        "id": "OA3nuoW-2Wjo"
      },
      "execution_count": 14,
      "outputs": []
    },
    {
      "cell_type": "markdown",
      "source": [
        "Se verifica que la cantidad de calificaciones sea la misma que de comentarios."
      ],
      "metadata": {
        "id": "0M7G-P-86yN7"
      }
    },
    {
      "cell_type": "code",
      "source": [
        "len(sum(lista_stars, []))"
      ],
      "metadata": {
        "colab": {
          "base_uri": "https://localhost:8080/"
        },
        "id": "RHPruB1g7c7d",
        "outputId": "3250f66c-749e-4a7a-b32a-b36196f67c30"
      },
      "execution_count": 15,
      "outputs": [
        {
          "output_type": "execute_result",
          "data": {
            "text/plain": [
              "620"
            ]
          },
          "metadata": {},
          "execution_count": 15
        }
      ]
    },
    {
      "cell_type": "markdown",
      "source": [
        "Se crean los &iacute;ndices para identificar a cada uno de los 10 alojamientos previo a la creaci&oacute;n del *DataFrame* de *Pandas*. As&iacute;mismo, se unen todos los elementos de rese&ntilde;as y n&uacute;mero de estrellas de cada alojamiento en una &uacute;nica lista para cada caso."
      ],
      "metadata": {
        "id": "KYakYfda2FMs"
      }
    },
    {
      "cell_type": "code",
      "source": [
        "def unir_listas(lista):\n",
        "    return sum(lista, [])"
      ],
      "metadata": {
        "id": "qWkAmvV6JHMZ"
      },
      "execution_count": 16,
      "outputs": []
    },
    {
      "cell_type": "code",
      "source": [
        "numero_resenas = []"
      ],
      "metadata": {
        "id": "FVGg1-kSyr9_"
      },
      "execution_count": 17,
      "outputs": []
    },
    {
      "cell_type": "code",
      "source": [
        "for resena in lista_reviews:\n",
        "    numero_resenas.append(len(resena))"
      ],
      "metadata": {
        "id": "B2al9KBXyqjJ"
      },
      "execution_count": 18,
      "outputs": []
    },
    {
      "cell_type": "code",
      "source": [
        "numero_resenas"
      ],
      "metadata": {
        "colab": {
          "base_uri": "https://localhost:8080/"
        },
        "id": "MVoNif1dy5Pt",
        "outputId": "7f7fe841-3c8d-4d11-e02b-f7862cede59a"
      },
      "execution_count": 19,
      "outputs": [
        {
          "output_type": "execute_result",
          "data": {
            "text/plain": [
              "[9, 17, 141, 15, 38, 8, 200, 29, 22, 141]"
            ]
          },
          "metadata": {},
          "execution_count": 19
        }
      ]
    },
    {
      "cell_type": "code",
      "source": [
        "id_alojamiento = []\n",
        "for index, i in enumerate(numero_resenas, start=0):\n",
        "    id_alojamiento.append(list(np.full(i, index)))\n",
        "\n",
        "id_alojamiento = sum(id_alojamiento, [])"
      ],
      "metadata": {
        "id": "4JMIfkQ-1t17"
      },
      "execution_count": 20,
      "outputs": []
    },
    {
      "cell_type": "code",
      "source": [
        "lista_reviews = unir_listas(lista_reviews)\n",
        "lista_stars = unir_listas(lista_stars)"
      ],
      "metadata": {
        "id": "cfME44DMJz6V"
      },
      "execution_count": 21,
      "outputs": []
    },
    {
      "cell_type": "markdown",
      "source": [
        "## Construcci&oacute;n de DataFrame de Pandas"
      ],
      "metadata": {
        "id": "3f2q8sAt2_IC"
      }
    },
    {
      "cell_type": "code",
      "source": [
        "df_reviews = pd.DataFrame({\n",
        "    \"id_alojamiento\": id_alojamiento,\n",
        "    \"review\": lista_reviews,\n",
        "    \"stars\": lista_stars,\n",
        "})"
      ],
      "metadata": {
        "id": "YAyf8OhbUxqD"
      },
      "execution_count": 22,
      "outputs": []
    },
    {
      "cell_type": "markdown",
      "source": [
        "Se realiza un muestreo a fin de verificar que el *DataFrame* fue construido de manera correcta y se procede a guardar el mismo en formato *csv* para uso futuro."
      ],
      "metadata": {
        "id": "ukcQmVwg3JnO"
      }
    },
    {
      "cell_type": "code",
      "source": [
        "df_reviews.sample(5)"
      ],
      "metadata": {
        "colab": {
          "base_uri": "https://localhost:8080/",
          "height": 328
        },
        "id": "ZezsIjYKVBlg",
        "outputId": "3954fed6-e8bf-4c27-a281-56e4744b30e2"
      },
      "execution_count": 23,
      "outputs": [
        {
          "output_type": "execute_result",
          "data": {
            "text/plain": [
              "     id_alojamiento  \\\n",
              "556               9   \n",
              "299               6   \n",
              "37                2   \n",
              "177               3   \n",
              "502               9   \n",
              "\n",
              "                                                                                                                                                                                                                                                                                                                                                                                                                                                                                                                                                                                                                                           review  \\\n",
              "556  De AirBnB was gelegen in een rustige straat zeer dicht bij het bruisende Montañita. Wij hadden een auto gehuurd, waardoor we erg flexibel waren. Openbaar vervoer is echter een goed alternatief, waarvoor Gijs en Liliana ook allerlei informatie hebben liggen. Het appartement is schoon en ruim. Het is opvallend dat het internet erg betrouwbaar is. Alle voorzieningen zijn aanwezig en er zijn duidelijke instructies vanuit Gijs en Liliana voor het appartement en de mogelijkheden in de buurt. Daarbij zijn we gastvrij en betrokken ontvangen en mochten alle vragen gesteld worden. Absoluut een gedenkwaardig verblijf gehad!   \n",
              "299                                                                                                                                                                                                                                                                                                                                                                                                                                                                                                                                                                                                                           Comunizacion eficaz   \n",
              "37                                 I loved this place, I would have stayed forever if it wasn’t booked. I stayed 2 weeks and everything was great. It’s better than the photos; small, cute and cozy. The views are to die for, especially from bed. For the price, this place is 20 out of 10. Just keep in mind it is not a resort, it is simplistic yet perfect for a down to earth traveler. Quiet spot just a few minutes walk into town/beach. The only downfall was I had to buy my own sponge/dish soap, toilet paper and what not… but no problem considering the price. Johnny is great as well!! Thank you so much I hope to come back   \n",
              "177                                                                                                                                                                                                                                                                                                                                                                                                                                                                                                                                                                                                               place is good I will come again   \n",
              "502                                                                                                                                                                                                                                                                                                                                                                                                                                                                                                    Excelente comunicación y atención. La casita es super Fresca, cómoda, con excelente ubicación para descansar y se encuentra cerca de todo.   \n",
              "\n",
              "     stars  \n",
              "556      5  \n",
              "299      5  \n",
              "37       5  \n",
              "177      5  \n",
              "502      5  "
            ],
            "text/html": [
              "\n",
              "  <div id=\"df-4c669501-9dbb-4a54-a48d-1ba7bb6ca53e\" class=\"colab-df-container\">\n",
              "    <div>\n",
              "<style scoped>\n",
              "    .dataframe tbody tr th:only-of-type {\n",
              "        vertical-align: middle;\n",
              "    }\n",
              "\n",
              "    .dataframe tbody tr th {\n",
              "        vertical-align: top;\n",
              "    }\n",
              "\n",
              "    .dataframe thead th {\n",
              "        text-align: right;\n",
              "    }\n",
              "</style>\n",
              "<table border=\"1\" class=\"dataframe\">\n",
              "  <thead>\n",
              "    <tr style=\"text-align: right;\">\n",
              "      <th></th>\n",
              "      <th>id_alojamiento</th>\n",
              "      <th>review</th>\n",
              "      <th>stars</th>\n",
              "    </tr>\n",
              "  </thead>\n",
              "  <tbody>\n",
              "    <tr>\n",
              "      <th>556</th>\n",
              "      <td>9</td>\n",
              "      <td>De AirBnB was gelegen in een rustige straat zeer dicht bij het bruisende Montañita. Wij hadden een auto gehuurd, waardoor we erg flexibel waren. Openbaar vervoer is echter een goed alternatief, waarvoor Gijs en Liliana ook allerlei informatie hebben liggen. Het appartement is schoon en ruim. Het is opvallend dat het internet erg betrouwbaar is. Alle voorzieningen zijn aanwezig en er zijn duidelijke instructies vanuit Gijs en Liliana voor het appartement en de mogelijkheden in de buurt. Daarbij zijn we gastvrij en betrokken ontvangen en mochten alle vragen gesteld worden. Absoluut een gedenkwaardig verblijf gehad!</td>\n",
              "      <td>5</td>\n",
              "    </tr>\n",
              "    <tr>\n",
              "      <th>299</th>\n",
              "      <td>6</td>\n",
              "      <td>Comunizacion eficaz</td>\n",
              "      <td>5</td>\n",
              "    </tr>\n",
              "    <tr>\n",
              "      <th>37</th>\n",
              "      <td>2</td>\n",
              "      <td>I loved this place, I would have stayed forever if it wasn’t booked. I stayed 2 weeks and everything was great. It’s better than the photos; small, cute and cozy. The views are to die for, especially from bed. For the price, this place is 20 out of 10. Just keep in mind it is not a resort, it is simplistic yet perfect for a down to earth traveler. Quiet spot just a few minutes walk into town/beach. The only downfall was I had to buy my own sponge/dish soap, toilet paper and what not… but no problem considering the price. Johnny is great as well!! Thank you so much I hope to come back</td>\n",
              "      <td>5</td>\n",
              "    </tr>\n",
              "    <tr>\n",
              "      <th>177</th>\n",
              "      <td>3</td>\n",
              "      <td>place is good I will come again</td>\n",
              "      <td>5</td>\n",
              "    </tr>\n",
              "    <tr>\n",
              "      <th>502</th>\n",
              "      <td>9</td>\n",
              "      <td>Excelente comunicación y atención. La casita es super Fresca, cómoda, con excelente ubicación para descansar y se encuentra cerca de todo.</td>\n",
              "      <td>5</td>\n",
              "    </tr>\n",
              "  </tbody>\n",
              "</table>\n",
              "</div>\n",
              "    <div class=\"colab-df-buttons\">\n",
              "\n",
              "  <div class=\"colab-df-container\">\n",
              "    <button class=\"colab-df-convert\" onclick=\"convertToInteractive('df-4c669501-9dbb-4a54-a48d-1ba7bb6ca53e')\"\n",
              "            title=\"Convert this dataframe to an interactive table.\"\n",
              "            style=\"display:none;\">\n",
              "\n",
              "  <svg xmlns=\"http://www.w3.org/2000/svg\" height=\"24px\" viewBox=\"0 -960 960 960\">\n",
              "    <path d=\"M120-120v-720h720v720H120Zm60-500h600v-160H180v160Zm220 220h160v-160H400v160Zm0 220h160v-160H400v160ZM180-400h160v-160H180v160Zm440 0h160v-160H620v160ZM180-180h160v-160H180v160Zm440 0h160v-160H620v160Z\"/>\n",
              "  </svg>\n",
              "    </button>\n",
              "\n",
              "  <style>\n",
              "    .colab-df-container {\n",
              "      display:flex;\n",
              "      gap: 12px;\n",
              "    }\n",
              "\n",
              "    .colab-df-convert {\n",
              "      background-color: #E8F0FE;\n",
              "      border: none;\n",
              "      border-radius: 50%;\n",
              "      cursor: pointer;\n",
              "      display: none;\n",
              "      fill: #1967D2;\n",
              "      height: 32px;\n",
              "      padding: 0 0 0 0;\n",
              "      width: 32px;\n",
              "    }\n",
              "\n",
              "    .colab-df-convert:hover {\n",
              "      background-color: #E2EBFA;\n",
              "      box-shadow: 0px 1px 2px rgba(60, 64, 67, 0.3), 0px 1px 3px 1px rgba(60, 64, 67, 0.15);\n",
              "      fill: #174EA6;\n",
              "    }\n",
              "\n",
              "    .colab-df-buttons div {\n",
              "      margin-bottom: 4px;\n",
              "    }\n",
              "\n",
              "    [theme=dark] .colab-df-convert {\n",
              "      background-color: #3B4455;\n",
              "      fill: #D2E3FC;\n",
              "    }\n",
              "\n",
              "    [theme=dark] .colab-df-convert:hover {\n",
              "      background-color: #434B5C;\n",
              "      box-shadow: 0px 1px 3px 1px rgba(0, 0, 0, 0.15);\n",
              "      filter: drop-shadow(0px 1px 2px rgba(0, 0, 0, 0.3));\n",
              "      fill: #FFFFFF;\n",
              "    }\n",
              "  </style>\n",
              "\n",
              "    <script>\n",
              "      const buttonEl =\n",
              "        document.querySelector('#df-4c669501-9dbb-4a54-a48d-1ba7bb6ca53e button.colab-df-convert');\n",
              "      buttonEl.style.display =\n",
              "        google.colab.kernel.accessAllowed ? 'block' : 'none';\n",
              "\n",
              "      async function convertToInteractive(key) {\n",
              "        const element = document.querySelector('#df-4c669501-9dbb-4a54-a48d-1ba7bb6ca53e');\n",
              "        const dataTable =\n",
              "          await google.colab.kernel.invokeFunction('convertToInteractive',\n",
              "                                                    [key], {});\n",
              "        if (!dataTable) return;\n",
              "\n",
              "        const docLinkHtml = 'Like what you see? Visit the ' +\n",
              "          '<a target=\"_blank\" href=https://colab.research.google.com/notebooks/data_table.ipynb>data table notebook</a>'\n",
              "          + ' to learn more about interactive tables.';\n",
              "        element.innerHTML = '';\n",
              "        dataTable['output_type'] = 'display_data';\n",
              "        await google.colab.output.renderOutput(dataTable, element);\n",
              "        const docLink = document.createElement('div');\n",
              "        docLink.innerHTML = docLinkHtml;\n",
              "        element.appendChild(docLink);\n",
              "      }\n",
              "    </script>\n",
              "  </div>\n",
              "\n",
              "\n",
              "<div id=\"df-f2ed9b3e-4f16-4679-bf8b-5426420227ca\">\n",
              "  <button class=\"colab-df-quickchart\" onclick=\"quickchart('df-f2ed9b3e-4f16-4679-bf8b-5426420227ca')\"\n",
              "            title=\"Suggest charts\"\n",
              "            style=\"display:none;\">\n",
              "\n",
              "<svg xmlns=\"http://www.w3.org/2000/svg\" height=\"24px\"viewBox=\"0 0 24 24\"\n",
              "     width=\"24px\">\n",
              "    <g>\n",
              "        <path d=\"M19 3H5c-1.1 0-2 .9-2 2v14c0 1.1.9 2 2 2h14c1.1 0 2-.9 2-2V5c0-1.1-.9-2-2-2zM9 17H7v-7h2v7zm4 0h-2V7h2v10zm4 0h-2v-4h2v4z\"/>\n",
              "    </g>\n",
              "</svg>\n",
              "  </button>\n",
              "\n",
              "<style>\n",
              "  .colab-df-quickchart {\n",
              "      --bg-color: #E8F0FE;\n",
              "      --fill-color: #1967D2;\n",
              "      --hover-bg-color: #E2EBFA;\n",
              "      --hover-fill-color: #174EA6;\n",
              "      --disabled-fill-color: #AAA;\n",
              "      --disabled-bg-color: #DDD;\n",
              "  }\n",
              "\n",
              "  [theme=dark] .colab-df-quickchart {\n",
              "      --bg-color: #3B4455;\n",
              "      --fill-color: #D2E3FC;\n",
              "      --hover-bg-color: #434B5C;\n",
              "      --hover-fill-color: #FFFFFF;\n",
              "      --disabled-bg-color: #3B4455;\n",
              "      --disabled-fill-color: #666;\n",
              "  }\n",
              "\n",
              "  .colab-df-quickchart {\n",
              "    background-color: var(--bg-color);\n",
              "    border: none;\n",
              "    border-radius: 50%;\n",
              "    cursor: pointer;\n",
              "    display: none;\n",
              "    fill: var(--fill-color);\n",
              "    height: 32px;\n",
              "    padding: 0;\n",
              "    width: 32px;\n",
              "  }\n",
              "\n",
              "  .colab-df-quickchart:hover {\n",
              "    background-color: var(--hover-bg-color);\n",
              "    box-shadow: 0 1px 2px rgba(60, 64, 67, 0.3), 0 1px 3px 1px rgba(60, 64, 67, 0.15);\n",
              "    fill: var(--button-hover-fill-color);\n",
              "  }\n",
              "\n",
              "  .colab-df-quickchart-complete:disabled,\n",
              "  .colab-df-quickchart-complete:disabled:hover {\n",
              "    background-color: var(--disabled-bg-color);\n",
              "    fill: var(--disabled-fill-color);\n",
              "    box-shadow: none;\n",
              "  }\n",
              "\n",
              "  .colab-df-spinner {\n",
              "    border: 2px solid var(--fill-color);\n",
              "    border-color: transparent;\n",
              "    border-bottom-color: var(--fill-color);\n",
              "    animation:\n",
              "      spin 1s steps(1) infinite;\n",
              "  }\n",
              "\n",
              "  @keyframes spin {\n",
              "    0% {\n",
              "      border-color: transparent;\n",
              "      border-bottom-color: var(--fill-color);\n",
              "      border-left-color: var(--fill-color);\n",
              "    }\n",
              "    20% {\n",
              "      border-color: transparent;\n",
              "      border-left-color: var(--fill-color);\n",
              "      border-top-color: var(--fill-color);\n",
              "    }\n",
              "    30% {\n",
              "      border-color: transparent;\n",
              "      border-left-color: var(--fill-color);\n",
              "      border-top-color: var(--fill-color);\n",
              "      border-right-color: var(--fill-color);\n",
              "    }\n",
              "    40% {\n",
              "      border-color: transparent;\n",
              "      border-right-color: var(--fill-color);\n",
              "      border-top-color: var(--fill-color);\n",
              "    }\n",
              "    60% {\n",
              "      border-color: transparent;\n",
              "      border-right-color: var(--fill-color);\n",
              "    }\n",
              "    80% {\n",
              "      border-color: transparent;\n",
              "      border-right-color: var(--fill-color);\n",
              "      border-bottom-color: var(--fill-color);\n",
              "    }\n",
              "    90% {\n",
              "      border-color: transparent;\n",
              "      border-bottom-color: var(--fill-color);\n",
              "    }\n",
              "  }\n",
              "</style>\n",
              "\n",
              "  <script>\n",
              "    async function quickchart(key) {\n",
              "      const quickchartButtonEl =\n",
              "        document.querySelector('#' + key + ' button');\n",
              "      quickchartButtonEl.disabled = true;  // To prevent multiple clicks.\n",
              "      quickchartButtonEl.classList.add('colab-df-spinner');\n",
              "      try {\n",
              "        const charts = await google.colab.kernel.invokeFunction(\n",
              "            'suggestCharts', [key], {});\n",
              "      } catch (error) {\n",
              "        console.error('Error during call to suggestCharts:', error);\n",
              "      }\n",
              "      quickchartButtonEl.classList.remove('colab-df-spinner');\n",
              "      quickchartButtonEl.classList.add('colab-df-quickchart-complete');\n",
              "    }\n",
              "    (() => {\n",
              "      let quickchartButtonEl =\n",
              "        document.querySelector('#df-f2ed9b3e-4f16-4679-bf8b-5426420227ca button');\n",
              "      quickchartButtonEl.style.display =\n",
              "        google.colab.kernel.accessAllowed ? 'block' : 'none';\n",
              "    })();\n",
              "  </script>\n",
              "</div>\n",
              "\n",
              "    </div>\n",
              "  </div>\n"
            ],
            "application/vnd.google.colaboratory.intrinsic+json": {
              "type": "dataframe",
              "summary": "{\n  \"name\": \"df_reviews\",\n  \"rows\": 5,\n  \"fields\": [\n    {\n      \"column\": \"id_alojamiento\",\n      \"properties\": {\n        \"dtype\": \"number\",\n        \"std\": 3,\n        \"min\": 2,\n        \"max\": 9,\n        \"num_unique_values\": 4,\n        \"samples\": [\n          6,\n          3,\n          9\n        ],\n        \"semantic_type\": \"\",\n        \"description\": \"\"\n      }\n    },\n    {\n      \"column\": \"review\",\n      \"properties\": {\n        \"dtype\": \"string\",\n        \"num_unique_values\": 5,\n        \"samples\": [\n          \"Comunizacion eficaz\",\n          \"Excelente comunicaci\\u00f3n y atenci\\u00f3n. La casita es super Fresca, c\\u00f3moda, con excelente ubicaci\\u00f3n para descansar y se encuentra cerca de todo.\",\n          \"I loved this place, I would have stayed forever if it wasn\\u2019t booked. I stayed 2 weeks and everything was great. It\\u2019s better than the photos; small, cute and cozy. The views are to die for, especially from bed. For the price, this place is 20 out of 10. Just keep in mind it is not a resort, it is simplistic yet perfect for a down to earth traveler. Quiet spot just a few minutes walk into town/beach. The only downfall was I had to buy my own sponge/dish soap, toilet paper and what not\\u2026 but no problem considering the price. Johnny is great as well!! Thank you so much I hope to come back\"\n        ],\n        \"semantic_type\": \"\",\n        \"description\": \"\"\n      }\n    },\n    {\n      \"column\": \"stars\",\n      \"properties\": {\n        \"dtype\": \"number\",\n        \"std\": 0,\n        \"min\": 5,\n        \"max\": 5,\n        \"num_unique_values\": 1,\n        \"samples\": [\n          5\n        ],\n        \"semantic_type\": \"\",\n        \"description\": \"\"\n      }\n    }\n  ]\n}"
            }
          },
          "metadata": {},
          "execution_count": 23
        }
      ]
    },
    {
      "cell_type": "code",
      "source": [
        "if not os.path.exists(\"df_reviews.csv\"):\n",
        "    df_reviews.to_csv(\"df_reviews.csv\", index=False)"
      ],
      "metadata": {
        "id": "sOe-J8CeH5F6"
      },
      "execution_count": 24,
      "outputs": []
    },
    {
      "cell_type": "markdown",
      "source": [
        "A continuaci&oacute;n, se procede a traducir las rese&ntilde;as dejadas por los hu&eacute;spedes a los alojamientos con la ayuda de **Google Cloud Translate**, el cual detecta de manera autom&aacute;tica el idioma de los textos de entrada y los traduce al ingl&eacute;s a fin de procesarlos posteriormente al momento de realizar el an&aacute;lisis de sentimientos.\n",
        "\n",
        "Para las ejecuciones posteriores del presente *Jupyter Notebook*, se importa el archivo con las rese&ntilde;as ya traducidas a fin de no exceder la cuota de traducciones permitidas en la capa gratuita de *Google Cloud Translate*."
      ],
      "metadata": {
        "id": "iH6obQtl0Wmt"
      }
    },
    {
      "cell_type": "code",
      "source": [
        "df_traducciones = pd.DataFrame()"
      ],
      "metadata": {
        "id": "miNvAlTRMrMc"
      },
      "execution_count": 25,
      "outputs": []
    },
    {
      "cell_type": "code",
      "source": [
        "from google.cloud import translate_v2 as translate\n",
        "\n",
        "# Lectura de llave privada de la API de Google Cloud Translate\n",
        "client = translate.Client.from_service_account_json(\n",
        "    \"../private_key_translate.json\"\n",
        ")\n",
        "\n",
        "if not os.path.exists(\"df_reviews_traducido.xlsx\"):\n",
        "    # Función para traducir un texto\n",
        "    def translate_text(text, target_language='en'):\n",
        "        result = client.translate(text, target_language=target_language)\n",
        "        return result['translatedText']\n",
        "\n",
        "    # Traducción de texto en la columna \"review\"\n",
        "    df_reviews['texto_traducido'] = df_reviews[\"review\"].apply(\n",
        "        lambda x: translate_text(x, target_language=\"en\")\n",
        "    )\n",
        "\n",
        "    # Almacenamiento de reseñas traducidas para uso futuro\n",
        "    df_reviews[[\n",
        "            \"id_alojamiento\", \"review\", \"texto_traducido\", \"stars\"\n",
        "        ]].to_excel(\n",
        "        \"df_reviews_traducido.xlsx\", index=False\n",
        "    )\n",
        "\n",
        "else:\n",
        "    df_reviews['texto_traducido'] = pd.read_excel(\n",
        "        \"df_reviews_traducido.xlsx\"\n",
        "    )[\"texto_traducido\"]"
      ],
      "metadata": {
        "id": "BgNE4aBr_TWF"
      },
      "execution_count": 26,
      "outputs": []
    },
    {
      "cell_type": "markdown",
      "source": [
        "Se obtiene una muestra aleatoria de los datos a fin de verificar las traducciones realizadas."
      ],
      "metadata": {
        "id": "djYOSgWQM2yR"
      }
    },
    {
      "cell_type": "code",
      "source": [
        "df_reviews.sample(10)"
      ],
      "metadata": {
        "colab": {
          "base_uri": "https://localhost:8080/",
          "height": 589
        },
        "id": "WFZwFzPOOLZf",
        "outputId": "9e4a0e6b-bb50-4e52-d2af-190d63617ccb"
      },
      "execution_count": 27,
      "outputs": [
        {
          "output_type": "execute_result",
          "data": {
            "text/plain": [
              "     id_alojamiento  \\\n",
              "317               6   \n",
              "587               9   \n",
              "473               8   \n",
              "501               9   \n",
              "29                2   \n",
              "409               6   \n",
              "567               9   \n",
              "316               6   \n",
              "329               6   \n",
              "395               6   \n",
              "\n",
              "                                                                                                                                                                                                                                                                                                                                                                                                                               review  \\\n",
              "317                                                                                                                                                                                                                                                                                                                                                                                                Espacio perfecto para una escapada   \n",
              "587  El apartamento es un excelente lugar para estar relajado. Es un lugar muy cómodo y preparado para una estadía muy amena. Gijs y Liliana se preocuparon mucho por que estemos a gusto e incluso prepararon un croquis con la información de todo tipo de lugares cercanos, así como una guía de que hacer y dónde en caso de que queramos hacer otro tipo de actividades. Definitivamente, es un lugar al que me gustaría volver.   \n",
              "473                                                                                                                                                                                                                                              Uitstekende locatie voor een verblijf in Montanita. Rustige, schone, relaxte en mooie locatie net buiten het centrum. Heerlijk ontbijtje en leuke en behulpzame eigenaren. Aanrader!   \n",
              "501                                                                                                                                                                                                                                                                                                                                                           the place is amazing, I'm in love wi the beach, Gina is incredible host   \n",
              "29                                                                                                                                                                                                                               We felt like home in this beautiful and clean place! The wifi works amazing and the view is wonderful. It is close to everything and the host is very friendly too. Definitely recommend this place.   \n",
              "409                                                                                                                                                                                                                                                                               amazing place! beautiful interior. has a stove, fridge, bathtub/shower and a.c. it's a minute walk to the center of montanita. highly recommended:)   \n",
              "567                                                                                                                                                                                                                                                                             El lugar es espectacular muy acogedor y Liliana muy amable y atenta, le agradezco por que fue mi primer experiencia en Arbnb y fue muy satisfactoria.   \n",
              "316                                                                                                                                                                                                                                                                                                                                                                                 can't find a better place than this in Montanita!   \n",
              "329                                                                                                                                                                                                                                                                                                             Place was exactly as described. Host was most friedly and communication was quick and efficient. Great place to stay.   \n",
              "395                                                                                                                                                                                                                                                                                                                                                                            Muy bien servicio, hospitalidad y excelente ubicación.   \n",
              "\n",
              "     stars  \\\n",
              "317      4   \n",
              "587      5   \n",
              "473      5   \n",
              "501      5   \n",
              "29       5   \n",
              "409      5   \n",
              "567      5   \n",
              "316      5   \n",
              "329      5   \n",
              "395      4   \n",
              "\n",
              "                                                                                                                                                                                                                                                                                                                                                                                                         texto_traducido  \n",
              "317                                                                                                                                                                                                                                                                                                                                                                                          Perfect space for a getaway  \n",
              "587  The apartment is a great place to relax. It is a very comfortable place and prepared for a very pleasant stay. Gijs and Liliana were very concerned about making sure we were comfortable and even prepared a map with information on all kinds of nearby places, as well as a guide on what to do and where in case we wanted to do other types of activities. It is definitely a place I would like to return to.  \n",
              "473                                                                                                                                                                                                                                      Excellent location for a stay in Montanita. Quiet, clean, relaxed and beautiful location just outside the center. Delicious breakfast and nice and helpful owners. Recommended!  \n",
              "501                                                                                                                                                                                                                                                                                                                                              the place is amazing, I'm in love wi the beach, Gina is incredible host  \n",
              "29                                                                                                                                                                                                                  We felt like home in this beautiful and clean place! The wifi works amazing and the view is wonderful. It is close to everything and the host is very friendly too. Definitely recommend this place.  \n",
              "409                                                                                                                                                                                                                                                                  amazing place! beautiful interior. has a stove, fridge, bathtub/shower and a.c. it's a minute walk to the center of montanita. highly recommended:)  \n",
              "567                                                                                                                                                                                                                                                The place is spectacular, very cozy and Liliana is very friendly and attentive, I thank her because it was my first experience at Arbnb and it was very satisfactory.  \n",
              "316                                                                                                                                                                                                                                                                                                                                                                    can't find a better place than this in Montanita!  \n",
              "329                                                                                                                                                                                                                                                                                                Place was exactly as described. Host was most friedly and communication was quick and efficient. Great place to stay.  \n",
              "395                                                                                                                                                                                                                                                                                                                                                               Very good service, hospitality and excellent location.  "
            ],
            "text/html": [
              "\n",
              "  <div id=\"df-21cfd137-d23c-4b62-b98d-0ec5115a2c48\" class=\"colab-df-container\">\n",
              "    <div>\n",
              "<style scoped>\n",
              "    .dataframe tbody tr th:only-of-type {\n",
              "        vertical-align: middle;\n",
              "    }\n",
              "\n",
              "    .dataframe tbody tr th {\n",
              "        vertical-align: top;\n",
              "    }\n",
              "\n",
              "    .dataframe thead th {\n",
              "        text-align: right;\n",
              "    }\n",
              "</style>\n",
              "<table border=\"1\" class=\"dataframe\">\n",
              "  <thead>\n",
              "    <tr style=\"text-align: right;\">\n",
              "      <th></th>\n",
              "      <th>id_alojamiento</th>\n",
              "      <th>review</th>\n",
              "      <th>stars</th>\n",
              "      <th>texto_traducido</th>\n",
              "    </tr>\n",
              "  </thead>\n",
              "  <tbody>\n",
              "    <tr>\n",
              "      <th>317</th>\n",
              "      <td>6</td>\n",
              "      <td>Espacio perfecto para una escapada</td>\n",
              "      <td>4</td>\n",
              "      <td>Perfect space for a getaway</td>\n",
              "    </tr>\n",
              "    <tr>\n",
              "      <th>587</th>\n",
              "      <td>9</td>\n",
              "      <td>El apartamento es un excelente lugar para estar relajado. Es un lugar muy cómodo y preparado para una estadía muy amena. Gijs y Liliana se preocuparon mucho por que estemos a gusto e incluso prepararon un croquis con la información de todo tipo de lugares cercanos, así como una guía de que hacer y dónde en caso de que queramos hacer otro tipo de actividades. Definitivamente, es un lugar al que me gustaría volver.</td>\n",
              "      <td>5</td>\n",
              "      <td>The apartment is a great place to relax. It is a very comfortable place and prepared for a very pleasant stay. Gijs and Liliana were very concerned about making sure we were comfortable and even prepared a map with information on all kinds of nearby places, as well as a guide on what to do and where in case we wanted to do other types of activities. It is definitely a place I would like to return to.</td>\n",
              "    </tr>\n",
              "    <tr>\n",
              "      <th>473</th>\n",
              "      <td>8</td>\n",
              "      <td>Uitstekende locatie voor een verblijf in Montanita. Rustige, schone, relaxte en mooie locatie net buiten het centrum. Heerlijk ontbijtje en leuke en behulpzame eigenaren. Aanrader!</td>\n",
              "      <td>5</td>\n",
              "      <td>Excellent location for a stay in Montanita. Quiet, clean, relaxed and beautiful location just outside the center. Delicious breakfast and nice and helpful owners. Recommended!</td>\n",
              "    </tr>\n",
              "    <tr>\n",
              "      <th>501</th>\n",
              "      <td>9</td>\n",
              "      <td>the place is amazing, I'm in love wi the beach, Gina is incredible host</td>\n",
              "      <td>5</td>\n",
              "      <td>the place is amazing, I'm in love wi the beach, Gina is incredible host</td>\n",
              "    </tr>\n",
              "    <tr>\n",
              "      <th>29</th>\n",
              "      <td>2</td>\n",
              "      <td>We felt like home in this beautiful and clean place! The wifi works amazing and the view is wonderful. It is close to everything and the host is very friendly too. Definitely recommend this place.</td>\n",
              "      <td>5</td>\n",
              "      <td>We felt like home in this beautiful and clean place! The wifi works amazing and the view is wonderful. It is close to everything and the host is very friendly too. Definitely recommend this place.</td>\n",
              "    </tr>\n",
              "    <tr>\n",
              "      <th>409</th>\n",
              "      <td>6</td>\n",
              "      <td>amazing place! beautiful interior. has a stove, fridge, bathtub/shower and a.c. it's a minute walk to the center of montanita. highly recommended:)</td>\n",
              "      <td>5</td>\n",
              "      <td>amazing place! beautiful interior. has a stove, fridge, bathtub/shower and a.c. it's a minute walk to the center of montanita. highly recommended:)</td>\n",
              "    </tr>\n",
              "    <tr>\n",
              "      <th>567</th>\n",
              "      <td>9</td>\n",
              "      <td>El lugar es espectacular muy acogedor y Liliana muy amable y atenta, le agradezco por que fue mi primer experiencia en Arbnb y fue muy satisfactoria.</td>\n",
              "      <td>5</td>\n",
              "      <td>The place is spectacular, very cozy and Liliana is very friendly and attentive, I thank her because it was my first experience at Arbnb and it was very satisfactory.</td>\n",
              "    </tr>\n",
              "    <tr>\n",
              "      <th>316</th>\n",
              "      <td>6</td>\n",
              "      <td>can't find a better place than this in Montanita!</td>\n",
              "      <td>5</td>\n",
              "      <td>can't find a better place than this in Montanita!</td>\n",
              "    </tr>\n",
              "    <tr>\n",
              "      <th>329</th>\n",
              "      <td>6</td>\n",
              "      <td>Place was exactly as described. Host was most friedly and communication was quick and efficient. Great place to stay.</td>\n",
              "      <td>5</td>\n",
              "      <td>Place was exactly as described. Host was most friedly and communication was quick and efficient. Great place to stay.</td>\n",
              "    </tr>\n",
              "    <tr>\n",
              "      <th>395</th>\n",
              "      <td>6</td>\n",
              "      <td>Muy bien servicio, hospitalidad y excelente ubicación.</td>\n",
              "      <td>4</td>\n",
              "      <td>Very good service, hospitality and excellent location.</td>\n",
              "    </tr>\n",
              "  </tbody>\n",
              "</table>\n",
              "</div>\n",
              "    <div class=\"colab-df-buttons\">\n",
              "\n",
              "  <div class=\"colab-df-container\">\n",
              "    <button class=\"colab-df-convert\" onclick=\"convertToInteractive('df-21cfd137-d23c-4b62-b98d-0ec5115a2c48')\"\n",
              "            title=\"Convert this dataframe to an interactive table.\"\n",
              "            style=\"display:none;\">\n",
              "\n",
              "  <svg xmlns=\"http://www.w3.org/2000/svg\" height=\"24px\" viewBox=\"0 -960 960 960\">\n",
              "    <path d=\"M120-120v-720h720v720H120Zm60-500h600v-160H180v160Zm220 220h160v-160H400v160Zm0 220h160v-160H400v160ZM180-400h160v-160H180v160Zm440 0h160v-160H620v160ZM180-180h160v-160H180v160Zm440 0h160v-160H620v160Z\"/>\n",
              "  </svg>\n",
              "    </button>\n",
              "\n",
              "  <style>\n",
              "    .colab-df-container {\n",
              "      display:flex;\n",
              "      gap: 12px;\n",
              "    }\n",
              "\n",
              "    .colab-df-convert {\n",
              "      background-color: #E8F0FE;\n",
              "      border: none;\n",
              "      border-radius: 50%;\n",
              "      cursor: pointer;\n",
              "      display: none;\n",
              "      fill: #1967D2;\n",
              "      height: 32px;\n",
              "      padding: 0 0 0 0;\n",
              "      width: 32px;\n",
              "    }\n",
              "\n",
              "    .colab-df-convert:hover {\n",
              "      background-color: #E2EBFA;\n",
              "      box-shadow: 0px 1px 2px rgba(60, 64, 67, 0.3), 0px 1px 3px 1px rgba(60, 64, 67, 0.15);\n",
              "      fill: #174EA6;\n",
              "    }\n",
              "\n",
              "    .colab-df-buttons div {\n",
              "      margin-bottom: 4px;\n",
              "    }\n",
              "\n",
              "    [theme=dark] .colab-df-convert {\n",
              "      background-color: #3B4455;\n",
              "      fill: #D2E3FC;\n",
              "    }\n",
              "\n",
              "    [theme=dark] .colab-df-convert:hover {\n",
              "      background-color: #434B5C;\n",
              "      box-shadow: 0px 1px 3px 1px rgba(0, 0, 0, 0.15);\n",
              "      filter: drop-shadow(0px 1px 2px rgba(0, 0, 0, 0.3));\n",
              "      fill: #FFFFFF;\n",
              "    }\n",
              "  </style>\n",
              "\n",
              "    <script>\n",
              "      const buttonEl =\n",
              "        document.querySelector('#df-21cfd137-d23c-4b62-b98d-0ec5115a2c48 button.colab-df-convert');\n",
              "      buttonEl.style.display =\n",
              "        google.colab.kernel.accessAllowed ? 'block' : 'none';\n",
              "\n",
              "      async function convertToInteractive(key) {\n",
              "        const element = document.querySelector('#df-21cfd137-d23c-4b62-b98d-0ec5115a2c48');\n",
              "        const dataTable =\n",
              "          await google.colab.kernel.invokeFunction('convertToInteractive',\n",
              "                                                    [key], {});\n",
              "        if (!dataTable) return;\n",
              "\n",
              "        const docLinkHtml = 'Like what you see? Visit the ' +\n",
              "          '<a target=\"_blank\" href=https://colab.research.google.com/notebooks/data_table.ipynb>data table notebook</a>'\n",
              "          + ' to learn more about interactive tables.';\n",
              "        element.innerHTML = '';\n",
              "        dataTable['output_type'] = 'display_data';\n",
              "        await google.colab.output.renderOutput(dataTable, element);\n",
              "        const docLink = document.createElement('div');\n",
              "        docLink.innerHTML = docLinkHtml;\n",
              "        element.appendChild(docLink);\n",
              "      }\n",
              "    </script>\n",
              "  </div>\n",
              "\n",
              "\n",
              "<div id=\"df-2bfc0c85-d73c-4584-b613-87293b8a954f\">\n",
              "  <button class=\"colab-df-quickchart\" onclick=\"quickchart('df-2bfc0c85-d73c-4584-b613-87293b8a954f')\"\n",
              "            title=\"Suggest charts\"\n",
              "            style=\"display:none;\">\n",
              "\n",
              "<svg xmlns=\"http://www.w3.org/2000/svg\" height=\"24px\"viewBox=\"0 0 24 24\"\n",
              "     width=\"24px\">\n",
              "    <g>\n",
              "        <path d=\"M19 3H5c-1.1 0-2 .9-2 2v14c0 1.1.9 2 2 2h14c1.1 0 2-.9 2-2V5c0-1.1-.9-2-2-2zM9 17H7v-7h2v7zm4 0h-2V7h2v10zm4 0h-2v-4h2v4z\"/>\n",
              "    </g>\n",
              "</svg>\n",
              "  </button>\n",
              "\n",
              "<style>\n",
              "  .colab-df-quickchart {\n",
              "      --bg-color: #E8F0FE;\n",
              "      --fill-color: #1967D2;\n",
              "      --hover-bg-color: #E2EBFA;\n",
              "      --hover-fill-color: #174EA6;\n",
              "      --disabled-fill-color: #AAA;\n",
              "      --disabled-bg-color: #DDD;\n",
              "  }\n",
              "\n",
              "  [theme=dark] .colab-df-quickchart {\n",
              "      --bg-color: #3B4455;\n",
              "      --fill-color: #D2E3FC;\n",
              "      --hover-bg-color: #434B5C;\n",
              "      --hover-fill-color: #FFFFFF;\n",
              "      --disabled-bg-color: #3B4455;\n",
              "      --disabled-fill-color: #666;\n",
              "  }\n",
              "\n",
              "  .colab-df-quickchart {\n",
              "    background-color: var(--bg-color);\n",
              "    border: none;\n",
              "    border-radius: 50%;\n",
              "    cursor: pointer;\n",
              "    display: none;\n",
              "    fill: var(--fill-color);\n",
              "    height: 32px;\n",
              "    padding: 0;\n",
              "    width: 32px;\n",
              "  }\n",
              "\n",
              "  .colab-df-quickchart:hover {\n",
              "    background-color: var(--hover-bg-color);\n",
              "    box-shadow: 0 1px 2px rgba(60, 64, 67, 0.3), 0 1px 3px 1px rgba(60, 64, 67, 0.15);\n",
              "    fill: var(--button-hover-fill-color);\n",
              "  }\n",
              "\n",
              "  .colab-df-quickchart-complete:disabled,\n",
              "  .colab-df-quickchart-complete:disabled:hover {\n",
              "    background-color: var(--disabled-bg-color);\n",
              "    fill: var(--disabled-fill-color);\n",
              "    box-shadow: none;\n",
              "  }\n",
              "\n",
              "  .colab-df-spinner {\n",
              "    border: 2px solid var(--fill-color);\n",
              "    border-color: transparent;\n",
              "    border-bottom-color: var(--fill-color);\n",
              "    animation:\n",
              "      spin 1s steps(1) infinite;\n",
              "  }\n",
              "\n",
              "  @keyframes spin {\n",
              "    0% {\n",
              "      border-color: transparent;\n",
              "      border-bottom-color: var(--fill-color);\n",
              "      border-left-color: var(--fill-color);\n",
              "    }\n",
              "    20% {\n",
              "      border-color: transparent;\n",
              "      border-left-color: var(--fill-color);\n",
              "      border-top-color: var(--fill-color);\n",
              "    }\n",
              "    30% {\n",
              "      border-color: transparent;\n",
              "      border-left-color: var(--fill-color);\n",
              "      border-top-color: var(--fill-color);\n",
              "      border-right-color: var(--fill-color);\n",
              "    }\n",
              "    40% {\n",
              "      border-color: transparent;\n",
              "      border-right-color: var(--fill-color);\n",
              "      border-top-color: var(--fill-color);\n",
              "    }\n",
              "    60% {\n",
              "      border-color: transparent;\n",
              "      border-right-color: var(--fill-color);\n",
              "    }\n",
              "    80% {\n",
              "      border-color: transparent;\n",
              "      border-right-color: var(--fill-color);\n",
              "      border-bottom-color: var(--fill-color);\n",
              "    }\n",
              "    90% {\n",
              "      border-color: transparent;\n",
              "      border-bottom-color: var(--fill-color);\n",
              "    }\n",
              "  }\n",
              "</style>\n",
              "\n",
              "  <script>\n",
              "    async function quickchart(key) {\n",
              "      const quickchartButtonEl =\n",
              "        document.querySelector('#' + key + ' button');\n",
              "      quickchartButtonEl.disabled = true;  // To prevent multiple clicks.\n",
              "      quickchartButtonEl.classList.add('colab-df-spinner');\n",
              "      try {\n",
              "        const charts = await google.colab.kernel.invokeFunction(\n",
              "            'suggestCharts', [key], {});\n",
              "      } catch (error) {\n",
              "        console.error('Error during call to suggestCharts:', error);\n",
              "      }\n",
              "      quickchartButtonEl.classList.remove('colab-df-spinner');\n",
              "      quickchartButtonEl.classList.add('colab-df-quickchart-complete');\n",
              "    }\n",
              "    (() => {\n",
              "      let quickchartButtonEl =\n",
              "        document.querySelector('#df-2bfc0c85-d73c-4584-b613-87293b8a954f button');\n",
              "      quickchartButtonEl.style.display =\n",
              "        google.colab.kernel.accessAllowed ? 'block' : 'none';\n",
              "    })();\n",
              "  </script>\n",
              "</div>\n",
              "\n",
              "    </div>\n",
              "  </div>\n"
            ],
            "application/vnd.google.colaboratory.intrinsic+json": {
              "type": "dataframe",
              "summary": "{\n  \"name\": \"df_reviews\",\n  \"rows\": 10,\n  \"fields\": [\n    {\n      \"column\": \"id_alojamiento\",\n      \"properties\": {\n        \"dtype\": \"number\",\n        \"std\": 2,\n        \"min\": 2,\n        \"max\": 9,\n        \"num_unique_values\": 4,\n        \"samples\": [\n          9,\n          2,\n          6\n        ],\n        \"semantic_type\": \"\",\n        \"description\": \"\"\n      }\n    },\n    {\n      \"column\": \"review\",\n      \"properties\": {\n        \"dtype\": \"string\",\n        \"num_unique_values\": 10,\n        \"samples\": [\n          \"Place was exactly as described. Host was most friedly and communication was quick and efficient. Great place to stay.\",\n          \"El apartamento es un excelente lugar para estar relajado. Es un lugar muy c\\u00f3modo y preparado para una estad\\u00eda muy amena. Gijs y Liliana se preocuparon mucho por que estemos a gusto e incluso prepararon un croquis con la informaci\\u00f3n de todo tipo de lugares cercanos, as\\u00ed como una gu\\u00eda de que hacer y d\\u00f3nde en caso de que queramos hacer otro tipo de actividades. Definitivamente, es un lugar al que me gustar\\u00eda volver.\",\n          \"amazing place! beautiful interior. has a stove, fridge, bathtub/shower and a.c. it's a minute walk to the center of montanita. highly recommended:)\"\n        ],\n        \"semantic_type\": \"\",\n        \"description\": \"\"\n      }\n    },\n    {\n      \"column\": \"stars\",\n      \"properties\": {\n        \"dtype\": \"number\",\n        \"std\": 0,\n        \"min\": 4,\n        \"max\": 5,\n        \"num_unique_values\": 2,\n        \"samples\": [\n          5,\n          4\n        ],\n        \"semantic_type\": \"\",\n        \"description\": \"\"\n      }\n    },\n    {\n      \"column\": \"texto_traducido\",\n      \"properties\": {\n        \"dtype\": \"string\",\n        \"num_unique_values\": 10,\n        \"samples\": [\n          \"Place was exactly as described. Host was most friedly and communication was quick and efficient. Great place to stay.\",\n          \"The apartment is a great place to relax. It is a very comfortable place and prepared for a very pleasant stay. Gijs and Liliana were very concerned about making sure we were comfortable and even prepared a map with information on all kinds of nearby places, as well as a guide on what to do and where in case we wanted to do other types of activities. It is definitely a place I would like to return to.\"\n        ],\n        \"semantic_type\": \"\",\n        \"description\": \"\"\n      }\n    }\n  ]\n}"
            }
          },
          "metadata": {},
          "execution_count": 27
        }
      ]
    },
    {
      "cell_type": "markdown",
      "source": [
        "# Preparaci&oacute;n de los datos para el Análisis de Sentimientos"
      ],
      "metadata": {
        "id": "O1RvkDM8Ni8z"
      }
    },
    {
      "cell_type": "markdown",
      "source": [
        "##: Elminaci&oacute;n de signos de puntuaci&oacute;n, art&iacute;culos y palabras innecesarias:"
      ],
      "metadata": {
        "id": "qJrJ4N0cmG-w"
      }
    },
    {
      "cell_type": "markdown",
      "source": [
        "Se importa la librer&iacute;a **nltk** detectar y eliminar de los comentarios dejados por los hu&eacute;spedes y traducidos previamente al ingl&eacute;s, los art&iacute;culos, palabras y signos de puntuaci&oacute;n que no van a ser de utilidad al momento de realizar el an&aacute;lisis de sentimientos, y se almacena en una nueva columna del *DataFrame* llamada \"*texto_sin_stopwords*\"."
      ],
      "metadata": {
        "id": "lhqgP6K8OdVA"
      }
    },
    {
      "cell_type": "code",
      "source": [
        "import nltk\n",
        "from nltk.corpus import stopwords\n",
        "from nltk.tokenize import word_tokenize\n",
        "\n",
        "nltk.download('stopwords')\n",
        "nltk.download('punkt')\n",
        "\n",
        "\n",
        "def remover_articulos(text):\n",
        "    stop_words = set(stopwords.words('english'))\n",
        "    words = word_tokenize(text)\n",
        "    filtered_words = [word for word in words if word.lower() not in stop_words]\n",
        "    return ' '.join(filtered_words)"
      ],
      "metadata": {
        "id": "gh3O-kOLNbWp",
        "colab": {
          "base_uri": "https://localhost:8080/"
        },
        "outputId": "7753e3b3-72f1-4704-ef8f-6125a1777c91"
      },
      "execution_count": 28,
      "outputs": [
        {
          "output_type": "stream",
          "name": "stderr",
          "text": [
            "[nltk_data] Downloading package stopwords to /root/nltk_data...\n",
            "[nltk_data]   Package stopwords is already up-to-date!\n",
            "[nltk_data] Downloading package punkt to /root/nltk_data...\n",
            "[nltk_data]   Package punkt is already up-to-date!\n"
          ]
        }
      ]
    },
    {
      "cell_type": "code",
      "source": [
        "df_reviews[\"texto_sin_stopwords\"] = df_reviews[\"texto_traducido\"].apply(\n",
        "    lambda x: remover_articulos(x)\n",
        ")"
      ],
      "metadata": {
        "id": "OYWOVxKrDSD7"
      },
      "execution_count": 29,
      "outputs": []
    },
    {
      "cell_type": "markdown",
      "source": [
        "Se ocupan adem&aacute;s expresiones regulares para dar tratamientos tanto a los espacios sobrantes como a los signos de puntuaci&oacute;n y caracteres innecesarios para el an&aacute;lisis de sentimientos. Adem&aacute;s se preparan los datos para el tratamiento de emojis."
      ],
      "metadata": {
        "id": "ijEZSoWjUeZy"
      }
    },
    {
      "cell_type": "code",
      "source": [
        "import re\n",
        "\n",
        "\n",
        "def extraer_no_letras(texto):\n",
        "    return list(set(re.sub('[a-zA-Z0-9]', '', texto)))"
      ],
      "metadata": {
        "id": "GTxM88X-PkoA"
      },
      "execution_count": 30,
      "outputs": []
    },
    {
      "cell_type": "code",
      "source": [
        "df_reviews[\"no_texto\"] = df_reviews[\"texto_sin_stopwords\"].apply(\n",
        "    lambda x: extraer_no_letras(x)\n",
        ")"
      ],
      "metadata": {
        "id": "-WTIELMnQyCI"
      },
      "execution_count": 31,
      "outputs": []
    },
    {
      "cell_type": "code",
      "source": [
        "non_text_chars = list(set(df_reviews[\"no_texto\"].sum()))\n",
        "non_text_chars.remove(\" \")\n",
        "df_reviews.drop([\"no_texto\"], axis=1, inplace=True)"
      ],
      "metadata": {
        "id": "IWZbpA-nRdfE"
      },
      "execution_count": 32,
      "outputs": []
    },
    {
      "cell_type": "markdown",
      "source": [
        "## Tratamiento de emojis"
      ],
      "metadata": {
        "id": "CBCtwOAZVjbu"
      }
    },
    {
      "cell_type": "markdown",
      "source": [
        "Se extrae de la variable definida anteriormente \"*non_text_chars*\", una lista de todos los emojis presentes en las rese&ntilde;as otorgadas por los hu&eacute;spedes.\n",
        "\n",
        "Adicionalmente, se asigna una palabra en ingl&eacute;s para dar una interpretaci&oacute;n adecuada a cada uno de estos.\n",
        "\n",
        "Por &uacute;ltimo, se reemplazan los emojis con sus equivalentes en palabras."
      ],
      "metadata": {
        "id": "0T-ETL0dVop9"
      }
    },
    {
      "cell_type": "code",
      "source": [
        "import emoji\n",
        "\n",
        "emojis_list = [i for i in non_text_chars if emoji.is_emoji(i)]\n",
        "emojis_dict = {\n",
        "    '✨': 'sparkling',\n",
        "    '🙃': 'sarcastic',\n",
        "    '💖': 'beautiful',\n",
        "    '😔': 'sad',\n",
        "    '🙌': 'celebration',\n",
        "    '😘': 'affectionate',\n",
        "    '⭐': 'star',\n",
        "    '👏': 'applause',\n",
        "    '💕': 'affectionate',\n",
        "    '😊': 'happy',\n",
        "    '😍': 'admiration',\n",
        "    '💓': 'emotion',\n",
        "    '❣': 'emotion',\n",
        "    '💜': 'affection',\n",
        "    '🙈': 'playful',\n",
        "    '🤗': 'friendly',\n",
        "    '👌': 'approval',\n",
        "    '🏻': '',\n",
        "    '🍻': 'celebration',\n",
        "    '🌞': 'cheerful',\n",
        "    '❤': 'love',\n",
        "    '♥': 'love',\n",
        "    '💯': 'perfect',\n",
        "    '👍': 'approval'\n",
        "}"
      ],
      "metadata": {
        "id": "kq8w_qLmfT5b"
      },
      "execution_count": 33,
      "outputs": []
    },
    {
      "cell_type": "code",
      "source": [
        "non_emoji_chars = [i for i in non_text_chars if not emoji.is_emoji(i)]"
      ],
      "metadata": {
        "id": "9HXbikjocR2b"
      },
      "execution_count": 34,
      "outputs": []
    },
    {
      "cell_type": "code",
      "source": [
        "def quitar_simbolos(texto):\n",
        "    for char in non_emoji_chars:\n",
        "        texto = texto.replace(char, \"\")\n",
        "    return texto"
      ],
      "metadata": {
        "id": "cgyxyeRUeJEM"
      },
      "execution_count": 35,
      "outputs": []
    },
    {
      "cell_type": "code",
      "source": [
        "df_reviews[\"texto_sin_stopwords\"] = df_reviews[\"texto_sin_stopwords\"].apply(\n",
        "    lambda x: quitar_simbolos(x)\n",
        ")"
      ],
      "metadata": {
        "id": "ZQYaRkF9RnDL"
      },
      "execution_count": 36,
      "outputs": []
    },
    {
      "cell_type": "code",
      "source": [
        "df_reviews[\"texto_sin_stopwords\"] = df_reviews[\"texto_sin_stopwords\"].apply(\n",
        "    lambda x: \" \".join(x.split())\n",
        ")"
      ],
      "metadata": {
        "id": "Ahnulm67Ga1a"
      },
      "execution_count": 37,
      "outputs": []
    },
    {
      "cell_type": "code",
      "source": [
        "df_reviews[[\"texto_traducido\", \"texto_sin_stopwords\"]].iloc[[76, 263], :]"
      ],
      "metadata": {
        "id": "QzTlA1c4iNCZ",
        "colab": {
          "base_uri": "https://localhost:8080/",
          "height": 112
        },
        "outputId": "098fa491-dadd-400c-a86c-8f0d2480896a"
      },
      "execution_count": 38,
      "outputs": [
        {
          "output_type": "execute_result",
          "data": {
            "text/plain": [
              "                                                 texto_traducido  \\\n",
              "76                       Everything is very nice, safe and cozy😊   \n",
              "263  A quiet place with a good location. They are pet friendly 😊   \n",
              "\n",
              "                          texto_sin_stopwords  \n",
              "76                 Everything nice safe cozy😊  \n",
              "263  quiet place good location pet friendly 😊  "
            ],
            "text/html": [
              "\n",
              "  <div id=\"df-2eb5cf16-836c-4d46-b24a-9ad728006f77\" class=\"colab-df-container\">\n",
              "    <div>\n",
              "<style scoped>\n",
              "    .dataframe tbody tr th:only-of-type {\n",
              "        vertical-align: middle;\n",
              "    }\n",
              "\n",
              "    .dataframe tbody tr th {\n",
              "        vertical-align: top;\n",
              "    }\n",
              "\n",
              "    .dataframe thead th {\n",
              "        text-align: right;\n",
              "    }\n",
              "</style>\n",
              "<table border=\"1\" class=\"dataframe\">\n",
              "  <thead>\n",
              "    <tr style=\"text-align: right;\">\n",
              "      <th></th>\n",
              "      <th>texto_traducido</th>\n",
              "      <th>texto_sin_stopwords</th>\n",
              "    </tr>\n",
              "  </thead>\n",
              "  <tbody>\n",
              "    <tr>\n",
              "      <th>76</th>\n",
              "      <td>Everything is very nice, safe and cozy😊</td>\n",
              "      <td>Everything nice safe cozy😊</td>\n",
              "    </tr>\n",
              "    <tr>\n",
              "      <th>263</th>\n",
              "      <td>A quiet place with a good location. They are pet friendly 😊</td>\n",
              "      <td>quiet place good location pet friendly 😊</td>\n",
              "    </tr>\n",
              "  </tbody>\n",
              "</table>\n",
              "</div>\n",
              "    <div class=\"colab-df-buttons\">\n",
              "\n",
              "  <div class=\"colab-df-container\">\n",
              "    <button class=\"colab-df-convert\" onclick=\"convertToInteractive('df-2eb5cf16-836c-4d46-b24a-9ad728006f77')\"\n",
              "            title=\"Convert this dataframe to an interactive table.\"\n",
              "            style=\"display:none;\">\n",
              "\n",
              "  <svg xmlns=\"http://www.w3.org/2000/svg\" height=\"24px\" viewBox=\"0 -960 960 960\">\n",
              "    <path d=\"M120-120v-720h720v720H120Zm60-500h600v-160H180v160Zm220 220h160v-160H400v160Zm0 220h160v-160H400v160ZM180-400h160v-160H180v160Zm440 0h160v-160H620v160ZM180-180h160v-160H180v160Zm440 0h160v-160H620v160Z\"/>\n",
              "  </svg>\n",
              "    </button>\n",
              "\n",
              "  <style>\n",
              "    .colab-df-container {\n",
              "      display:flex;\n",
              "      gap: 12px;\n",
              "    }\n",
              "\n",
              "    .colab-df-convert {\n",
              "      background-color: #E8F0FE;\n",
              "      border: none;\n",
              "      border-radius: 50%;\n",
              "      cursor: pointer;\n",
              "      display: none;\n",
              "      fill: #1967D2;\n",
              "      height: 32px;\n",
              "      padding: 0 0 0 0;\n",
              "      width: 32px;\n",
              "    }\n",
              "\n",
              "    .colab-df-convert:hover {\n",
              "      background-color: #E2EBFA;\n",
              "      box-shadow: 0px 1px 2px rgba(60, 64, 67, 0.3), 0px 1px 3px 1px rgba(60, 64, 67, 0.15);\n",
              "      fill: #174EA6;\n",
              "    }\n",
              "\n",
              "    .colab-df-buttons div {\n",
              "      margin-bottom: 4px;\n",
              "    }\n",
              "\n",
              "    [theme=dark] .colab-df-convert {\n",
              "      background-color: #3B4455;\n",
              "      fill: #D2E3FC;\n",
              "    }\n",
              "\n",
              "    [theme=dark] .colab-df-convert:hover {\n",
              "      background-color: #434B5C;\n",
              "      box-shadow: 0px 1px 3px 1px rgba(0, 0, 0, 0.15);\n",
              "      filter: drop-shadow(0px 1px 2px rgba(0, 0, 0, 0.3));\n",
              "      fill: #FFFFFF;\n",
              "    }\n",
              "  </style>\n",
              "\n",
              "    <script>\n",
              "      const buttonEl =\n",
              "        document.querySelector('#df-2eb5cf16-836c-4d46-b24a-9ad728006f77 button.colab-df-convert');\n",
              "      buttonEl.style.display =\n",
              "        google.colab.kernel.accessAllowed ? 'block' : 'none';\n",
              "\n",
              "      async function convertToInteractive(key) {\n",
              "        const element = document.querySelector('#df-2eb5cf16-836c-4d46-b24a-9ad728006f77');\n",
              "        const dataTable =\n",
              "          await google.colab.kernel.invokeFunction('convertToInteractive',\n",
              "                                                    [key], {});\n",
              "        if (!dataTable) return;\n",
              "\n",
              "        const docLinkHtml = 'Like what you see? Visit the ' +\n",
              "          '<a target=\"_blank\" href=https://colab.research.google.com/notebooks/data_table.ipynb>data table notebook</a>'\n",
              "          + ' to learn more about interactive tables.';\n",
              "        element.innerHTML = '';\n",
              "        dataTable['output_type'] = 'display_data';\n",
              "        await google.colab.output.renderOutput(dataTable, element);\n",
              "        const docLink = document.createElement('div');\n",
              "        docLink.innerHTML = docLinkHtml;\n",
              "        element.appendChild(docLink);\n",
              "      }\n",
              "    </script>\n",
              "  </div>\n",
              "\n",
              "\n",
              "<div id=\"df-4bf5ccec-2e1b-4e60-a131-e24ed5dce6c9\">\n",
              "  <button class=\"colab-df-quickchart\" onclick=\"quickchart('df-4bf5ccec-2e1b-4e60-a131-e24ed5dce6c9')\"\n",
              "            title=\"Suggest charts\"\n",
              "            style=\"display:none;\">\n",
              "\n",
              "<svg xmlns=\"http://www.w3.org/2000/svg\" height=\"24px\"viewBox=\"0 0 24 24\"\n",
              "     width=\"24px\">\n",
              "    <g>\n",
              "        <path d=\"M19 3H5c-1.1 0-2 .9-2 2v14c0 1.1.9 2 2 2h14c1.1 0 2-.9 2-2V5c0-1.1-.9-2-2-2zM9 17H7v-7h2v7zm4 0h-2V7h2v10zm4 0h-2v-4h2v4z\"/>\n",
              "    </g>\n",
              "</svg>\n",
              "  </button>\n",
              "\n",
              "<style>\n",
              "  .colab-df-quickchart {\n",
              "      --bg-color: #E8F0FE;\n",
              "      --fill-color: #1967D2;\n",
              "      --hover-bg-color: #E2EBFA;\n",
              "      --hover-fill-color: #174EA6;\n",
              "      --disabled-fill-color: #AAA;\n",
              "      --disabled-bg-color: #DDD;\n",
              "  }\n",
              "\n",
              "  [theme=dark] .colab-df-quickchart {\n",
              "      --bg-color: #3B4455;\n",
              "      --fill-color: #D2E3FC;\n",
              "      --hover-bg-color: #434B5C;\n",
              "      --hover-fill-color: #FFFFFF;\n",
              "      --disabled-bg-color: #3B4455;\n",
              "      --disabled-fill-color: #666;\n",
              "  }\n",
              "\n",
              "  .colab-df-quickchart {\n",
              "    background-color: var(--bg-color);\n",
              "    border: none;\n",
              "    border-radius: 50%;\n",
              "    cursor: pointer;\n",
              "    display: none;\n",
              "    fill: var(--fill-color);\n",
              "    height: 32px;\n",
              "    padding: 0;\n",
              "    width: 32px;\n",
              "  }\n",
              "\n",
              "  .colab-df-quickchart:hover {\n",
              "    background-color: var(--hover-bg-color);\n",
              "    box-shadow: 0 1px 2px rgba(60, 64, 67, 0.3), 0 1px 3px 1px rgba(60, 64, 67, 0.15);\n",
              "    fill: var(--button-hover-fill-color);\n",
              "  }\n",
              "\n",
              "  .colab-df-quickchart-complete:disabled,\n",
              "  .colab-df-quickchart-complete:disabled:hover {\n",
              "    background-color: var(--disabled-bg-color);\n",
              "    fill: var(--disabled-fill-color);\n",
              "    box-shadow: none;\n",
              "  }\n",
              "\n",
              "  .colab-df-spinner {\n",
              "    border: 2px solid var(--fill-color);\n",
              "    border-color: transparent;\n",
              "    border-bottom-color: var(--fill-color);\n",
              "    animation:\n",
              "      spin 1s steps(1) infinite;\n",
              "  }\n",
              "\n",
              "  @keyframes spin {\n",
              "    0% {\n",
              "      border-color: transparent;\n",
              "      border-bottom-color: var(--fill-color);\n",
              "      border-left-color: var(--fill-color);\n",
              "    }\n",
              "    20% {\n",
              "      border-color: transparent;\n",
              "      border-left-color: var(--fill-color);\n",
              "      border-top-color: var(--fill-color);\n",
              "    }\n",
              "    30% {\n",
              "      border-color: transparent;\n",
              "      border-left-color: var(--fill-color);\n",
              "      border-top-color: var(--fill-color);\n",
              "      border-right-color: var(--fill-color);\n",
              "    }\n",
              "    40% {\n",
              "      border-color: transparent;\n",
              "      border-right-color: var(--fill-color);\n",
              "      border-top-color: var(--fill-color);\n",
              "    }\n",
              "    60% {\n",
              "      border-color: transparent;\n",
              "      border-right-color: var(--fill-color);\n",
              "    }\n",
              "    80% {\n",
              "      border-color: transparent;\n",
              "      border-right-color: var(--fill-color);\n",
              "      border-bottom-color: var(--fill-color);\n",
              "    }\n",
              "    90% {\n",
              "      border-color: transparent;\n",
              "      border-bottom-color: var(--fill-color);\n",
              "    }\n",
              "  }\n",
              "</style>\n",
              "\n",
              "  <script>\n",
              "    async function quickchart(key) {\n",
              "      const quickchartButtonEl =\n",
              "        document.querySelector('#' + key + ' button');\n",
              "      quickchartButtonEl.disabled = true;  // To prevent multiple clicks.\n",
              "      quickchartButtonEl.classList.add('colab-df-spinner');\n",
              "      try {\n",
              "        const charts = await google.colab.kernel.invokeFunction(\n",
              "            'suggestCharts', [key], {});\n",
              "      } catch (error) {\n",
              "        console.error('Error during call to suggestCharts:', error);\n",
              "      }\n",
              "      quickchartButtonEl.classList.remove('colab-df-spinner');\n",
              "      quickchartButtonEl.classList.add('colab-df-quickchart-complete');\n",
              "    }\n",
              "    (() => {\n",
              "      let quickchartButtonEl =\n",
              "        document.querySelector('#df-4bf5ccec-2e1b-4e60-a131-e24ed5dce6c9 button');\n",
              "      quickchartButtonEl.style.display =\n",
              "        google.colab.kernel.accessAllowed ? 'block' : 'none';\n",
              "    })();\n",
              "  </script>\n",
              "</div>\n",
              "\n",
              "    </div>\n",
              "  </div>\n"
            ],
            "application/vnd.google.colaboratory.intrinsic+json": {
              "type": "dataframe",
              "summary": "{\n  \"name\": \"df_reviews[[\\\"texto_traducido\\\", \\\"texto_sin_stopwords\\\"]]\",\n  \"rows\": 2,\n  \"fields\": [\n    {\n      \"column\": \"texto_traducido\",\n      \"properties\": {\n        \"dtype\": \"string\",\n        \"num_unique_values\": 2,\n        \"samples\": [\n          \"A quiet place with a good location. They are pet friendly \\ud83d\\ude0a\",\n          \"Everything is very nice, safe and cozy\\ud83d\\ude0a\"\n        ],\n        \"semantic_type\": \"\",\n        \"description\": \"\"\n      }\n    },\n    {\n      \"column\": \"texto_sin_stopwords\",\n      \"properties\": {\n        \"dtype\": \"string\",\n        \"num_unique_values\": 2,\n        \"samples\": [\n          \"quiet place good location pet friendly \\ud83d\\ude0a\",\n          \"Everything nice safe cozy\\ud83d\\ude0a\"\n        ],\n        \"semantic_type\": \"\",\n        \"description\": \"\"\n      }\n    }\n  ]\n}"
            }
          },
          "metadata": {},
          "execution_count": 38
        }
      ]
    },
    {
      "cell_type": "code",
      "source": [
        "def reemplazar_emojis(texto):\n",
        "    for (key, value) in emojis_dict.items():\n",
        "        texto = texto.replace(key, f\" {value} \")\n",
        "    return texto"
      ],
      "metadata": {
        "id": "ywZHtL7sE9NJ"
      },
      "execution_count": 39,
      "outputs": []
    },
    {
      "cell_type": "code",
      "source": [
        "df_reviews[\"texto_sin_emojis\"] = df_reviews[\"texto_sin_stopwords\"].apply(\n",
        "    lambda x: reemplazar_emojis(x)\n",
        ")\n",
        "df_reviews[\"texto_sin_emojis\"] = df_reviews[\"texto_sin_emojis\"].apply(\n",
        "    lambda x: \" \".join(x.split())\n",
        ")"
      ],
      "metadata": {
        "id": "_AD6h-7MfXs7"
      },
      "execution_count": 40,
      "outputs": []
    },
    {
      "cell_type": "code",
      "source": [
        "if not os.path.exists(\"comentarios/df_limpio_emojis.xlsx\"):\n",
        "    df_reviews.to_excel(\"comentarios/df_limpio_emojis.xlsx\")"
      ],
      "metadata": {
        "id": "lFXWW4LhIdT9"
      },
      "execution_count": 41,
      "outputs": []
    },
    {
      "cell_type": "markdown",
      "source": [
        "# Análisis de Sentimientos"
      ],
      "metadata": {
        "id": "nfvtuYJqNvXt"
      }
    },
    {
      "cell_type": "code",
      "source": [],
      "metadata": {
        "id": "OxNo0rfZIzaY"
      },
      "execution_count": 41,
      "outputs": []
    }
  ]
}